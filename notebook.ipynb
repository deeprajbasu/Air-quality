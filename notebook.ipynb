{
 "cells": [
  {
   "cell_type": "code",
   "execution_count": 14,
   "metadata": {},
   "outputs": [],
   "source": [
    "import requests \n",
    "import os\n",
    "from datetime import datetime\n",
    "import pandas\n",
    "import numpy as np\n",
    "import plotly.graph_objects as go"
   ]
  },
  {
   "cell_type": "markdown",
   "metadata": {},
   "source": [
    "# DOWNLOAD DATA FROM API"
   ]
  },
  {
   "cell_type": "code",
   "execution_count": 2,
   "metadata": {},
   "outputs": [],
   "source": [
    "data= ''\n",
    "n=0\n",
    "\n",
    "while True :#hit the server multiple times to get all the data\n",
    "\n",
    "    ploads = {'api-key':'579b464db66ec23bdd000001cdd3946e44ce4aad7209ff7b23ac571b','format':'csv',\n",
    "    'offset':n,#change offset to get next slice of data\n",
    "    'limit':10,#max\n",
    "\n",
    "    }\n",
    "    r=requests.get('https://api.data.gov.in/resource/3b01bcb8-0b14-4abf-b6f2-c1bfd384ba69',params=ploads)\n",
    "    n+=10#increment offset\n",
    "    data+=r.text\n",
    "    if r.text == '':#break when no more data \n",
    "        break"
   ]
  },
  {
   "cell_type": "markdown",
   "metadata": {},
   "source": [
    "# WRITE DATA TO CSV"
   ]
  },
  {
   "cell_type": "code",
   "execution_count": 3,
   "metadata": {},
   "outputs": [],
   "source": [
    "\n",
    "time = datetime.now() #write new csv name of file is right now time\n",
    "text_file = open(\"csv/Air-{}.csv\".format(time), \"w\")\n",
    "n = text_file.write(data)#write downloaded data \n",
    "text_file.close()"
   ]
  },
  {
   "cell_type": "markdown",
   "metadata": {},
   "source": [
    "## LOAD DATA"
   ]
  },
  {
   "cell_type": "code",
   "execution_count": 6,
   "metadata": {},
   "outputs": [
    {
     "output_type": "execute_result",
     "data": {
      "text/plain": [
       "['csv/Air-2020-12-06 18:29:54.446376.csv',\n",
       " 'csv/Air-2020-12-03 12:36:41.921132.csv',\n",
       " 'csv/Air-2020-12-08 18:54:43.049893.csv',\n",
       " 'csv/Air-2020-12-06 15:15:47.144212.csv',\n",
       " 'csv/Air-2021-03-20 21:43:31.379010.csv',\n",
       " 'csv/Air-2020-12-03 23:08:25.842859.csv',\n",
       " 'csv/Air-2020-12-07 07:46:17.245344.csv',\n",
       " 'csv/Air-2020-12-08 12:58:30.166787.csv',\n",
       " 'csv/Air-2020-12-04 00:55:51.311944.csv',\n",
       " 'csv/Air-2020-12-09 23:07:42.512071.csv',\n",
       " 'csv/Air-2020-12-10 15:34:53.662459.csv',\n",
       " 'csv/Air-2020-12-04 14:53:00.741898.csv']"
      ]
     },
     "metadata": {},
     "execution_count": 6
    }
   ],
   "source": [
    "import glob\n",
    "data = glob.glob('csv/*')\n",
    "data[:]"
   ]
  },
  {
   "cell_type": "markdown",
   "metadata": {},
   "source": [
    "## clean data"
   ]
  },
  {
   "cell_type": "code",
   "execution_count": 15,
   "metadata": {},
   "outputs": [],
   "source": [
    "df=pandas.read_csv(data[0])\n",
    "df=df.drop_duplicates()\n",
    "df=df.drop(df.index[[10]])\n"
   ]
  },
  {
   "cell_type": "code",
   "execution_count": 16,
   "metadata": {},
   "outputs": [
    {
     "output_type": "execute_result",
     "data": {
      "text/plain": [
       "id               object\n",
       "country          object\n",
       "state            object\n",
       "city             object\n",
       "station          object\n",
       "last_update      object\n",
       "pollutant_id     object\n",
       "pollutant_min    object\n",
       "pollutant_max    object\n",
       "pollutant_avg    object\n",
       "dtype: object"
      ]
     },
     "metadata": {},
     "execution_count": 16
    }
   ],
   "source": [
    "\n",
    "df=df.drop('pollutant_unit',axis=1)\n",
    "df.dtypes"
   ]
  },
  {
   "cell_type": "code",
   "execution_count": 17,
   "metadata": {},
   "outputs": [],
   "source": [
    "df= df.fillna(0.0001)\n",
    "\n",
    "df['pollutant_min']=df['pollutant_min'].astype('float')\n",
    "df['pollutant_max']=df['pollutant_max'].astype('float')\n",
    "df['pollutant_avg']=df['pollutant_avg'].astype('float')\n",
    "\n",
    "#replace nans and change datatype"
   ]
  },
  {
   "cell_type": "markdown",
   "metadata": {},
   "source": [
    "# CLEANED CSV"
   ]
  },
  {
   "cell_type": "code",
   "execution_count": 18,
   "metadata": {},
   "outputs": [
    {
     "output_type": "execute_result",
     "data": {
      "text/plain": [
       "array(['Amaravati', 'Rajamahendravaram', 'Tirupati', 'Visakhapatnam',\n",
       "       'Guwahati', 'Gaya', 'Hajipur', 'Muzaffarpur', 'Patna',\n",
       "       'Chandigarh', 'Delhi', 'Ahmedabad', 'Ankleshwar', 'Gandhinagar',\n",
       "       'Nandesari', 'Vapi', 'Vatva', 'Ambala', 'Ballabgarh', 'Bhiwani',\n",
       "       'Charkhi Dadri', 'Dharuhera', 'Faridabad', 'Fatehabad', 'Gurugram',\n",
       "       'Hisar', 'Jind', 'Kaithal', 'Karnal', 'Kurukshetra', 'Mandikhera',\n",
       "       'Manesar', 'Narnaul', 'Palwal', 'Panchkula', 'Panipat', 'Rohtak',\n",
       "       'Sirsa', 'Sonipat', 'Yamunanagar', 'Jorapokhar', 'Bengaluru',\n",
       "       'Chikkaballapur', 'Chikkamagaluru', 'Hubballi', 'Kalaburgi',\n",
       "       'Medikeri', 'Ramanagara', 'Shivamogga', 'Vijayapura', 'Yadgir',\n",
       "       'Eloor', 'Ernakulam', 'Kannur', 'Kochi', 'Kollam', 'Kozhikode',\n",
       "       'Thiruvananthapuram', 'Thrissur', 'Bhopal', 'Damoh', 'Dewas',\n",
       "       'Gwalior', 'Indore', 'Jabalpur', 'Katni', 'Maihar', 'Mandideep',\n",
       "       'Pithampur', 'Ratlam', 'Sagar', 'Satna', 'Singrauli', 'Ujjain',\n",
       "       'Aurangabad', 'Chandrapur', 'Kalyan', 'Mumbai', 'Nagpur', 'Nashik',\n",
       "       'Navi Mumbai', 'Pune', 'Solapur', 'Thane', 'Shillong', 'Aizawl',\n",
       "       'Kohima', 'Brajrajnagar', 'Talcher', 'Amritsar', 'Bathinda',\n",
       "       'Jalandhar', 'Khanna', 'Ludhiana', 'Mandi Gobindgarh', 'Patiala',\n",
       "       'Rupnagar', 'Ajmer', 'Alwar', 'Jaipur', 'Jodhpur', 'Kota', 'Pali',\n",
       "       'Udaipur', 'Chennai', 'Coimbatore', 'Hyderabad', 'Agartala',\n",
       "       'Agra', 'Baghpat', 'Bulandshahr', 'Ghaziabad', 'Greater Noida',\n",
       "       'Hapur', 'Kanpur', 'Lucknow', 'Meerut', 'Moradabad',\n",
       "       'Muzaffarnagar', 'Noida', 'Varanasi', 'Asansol', 'Howrah',\n",
       "       'Kolkata'], dtype=object)"
      ]
     },
     "metadata": {},
     "execution_count": 18
    }
   ],
   "source": [
    "df['city'].unique()"
   ]
  },
  {
   "cell_type": "code",
   "execution_count": 22,
   "metadata": {},
   "outputs": [
    {
     "output_type": "execute_result",
     "data": {
      "text/plain": [
       "        id country           state       city                         station  \\\n",
       "0        1   India  Andhra_Pradesh  Amaravati  Secretariat, Amaravati - APPCB   \n",
       "1        2   India  Andhra_Pradesh  Amaravati  Secretariat, Amaravati - APPCB   \n",
       "2        3   India  Andhra_Pradesh  Amaravati  Secretariat, Amaravati - APPCB   \n",
       "3        4   India  Andhra_Pradesh  Amaravati  Secretariat, Amaravati - APPCB   \n",
       "4        5   India  Andhra_Pradesh  Amaravati  Secretariat, Amaravati - APPCB   \n",
       "...    ...     ...             ...        ...                             ...   \n",
       "1659  1510   India     West_Bengal    Kolkata       Victoria, Kolkata - WBPCB   \n",
       "1661  1511   India     West_Bengal    Kolkata       Victoria, Kolkata - WBPCB   \n",
       "1662  1512   India     West_Bengal    Kolkata       Victoria, Kolkata - WBPCB   \n",
       "1663  1513   India     West_Bengal    Kolkata       Victoria, Kolkata - WBPCB   \n",
       "1664  1514   India     West_Bengal    Kolkata       Victoria, Kolkata - WBPCB   \n",
       "\n",
       "              last_update pollutant_id  pollutant_min  pollutant_max  \\\n",
       "0     06-12-2020 05:00:00        PM2.5           50.0          257.0   \n",
       "1     06-12-2020 05:00:00         PM10           58.0          139.0   \n",
       "2     06-12-2020 05:00:00          NO2           13.0           40.0   \n",
       "3     06-12-2020 05:00:00          NH3            4.0            6.0   \n",
       "4     06-12-2020 05:00:00          SO2           15.0           22.0   \n",
       "...                   ...          ...            ...            ...   \n",
       "1659  06-12-2020 05:00:00          NO2           32.0           95.0   \n",
       "1661  06-12-2020 05:00:00          NH3            1.0            8.0   \n",
       "1662  06-12-2020 05:00:00          SO2            8.0           54.0   \n",
       "1663  06-12-2020 05:00:00           CO           22.0           89.0   \n",
       "1664  06-12-2020 05:00:00        OZONE            3.0          168.0   \n",
       "\n",
       "      pollutant_avg  \n",
       "0             118.0  \n",
       "1              93.0  \n",
       "2              20.0  \n",
       "3               5.0  \n",
       "4              18.0  \n",
       "...             ...  \n",
       "1659           63.0  \n",
       "1661            4.0  \n",
       "1662           21.0  \n",
       "1663           31.0  \n",
       "1664          103.0  \n",
       "\n",
       "[1514 rows x 10 columns]"
      ],
      "text/html": "<div>\n<style scoped>\n    .dataframe tbody tr th:only-of-type {\n        vertical-align: middle;\n    }\n\n    .dataframe tbody tr th {\n        vertical-align: top;\n    }\n\n    .dataframe thead th {\n        text-align: right;\n    }\n</style>\n<table border=\"1\" class=\"dataframe\">\n  <thead>\n    <tr style=\"text-align: right;\">\n      <th></th>\n      <th>id</th>\n      <th>country</th>\n      <th>state</th>\n      <th>city</th>\n      <th>station</th>\n      <th>last_update</th>\n      <th>pollutant_id</th>\n      <th>pollutant_min</th>\n      <th>pollutant_max</th>\n      <th>pollutant_avg</th>\n    </tr>\n  </thead>\n  <tbody>\n    <tr>\n      <th>0</th>\n      <td>1</td>\n      <td>India</td>\n      <td>Andhra_Pradesh</td>\n      <td>Amaravati</td>\n      <td>Secretariat, Amaravati - APPCB</td>\n      <td>06-12-2020 05:00:00</td>\n      <td>PM2.5</td>\n      <td>50.0</td>\n      <td>257.0</td>\n      <td>118.0</td>\n    </tr>\n    <tr>\n      <th>1</th>\n      <td>2</td>\n      <td>India</td>\n      <td>Andhra_Pradesh</td>\n      <td>Amaravati</td>\n      <td>Secretariat, Amaravati - APPCB</td>\n      <td>06-12-2020 05:00:00</td>\n      <td>PM10</td>\n      <td>58.0</td>\n      <td>139.0</td>\n      <td>93.0</td>\n    </tr>\n    <tr>\n      <th>2</th>\n      <td>3</td>\n      <td>India</td>\n      <td>Andhra_Pradesh</td>\n      <td>Amaravati</td>\n      <td>Secretariat, Amaravati - APPCB</td>\n      <td>06-12-2020 05:00:00</td>\n      <td>NO2</td>\n      <td>13.0</td>\n      <td>40.0</td>\n      <td>20.0</td>\n    </tr>\n    <tr>\n      <th>3</th>\n      <td>4</td>\n      <td>India</td>\n      <td>Andhra_Pradesh</td>\n      <td>Amaravati</td>\n      <td>Secretariat, Amaravati - APPCB</td>\n      <td>06-12-2020 05:00:00</td>\n      <td>NH3</td>\n      <td>4.0</td>\n      <td>6.0</td>\n      <td>5.0</td>\n    </tr>\n    <tr>\n      <th>4</th>\n      <td>5</td>\n      <td>India</td>\n      <td>Andhra_Pradesh</td>\n      <td>Amaravati</td>\n      <td>Secretariat, Amaravati - APPCB</td>\n      <td>06-12-2020 05:00:00</td>\n      <td>SO2</td>\n      <td>15.0</td>\n      <td>22.0</td>\n      <td>18.0</td>\n    </tr>\n    <tr>\n      <th>...</th>\n      <td>...</td>\n      <td>...</td>\n      <td>...</td>\n      <td>...</td>\n      <td>...</td>\n      <td>...</td>\n      <td>...</td>\n      <td>...</td>\n      <td>...</td>\n      <td>...</td>\n    </tr>\n    <tr>\n      <th>1659</th>\n      <td>1510</td>\n      <td>India</td>\n      <td>West_Bengal</td>\n      <td>Kolkata</td>\n      <td>Victoria, Kolkata - WBPCB</td>\n      <td>06-12-2020 05:00:00</td>\n      <td>NO2</td>\n      <td>32.0</td>\n      <td>95.0</td>\n      <td>63.0</td>\n    </tr>\n    <tr>\n      <th>1661</th>\n      <td>1511</td>\n      <td>India</td>\n      <td>West_Bengal</td>\n      <td>Kolkata</td>\n      <td>Victoria, Kolkata - WBPCB</td>\n      <td>06-12-2020 05:00:00</td>\n      <td>NH3</td>\n      <td>1.0</td>\n      <td>8.0</td>\n      <td>4.0</td>\n    </tr>\n    <tr>\n      <th>1662</th>\n      <td>1512</td>\n      <td>India</td>\n      <td>West_Bengal</td>\n      <td>Kolkata</td>\n      <td>Victoria, Kolkata - WBPCB</td>\n      <td>06-12-2020 05:00:00</td>\n      <td>SO2</td>\n      <td>8.0</td>\n      <td>54.0</td>\n      <td>21.0</td>\n    </tr>\n    <tr>\n      <th>1663</th>\n      <td>1513</td>\n      <td>India</td>\n      <td>West_Bengal</td>\n      <td>Kolkata</td>\n      <td>Victoria, Kolkata - WBPCB</td>\n      <td>06-12-2020 05:00:00</td>\n      <td>CO</td>\n      <td>22.0</td>\n      <td>89.0</td>\n      <td>31.0</td>\n    </tr>\n    <tr>\n      <th>1664</th>\n      <td>1514</td>\n      <td>India</td>\n      <td>West_Bengal</td>\n      <td>Kolkata</td>\n      <td>Victoria, Kolkata - WBPCB</td>\n      <td>06-12-2020 05:00:00</td>\n      <td>OZONE</td>\n      <td>3.0</td>\n      <td>168.0</td>\n      <td>103.0</td>\n    </tr>\n  </tbody>\n</table>\n<p>1514 rows × 10 columns</p>\n</div>"
     },
     "metadata": {},
     "execution_count": 22
    }
   ],
   "source": [
    "df"
   ]
  },
  {
   "cell_type": "markdown",
   "metadata": {},
   "source": [
    "# Data Visulization"
   ]
  },
  {
   "cell_type": "code",
   "execution_count": 26,
   "metadata": {},
   "outputs": [
    {
     "output_type": "execute_result",
     "data": {
      "text/plain": [
       "(None,)"
      ]
     },
     "metadata": {},
     "execution_count": 26
    }
   ],
   "source": [
    "import plotly.express as px\n",
    "def generateScatter(filterr,choice,df):\n",
    "    dff=df[df[filterr]==choice]#filter data from dataframe according to params\n",
    "\n",
    "    #XY chart settings\n",
    "    fig = px.scatter(dff, x=\"pollutant_avg\",  y=\"station\", color=\"pollutant_id\",size='pollutant_max')\n",
    "\n",
    "\n",
    "    fig.update_layout(\n",
    "        title=\"Pollutants in - {} \".format(choice),\n",
    "        legend_title=\"Pollutants\",\n",
    "        font=dict(\n",
    "            family=\"Courier New, monospace\",\n",
    "            size=12,\n",
    "    )\n",
    "    )\n",
    "#more settings\n",
    "\n",
    "    # filename=\"outs/(SCATTER)Pollutants in - {} \".format(choice)\n",
    "    # # fig.write_html(\"{}.html\".format(filename))\n",
    "    fig.show()\n",
    "    return fig\n",
    "    \n",
    "generateScatter('state','Delhi',df)\n",
    "generateScatter('city','Chennai',df),"
   ]
  },
  {
   "cell_type": "code",
   "execution_count": 21,
   "metadata": {},
   "outputs": [
    {
     "output_type": "display_data",
     "data": {
      "application/vnd.plotly.v1+json": {
       "config": {
        "plotlyServerURL": "https://plot.ly"
       },
       "data": [
        {
         "hole": 0.3,
         "labels": [
          "PM2.5",
          "PM10",
          "NO2",
          "NH3",
          "SO2",
          "CO",
          "OZONE"
         ],
         "type": "pie",
         "values": [
          380.0263157894737,
          316.7368421052632,
          72.56756756756756,
          13.4375,
          16.656253125,
          67.83783783783784,
          71.55263157894737
         ]
        }
       ],
       "layout": {
        "font": {
         "family": "Courier New, monospace",
         "size": 12
        },
        "legend": {
         "title": {
          "text": "Pollutants"
         }
        },
        "template": {
         "data": {
          "bar": [
           {
            "error_x": {
             "color": "#2a3f5f"
            },
            "error_y": {
             "color": "#2a3f5f"
            },
            "marker": {
             "line": {
              "color": "#E5ECF6",
              "width": 0.5
             }
            },
            "type": "bar"
           }
          ],
          "barpolar": [
           {
            "marker": {
             "line": {
              "color": "#E5ECF6",
              "width": 0.5
             }
            },
            "type": "barpolar"
           }
          ],
          "carpet": [
           {
            "aaxis": {
             "endlinecolor": "#2a3f5f",
             "gridcolor": "white",
             "linecolor": "white",
             "minorgridcolor": "white",
             "startlinecolor": "#2a3f5f"
            },
            "baxis": {
             "endlinecolor": "#2a3f5f",
             "gridcolor": "white",
             "linecolor": "white",
             "minorgridcolor": "white",
             "startlinecolor": "#2a3f5f"
            },
            "type": "carpet"
           }
          ],
          "choropleth": [
           {
            "colorbar": {
             "outlinewidth": 0,
             "ticks": ""
            },
            "type": "choropleth"
           }
          ],
          "contour": [
           {
            "colorbar": {
             "outlinewidth": 0,
             "ticks": ""
            },
            "colorscale": [
             [
              0,
              "#0d0887"
             ],
             [
              0.1111111111111111,
              "#46039f"
             ],
             [
              0.2222222222222222,
              "#7201a8"
             ],
             [
              0.3333333333333333,
              "#9c179e"
             ],
             [
              0.4444444444444444,
              "#bd3786"
             ],
             [
              0.5555555555555556,
              "#d8576b"
             ],
             [
              0.6666666666666666,
              "#ed7953"
             ],
             [
              0.7777777777777778,
              "#fb9f3a"
             ],
             [
              0.8888888888888888,
              "#fdca26"
             ],
             [
              1,
              "#f0f921"
             ]
            ],
            "type": "contour"
           }
          ],
          "contourcarpet": [
           {
            "colorbar": {
             "outlinewidth": 0,
             "ticks": ""
            },
            "type": "contourcarpet"
           }
          ],
          "heatmap": [
           {
            "colorbar": {
             "outlinewidth": 0,
             "ticks": ""
            },
            "colorscale": [
             [
              0,
              "#0d0887"
             ],
             [
              0.1111111111111111,
              "#46039f"
             ],
             [
              0.2222222222222222,
              "#7201a8"
             ],
             [
              0.3333333333333333,
              "#9c179e"
             ],
             [
              0.4444444444444444,
              "#bd3786"
             ],
             [
              0.5555555555555556,
              "#d8576b"
             ],
             [
              0.6666666666666666,
              "#ed7953"
             ],
             [
              0.7777777777777778,
              "#fb9f3a"
             ],
             [
              0.8888888888888888,
              "#fdca26"
             ],
             [
              1,
              "#f0f921"
             ]
            ],
            "type": "heatmap"
           }
          ],
          "heatmapgl": [
           {
            "colorbar": {
             "outlinewidth": 0,
             "ticks": ""
            },
            "colorscale": [
             [
              0,
              "#0d0887"
             ],
             [
              0.1111111111111111,
              "#46039f"
             ],
             [
              0.2222222222222222,
              "#7201a8"
             ],
             [
              0.3333333333333333,
              "#9c179e"
             ],
             [
              0.4444444444444444,
              "#bd3786"
             ],
             [
              0.5555555555555556,
              "#d8576b"
             ],
             [
              0.6666666666666666,
              "#ed7953"
             ],
             [
              0.7777777777777778,
              "#fb9f3a"
             ],
             [
              0.8888888888888888,
              "#fdca26"
             ],
             [
              1,
              "#f0f921"
             ]
            ],
            "type": "heatmapgl"
           }
          ],
          "histogram": [
           {
            "marker": {
             "colorbar": {
              "outlinewidth": 0,
              "ticks": ""
             }
            },
            "type": "histogram"
           }
          ],
          "histogram2d": [
           {
            "colorbar": {
             "outlinewidth": 0,
             "ticks": ""
            },
            "colorscale": [
             [
              0,
              "#0d0887"
             ],
             [
              0.1111111111111111,
              "#46039f"
             ],
             [
              0.2222222222222222,
              "#7201a8"
             ],
             [
              0.3333333333333333,
              "#9c179e"
             ],
             [
              0.4444444444444444,
              "#bd3786"
             ],
             [
              0.5555555555555556,
              "#d8576b"
             ],
             [
              0.6666666666666666,
              "#ed7953"
             ],
             [
              0.7777777777777778,
              "#fb9f3a"
             ],
             [
              0.8888888888888888,
              "#fdca26"
             ],
             [
              1,
              "#f0f921"
             ]
            ],
            "type": "histogram2d"
           }
          ],
          "histogram2dcontour": [
           {
            "colorbar": {
             "outlinewidth": 0,
             "ticks": ""
            },
            "colorscale": [
             [
              0,
              "#0d0887"
             ],
             [
              0.1111111111111111,
              "#46039f"
             ],
             [
              0.2222222222222222,
              "#7201a8"
             ],
             [
              0.3333333333333333,
              "#9c179e"
             ],
             [
              0.4444444444444444,
              "#bd3786"
             ],
             [
              0.5555555555555556,
              "#d8576b"
             ],
             [
              0.6666666666666666,
              "#ed7953"
             ],
             [
              0.7777777777777778,
              "#fb9f3a"
             ],
             [
              0.8888888888888888,
              "#fdca26"
             ],
             [
              1,
              "#f0f921"
             ]
            ],
            "type": "histogram2dcontour"
           }
          ],
          "mesh3d": [
           {
            "colorbar": {
             "outlinewidth": 0,
             "ticks": ""
            },
            "type": "mesh3d"
           }
          ],
          "parcoords": [
           {
            "line": {
             "colorbar": {
              "outlinewidth": 0,
              "ticks": ""
             }
            },
            "type": "parcoords"
           }
          ],
          "pie": [
           {
            "automargin": true,
            "type": "pie"
           }
          ],
          "scatter": [
           {
            "marker": {
             "colorbar": {
              "outlinewidth": 0,
              "ticks": ""
             }
            },
            "type": "scatter"
           }
          ],
          "scatter3d": [
           {
            "line": {
             "colorbar": {
              "outlinewidth": 0,
              "ticks": ""
             }
            },
            "marker": {
             "colorbar": {
              "outlinewidth": 0,
              "ticks": ""
             }
            },
            "type": "scatter3d"
           }
          ],
          "scattercarpet": [
           {
            "marker": {
             "colorbar": {
              "outlinewidth": 0,
              "ticks": ""
             }
            },
            "type": "scattercarpet"
           }
          ],
          "scattergeo": [
           {
            "marker": {
             "colorbar": {
              "outlinewidth": 0,
              "ticks": ""
             }
            },
            "type": "scattergeo"
           }
          ],
          "scattergl": [
           {
            "marker": {
             "colorbar": {
              "outlinewidth": 0,
              "ticks": ""
             }
            },
            "type": "scattergl"
           }
          ],
          "scattermapbox": [
           {
            "marker": {
             "colorbar": {
              "outlinewidth": 0,
              "ticks": ""
             }
            },
            "type": "scattermapbox"
           }
          ],
          "scatterpolar": [
           {
            "marker": {
             "colorbar": {
              "outlinewidth": 0,
              "ticks": ""
             }
            },
            "type": "scatterpolar"
           }
          ],
          "scatterpolargl": [
           {
            "marker": {
             "colorbar": {
              "outlinewidth": 0,
              "ticks": ""
             }
            },
            "type": "scatterpolargl"
           }
          ],
          "scatterternary": [
           {
            "marker": {
             "colorbar": {
              "outlinewidth": 0,
              "ticks": ""
             }
            },
            "type": "scatterternary"
           }
          ],
          "surface": [
           {
            "colorbar": {
             "outlinewidth": 0,
             "ticks": ""
            },
            "colorscale": [
             [
              0,
              "#0d0887"
             ],
             [
              0.1111111111111111,
              "#46039f"
             ],
             [
              0.2222222222222222,
              "#7201a8"
             ],
             [
              0.3333333333333333,
              "#9c179e"
             ],
             [
              0.4444444444444444,
              "#bd3786"
             ],
             [
              0.5555555555555556,
              "#d8576b"
             ],
             [
              0.6666666666666666,
              "#ed7953"
             ],
             [
              0.7777777777777778,
              "#fb9f3a"
             ],
             [
              0.8888888888888888,
              "#fdca26"
             ],
             [
              1,
              "#f0f921"
             ]
            ],
            "type": "surface"
           }
          ],
          "table": [
           {
            "cells": {
             "fill": {
              "color": "#EBF0F8"
             },
             "line": {
              "color": "white"
             }
            },
            "header": {
             "fill": {
              "color": "#C8D4E3"
             },
             "line": {
              "color": "white"
             }
            },
            "type": "table"
           }
          ]
         },
         "layout": {
          "annotationdefaults": {
           "arrowcolor": "#2a3f5f",
           "arrowhead": 0,
           "arrowwidth": 1
          },
          "autotypenumbers": "strict",
          "coloraxis": {
           "colorbar": {
            "outlinewidth": 0,
            "ticks": ""
           }
          },
          "colorscale": {
           "diverging": [
            [
             0,
             "#8e0152"
            ],
            [
             0.1,
             "#c51b7d"
            ],
            [
             0.2,
             "#de77ae"
            ],
            [
             0.3,
             "#f1b6da"
            ],
            [
             0.4,
             "#fde0ef"
            ],
            [
             0.5,
             "#f7f7f7"
            ],
            [
             0.6,
             "#e6f5d0"
            ],
            [
             0.7,
             "#b8e186"
            ],
            [
             0.8,
             "#7fbc41"
            ],
            [
             0.9,
             "#4d9221"
            ],
            [
             1,
             "#276419"
            ]
           ],
           "sequential": [
            [
             0,
             "#0d0887"
            ],
            [
             0.1111111111111111,
             "#46039f"
            ],
            [
             0.2222222222222222,
             "#7201a8"
            ],
            [
             0.3333333333333333,
             "#9c179e"
            ],
            [
             0.4444444444444444,
             "#bd3786"
            ],
            [
             0.5555555555555556,
             "#d8576b"
            ],
            [
             0.6666666666666666,
             "#ed7953"
            ],
            [
             0.7777777777777778,
             "#fb9f3a"
            ],
            [
             0.8888888888888888,
             "#fdca26"
            ],
            [
             1,
             "#f0f921"
            ]
           ],
           "sequentialminus": [
            [
             0,
             "#0d0887"
            ],
            [
             0.1111111111111111,
             "#46039f"
            ],
            [
             0.2222222222222222,
             "#7201a8"
            ],
            [
             0.3333333333333333,
             "#9c179e"
            ],
            [
             0.4444444444444444,
             "#bd3786"
            ],
            [
             0.5555555555555556,
             "#d8576b"
            ],
            [
             0.6666666666666666,
             "#ed7953"
            ],
            [
             0.7777777777777778,
             "#fb9f3a"
            ],
            [
             0.8888888888888888,
             "#fdca26"
            ],
            [
             1,
             "#f0f921"
            ]
           ]
          },
          "colorway": [
           "#636efa",
           "#EF553B",
           "#00cc96",
           "#ab63fa",
           "#FFA15A",
           "#19d3f3",
           "#FF6692",
           "#B6E880",
           "#FF97FF",
           "#FECB52"
          ],
          "font": {
           "color": "#2a3f5f"
          },
          "geo": {
           "bgcolor": "white",
           "lakecolor": "white",
           "landcolor": "#E5ECF6",
           "showlakes": true,
           "showland": true,
           "subunitcolor": "white"
          },
          "hoverlabel": {
           "align": "left"
          },
          "hovermode": "closest",
          "mapbox": {
           "style": "light"
          },
          "paper_bgcolor": "white",
          "plot_bgcolor": "#E5ECF6",
          "polar": {
           "angularaxis": {
            "gridcolor": "white",
            "linecolor": "white",
            "ticks": ""
           },
           "bgcolor": "#E5ECF6",
           "radialaxis": {
            "gridcolor": "white",
            "linecolor": "white",
            "ticks": ""
           }
          },
          "scene": {
           "xaxis": {
            "backgroundcolor": "#E5ECF6",
            "gridcolor": "white",
            "gridwidth": 2,
            "linecolor": "white",
            "showbackground": true,
            "ticks": "",
            "zerolinecolor": "white"
           },
           "yaxis": {
            "backgroundcolor": "#E5ECF6",
            "gridcolor": "white",
            "gridwidth": 2,
            "linecolor": "white",
            "showbackground": true,
            "ticks": "",
            "zerolinecolor": "white"
           },
           "zaxis": {
            "backgroundcolor": "#E5ECF6",
            "gridcolor": "white",
            "gridwidth": 2,
            "linecolor": "white",
            "showbackground": true,
            "ticks": "",
            "zerolinecolor": "white"
           }
          },
          "shapedefaults": {
           "line": {
            "color": "#2a3f5f"
           }
          },
          "ternary": {
           "aaxis": {
            "gridcolor": "white",
            "linecolor": "white",
            "ticks": ""
           },
           "baxis": {
            "gridcolor": "white",
            "linecolor": "white",
            "ticks": ""
           },
           "bgcolor": "#E5ECF6",
           "caxis": {
            "gridcolor": "white",
            "linecolor": "white",
            "ticks": ""
           }
          },
          "title": {
           "x": 0.05
          },
          "xaxis": {
           "automargin": true,
           "gridcolor": "white",
           "linecolor": "white",
           "ticks": "",
           "title": {
            "standoff": 15
           },
           "zerolinecolor": "white",
           "zerolinewidth": 2
          },
          "yaxis": {
           "automargin": true,
           "gridcolor": "white",
           "linecolor": "white",
           "ticks": "",
           "title": {
            "standoff": 15
           },
           "zerolinecolor": "white",
           "zerolinewidth": 2
          }
         }
        },
        "title": {
         "text": "Pollutants in - Delhi "
        }
       }
      }
     },
     "metadata": {}
    }
   ],
   "source": [
    "\n",
    "\n",
    "def generatePiechart(filterr,choice):\n",
    "    labels = df['pollutant_id'].unique()\n",
    "\n",
    "    values = []\n",
    "\n",
    "    datachunk=df[df[filterr]==choice]\n",
    "    \n",
    "    for i in labels:\n",
    "        cc=datachunk[datachunk['pollutant_id']==i]\n",
    "        values.append(cc['pollutant_avg'].mean())\n",
    "\n",
    "    # Use `hole` to create a donut-like pie chart\n",
    "    fig = go.Figure(data=[go.Pie(labels=labels, values=values, hole=.3,)])\n",
    "    fig.update_layout(\n",
    "    title=\"Pollutants in - {} \".format(choice),\n",
    "    legend_title=\"Pollutants\",\n",
    "    font=dict(\n",
    "        family=\"Courier New, monospace\",\n",
    "        size=12,\n",
    "        )\n",
    "        )\n",
    "    filename=\"outs/(PIE)Pollutants in - {} \".format(choice)\n",
    "    # fig.write_html(\"{}.html\".format(filename))\n",
    "    fig.show()\n",
    "    return fig\n",
    "\n",
    "fig=generatePiechart('city','Delhi')"
   ]
  },
  {
   "cell_type": "code",
   "execution_count": 56,
   "metadata": {},
   "outputs": [
    {
     "data": {
      "application/vnd.plotly.v1+json": {
       "config": {
        "plotlyServerURL": "https://plot.ly"
       },
       "data": [
        {
         "alignmentgroup": "True",
         "hovertemplate": "City=SF<br>Fruit=%{x}<br>Amount=%{y}<extra></extra>",
         "legendgroup": "SF",
         "marker": {
          "color": "#636efa"
         },
         "name": "SF",
         "offsetgroup": "SF",
         "orientation": "v",
         "showlegend": true,
         "textposition": "auto",
         "type": "bar",
         "x": [
          "Apples",
          "Oranges",
          "Bananas"
         ],
         "xaxis": "x",
         "y": [
          4,
          1,
          2
         ],
         "yaxis": "y"
        },
        {
         "alignmentgroup": "True",
         "hovertemplate": "City=Montreal<br>Fruit=%{x}<br>Amount=%{y}<extra></extra>",
         "legendgroup": "Montreal",
         "marker": {
          "color": "#EF553B"
         },
         "name": "Montreal",
         "offsetgroup": "Montreal",
         "orientation": "v",
         "showlegend": true,
         "textposition": "auto",
         "type": "bar",
         "x": [
          "Apples",
          "Oranges",
          "Bananas"
         ],
         "xaxis": "x",
         "y": [
          2,
          4,
          5
         ],
         "yaxis": "y"
        }
       ],
       "layout": {
        "barmode": "group",
        "legend": {
         "title": {
          "text": "City"
         },
         "tracegroupgap": 0
        },
        "margin": {
         "t": 60
        },
        "template": {
         "data": {
          "bar": [
           {
            "error_x": {
             "color": "#2a3f5f"
            },
            "error_y": {
             "color": "#2a3f5f"
            },
            "marker": {
             "line": {
              "color": "#E5ECF6",
              "width": 0.5
             }
            },
            "type": "bar"
           }
          ],
          "barpolar": [
           {
            "marker": {
             "line": {
              "color": "#E5ECF6",
              "width": 0.5
             }
            },
            "type": "barpolar"
           }
          ],
          "carpet": [
           {
            "aaxis": {
             "endlinecolor": "#2a3f5f",
             "gridcolor": "white",
             "linecolor": "white",
             "minorgridcolor": "white",
             "startlinecolor": "#2a3f5f"
            },
            "baxis": {
             "endlinecolor": "#2a3f5f",
             "gridcolor": "white",
             "linecolor": "white",
             "minorgridcolor": "white",
             "startlinecolor": "#2a3f5f"
            },
            "type": "carpet"
           }
          ],
          "choropleth": [
           {
            "colorbar": {
             "outlinewidth": 0,
             "ticks": ""
            },
            "type": "choropleth"
           }
          ],
          "contour": [
           {
            "colorbar": {
             "outlinewidth": 0,
             "ticks": ""
            },
            "colorscale": [
             [
              0,
              "#0d0887"
             ],
             [
              0.1111111111111111,
              "#46039f"
             ],
             [
              0.2222222222222222,
              "#7201a8"
             ],
             [
              0.3333333333333333,
              "#9c179e"
             ],
             [
              0.4444444444444444,
              "#bd3786"
             ],
             [
              0.5555555555555556,
              "#d8576b"
             ],
             [
              0.6666666666666666,
              "#ed7953"
             ],
             [
              0.7777777777777778,
              "#fb9f3a"
             ],
             [
              0.8888888888888888,
              "#fdca26"
             ],
             [
              1,
              "#f0f921"
             ]
            ],
            "type": "contour"
           }
          ],
          "contourcarpet": [
           {
            "colorbar": {
             "outlinewidth": 0,
             "ticks": ""
            },
            "type": "contourcarpet"
           }
          ],
          "heatmap": [
           {
            "colorbar": {
             "outlinewidth": 0,
             "ticks": ""
            },
            "colorscale": [
             [
              0,
              "#0d0887"
             ],
             [
              0.1111111111111111,
              "#46039f"
             ],
             [
              0.2222222222222222,
              "#7201a8"
             ],
             [
              0.3333333333333333,
              "#9c179e"
             ],
             [
              0.4444444444444444,
              "#bd3786"
             ],
             [
              0.5555555555555556,
              "#d8576b"
             ],
             [
              0.6666666666666666,
              "#ed7953"
             ],
             [
              0.7777777777777778,
              "#fb9f3a"
             ],
             [
              0.8888888888888888,
              "#fdca26"
             ],
             [
              1,
              "#f0f921"
             ]
            ],
            "type": "heatmap"
           }
          ],
          "heatmapgl": [
           {
            "colorbar": {
             "outlinewidth": 0,
             "ticks": ""
            },
            "colorscale": [
             [
              0,
              "#0d0887"
             ],
             [
              0.1111111111111111,
              "#46039f"
             ],
             [
              0.2222222222222222,
              "#7201a8"
             ],
             [
              0.3333333333333333,
              "#9c179e"
             ],
             [
              0.4444444444444444,
              "#bd3786"
             ],
             [
              0.5555555555555556,
              "#d8576b"
             ],
             [
              0.6666666666666666,
              "#ed7953"
             ],
             [
              0.7777777777777778,
              "#fb9f3a"
             ],
             [
              0.8888888888888888,
              "#fdca26"
             ],
             [
              1,
              "#f0f921"
             ]
            ],
            "type": "heatmapgl"
           }
          ],
          "histogram": [
           {
            "marker": {
             "colorbar": {
              "outlinewidth": 0,
              "ticks": ""
             }
            },
            "type": "histogram"
           }
          ],
          "histogram2d": [
           {
            "colorbar": {
             "outlinewidth": 0,
             "ticks": ""
            },
            "colorscale": [
             [
              0,
              "#0d0887"
             ],
             [
              0.1111111111111111,
              "#46039f"
             ],
             [
              0.2222222222222222,
              "#7201a8"
             ],
             [
              0.3333333333333333,
              "#9c179e"
             ],
             [
              0.4444444444444444,
              "#bd3786"
             ],
             [
              0.5555555555555556,
              "#d8576b"
             ],
             [
              0.6666666666666666,
              "#ed7953"
             ],
             [
              0.7777777777777778,
              "#fb9f3a"
             ],
             [
              0.8888888888888888,
              "#fdca26"
             ],
             [
              1,
              "#f0f921"
             ]
            ],
            "type": "histogram2d"
           }
          ],
          "histogram2dcontour": [
           {
            "colorbar": {
             "outlinewidth": 0,
             "ticks": ""
            },
            "colorscale": [
             [
              0,
              "#0d0887"
             ],
             [
              0.1111111111111111,
              "#46039f"
             ],
             [
              0.2222222222222222,
              "#7201a8"
             ],
             [
              0.3333333333333333,
              "#9c179e"
             ],
             [
              0.4444444444444444,
              "#bd3786"
             ],
             [
              0.5555555555555556,
              "#d8576b"
             ],
             [
              0.6666666666666666,
              "#ed7953"
             ],
             [
              0.7777777777777778,
              "#fb9f3a"
             ],
             [
              0.8888888888888888,
              "#fdca26"
             ],
             [
              1,
              "#f0f921"
             ]
            ],
            "type": "histogram2dcontour"
           }
          ],
          "mesh3d": [
           {
            "colorbar": {
             "outlinewidth": 0,
             "ticks": ""
            },
            "type": "mesh3d"
           }
          ],
          "parcoords": [
           {
            "line": {
             "colorbar": {
              "outlinewidth": 0,
              "ticks": ""
             }
            },
            "type": "parcoords"
           }
          ],
          "pie": [
           {
            "automargin": true,
            "type": "pie"
           }
          ],
          "scatter": [
           {
            "marker": {
             "colorbar": {
              "outlinewidth": 0,
              "ticks": ""
             }
            },
            "type": "scatter"
           }
          ],
          "scatter3d": [
           {
            "line": {
             "colorbar": {
              "outlinewidth": 0,
              "ticks": ""
             }
            },
            "marker": {
             "colorbar": {
              "outlinewidth": 0,
              "ticks": ""
             }
            },
            "type": "scatter3d"
           }
          ],
          "scattercarpet": [
           {
            "marker": {
             "colorbar": {
              "outlinewidth": 0,
              "ticks": ""
             }
            },
            "type": "scattercarpet"
           }
          ],
          "scattergeo": [
           {
            "marker": {
             "colorbar": {
              "outlinewidth": 0,
              "ticks": ""
             }
            },
            "type": "scattergeo"
           }
          ],
          "scattergl": [
           {
            "marker": {
             "colorbar": {
              "outlinewidth": 0,
              "ticks": ""
             }
            },
            "type": "scattergl"
           }
          ],
          "scattermapbox": [
           {
            "marker": {
             "colorbar": {
              "outlinewidth": 0,
              "ticks": ""
             }
            },
            "type": "scattermapbox"
           }
          ],
          "scatterpolar": [
           {
            "marker": {
             "colorbar": {
              "outlinewidth": 0,
              "ticks": ""
             }
            },
            "type": "scatterpolar"
           }
          ],
          "scatterpolargl": [
           {
            "marker": {
             "colorbar": {
              "outlinewidth": 0,
              "ticks": ""
             }
            },
            "type": "scatterpolargl"
           }
          ],
          "scatterternary": [
           {
            "marker": {
             "colorbar": {
              "outlinewidth": 0,
              "ticks": ""
             }
            },
            "type": "scatterternary"
           }
          ],
          "surface": [
           {
            "colorbar": {
             "outlinewidth": 0,
             "ticks": ""
            },
            "colorscale": [
             [
              0,
              "#0d0887"
             ],
             [
              0.1111111111111111,
              "#46039f"
             ],
             [
              0.2222222222222222,
              "#7201a8"
             ],
             [
              0.3333333333333333,
              "#9c179e"
             ],
             [
              0.4444444444444444,
              "#bd3786"
             ],
             [
              0.5555555555555556,
              "#d8576b"
             ],
             [
              0.6666666666666666,
              "#ed7953"
             ],
             [
              0.7777777777777778,
              "#fb9f3a"
             ],
             [
              0.8888888888888888,
              "#fdca26"
             ],
             [
              1,
              "#f0f921"
             ]
            ],
            "type": "surface"
           }
          ],
          "table": [
           {
            "cells": {
             "fill": {
              "color": "#EBF0F8"
             },
             "line": {
              "color": "white"
             }
            },
            "header": {
             "fill": {
              "color": "#C8D4E3"
             },
             "line": {
              "color": "white"
             }
            },
            "type": "table"
           }
          ]
         },
         "layout": {
          "annotationdefaults": {
           "arrowcolor": "#2a3f5f",
           "arrowhead": 0,
           "arrowwidth": 1
          },
          "coloraxis": {
           "colorbar": {
            "outlinewidth": 0,
            "ticks": ""
           }
          },
          "colorscale": {
           "diverging": [
            [
             0,
             "#8e0152"
            ],
            [
             0.1,
             "#c51b7d"
            ],
            [
             0.2,
             "#de77ae"
            ],
            [
             0.3,
             "#f1b6da"
            ],
            [
             0.4,
             "#fde0ef"
            ],
            [
             0.5,
             "#f7f7f7"
            ],
            [
             0.6,
             "#e6f5d0"
            ],
            [
             0.7,
             "#b8e186"
            ],
            [
             0.8,
             "#7fbc41"
            ],
            [
             0.9,
             "#4d9221"
            ],
            [
             1,
             "#276419"
            ]
           ],
           "sequential": [
            [
             0,
             "#0d0887"
            ],
            [
             0.1111111111111111,
             "#46039f"
            ],
            [
             0.2222222222222222,
             "#7201a8"
            ],
            [
             0.3333333333333333,
             "#9c179e"
            ],
            [
             0.4444444444444444,
             "#bd3786"
            ],
            [
             0.5555555555555556,
             "#d8576b"
            ],
            [
             0.6666666666666666,
             "#ed7953"
            ],
            [
             0.7777777777777778,
             "#fb9f3a"
            ],
            [
             0.8888888888888888,
             "#fdca26"
            ],
            [
             1,
             "#f0f921"
            ]
           ],
           "sequentialminus": [
            [
             0,
             "#0d0887"
            ],
            [
             0.1111111111111111,
             "#46039f"
            ],
            [
             0.2222222222222222,
             "#7201a8"
            ],
            [
             0.3333333333333333,
             "#9c179e"
            ],
            [
             0.4444444444444444,
             "#bd3786"
            ],
            [
             0.5555555555555556,
             "#d8576b"
            ],
            [
             0.6666666666666666,
             "#ed7953"
            ],
            [
             0.7777777777777778,
             "#fb9f3a"
            ],
            [
             0.8888888888888888,
             "#fdca26"
            ],
            [
             1,
             "#f0f921"
            ]
           ]
          },
          "colorway": [
           "#636efa",
           "#EF553B",
           "#00cc96",
           "#ab63fa",
           "#FFA15A",
           "#19d3f3",
           "#FF6692",
           "#B6E880",
           "#FF97FF",
           "#FECB52"
          ],
          "font": {
           "color": "#2a3f5f"
          },
          "geo": {
           "bgcolor": "white",
           "lakecolor": "white",
           "landcolor": "#E5ECF6",
           "showlakes": true,
           "showland": true,
           "subunitcolor": "white"
          },
          "hoverlabel": {
           "align": "left"
          },
          "hovermode": "closest",
          "mapbox": {
           "style": "light"
          },
          "paper_bgcolor": "white",
          "plot_bgcolor": "#E5ECF6",
          "polar": {
           "angularaxis": {
            "gridcolor": "white",
            "linecolor": "white",
            "ticks": ""
           },
           "bgcolor": "#E5ECF6",
           "radialaxis": {
            "gridcolor": "white",
            "linecolor": "white",
            "ticks": ""
           }
          },
          "scene": {
           "xaxis": {
            "backgroundcolor": "#E5ECF6",
            "gridcolor": "white",
            "gridwidth": 2,
            "linecolor": "white",
            "showbackground": true,
            "ticks": "",
            "zerolinecolor": "white"
           },
           "yaxis": {
            "backgroundcolor": "#E5ECF6",
            "gridcolor": "white",
            "gridwidth": 2,
            "linecolor": "white",
            "showbackground": true,
            "ticks": "",
            "zerolinecolor": "white"
           },
           "zaxis": {
            "backgroundcolor": "#E5ECF6",
            "gridcolor": "white",
            "gridwidth": 2,
            "linecolor": "white",
            "showbackground": true,
            "ticks": "",
            "zerolinecolor": "white"
           }
          },
          "shapedefaults": {
           "line": {
            "color": "#2a3f5f"
           }
          },
          "ternary": {
           "aaxis": {
            "gridcolor": "white",
            "linecolor": "white",
            "ticks": ""
           },
           "baxis": {
            "gridcolor": "white",
            "linecolor": "white",
            "ticks": ""
           },
           "bgcolor": "#E5ECF6",
           "caxis": {
            "gridcolor": "white",
            "linecolor": "white",
            "ticks": ""
           }
          },
          "title": {
           "x": 0.05
          },
          "xaxis": {
           "automargin": true,
           "gridcolor": "white",
           "linecolor": "white",
           "ticks": "",
           "title": {
            "standoff": 15
           },
           "zerolinecolor": "white",
           "zerolinewidth": 2
          },
          "yaxis": {
           "automargin": true,
           "gridcolor": "white",
           "linecolor": "white",
           "ticks": "",
           "title": {
            "standoff": 15
           },
           "zerolinecolor": "white",
           "zerolinewidth": 2
          }
         }
        },
        "xaxis": {
         "anchor": "y",
         "domain": [
          0,
          1
         ],
         "title": {
          "text": "Fruit"
         }
        },
        "yaxis": {
         "anchor": "x",
         "domain": [
          0,
          1
         ],
         "title": {
          "text": "Amount"
         }
        }
       }
      }
     },
     "metadata": {},
     "output_type": "display_data"
    }
   ],
   "source": [
    "fig.show()"
   ]
  },
  {
   "cell_type": "markdown",
   "metadata": {},
   "source": [
    "# CREATE A DASHAPP with these graphs"
   ]
  },
  {
   "cell_type": "code",
   "execution_count": 48,
   "metadata": {},
   "outputs": [
    {
     "data": {
      "text/html": [
       "<div>\n",
       "<style scoped>\n",
       "    .dataframe tbody tr th:only-of-type {\n",
       "        vertical-align: middle;\n",
       "    }\n",
       "\n",
       "    .dataframe tbody tr th {\n",
       "        vertical-align: top;\n",
       "    }\n",
       "\n",
       "    .dataframe thead th {\n",
       "        text-align: right;\n",
       "    }\n",
       "</style>\n",
       "<table border=\"1\" class=\"dataframe\">\n",
       "  <thead>\n",
       "    <tr style=\"text-align: right;\">\n",
       "      <th></th>\n",
       "      <th>Fruit</th>\n",
       "      <th>Amount</th>\n",
       "      <th>City</th>\n",
       "    </tr>\n",
       "  </thead>\n",
       "  <tbody>\n",
       "    <tr>\n",
       "      <th>0</th>\n",
       "      <td>Apples</td>\n",
       "      <td>4</td>\n",
       "      <td>SF</td>\n",
       "    </tr>\n",
       "    <tr>\n",
       "      <th>1</th>\n",
       "      <td>Oranges</td>\n",
       "      <td>1</td>\n",
       "      <td>SF</td>\n",
       "    </tr>\n",
       "    <tr>\n",
       "      <th>2</th>\n",
       "      <td>Bananas</td>\n",
       "      <td>2</td>\n",
       "      <td>SF</td>\n",
       "    </tr>\n",
       "    <tr>\n",
       "      <th>3</th>\n",
       "      <td>Apples</td>\n",
       "      <td>2</td>\n",
       "      <td>Montreal</td>\n",
       "    </tr>\n",
       "    <tr>\n",
       "      <th>4</th>\n",
       "      <td>Oranges</td>\n",
       "      <td>4</td>\n",
       "      <td>Montreal</td>\n",
       "    </tr>\n",
       "    <tr>\n",
       "      <th>5</th>\n",
       "      <td>Bananas</td>\n",
       "      <td>5</td>\n",
       "      <td>Montreal</td>\n",
       "    </tr>\n",
       "  </tbody>\n",
       "</table>\n",
       "</div>"
      ],
      "text/plain": [
       "     Fruit  Amount      City\n",
       "0   Apples       4        SF\n",
       "1  Oranges       1        SF\n",
       "2  Bananas       2        SF\n",
       "3   Apples       2  Montreal\n",
       "4  Oranges       4  Montreal\n",
       "5  Bananas       5  Montreal"
      ]
     },
     "execution_count": 48,
     "metadata": {},
     "output_type": "execute_result"
    }
   ],
   "source": [
    "df"
   ]
  },
  {
   "cell_type": "code",
   "execution_count": 61,
   "metadata": {},
   "outputs": [
    {
     "data": {
      "application/vnd.plotly.v1+json": {
       "config": {
        "plotlyServerURL": "https://plot.ly"
       },
       "data": [
        {
         "hovertemplate": "pollutant_id=PM2.5<br>pollutant_avg=%{x}<br>station=%{y}<br>pollutant_max=%{marker.size}<extra></extra>",
         "legendgroup": "PM2.5",
         "marker": {
          "color": "#636efa",
          "size": [
           432,
           418,
           431,
           351,
           440,
           374,
           478,
           435,
           378,
           385,
           354,
           333,
           368,
           435,
           393,
           348,
           344,
           388,
           387,
           449,
           316,
           348,
           479,
           500,
           379,
           0.0001,
           404,
           400,
           395,
           382,
           460,
           432,
           306,
           368,
           433,
           375,
           500,
           329
          ],
          "sizemode": "area",
          "sizeref": 1.25,
          "symbol": "circle"
         },
         "mode": "markers",
         "name": "PM2.5",
         "orientation": "h",
         "showlegend": true,
         "type": "scatter",
         "x": [
          364,
          378,
          383,
          290,
          381,
          320,
          357,
          373,
          332,
          348,
          295,
          289,
          330,
          391,
          343,
          285,
          303,
          341,
          332,
          366,
          202,
          298,
          381,
          380,
          321,
          0.0001,
          369,
          361,
          353,
          302,
          355,
          383,
          163,
          330,
          376,
          330,
          403,
          282
         ],
         "xaxis": "x",
         "y": [
          "Alipur, Delhi - DPCC",
          "Anand Vihar, Delhi - DPCC",
          "Ashok Vihar, Delhi - DPCC",
          "Aya Nagar, Delhi - IMD",
          "Bawana, Delhi - DPCC",
          "CRRI Mathura Road, Delhi - IMD",
          "Chandni Chowk, Delhi - IITM",
          "DTU, Delhi - CPCB",
          "Dr. Karni Singh Shooting Range, Delhi - DPCC",
          "Dwarka-Sector 8, Delhi - DPCC ",
          "IGI Airport (T3), Delhi - IMD",
          "IHBAS, Dilshad Garden, Delhi - CPCB",
          "ITO, Delhi - CPCB",
          "Jahangirpuri, Delhi - DPCC",
          "Jawaharlal Nehru Stadium, Delhi - DPCC",
          "Lodhi Road, Delhi - IITM",
          "Lodhi Road, Delhi - IMD",
          "Major Dhyan Chand National Stadium, Delhi - DPCC",
          "Mandir Marg, Delhi - DPCC",
          "Mundka, Delhi - DPCC",
          "NSIT Dwarka, Delhi - CPCB",
          "Najafgarh, Delhi - DPCC",
          "Narela, Delhi - DPCC",
          "Nehru Nagar, Delhi - DPCC",
          "North Campus, DU, Delhi - IMD",
          "Okhla Phase-2, Delhi - DPCC",
          "Patparganj, Delhi - DPCC",
          "Punjabi Bagh, Delhi - DPCC",
          "Pusa, Delhi - DPCC",
          "Pusa, Delhi - IMD",
          "R K Puram, Delhi - DPCC",
          "Rohini, Delhi - DPCC",
          "Shadipur, Delhi - CPCB",
          "Sirifort, Delhi - CPCB",
          "Sonia Vihar, Delhi - DPCC",
          "Sri Aurobindo Marg, Delhi - DPCC",
          "Vivek Vihar, Delhi - DPCC",
          "Wazirpur, Delhi - DPCC"
         ],
         "yaxis": "y"
        },
        {
         "hovertemplate": "pollutant_id=PM10<br>pollutant_avg=%{x}<br>station=%{y}<br>pollutant_max=%{marker.size}<extra></extra>",
         "legendgroup": "PM10",
         "marker": {
          "color": "#EF553B",
          "size": [
           420,
           468,
           418,
           330,
           472,
           415,
           500,
           364,
           395,
           390,
           433,
           453,
           273,
           456,
           305,
           245,
           194,
           325,
           283,
           492,
           405,
           219,
           453,
           467,
           372,
           0.0001,
           341,
           413,
           473,
           361,
           413,
           436,
           423,
           487,
           429,
           229,
           428,
           409
          ],
          "sizemode": "area",
          "sizeref": 1.25,
          "symbol": "circle"
         },
         "mode": "markers",
         "name": "PM10",
         "orientation": "h",
         "showlegend": true,
         "type": "scatter",
         "x": [
          301,
          328,
          281,
          180,
          357,
          272,
          362,
          261,
          258,
          257,
          252,
          290,
          197,
          346,
          234,
          173,
          154,
          234,
          207,
          305,
          266,
          172,
          329,
          284,
          221,
          0.0001,
          249,
          276,
          304,
          221,
          233,
          333,
          285,
          255,
          335,
          172,
          333,
          303
         ],
         "xaxis": "x",
         "y": [
          "Alipur, Delhi - DPCC",
          "Anand Vihar, Delhi - DPCC",
          "Ashok Vihar, Delhi - DPCC",
          "Aya Nagar, Delhi - IMD",
          "Bawana, Delhi - DPCC",
          "CRRI Mathura Road, Delhi - IMD",
          "Chandni Chowk, Delhi - IITM",
          "DTU, Delhi - CPCB",
          "Dr. Karni Singh Shooting Range, Delhi - DPCC",
          "Dwarka-Sector 8, Delhi - DPCC ",
          "IGI Airport (T3), Delhi - IMD",
          "IHBAS, Dilshad Garden, Delhi - CPCB",
          "ITO, Delhi - CPCB",
          "Jahangirpuri, Delhi - DPCC",
          "Jawaharlal Nehru Stadium, Delhi - DPCC",
          "Lodhi Road, Delhi - IITM",
          "Lodhi Road, Delhi - IMD",
          "Major Dhyan Chand National Stadium, Delhi - DPCC",
          "Mandir Marg, Delhi - DPCC",
          "Mundka, Delhi - DPCC",
          "NSIT Dwarka, Delhi - CPCB",
          "Najafgarh, Delhi - DPCC",
          "Narela, Delhi - DPCC",
          "Nehru Nagar, Delhi - DPCC",
          "North Campus, DU, Delhi - IMD",
          "Okhla Phase-2, Delhi - DPCC",
          "Patparganj, Delhi - DPCC",
          "Punjabi Bagh, Delhi - DPCC",
          "Pusa, Delhi - DPCC",
          "Pusa, Delhi - IMD",
          "R K Puram, Delhi - DPCC",
          "Rohini, Delhi - DPCC",
          "Shadipur, Delhi - CPCB",
          "Sirifort, Delhi - CPCB",
          "Sonia Vihar, Delhi - DPCC",
          "Sri Aurobindo Marg, Delhi - DPCC",
          "Vivek Vihar, Delhi - DPCC",
          "Wazirpur, Delhi - DPCC"
         ],
         "yaxis": "y"
        },
        {
         "hovertemplate": "pollutant_id=NO2<br>pollutant_avg=%{x}<br>station=%{y}<br>pollutant_max=%{marker.size}<extra></extra>",
         "legendgroup": "NO2",
         "marker": {
          "color": "#00cc96",
          "size": [
           112,
           185,
           132,
           55,
           179,
           70,
           85,
           69,
           177,
           152,
           290,
           54,
           162,
           134,
           117,
           18,
           147,
           128,
           111,
           88,
           45,
           147,
           0.0001,
           81,
           0.0001,
           98,
           147,
           179,
           100,
           152,
           92,
           260,
           190,
           155,
           75,
           74,
           127
          ],
          "sizemode": "area",
          "sizeref": 1.25,
          "symbol": "circle"
         },
         "mode": "markers",
         "name": "NO2",
         "orientation": "h",
         "showlegend": true,
         "type": "scatter",
         "x": [
          63,
          152,
          92,
          32,
          77,
          49,
          50,
          49,
          108,
          96,
          146,
          43,
          111,
          85,
          81,
          11,
          98,
          101,
          73,
          55,
          30,
          90,
          0.0001,
          48,
          0.0001,
          64,
          90,
          104,
          60,
          97,
          55,
          167,
          91,
          106,
          44,
          55,
          97
         ],
         "xaxis": "x",
         "y": [
          "Alipur, Delhi - DPCC",
          "Anand Vihar, Delhi - DPCC",
          "Ashok Vihar, Delhi - DPCC",
          "Aya Nagar, Delhi - IMD",
          "Bawana, Delhi - DPCC",
          "CRRI Mathura Road, Delhi - IMD",
          "Chandni Chowk, Delhi - IITM",
          "DTU, Delhi - CPCB",
          "Dr. Karni Singh Shooting Range, Delhi - DPCC",
          "Dwarka-Sector 8, Delhi - DPCC ",
          "IHBAS, Dilshad Garden, Delhi - CPCB",
          "ITO, Delhi - CPCB",
          "Jahangirpuri, Delhi - DPCC",
          "Jawaharlal Nehru Stadium, Delhi - DPCC",
          "Lodhi Road, Delhi - IITM",
          "Lodhi Road, Delhi - IMD",
          "Major Dhyan Chand National Stadium, Delhi - DPCC",
          "Mandir Marg, Delhi - DPCC",
          "Mundka, Delhi - DPCC",
          "NSIT Dwarka, Delhi - CPCB",
          "Najafgarh, Delhi - DPCC",
          "Narela, Delhi - DPCC",
          "Nehru Nagar, Delhi - DPCC",
          "North Campus, DU, Delhi - IMD",
          "Okhla Phase-2, Delhi - DPCC",
          "Patparganj, Delhi - DPCC",
          "Punjabi Bagh, Delhi - DPCC",
          "Pusa, Delhi - DPCC",
          "Pusa, Delhi - IMD",
          "R K Puram, Delhi - DPCC",
          "Rohini, Delhi - DPCC",
          "Shadipur, Delhi - CPCB",
          "Sirifort, Delhi - CPCB",
          "Sonia Vihar, Delhi - DPCC",
          "Sri Aurobindo Marg, Delhi - DPCC",
          "Vivek Vihar, Delhi - DPCC",
          "Wazirpur, Delhi - DPCC"
         ],
         "yaxis": "y"
        },
        {
         "hovertemplate": "pollutant_id=NH3<br>pollutant_avg=%{x}<br>station=%{y}<br>pollutant_max=%{marker.size}<extra></extra>",
         "legendgroup": "NH3",
         "marker": {
          "color": "#ab63fa",
          "size": [
           8,
           17,
           5,
           12,
           35,
           18,
           14,
           15,
           31,
           12,
           14,
           9,
           17,
           11,
           6,
           9,
           33,
           9,
           10,
           19,
           0.0001,
           20,
           8,
           16,
           8,
           24,
           26,
           8,
           11,
           7,
           10,
           26
          ],
          "sizemode": "area",
          "sizeref": 1.25,
          "symbol": "circle"
         },
         "mode": "markers",
         "name": "NH3",
         "orientation": "h",
         "showlegend": true,
         "type": "scatter",
         "x": [
          7,
          15,
          4,
          11,
          20,
          11,
          11,
          14,
          23,
          8,
          12,
          7,
          13,
          9,
          5,
          8,
          24,
          8,
          8,
          15,
          0.0001,
          14,
          7,
          12,
          7,
          21,
          23,
          6,
          9,
          7,
          8,
          25
         ],
         "xaxis": "x",
         "y": [
          "Alipur, Delhi - DPCC",
          "Anand Vihar, Delhi - DPCC",
          "Ashok Vihar, Delhi - DPCC",
          "Bawana, Delhi - DPCC",
          "Chandni Chowk, Delhi - IITM",
          "DTU, Delhi - CPCB",
          "Dr. Karni Singh Shooting Range, Delhi - DPCC",
          "Dwarka-Sector 8, Delhi - DPCC ",
          "IHBAS, Dilshad Garden, Delhi - CPCB",
          "ITO, Delhi - CPCB",
          "Jahangirpuri, Delhi - DPCC",
          "Jawaharlal Nehru Stadium, Delhi - DPCC",
          "Lodhi Road, Delhi - IITM",
          "Major Dhyan Chand National Stadium, Delhi - DPCC",
          "Mandir Marg, Delhi - DPCC",
          "Mundka, Delhi - DPCC",
          "NSIT Dwarka, Delhi - CPCB",
          "Najafgarh, Delhi - DPCC",
          "Narela, Delhi - DPCC",
          "Nehru Nagar, Delhi - DPCC",
          "Okhla Phase-2, Delhi - DPCC",
          "Patparganj, Delhi - DPCC",
          "Punjabi Bagh, Delhi - DPCC",
          "Pusa, Delhi - DPCC",
          "R K Puram, Delhi - DPCC",
          "Rohini, Delhi - DPCC",
          "Shadipur, Delhi - CPCB",
          "Sirifort, Delhi - CPCB",
          "Sonia Vihar, Delhi - DPCC",
          "Sri Aurobindo Marg, Delhi - DPCC",
          "Vivek Vihar, Delhi - DPCC",
          "Wazirpur, Delhi - DPCC"
         ],
         "yaxis": "y"
        },
        {
         "hovertemplate": "pollutant_id=SO2<br>pollutant_avg=%{x}<br>station=%{y}<br>pollutant_max=%{marker.size}<extra></extra>",
         "legendgroup": "SO2",
         "marker": {
          "color": "#FFA15A",
          "size": [
           41,
           26,
           54,
           10,
           9,
           9,
           42,
           25,
           37,
           51,
           24,
           0.0001,
           6,
           29,
           35,
           48,
           33,
           36,
           35,
           28,
           0.0001,
           12,
           23,
           44,
           33,
           33,
           23,
           36,
           32,
           20,
           43,
           65
          ],
          "sizemode": "area",
          "sizeref": 1.25,
          "symbol": "circle"
         },
         "mode": "markers",
         "name": "SO2",
         "orientation": "h",
         "showlegend": true,
         "type": "scatter",
         "x": [
          22,
          13,
          30,
          6,
          6,
          6,
          28,
          13,
          12,
          22,
          14,
          0.0001,
          5,
          21,
          26,
          25,
          12,
          12,
          15,
          20,
          0.0001,
          8,
          15,
          22,
          15,
          14,
          13,
          27,
          17,
          9,
          28,
          39
         ],
         "xaxis": "x",
         "y": [
          "Alipur, Delhi - DPCC",
          "Anand Vihar, Delhi - DPCC",
          "Ashok Vihar, Delhi - DPCC",
          "Bawana, Delhi - DPCC",
          "Chandni Chowk, Delhi - IITM",
          "DTU, Delhi - CPCB",
          "Dr. Karni Singh Shooting Range, Delhi - DPCC",
          "Dwarka-Sector 8, Delhi - DPCC ",
          "IHBAS, Dilshad Garden, Delhi - CPCB",
          "ITO, Delhi - CPCB",
          "Jahangirpuri, Delhi - DPCC",
          "Jawaharlal Nehru Stadium, Delhi - DPCC",
          "Lodhi Road, Delhi - IITM",
          "Major Dhyan Chand National Stadium, Delhi - DPCC",
          "Mandir Marg, Delhi - DPCC",
          "Mundka, Delhi - DPCC",
          "NSIT Dwarka, Delhi - CPCB",
          "Najafgarh, Delhi - DPCC",
          "Narela, Delhi - DPCC",
          "Nehru Nagar, Delhi - DPCC",
          "Okhla Phase-2, Delhi - DPCC",
          "Patparganj, Delhi - DPCC",
          "Punjabi Bagh, Delhi - DPCC",
          "Pusa, Delhi - DPCC",
          "R K Puram, Delhi - DPCC",
          "Rohini, Delhi - DPCC",
          "Shadipur, Delhi - CPCB",
          "Sirifort, Delhi - CPCB",
          "Sonia Vihar, Delhi - DPCC",
          "Sri Aurobindo Marg, Delhi - DPCC",
          "Vivek Vihar, Delhi - DPCC",
          "Wazirpur, Delhi - DPCC"
         ],
         "yaxis": "y"
        },
        {
         "hovertemplate": "pollutant_id=CO<br>pollutant_avg=%{x}<br>station=%{y}<br>pollutant_max=%{marker.size}<extra></extra>",
         "legendgroup": "CO",
         "marker": {
          "color": "#19d3f3",
          "size": [
           75,
           174,
           132,
           95,
           103,
           177,
           129,
           113,
           111,
           122,
           120,
           111,
           158,
           125,
           128,
           50,
           114,
           126,
           111,
           118,
           107,
           75,
           122,
           179,
           156,
           118,
           133,
           129,
           144,
           94,
           149,
           122,
           142,
           133,
           111,
           85,
           149,
           124
          ],
          "sizemode": "area",
          "sizeref": 1.25,
          "symbol": "circle"
         },
         "mode": "markers",
         "name": "CO",
         "orientation": "h",
         "showlegend": true,
         "type": "scatter",
         "x": [
          61,
          109,
          78,
          83,
          69,
          76,
          94,
          97,
          85,
          62,
          80,
          63,
          111,
          80,
          78,
          49,
          106,
          37,
          80,
          71,
          42,
          57,
          110,
          93,
          75,
          118,
          52,
          92,
          76,
          66,
          68,
          87,
          73,
          70,
          103,
          64,
          99,
          103
         ],
         "xaxis": "x",
         "y": [
          "Alipur, Delhi - DPCC",
          "Anand Vihar, Delhi - DPCC",
          "Ashok Vihar, Delhi - DPCC",
          "Aya Nagar, Delhi - IMD",
          "Bawana, Delhi - DPCC",
          "CRRI Mathura Road, Delhi - IMD",
          "Chandni Chowk, Delhi - IITM",
          "DTU, Delhi - CPCB",
          "Dr. Karni Singh Shooting Range, Delhi - DPCC",
          "Dwarka-Sector 8, Delhi - DPCC ",
          "IGI Airport (T3), Delhi - IMD",
          "IHBAS, Dilshad Garden, Delhi - CPCB",
          "ITO, Delhi - CPCB",
          "Jahangirpuri, Delhi - DPCC",
          "Jawaharlal Nehru Stadium, Delhi - DPCC",
          "Lodhi Road, Delhi - IITM",
          "Lodhi Road, Delhi - IMD",
          "Major Dhyan Chand National Stadium, Delhi - DPCC",
          "Mandir Marg, Delhi - DPCC",
          "Mundka, Delhi - DPCC",
          "NSIT Dwarka, Delhi - CPCB",
          "Najafgarh, Delhi - DPCC",
          "Narela, Delhi - DPCC",
          "Nehru Nagar, Delhi - DPCC",
          "North Campus, DU, Delhi - IMD",
          "Okhla Phase-2, Delhi - DPCC",
          "Patparganj, Delhi - DPCC",
          "Punjabi Bagh, Delhi - DPCC",
          "Pusa, Delhi - DPCC",
          "Pusa, Delhi - IMD",
          "R K Puram, Delhi - DPCC",
          "Rohini, Delhi - DPCC",
          "Shadipur, Delhi - CPCB",
          "Sirifort, Delhi - CPCB",
          "Sonia Vihar, Delhi - DPCC",
          "Sri Aurobindo Marg, Delhi - DPCC",
          "Vivek Vihar, Delhi - DPCC",
          "Wazirpur, Delhi - DPCC"
         ],
         "yaxis": "y"
        },
        {
         "hovertemplate": "pollutant_id=OZONE<br>pollutant_avg=%{x}<br>station=%{y}<br>pollutant_max=%{marker.size}<extra></extra>",
         "legendgroup": "OZONE",
         "marker": {
          "color": "#FF6692",
          "size": [
           199,
           41,
           185,
           39,
           118,
           35,
           31,
           66,
           247,
           156,
           45,
           64,
           90,
           129,
           177,
           13,
           59,
           215,
           71,
           66,
           185,
           160,
           254,
           68,
           93,
           36,
           148,
           138,
           94,
           243,
           81,
           97,
           265,
           139,
           260,
           38,
           55
          ],
          "sizemode": "area",
          "sizeref": 1.25,
          "symbol": "circle"
         },
         "mode": "markers",
         "name": "OZONE",
         "orientation": "h",
         "showlegend": true,
         "type": "scatter",
         "x": [
          11,
          13,
          11,
          12,
          11,
          2,
          11,
          11,
          53,
          10,
          9,
          7,
          9,
          4,
          6,
          9,
          8,
          5,
          5,
          13,
          16,
          17,
          5,
          10,
          13,
          3,
          51,
          3,
          16,
          14,
          5,
          4,
          73,
          9,
          39,
          11,
          28
         ],
         "xaxis": "x",
         "y": [
          "Alipur, Delhi - DPCC",
          "Anand Vihar, Delhi - DPCC",
          "Ashok Vihar, Delhi - DPCC",
          "Aya Nagar, Delhi - IMD",
          "Bawana, Delhi - DPCC",
          "CRRI Mathura Road, Delhi - IMD",
          "Chandni Chowk, Delhi - IITM",
          "DTU, Delhi - CPCB",
          "Dr. Karni Singh Shooting Range, Delhi - DPCC",
          "Dwarka-Sector 8, Delhi - DPCC ",
          "IGI Airport (T3), Delhi - IMD",
          "IHBAS, Dilshad Garden, Delhi - CPCB",
          "ITO, Delhi - CPCB",
          "Jahangirpuri, Delhi - DPCC",
          "Jawaharlal Nehru Stadium, Delhi - DPCC",
          "Lodhi Road, Delhi - IITM",
          "Lodhi Road, Delhi - IMD",
          "Major Dhyan Chand National Stadium, Delhi - DPCC",
          "Mandir Marg, Delhi - DPCC",
          "NSIT Dwarka, Delhi - CPCB",
          "Najafgarh, Delhi - DPCC",
          "Narela, Delhi - DPCC",
          "Nehru Nagar, Delhi - DPCC",
          "North Campus, DU, Delhi - IMD",
          "Okhla Phase-2, Delhi - DPCC",
          "Patparganj, Delhi - DPCC",
          "Punjabi Bagh, Delhi - DPCC",
          "Pusa, Delhi - DPCC",
          "Pusa, Delhi - IMD",
          "R K Puram, Delhi - DPCC",
          "Rohini, Delhi - DPCC",
          "Shadipur, Delhi - CPCB",
          "Sirifort, Delhi - CPCB",
          "Sonia Vihar, Delhi - DPCC",
          "Sri Aurobindo Marg, Delhi - DPCC",
          "Vivek Vihar, Delhi - DPCC",
          "Wazirpur, Delhi - DPCC"
         ],
         "yaxis": "y"
        }
       ],
       "layout": {
        "font": {
         "family": "Courier New, monospace",
         "size": 12
        },
        "legend": {
         "itemsizing": "constant",
         "title": {
          "text": "Pollutants"
         },
         "tracegroupgap": 0
        },
        "margin": {
         "t": 60
        },
        "template": {
         "data": {
          "bar": [
           {
            "error_x": {
             "color": "#2a3f5f"
            },
            "error_y": {
             "color": "#2a3f5f"
            },
            "marker": {
             "line": {
              "color": "#E5ECF6",
              "width": 0.5
             }
            },
            "type": "bar"
           }
          ],
          "barpolar": [
           {
            "marker": {
             "line": {
              "color": "#E5ECF6",
              "width": 0.5
             }
            },
            "type": "barpolar"
           }
          ],
          "carpet": [
           {
            "aaxis": {
             "endlinecolor": "#2a3f5f",
             "gridcolor": "white",
             "linecolor": "white",
             "minorgridcolor": "white",
             "startlinecolor": "#2a3f5f"
            },
            "baxis": {
             "endlinecolor": "#2a3f5f",
             "gridcolor": "white",
             "linecolor": "white",
             "minorgridcolor": "white",
             "startlinecolor": "#2a3f5f"
            },
            "type": "carpet"
           }
          ],
          "choropleth": [
           {
            "colorbar": {
             "outlinewidth": 0,
             "ticks": ""
            },
            "type": "choropleth"
           }
          ],
          "contour": [
           {
            "colorbar": {
             "outlinewidth": 0,
             "ticks": ""
            },
            "colorscale": [
             [
              0,
              "#0d0887"
             ],
             [
              0.1111111111111111,
              "#46039f"
             ],
             [
              0.2222222222222222,
              "#7201a8"
             ],
             [
              0.3333333333333333,
              "#9c179e"
             ],
             [
              0.4444444444444444,
              "#bd3786"
             ],
             [
              0.5555555555555556,
              "#d8576b"
             ],
             [
              0.6666666666666666,
              "#ed7953"
             ],
             [
              0.7777777777777778,
              "#fb9f3a"
             ],
             [
              0.8888888888888888,
              "#fdca26"
             ],
             [
              1,
              "#f0f921"
             ]
            ],
            "type": "contour"
           }
          ],
          "contourcarpet": [
           {
            "colorbar": {
             "outlinewidth": 0,
             "ticks": ""
            },
            "type": "contourcarpet"
           }
          ],
          "heatmap": [
           {
            "colorbar": {
             "outlinewidth": 0,
             "ticks": ""
            },
            "colorscale": [
             [
              0,
              "#0d0887"
             ],
             [
              0.1111111111111111,
              "#46039f"
             ],
             [
              0.2222222222222222,
              "#7201a8"
             ],
             [
              0.3333333333333333,
              "#9c179e"
             ],
             [
              0.4444444444444444,
              "#bd3786"
             ],
             [
              0.5555555555555556,
              "#d8576b"
             ],
             [
              0.6666666666666666,
              "#ed7953"
             ],
             [
              0.7777777777777778,
              "#fb9f3a"
             ],
             [
              0.8888888888888888,
              "#fdca26"
             ],
             [
              1,
              "#f0f921"
             ]
            ],
            "type": "heatmap"
           }
          ],
          "heatmapgl": [
           {
            "colorbar": {
             "outlinewidth": 0,
             "ticks": ""
            },
            "colorscale": [
             [
              0,
              "#0d0887"
             ],
             [
              0.1111111111111111,
              "#46039f"
             ],
             [
              0.2222222222222222,
              "#7201a8"
             ],
             [
              0.3333333333333333,
              "#9c179e"
             ],
             [
              0.4444444444444444,
              "#bd3786"
             ],
             [
              0.5555555555555556,
              "#d8576b"
             ],
             [
              0.6666666666666666,
              "#ed7953"
             ],
             [
              0.7777777777777778,
              "#fb9f3a"
             ],
             [
              0.8888888888888888,
              "#fdca26"
             ],
             [
              1,
              "#f0f921"
             ]
            ],
            "type": "heatmapgl"
           }
          ],
          "histogram": [
           {
            "marker": {
             "colorbar": {
              "outlinewidth": 0,
              "ticks": ""
             }
            },
            "type": "histogram"
           }
          ],
          "histogram2d": [
           {
            "colorbar": {
             "outlinewidth": 0,
             "ticks": ""
            },
            "colorscale": [
             [
              0,
              "#0d0887"
             ],
             [
              0.1111111111111111,
              "#46039f"
             ],
             [
              0.2222222222222222,
              "#7201a8"
             ],
             [
              0.3333333333333333,
              "#9c179e"
             ],
             [
              0.4444444444444444,
              "#bd3786"
             ],
             [
              0.5555555555555556,
              "#d8576b"
             ],
             [
              0.6666666666666666,
              "#ed7953"
             ],
             [
              0.7777777777777778,
              "#fb9f3a"
             ],
             [
              0.8888888888888888,
              "#fdca26"
             ],
             [
              1,
              "#f0f921"
             ]
            ],
            "type": "histogram2d"
           }
          ],
          "histogram2dcontour": [
           {
            "colorbar": {
             "outlinewidth": 0,
             "ticks": ""
            },
            "colorscale": [
             [
              0,
              "#0d0887"
             ],
             [
              0.1111111111111111,
              "#46039f"
             ],
             [
              0.2222222222222222,
              "#7201a8"
             ],
             [
              0.3333333333333333,
              "#9c179e"
             ],
             [
              0.4444444444444444,
              "#bd3786"
             ],
             [
              0.5555555555555556,
              "#d8576b"
             ],
             [
              0.6666666666666666,
              "#ed7953"
             ],
             [
              0.7777777777777778,
              "#fb9f3a"
             ],
             [
              0.8888888888888888,
              "#fdca26"
             ],
             [
              1,
              "#f0f921"
             ]
            ],
            "type": "histogram2dcontour"
           }
          ],
          "mesh3d": [
           {
            "colorbar": {
             "outlinewidth": 0,
             "ticks": ""
            },
            "type": "mesh3d"
           }
          ],
          "parcoords": [
           {
            "line": {
             "colorbar": {
              "outlinewidth": 0,
              "ticks": ""
             }
            },
            "type": "parcoords"
           }
          ],
          "pie": [
           {
            "automargin": true,
            "type": "pie"
           }
          ],
          "scatter": [
           {
            "marker": {
             "colorbar": {
              "outlinewidth": 0,
              "ticks": ""
             }
            },
            "type": "scatter"
           }
          ],
          "scatter3d": [
           {
            "line": {
             "colorbar": {
              "outlinewidth": 0,
              "ticks": ""
             }
            },
            "marker": {
             "colorbar": {
              "outlinewidth": 0,
              "ticks": ""
             }
            },
            "type": "scatter3d"
           }
          ],
          "scattercarpet": [
           {
            "marker": {
             "colorbar": {
              "outlinewidth": 0,
              "ticks": ""
             }
            },
            "type": "scattercarpet"
           }
          ],
          "scattergeo": [
           {
            "marker": {
             "colorbar": {
              "outlinewidth": 0,
              "ticks": ""
             }
            },
            "type": "scattergeo"
           }
          ],
          "scattergl": [
           {
            "marker": {
             "colorbar": {
              "outlinewidth": 0,
              "ticks": ""
             }
            },
            "type": "scattergl"
           }
          ],
          "scattermapbox": [
           {
            "marker": {
             "colorbar": {
              "outlinewidth": 0,
              "ticks": ""
             }
            },
            "type": "scattermapbox"
           }
          ],
          "scatterpolar": [
           {
            "marker": {
             "colorbar": {
              "outlinewidth": 0,
              "ticks": ""
             }
            },
            "type": "scatterpolar"
           }
          ],
          "scatterpolargl": [
           {
            "marker": {
             "colorbar": {
              "outlinewidth": 0,
              "ticks": ""
             }
            },
            "type": "scatterpolargl"
           }
          ],
          "scatterternary": [
           {
            "marker": {
             "colorbar": {
              "outlinewidth": 0,
              "ticks": ""
             }
            },
            "type": "scatterternary"
           }
          ],
          "surface": [
           {
            "colorbar": {
             "outlinewidth": 0,
             "ticks": ""
            },
            "colorscale": [
             [
              0,
              "#0d0887"
             ],
             [
              0.1111111111111111,
              "#46039f"
             ],
             [
              0.2222222222222222,
              "#7201a8"
             ],
             [
              0.3333333333333333,
              "#9c179e"
             ],
             [
              0.4444444444444444,
              "#bd3786"
             ],
             [
              0.5555555555555556,
              "#d8576b"
             ],
             [
              0.6666666666666666,
              "#ed7953"
             ],
             [
              0.7777777777777778,
              "#fb9f3a"
             ],
             [
              0.8888888888888888,
              "#fdca26"
             ],
             [
              1,
              "#f0f921"
             ]
            ],
            "type": "surface"
           }
          ],
          "table": [
           {
            "cells": {
             "fill": {
              "color": "#EBF0F8"
             },
             "line": {
              "color": "white"
             }
            },
            "header": {
             "fill": {
              "color": "#C8D4E3"
             },
             "line": {
              "color": "white"
             }
            },
            "type": "table"
           }
          ]
         },
         "layout": {
          "annotationdefaults": {
           "arrowcolor": "#2a3f5f",
           "arrowhead": 0,
           "arrowwidth": 1
          },
          "coloraxis": {
           "colorbar": {
            "outlinewidth": 0,
            "ticks": ""
           }
          },
          "colorscale": {
           "diverging": [
            [
             0,
             "#8e0152"
            ],
            [
             0.1,
             "#c51b7d"
            ],
            [
             0.2,
             "#de77ae"
            ],
            [
             0.3,
             "#f1b6da"
            ],
            [
             0.4,
             "#fde0ef"
            ],
            [
             0.5,
             "#f7f7f7"
            ],
            [
             0.6,
             "#e6f5d0"
            ],
            [
             0.7,
             "#b8e186"
            ],
            [
             0.8,
             "#7fbc41"
            ],
            [
             0.9,
             "#4d9221"
            ],
            [
             1,
             "#276419"
            ]
           ],
           "sequential": [
            [
             0,
             "#0d0887"
            ],
            [
             0.1111111111111111,
             "#46039f"
            ],
            [
             0.2222222222222222,
             "#7201a8"
            ],
            [
             0.3333333333333333,
             "#9c179e"
            ],
            [
             0.4444444444444444,
             "#bd3786"
            ],
            [
             0.5555555555555556,
             "#d8576b"
            ],
            [
             0.6666666666666666,
             "#ed7953"
            ],
            [
             0.7777777777777778,
             "#fb9f3a"
            ],
            [
             0.8888888888888888,
             "#fdca26"
            ],
            [
             1,
             "#f0f921"
            ]
           ],
           "sequentialminus": [
            [
             0,
             "#0d0887"
            ],
            [
             0.1111111111111111,
             "#46039f"
            ],
            [
             0.2222222222222222,
             "#7201a8"
            ],
            [
             0.3333333333333333,
             "#9c179e"
            ],
            [
             0.4444444444444444,
             "#bd3786"
            ],
            [
             0.5555555555555556,
             "#d8576b"
            ],
            [
             0.6666666666666666,
             "#ed7953"
            ],
            [
             0.7777777777777778,
             "#fb9f3a"
            ],
            [
             0.8888888888888888,
             "#fdca26"
            ],
            [
             1,
             "#f0f921"
            ]
           ]
          },
          "colorway": [
           "#636efa",
           "#EF553B",
           "#00cc96",
           "#ab63fa",
           "#FFA15A",
           "#19d3f3",
           "#FF6692",
           "#B6E880",
           "#FF97FF",
           "#FECB52"
          ],
          "font": {
           "color": "#2a3f5f"
          },
          "geo": {
           "bgcolor": "white",
           "lakecolor": "white",
           "landcolor": "#E5ECF6",
           "showlakes": true,
           "showland": true,
           "subunitcolor": "white"
          },
          "hoverlabel": {
           "align": "left"
          },
          "hovermode": "closest",
          "mapbox": {
           "style": "light"
          },
          "paper_bgcolor": "white",
          "plot_bgcolor": "#E5ECF6",
          "polar": {
           "angularaxis": {
            "gridcolor": "white",
            "linecolor": "white",
            "ticks": ""
           },
           "bgcolor": "#E5ECF6",
           "radialaxis": {
            "gridcolor": "white",
            "linecolor": "white",
            "ticks": ""
           }
          },
          "scene": {
           "xaxis": {
            "backgroundcolor": "#E5ECF6",
            "gridcolor": "white",
            "gridwidth": 2,
            "linecolor": "white",
            "showbackground": true,
            "ticks": "",
            "zerolinecolor": "white"
           },
           "yaxis": {
            "backgroundcolor": "#E5ECF6",
            "gridcolor": "white",
            "gridwidth": 2,
            "linecolor": "white",
            "showbackground": true,
            "ticks": "",
            "zerolinecolor": "white"
           },
           "zaxis": {
            "backgroundcolor": "#E5ECF6",
            "gridcolor": "white",
            "gridwidth": 2,
            "linecolor": "white",
            "showbackground": true,
            "ticks": "",
            "zerolinecolor": "white"
           }
          },
          "shapedefaults": {
           "line": {
            "color": "#2a3f5f"
           }
          },
          "ternary": {
           "aaxis": {
            "gridcolor": "white",
            "linecolor": "white",
            "ticks": ""
           },
           "baxis": {
            "gridcolor": "white",
            "linecolor": "white",
            "ticks": ""
           },
           "bgcolor": "#E5ECF6",
           "caxis": {
            "gridcolor": "white",
            "linecolor": "white",
            "ticks": ""
           }
          },
          "title": {
           "x": 0.05
          },
          "xaxis": {
           "automargin": true,
           "gridcolor": "white",
           "linecolor": "white",
           "ticks": "",
           "title": {
            "standoff": 15
           },
           "zerolinecolor": "white",
           "zerolinewidth": 2
          },
          "yaxis": {
           "automargin": true,
           "gridcolor": "white",
           "linecolor": "white",
           "ticks": "",
           "title": {
            "standoff": 15
           },
           "zerolinecolor": "white",
           "zerolinewidth": 2
          }
         }
        },
        "title": {
         "text": "Pollutants in - Delhi "
        },
        "xaxis": {
         "anchor": "y",
         "domain": [
          0,
          1
         ],
         "title": {
          "text": "pollutant_avg"
         }
        },
        "yaxis": {
         "anchor": "x",
         "domain": [
          0,
          1
         ],
         "title": {
          "text": "station"
         }
        }
       }
      }
     },
     "metadata": {},
     "output_type": "display_data"
    },
    {
     "name": "stdout",
     "output_type": "stream",
     "text": [
      "Dash is running on http://127.0.0.1:8050/\n",
      "\n",
      "Dash is running on http://127.0.0.1:8050/\n",
      "\n",
      "Dash is running on http://127.0.0.1:8050/\n",
      "\n",
      "Dash is running on http://127.0.0.1:8050/\n",
      "\n",
      "Dash is running on http://127.0.0.1:8050/\n",
      "\n",
      "Dash is running on http://127.0.0.1:8050/\n",
      "\n",
      "Dash is running on http://127.0.0.1:8050/\n",
      "\n",
      "Dash is running on http://127.0.0.1:8050/\n",
      "\n",
      "Dash is running on http://127.0.0.1:8050/\n",
      "\n",
      "Dash is running on http://127.0.0.1:8050/\n",
      "\n",
      "Dash is running on http://127.0.0.1:8050/\n",
      "\n",
      "Dash is running on http://127.0.0.1:8050/\n",
      "\n",
      "Dash is running on http://127.0.0.1:8050/\n",
      "\n",
      "Dash is running on http://127.0.0.1:8050/\n",
      "\n",
      " * Serving Flask app \"__main__\" (lazy loading)\n",
      " * Environment: production\n",
      "\u001b[31m   WARNING: This is a development server. Do not use it in a production deployment.\u001b[0m\n",
      "\u001b[2m   Use a production WSGI server instead.\u001b[0m\n",
      " * Debug mode: off\n"
     ]
    }
   ],
   "source": [
    "# -*- coding: utf-8 -*-\n",
    "\n",
    "# Run this app with `python app.py` and\n",
    "# visit http://127.0.0.1:8050/ in your web browser.\n",
    "\n",
    "import dash\n",
    "import dash_core_components as dcc\n",
    "import dash_html_components as html\n",
    "import plotly.express as px\n",
    "import pandas as pd\n",
    "\n",
    "external_stylesheets = ['https://codepen.io/chriddyp/pen/bWLwgP.css']\n",
    "\n",
    "app = dash.Dash(__name__, external_stylesheets=external_stylesheets)\n",
    "\n",
    "# assume you have a \"long-form\" data frame\n",
    "# see https://plotly.com/python/px-arguments/ for more options\n",
    "df = df\n",
    "fig = generateScatter('state','Delhi')\n",
    "# fig.show()\n",
    "\n",
    "app.layout = html.Div(children=[\n",
    "    html.H1(children='Hello Dash'),\n",
    "\n",
    "    html.Div(children='''\n",
    "        Dash: A web application framework for Python.\n",
    "    '''),\n",
    "\n",
    "    dcc.Graph(\n",
    "        id='example-graph',\n",
    "        figure=fig\n",
    "    )\n",
    "])\n",
    "\n",
    "if __name__ == '__main__':\n",
    "    app.run_server(debug=False)"
   ]
  },
  {
   "cell_type": "markdown",
   "metadata": {},
   "source": [
    "# TIME SERIES BASED ON PAST FILES"
   ]
  },
  {
   "cell_type": "code",
   "execution_count": 72,
   "metadata": {},
   "outputs": [
    {
     "data": {
      "text/plain": [
       "['csv/Air-2020-12-03 12:36:41.921132.csv',\n",
       " 'csv/Air-2020-12-04 14:53:00.741898.csv',\n",
       " 'csv/Air-2020-12-06 15:15:47.144212.csv',\n",
       " 'csv/Air-2020-12-06 18:29:54.446376.csv',\n",
       " 'csv/Air-2020-12-03 23:08:25.842859.csv',\n",
       " 'csv/Air-2020-12-08 18:54:43.049893.csv',\n",
       " 'csv/Air-2020-12-04 00:55:51.311944.csv',\n",
       " 'csv/Air-2020-12-07 07:46:17.245344.csv',\n",
       " 'csv/Air-2020-12-08 12:58:30.166787.csv']"
      ]
     },
     "execution_count": 72,
     "metadata": {},
     "output_type": "execute_result"
    }
   ],
   "source": [
    "import pandas as pd\n",
    "import glob\n",
    "import plotly.express as px\n",
    "files = glob.glob('csv/*')\n",
    "files[:]"
   ]
  },
  {
   "cell_type": "code",
   "execution_count": 124,
   "metadata": {},
   "outputs": [
    {
     "data": {
      "application/vnd.plotly.v1+json": {
       "config": {
        "plotlyServerURL": "https://plot.ly"
       },
       "data": [
        {
         "hovertemplate": "pollutant=NH3<br>date=%{x}<br>avg_amt=%{y}<extra></extra>",
         "legendgroup": "NH3",
         "line": {
          "color": "#636efa",
          "dash": "solid"
         },
         "mode": "lines",
         "name": "NH3",
         "orientation": "v",
         "showlegend": true,
         "type": "scatter",
         "x": [
          "2020-12-03T10:00:00",
          "2020-12-03T11:00:00",
          "2020-12-04T02:00:00",
          "2020-12-04T12:00:00",
          "2020-12-06T02:00:00",
          "2020-12-06T05:00:00",
          "2020-12-07T07:00:00",
          "2020-12-08T06:00:00",
          "2020-12-08T12:00:00"
         ],
         "xaxis": "x",
         "y": [
          12.031253125,
          11.625003125,
          14.84375,
          12.156253125,
          13.59375,
          13.4375,
          13.000003125,
          14.437509375000001,
          15.21875625
         ],
         "yaxis": "y"
        },
        {
         "hovertemplate": "pollutant=OZONE<br>date=%{x}<br>avg_amt=%{y}<extra></extra>",
         "legendgroup": "OZONE",
         "line": {
          "color": "#EF553B",
          "dash": "solid"
         },
         "mode": "lines",
         "name": "OZONE",
         "orientation": "v",
         "showlegend": true,
         "type": "scatter",
         "x": [
          "2020-12-03T10:00:00",
          "2020-12-03T11:00:00",
          "2020-12-04T02:00:00",
          "2020-12-04T12:00:00",
          "2020-12-06T02:00:00",
          "2020-12-06T05:00:00",
          "2020-12-07T07:00:00",
          "2020-12-08T06:00:00",
          "2020-12-08T12:00:00"
         ],
         "xaxis": "x",
         "y": [
          50.26315789473684,
          14.513513513513514,
          87.6842105263158,
          32.973684210526315,
          76.44736842105263,
          71.55263157894737,
          9.289481578947369,
          67.29729729729729,
          29.527786111111116
         ],
         "yaxis": "y"
        },
        {
         "hovertemplate": "pollutant=CO<br>date=%{x}<br>avg_amt=%{y}<extra></extra>",
         "legendgroup": "CO",
         "line": {
          "color": "#00cc96",
          "dash": "solid"
         },
         "mode": "lines",
         "name": "CO",
         "orientation": "v",
         "showlegend": true,
         "type": "scatter",
         "x": [
          "2020-12-03T10:00:00",
          "2020-12-03T11:00:00",
          "2020-12-04T02:00:00",
          "2020-12-04T12:00:00",
          "2020-12-06T02:00:00",
          "2020-12-06T05:00:00",
          "2020-12-07T07:00:00",
          "2020-12-08T06:00:00",
          "2020-12-08T12:00:00"
         ],
         "xaxis": "x",
         "y": [
          106.89473684210526,
          79.39473684210526,
          99.3157894736842,
          96.34210526315789,
          71.70270270270271,
          67.83783783783784,
          85.02702972972973,
          68.47368421052632,
          86.55263421052632
         ],
         "yaxis": "y"
        },
        {
         "hovertemplate": "pollutant=SO2<br>date=%{x}<br>avg_amt=%{y}<extra></extra>",
         "legendgroup": "SO2",
         "line": {
          "color": "#ab63fa",
          "dash": "solid"
         },
         "mode": "lines",
         "name": "SO2",
         "orientation": "v",
         "showlegend": true,
         "type": "scatter",
         "x": [
          "2020-12-03T10:00:00",
          "2020-12-03T11:00:00",
          "2020-12-04T02:00:00",
          "2020-12-04T12:00:00",
          "2020-12-06T02:00:00",
          "2020-12-06T05:00:00",
          "2020-12-07T07:00:00",
          "2020-12-08T06:00:00",
          "2020-12-08T12:00:00"
         ],
         "xaxis": "x",
         "y": [
          16.258067741935484,
          16.09375625,
          19.64516129032258,
          16.41935806451613,
          16.718753125,
          16.656253125,
          14.290329032258065,
          15.3125125,
          14.3750125
         ],
         "yaxis": "y"
        },
        {
         "hovertemplate": "pollutant=NO2<br>date=%{x}<br>avg_amt=%{y}<extra></extra>",
         "legendgroup": "NO2",
         "line": {
          "color": "#FFA15A",
          "dash": "solid"
         },
         "mode": "lines",
         "name": "NO2",
         "orientation": "v",
         "showlegend": true,
         "type": "scatter",
         "x": [
          "2020-12-03T10:00:00",
          "2020-12-03T11:00:00",
          "2020-12-04T02:00:00",
          "2020-12-04T12:00:00",
          "2020-12-06T02:00:00",
          "2020-12-06T05:00:00",
          "2020-12-07T07:00:00",
          "2020-12-08T06:00:00",
          "2020-12-08T12:00:00"
         ],
         "xaxis": "x",
         "y": [
          77.0000054054054,
          74.86487027027027,
          85.0000054054054,
          76.78378918918919,
          72.94594594594595,
          72.56756756756756,
          67.75675945945946,
          67.70271351351352,
          69.40541351351351
         ],
         "yaxis": "y"
        },
        {
         "hovertemplate": "pollutant=PM10<br>date=%{x}<br>avg_amt=%{y}<extra></extra>",
         "legendgroup": "PM10",
         "line": {
          "color": "#19d3f3",
          "dash": "solid"
         },
         "mode": "lines",
         "name": "PM10",
         "orientation": "v",
         "showlegend": true,
         "type": "scatter",
         "x": [
          "2020-12-03T10:00:00",
          "2020-12-03T11:00:00",
          "2020-12-04T02:00:00",
          "2020-12-04T12:00:00",
          "2020-12-06T02:00:00",
          "2020-12-06T05:00:00",
          "2020-12-07T07:00:00",
          "2020-12-08T06:00:00",
          "2020-12-08T12:00:00"
         ],
         "xaxis": "x",
         "y": [
          263.1315815789474,
          258.42105526315794,
          319.39473684210526,
          261.39473947368424,
          322.92105263157896,
          316.7368421052632,
          322.5526342105263,
          292.9736894736842,
          309.42105789473686
         ],
         "yaxis": "y"
        },
        {
         "hovertemplate": "pollutant=PM2.5<br>date=%{x}<br>avg_amt=%{y}<extra></extra>",
         "legendgroup": "PM2.5",
         "line": {
          "color": "#FF6692",
          "dash": "solid"
         },
         "mode": "lines",
         "name": "PM2.5",
         "orientation": "v",
         "showlegend": true,
         "type": "scatter",
         "x": [
          "2020-12-03T10:00:00",
          "2020-12-03T11:00:00",
          "2020-12-04T02:00:00",
          "2020-12-04T12:00:00",
          "2020-12-06T02:00:00",
          "2020-12-06T05:00:00",
          "2020-12-07T07:00:00",
          "2020-12-08T06:00:00",
          "2020-12-08T12:00:00"
         ],
         "xaxis": "x",
         "y": [
          327.7894763157895,
          326.0526342105263,
          367.1842105263158,
          326.57895,
          383.5,
          380.0263157894737,
          377.07895,
          348.6842157894737,
          364.42105789473686
         ],
         "yaxis": "y"
        }
       ],
       "layout": {
        "font": {
         "family": "Courier New, monospace",
         "size": 12
        },
        "legend": {
         "title": {
          "text": "Pollutants"
         },
         "tracegroupgap": 0
        },
        "margin": {
         "t": 60
        },
        "template": {
         "data": {
          "bar": [
           {
            "error_x": {
             "color": "#2a3f5f"
            },
            "error_y": {
             "color": "#2a3f5f"
            },
            "marker": {
             "line": {
              "color": "#E5ECF6",
              "width": 0.5
             }
            },
            "type": "bar"
           }
          ],
          "barpolar": [
           {
            "marker": {
             "line": {
              "color": "#E5ECF6",
              "width": 0.5
             }
            },
            "type": "barpolar"
           }
          ],
          "carpet": [
           {
            "aaxis": {
             "endlinecolor": "#2a3f5f",
             "gridcolor": "white",
             "linecolor": "white",
             "minorgridcolor": "white",
             "startlinecolor": "#2a3f5f"
            },
            "baxis": {
             "endlinecolor": "#2a3f5f",
             "gridcolor": "white",
             "linecolor": "white",
             "minorgridcolor": "white",
             "startlinecolor": "#2a3f5f"
            },
            "type": "carpet"
           }
          ],
          "choropleth": [
           {
            "colorbar": {
             "outlinewidth": 0,
             "ticks": ""
            },
            "type": "choropleth"
           }
          ],
          "contour": [
           {
            "colorbar": {
             "outlinewidth": 0,
             "ticks": ""
            },
            "colorscale": [
             [
              0,
              "#0d0887"
             ],
             [
              0.1111111111111111,
              "#46039f"
             ],
             [
              0.2222222222222222,
              "#7201a8"
             ],
             [
              0.3333333333333333,
              "#9c179e"
             ],
             [
              0.4444444444444444,
              "#bd3786"
             ],
             [
              0.5555555555555556,
              "#d8576b"
             ],
             [
              0.6666666666666666,
              "#ed7953"
             ],
             [
              0.7777777777777778,
              "#fb9f3a"
             ],
             [
              0.8888888888888888,
              "#fdca26"
             ],
             [
              1,
              "#f0f921"
             ]
            ],
            "type": "contour"
           }
          ],
          "contourcarpet": [
           {
            "colorbar": {
             "outlinewidth": 0,
             "ticks": ""
            },
            "type": "contourcarpet"
           }
          ],
          "heatmap": [
           {
            "colorbar": {
             "outlinewidth": 0,
             "ticks": ""
            },
            "colorscale": [
             [
              0,
              "#0d0887"
             ],
             [
              0.1111111111111111,
              "#46039f"
             ],
             [
              0.2222222222222222,
              "#7201a8"
             ],
             [
              0.3333333333333333,
              "#9c179e"
             ],
             [
              0.4444444444444444,
              "#bd3786"
             ],
             [
              0.5555555555555556,
              "#d8576b"
             ],
             [
              0.6666666666666666,
              "#ed7953"
             ],
             [
              0.7777777777777778,
              "#fb9f3a"
             ],
             [
              0.8888888888888888,
              "#fdca26"
             ],
             [
              1,
              "#f0f921"
             ]
            ],
            "type": "heatmap"
           }
          ],
          "heatmapgl": [
           {
            "colorbar": {
             "outlinewidth": 0,
             "ticks": ""
            },
            "colorscale": [
             [
              0,
              "#0d0887"
             ],
             [
              0.1111111111111111,
              "#46039f"
             ],
             [
              0.2222222222222222,
              "#7201a8"
             ],
             [
              0.3333333333333333,
              "#9c179e"
             ],
             [
              0.4444444444444444,
              "#bd3786"
             ],
             [
              0.5555555555555556,
              "#d8576b"
             ],
             [
              0.6666666666666666,
              "#ed7953"
             ],
             [
              0.7777777777777778,
              "#fb9f3a"
             ],
             [
              0.8888888888888888,
              "#fdca26"
             ],
             [
              1,
              "#f0f921"
             ]
            ],
            "type": "heatmapgl"
           }
          ],
          "histogram": [
           {
            "marker": {
             "colorbar": {
              "outlinewidth": 0,
              "ticks": ""
             }
            },
            "type": "histogram"
           }
          ],
          "histogram2d": [
           {
            "colorbar": {
             "outlinewidth": 0,
             "ticks": ""
            },
            "colorscale": [
             [
              0,
              "#0d0887"
             ],
             [
              0.1111111111111111,
              "#46039f"
             ],
             [
              0.2222222222222222,
              "#7201a8"
             ],
             [
              0.3333333333333333,
              "#9c179e"
             ],
             [
              0.4444444444444444,
              "#bd3786"
             ],
             [
              0.5555555555555556,
              "#d8576b"
             ],
             [
              0.6666666666666666,
              "#ed7953"
             ],
             [
              0.7777777777777778,
              "#fb9f3a"
             ],
             [
              0.8888888888888888,
              "#fdca26"
             ],
             [
              1,
              "#f0f921"
             ]
            ],
            "type": "histogram2d"
           }
          ],
          "histogram2dcontour": [
           {
            "colorbar": {
             "outlinewidth": 0,
             "ticks": ""
            },
            "colorscale": [
             [
              0,
              "#0d0887"
             ],
             [
              0.1111111111111111,
              "#46039f"
             ],
             [
              0.2222222222222222,
              "#7201a8"
             ],
             [
              0.3333333333333333,
              "#9c179e"
             ],
             [
              0.4444444444444444,
              "#bd3786"
             ],
             [
              0.5555555555555556,
              "#d8576b"
             ],
             [
              0.6666666666666666,
              "#ed7953"
             ],
             [
              0.7777777777777778,
              "#fb9f3a"
             ],
             [
              0.8888888888888888,
              "#fdca26"
             ],
             [
              1,
              "#f0f921"
             ]
            ],
            "type": "histogram2dcontour"
           }
          ],
          "mesh3d": [
           {
            "colorbar": {
             "outlinewidth": 0,
             "ticks": ""
            },
            "type": "mesh3d"
           }
          ],
          "parcoords": [
           {
            "line": {
             "colorbar": {
              "outlinewidth": 0,
              "ticks": ""
             }
            },
            "type": "parcoords"
           }
          ],
          "pie": [
           {
            "automargin": true,
            "type": "pie"
           }
          ],
          "scatter": [
           {
            "marker": {
             "colorbar": {
              "outlinewidth": 0,
              "ticks": ""
             }
            },
            "type": "scatter"
           }
          ],
          "scatter3d": [
           {
            "line": {
             "colorbar": {
              "outlinewidth": 0,
              "ticks": ""
             }
            },
            "marker": {
             "colorbar": {
              "outlinewidth": 0,
              "ticks": ""
             }
            },
            "type": "scatter3d"
           }
          ],
          "scattercarpet": [
           {
            "marker": {
             "colorbar": {
              "outlinewidth": 0,
              "ticks": ""
             }
            },
            "type": "scattercarpet"
           }
          ],
          "scattergeo": [
           {
            "marker": {
             "colorbar": {
              "outlinewidth": 0,
              "ticks": ""
             }
            },
            "type": "scattergeo"
           }
          ],
          "scattergl": [
           {
            "marker": {
             "colorbar": {
              "outlinewidth": 0,
              "ticks": ""
             }
            },
            "type": "scattergl"
           }
          ],
          "scattermapbox": [
           {
            "marker": {
             "colorbar": {
              "outlinewidth": 0,
              "ticks": ""
             }
            },
            "type": "scattermapbox"
           }
          ],
          "scatterpolar": [
           {
            "marker": {
             "colorbar": {
              "outlinewidth": 0,
              "ticks": ""
             }
            },
            "type": "scatterpolar"
           }
          ],
          "scatterpolargl": [
           {
            "marker": {
             "colorbar": {
              "outlinewidth": 0,
              "ticks": ""
             }
            },
            "type": "scatterpolargl"
           }
          ],
          "scatterternary": [
           {
            "marker": {
             "colorbar": {
              "outlinewidth": 0,
              "ticks": ""
             }
            },
            "type": "scatterternary"
           }
          ],
          "surface": [
           {
            "colorbar": {
             "outlinewidth": 0,
             "ticks": ""
            },
            "colorscale": [
             [
              0,
              "#0d0887"
             ],
             [
              0.1111111111111111,
              "#46039f"
             ],
             [
              0.2222222222222222,
              "#7201a8"
             ],
             [
              0.3333333333333333,
              "#9c179e"
             ],
             [
              0.4444444444444444,
              "#bd3786"
             ],
             [
              0.5555555555555556,
              "#d8576b"
             ],
             [
              0.6666666666666666,
              "#ed7953"
             ],
             [
              0.7777777777777778,
              "#fb9f3a"
             ],
             [
              0.8888888888888888,
              "#fdca26"
             ],
             [
              1,
              "#f0f921"
             ]
            ],
            "type": "surface"
           }
          ],
          "table": [
           {
            "cells": {
             "fill": {
              "color": "#EBF0F8"
             },
             "line": {
              "color": "white"
             }
            },
            "header": {
             "fill": {
              "color": "#C8D4E3"
             },
             "line": {
              "color": "white"
             }
            },
            "type": "table"
           }
          ]
         },
         "layout": {
          "annotationdefaults": {
           "arrowcolor": "#2a3f5f",
           "arrowhead": 0,
           "arrowwidth": 1
          },
          "autotypenumbers": "strict",
          "coloraxis": {
           "colorbar": {
            "outlinewidth": 0,
            "ticks": ""
           }
          },
          "colorscale": {
           "diverging": [
            [
             0,
             "#8e0152"
            ],
            [
             0.1,
             "#c51b7d"
            ],
            [
             0.2,
             "#de77ae"
            ],
            [
             0.3,
             "#f1b6da"
            ],
            [
             0.4,
             "#fde0ef"
            ],
            [
             0.5,
             "#f7f7f7"
            ],
            [
             0.6,
             "#e6f5d0"
            ],
            [
             0.7,
             "#b8e186"
            ],
            [
             0.8,
             "#7fbc41"
            ],
            [
             0.9,
             "#4d9221"
            ],
            [
             1,
             "#276419"
            ]
           ],
           "sequential": [
            [
             0,
             "#0d0887"
            ],
            [
             0.1111111111111111,
             "#46039f"
            ],
            [
             0.2222222222222222,
             "#7201a8"
            ],
            [
             0.3333333333333333,
             "#9c179e"
            ],
            [
             0.4444444444444444,
             "#bd3786"
            ],
            [
             0.5555555555555556,
             "#d8576b"
            ],
            [
             0.6666666666666666,
             "#ed7953"
            ],
            [
             0.7777777777777778,
             "#fb9f3a"
            ],
            [
             0.8888888888888888,
             "#fdca26"
            ],
            [
             1,
             "#f0f921"
            ]
           ],
           "sequentialminus": [
            [
             0,
             "#0d0887"
            ],
            [
             0.1111111111111111,
             "#46039f"
            ],
            [
             0.2222222222222222,
             "#7201a8"
            ],
            [
             0.3333333333333333,
             "#9c179e"
            ],
            [
             0.4444444444444444,
             "#bd3786"
            ],
            [
             0.5555555555555556,
             "#d8576b"
            ],
            [
             0.6666666666666666,
             "#ed7953"
            ],
            [
             0.7777777777777778,
             "#fb9f3a"
            ],
            [
             0.8888888888888888,
             "#fdca26"
            ],
            [
             1,
             "#f0f921"
            ]
           ]
          },
          "colorway": [
           "#636efa",
           "#EF553B",
           "#00cc96",
           "#ab63fa",
           "#FFA15A",
           "#19d3f3",
           "#FF6692",
           "#B6E880",
           "#FF97FF",
           "#FECB52"
          ],
          "font": {
           "color": "#2a3f5f"
          },
          "geo": {
           "bgcolor": "white",
           "lakecolor": "white",
           "landcolor": "#E5ECF6",
           "showlakes": true,
           "showland": true,
           "subunitcolor": "white"
          },
          "hoverlabel": {
           "align": "left"
          },
          "hovermode": "closest",
          "mapbox": {
           "style": "light"
          },
          "paper_bgcolor": "white",
          "plot_bgcolor": "#E5ECF6",
          "polar": {
           "angularaxis": {
            "gridcolor": "white",
            "linecolor": "white",
            "ticks": ""
           },
           "bgcolor": "#E5ECF6",
           "radialaxis": {
            "gridcolor": "white",
            "linecolor": "white",
            "ticks": ""
           }
          },
          "scene": {
           "xaxis": {
            "backgroundcolor": "#E5ECF6",
            "gridcolor": "white",
            "gridwidth": 2,
            "linecolor": "white",
            "showbackground": true,
            "ticks": "",
            "zerolinecolor": "white"
           },
           "yaxis": {
            "backgroundcolor": "#E5ECF6",
            "gridcolor": "white",
            "gridwidth": 2,
            "linecolor": "white",
            "showbackground": true,
            "ticks": "",
            "zerolinecolor": "white"
           },
           "zaxis": {
            "backgroundcolor": "#E5ECF6",
            "gridcolor": "white",
            "gridwidth": 2,
            "linecolor": "white",
            "showbackground": true,
            "ticks": "",
            "zerolinecolor": "white"
           }
          },
          "shapedefaults": {
           "line": {
            "color": "#2a3f5f"
           }
          },
          "ternary": {
           "aaxis": {
            "gridcolor": "white",
            "linecolor": "white",
            "ticks": ""
           },
           "baxis": {
            "gridcolor": "white",
            "linecolor": "white",
            "ticks": ""
           },
           "bgcolor": "#E5ECF6",
           "caxis": {
            "gridcolor": "white",
            "linecolor": "white",
            "ticks": ""
           }
          },
          "title": {
           "x": 0.05
          },
          "xaxis": {
           "automargin": true,
           "gridcolor": "white",
           "linecolor": "white",
           "ticks": "",
           "title": {
            "standoff": 15
           },
           "zerolinecolor": "white",
           "zerolinewidth": 2
          },
          "yaxis": {
           "automargin": true,
           "gridcolor": "white",
           "linecolor": "white",
           "ticks": "",
           "title": {
            "standoff": 15
           },
           "zerolinecolor": "white",
           "zerolinewidth": 2
          }
         }
        },
        "title": {
         "text": "Pollutants in - Delhi "
        },
        "xaxis": {
         "anchor": "y",
         "domain": [
          0,
          1
         ],
         "title": {
          "text": "date"
         }
        },
        "yaxis": {
         "anchor": "x",
         "domain": [
          0,
          1
         ],
         "title": {
          "text": "avg_amt"
         }
        }
       }
      }
     },
     "metadata": {},
     "output_type": "display_data"
    }
   ],
   "source": [
    "\n",
    "def pollutantRegionalOverTime(filterr,choice):\n",
    "    n=0\n",
    "    dxff = pandas.DataFrame(columns = [\"date\", \"pollutant\",\"avg_amt\"])\n",
    "    for f in files:\n",
    "        dxf=pandas.read_csv(f)\n",
    "        dxf=dxf.drop_duplicates()\n",
    "        dxf=dxf.drop(dxf.index[[10]])\n",
    "        dxf=dxf.drop('pollutant_unit',axis=1)\n",
    "        dxf= dxf.fillna(0.0001)\n",
    "\n",
    "        dxf['pollutant_min']=dxf['pollutant_min'].astype('float')\n",
    "        dxf['pollutant_max']=dxf['pollutant_max'].astype('float')\n",
    "        dxf['pollutant_avg']=dxf['pollutant_avg'].astype('float')\n",
    "        dxf=dxf[dxf[filterr]==choice]\n",
    "\n",
    "        labels = dxf['pollutant_id'].unique()\n",
    "        date=dxf['last_update'].mode()[0]\n",
    "        for i in labels:\n",
    "            cc=dxf[dxf['pollutant_id']==i]\n",
    "            mean_val = cc['pollutant_avg'].mean()\n",
    "\n",
    "            dxff.loc[n] = [date,i,mean_val]\n",
    "            n+=1\n",
    "    dxff['date'] =pd.to_datetime(dxff.date,format='%d-%m-%Y %H:%M:%S')\n",
    "    dxff=dxff.sort_values(by='date') \n",
    "    fig = px.line(dxff, x='date', y='avg_amt',\n",
    "            color=\"pollutant\",\n",
    "            line_group=\"pollutant\")\n",
    "    fig.update_layout(\n",
    "    title=\"Pollutants in - {} \".format(choice),\n",
    "    legend_title=\"Pollutants\",\n",
    "    font=dict(\n",
    "        family=\"Courier New, monospace\",\n",
    "        size=12,\n",
    "        )\n",
    "        )\n",
    "    filename=\"outs/(TIME)Pollutants in - {} \".format(choice)\n",
    "    # fig.write_html(\"{}.html\".format(filename))\n",
    "    fig.show()\n",
    "    return(dxff)\n",
    "\n",
    "\n",
    "    \n",
    "    \n",
    "\n",
    "a=pollutantRegionalOverTime('city','Delhi')\n"
   ]
  },
  {
   "cell_type": "markdown",
   "metadata": {},
   "source": [
    "# FORECASTING !!!!"
   ]
  },
  {
   "cell_type": "code",
   "execution_count": 74,
   "metadata": {},
   "outputs": [],
   "source": [
    "a=a[a['pollutant']=='OZONE']"
   ]
  },
  {
   "cell_type": "code",
   "execution_count": 75,
   "metadata": {},
   "outputs": [
    {
     "data": {
      "text/html": [
       "<div>\n",
       "<style scoped>\n",
       "    .dataframe tbody tr th:only-of-type {\n",
       "        vertical-align: middle;\n",
       "    }\n",
       "\n",
       "    .dataframe tbody tr th {\n",
       "        vertical-align: top;\n",
       "    }\n",
       "\n",
       "    .dataframe thead th {\n",
       "        text-align: right;\n",
       "    }\n",
       "</style>\n",
       "<table border=\"1\" class=\"dataframe\">\n",
       "  <thead>\n",
       "    <tr style=\"text-align: right;\">\n",
       "      <th></th>\n",
       "      <th>date</th>\n",
       "      <th>pollutant</th>\n",
       "      <th>avg_amt</th>\n",
       "    </tr>\n",
       "  </thead>\n",
       "  <tbody>\n",
       "    <tr>\n",
       "      <th>34</th>\n",
       "      <td>2020-12-03 10:00:00</td>\n",
       "      <td>OZONE</td>\n",
       "      <td>50.263158</td>\n",
       "    </tr>\n",
       "    <tr>\n",
       "      <th>6</th>\n",
       "      <td>2020-12-03 11:00:00</td>\n",
       "      <td>OZONE</td>\n",
       "      <td>14.513514</td>\n",
       "    </tr>\n",
       "    <tr>\n",
       "      <th>13</th>\n",
       "      <td>2020-12-04 02:00:00</td>\n",
       "      <td>OZONE</td>\n",
       "      <td>87.684211</td>\n",
       "    </tr>\n",
       "    <tr>\n",
       "      <th>48</th>\n",
       "      <td>2020-12-04 12:00:00</td>\n",
       "      <td>OZONE</td>\n",
       "      <td>32.973684</td>\n",
       "    </tr>\n",
       "    <tr>\n",
       "      <th>20</th>\n",
       "      <td>2020-12-06 02:00:00</td>\n",
       "      <td>OZONE</td>\n",
       "      <td>76.447368</td>\n",
       "    </tr>\n",
       "    <tr>\n",
       "      <th>27</th>\n",
       "      <td>2020-12-06 05:00:00</td>\n",
       "      <td>OZONE</td>\n",
       "      <td>71.552632</td>\n",
       "    </tr>\n",
       "    <tr>\n",
       "      <th>55</th>\n",
       "      <td>2020-12-07 07:00:00</td>\n",
       "      <td>OZONE</td>\n",
       "      <td>9.289482</td>\n",
       "    </tr>\n",
       "    <tr>\n",
       "      <th>41</th>\n",
       "      <td>2020-12-08 06:00:00</td>\n",
       "      <td>OZONE</td>\n",
       "      <td>67.297297</td>\n",
       "    </tr>\n",
       "    <tr>\n",
       "      <th>62</th>\n",
       "      <td>2020-12-08 12:00:00</td>\n",
       "      <td>OZONE</td>\n",
       "      <td>29.527786</td>\n",
       "    </tr>\n",
       "  </tbody>\n",
       "</table>\n",
       "</div>"
      ],
      "text/plain": [
       "                  date pollutant    avg_amt\n",
       "34 2020-12-03 10:00:00     OZONE  50.263158\n",
       "6  2020-12-03 11:00:00     OZONE  14.513514\n",
       "13 2020-12-04 02:00:00     OZONE  87.684211\n",
       "48 2020-12-04 12:00:00     OZONE  32.973684\n",
       "20 2020-12-06 02:00:00     OZONE  76.447368\n",
       "27 2020-12-06 05:00:00     OZONE  71.552632\n",
       "55 2020-12-07 07:00:00     OZONE   9.289482\n",
       "41 2020-12-08 06:00:00     OZONE  67.297297\n",
       "62 2020-12-08 12:00:00     OZONE  29.527786"
      ]
     },
     "execution_count": 75,
     "metadata": {},
     "output_type": "execute_result"
    }
   ],
   "source": [
    "a #original data"
   ]
  },
  {
   "cell_type": "markdown",
   "metadata": {},
   "source": [
    "import numpy as np"
   ]
  },
  {
   "cell_type": "code",
   "execution_count": 76,
   "metadata": {},
   "outputs": [
    {
     "data": {
      "text/plain": [
       "numpy.ndarray"
      ]
     },
     "execution_count": 76,
     "metadata": {},
     "output_type": "execute_result"
    }
   ],
   "source": [
    "series = np.array(a['avg_amt'])\n",
    "type(series)"
   ]
  },
  {
   "cell_type": "markdown",
   "metadata": {},
   "source": [
    "## VISUALIZE OUR ORIGINAL DATASET"
   ]
  },
  {
   "cell_type": "code",
   "execution_count": 77,
   "metadata": {},
   "outputs": [
    {
     "data": {
      "image/png": "[encoded data removed]",
      "image/svg+xml": [
       "<?xml version=\"1.0\" encoding=\"utf-8\" standalone=\"no\"?>\n",
       "<!DOCTYPE svg PUBLIC \"-//W3C//DTD SVG 1.1//EN\"\n",
       "  \"http://www.w3.org/Graphics/SVG/1.1/DTD/svg11.dtd\">\n",
       "<!-- Created with matplotlib (https://matplotlib.org/) -->\n",
       "<svg height=\"248.518125pt\" version=\"1.1\" viewBox=\"0 0 368.925 248.518125\" width=\"368.925pt\" xmlns=\"http://www.w3.org/2000/svg\" xmlns:xlink=\"http://www.w3.org/1999/xlink\">\n",
       " <metadata>\n",
       "  <rdf:RDF xmlns:cc=\"http://creativecommons.org/ns#\" xmlns:dc=\"http://purl.org/dc/elements/1.1/\" xmlns:rdf=\"http://www.w3.org/1999/02/22-rdf-syntax-ns#\">\n",
       "   <cc:Work>\n",
       "    <dc:type rdf:resource=\"http://purl.org/dc/dcmitype/StillImage\"/>\n",
       "    <dc:date>2020-12-08T18:56:47.807462</dc:date>\n",
       "    <dc:format>image/svg+xml</dc:format>\n",
       "    <dc:creator>\n",
       "     <cc:Agent>\n",
       "      <dc:title>Matplotlib v3.3.3, https://matplotlib.org/</dc:title>\n",
       "     </cc:Agent>\n",
       "    </dc:creator>\n",
       "   </cc:Work>\n",
       "  </rdf:RDF>\n",
       " </metadata>\n",
       " <defs>\n",
       "  <style type=\"text/css\">*{stroke-linecap:butt;stroke-linejoin:round;}</style>\n",
       " </defs>\n",
       " <g id=\"figure_1\">\n",
       "  <g id=\"patch_1\">\n",
       "   <path d=\"M -0 248.518125 \n",
       "L 368.925 248.518125 \n",
       "L 368.925 0 \n",
       "L -0 0 \n",
       "z\n",
       "\" style=\"fill:none;\"/>\n",
       "  </g>\n",
       "  <g id=\"axes_1\">\n",
       "   <g id=\"patch_2\">\n",
       "    <path d=\"M 26.925 224.64 \n",
       "L 361.725 224.64 \n",
       "L 361.725 7.2 \n",
       "L 26.925 7.2 \n",
       "z\n",
       "\" style=\"fill:#ffffff;\"/>\n",
       "   </g>\n",
       "   <g id=\"matplotlib.axis_1\">\n",
       "    <g id=\"xtick_1\">\n",
       "     <g id=\"line2d_1\">\n",
       "      <defs>\n",
       "       <path d=\"M 0 0 \n",
       "L 0 3.5 \n",
       "\" id=\"m1d623863da\" style=\"stroke:#000000;stroke-width:0.8;\"/>\n",
       "      </defs>\n",
       "      <g>\n",
       "       <use style=\"stroke:#000000;stroke-width:0.8;\" x=\"42.143182\" xlink:href=\"#m1d623863da\" y=\"224.64\"/>\n",
       "      </g>\n",
       "     </g>\n",
       "     <g id=\"text_1\">\n",
       "      <!-- 0 -->\n",
       "      <g transform=\"translate(38.961932 239.238437)scale(0.1 -0.1)\">\n",
       "       <defs>\n",
       "        <path d=\"M 31.78125 66.40625 \n",
       "Q 24.171875 66.40625 20.328125 58.90625 \n",
       "Q 16.5 51.421875 16.5 36.375 \n",
       "Q 16.5 21.390625 20.328125 13.890625 \n",
       "Q 24.171875 6.390625 31.78125 6.390625 \n",
       "Q 39.453125 6.390625 43.28125 13.890625 \n",
       "Q 47.125 21.390625 47.125 36.375 \n",
       "Q 47.125 51.421875 43.28125 58.90625 \n",
       "Q 39.453125 66.40625 31.78125 66.40625 \n",
       "z\n",
       "M 31.78125 74.21875 \n",
       "Q 44.046875 74.21875 50.515625 64.515625 \n",
       "Q 56.984375 54.828125 56.984375 36.375 \n",
       "Q 56.984375 17.96875 50.515625 8.265625 \n",
       "Q 44.046875 -1.421875 31.78125 -1.421875 \n",
       "Q 19.53125 -1.421875 13.0625 8.265625 \n",
       "Q 6.59375 17.96875 6.59375 36.375 \n",
       "Q 6.59375 54.828125 13.0625 64.515625 \n",
       "Q 19.53125 74.21875 31.78125 74.21875 \n",
       "z\n",
       "\" id=\"DejaVuSans-48\"/>\n",
       "       </defs>\n",
       "       <use xlink:href=\"#DejaVuSans-48\"/>\n",
       "      </g>\n",
       "     </g>\n",
       "    </g>\n",
       "    <g id=\"xtick_2\">\n",
       "     <g id=\"line2d_2\">\n",
       "      <g>\n",
       "       <use style=\"stroke:#000000;stroke-width:0.8;\" x=\"80.188636\" xlink:href=\"#m1d623863da\" y=\"224.64\"/>\n",
       "      </g>\n",
       "     </g>\n",
       "     <g id=\"text_2\">\n",
       "      <!-- 1 -->\n",
       "      <g transform=\"translate(77.007386 239.238437)scale(0.1 -0.1)\">\n",
       "       <defs>\n",
       "        <path d=\"M 12.40625 8.296875 \n",
       "L 28.515625 8.296875 \n",
       "L 28.515625 63.921875 \n",
       "L 10.984375 60.40625 \n",
       "L 10.984375 69.390625 \n",
       "L 28.421875 72.90625 \n",
       "L 38.28125 72.90625 \n",
       "L 38.28125 8.296875 \n",
       "L 54.390625 8.296875 \n",
       "L 54.390625 0 \n",
       "L 12.40625 0 \n",
       "z\n",
       "\" id=\"DejaVuSans-49\"/>\n",
       "       </defs>\n",
       "       <use xlink:href=\"#DejaVuSans-49\"/>\n",
       "      </g>\n",
       "     </g>\n",
       "    </g>\n",
       "    <g id=\"xtick_3\">\n",
       "     <g id=\"line2d_3\">\n",
       "      <g>\n",
       "       <use style=\"stroke:#000000;stroke-width:0.8;\" x=\"118.234091\" xlink:href=\"#m1d623863da\" y=\"224.64\"/>\n",
       "      </g>\n",
       "     </g>\n",
       "     <g id=\"text_3\">\n",
       "      <!-- 2 -->\n",
       "      <g transform=\"translate(115.052841 239.238437)scale(0.1 -0.1)\">\n",
       "       <defs>\n",
       "        <path d=\"M 19.1875 8.296875 \n",
       "L 53.609375 8.296875 \n",
       "L 53.609375 0 \n",
       "L 7.328125 0 \n",
       "L 7.328125 8.296875 \n",
       "Q 12.9375 14.109375 22.625 23.890625 \n",
       "Q 32.328125 33.6875 34.8125 36.53125 \n",
       "Q 39.546875 41.84375 41.421875 45.53125 \n",
       "Q 43.3125 49.21875 43.3125 52.78125 \n",
       "Q 43.3125 58.59375 39.234375 62.25 \n",
       "Q 35.15625 65.921875 28.609375 65.921875 \n",
       "Q 23.96875 65.921875 18.8125 64.3125 \n",
       "Q 13.671875 62.703125 7.8125 59.421875 \n",
       "L 7.8125 69.390625 \n",
       "Q 13.765625 71.78125 18.9375 73 \n",
       "Q 24.125 74.21875 28.421875 74.21875 \n",
       "Q 39.75 74.21875 46.484375 68.546875 \n",
       "Q 53.21875 62.890625 53.21875 53.421875 \n",
       "Q 53.21875 48.921875 51.53125 44.890625 \n",
       "Q 49.859375 40.875 45.40625 35.40625 \n",
       "Q 44.1875 33.984375 37.640625 27.21875 \n",
       "Q 31.109375 20.453125 19.1875 8.296875 \n",
       "z\n",
       "\" id=\"DejaVuSans-50\"/>\n",
       "       </defs>\n",
       "       <use xlink:href=\"#DejaVuSans-50\"/>\n",
       "      </g>\n",
       "     </g>\n",
       "    </g>\n",
       "    <g id=\"xtick_4\">\n",
       "     <g id=\"line2d_4\">\n",
       "      <g>\n",
       "       <use style=\"stroke:#000000;stroke-width:0.8;\" x=\"156.279545\" xlink:href=\"#m1d623863da\" y=\"224.64\"/>\n",
       "      </g>\n",
       "     </g>\n",
       "     <g id=\"text_4\">\n",
       "      <!-- 3 -->\n",
       "      <g transform=\"translate(153.098295 239.238437)scale(0.1 -0.1)\">\n",
       "       <defs>\n",
       "        <path d=\"M 40.578125 39.3125 \n",
       "Q 47.65625 37.796875 51.625 33 \n",
       "Q 55.609375 28.21875 55.609375 21.1875 \n",
       "Q 55.609375 10.40625 48.1875 4.484375 \n",
       "Q 40.765625 -1.421875 27.09375 -1.421875 \n",
       "Q 22.515625 -1.421875 17.65625 -0.515625 \n",
       "Q 12.796875 0.390625 7.625 2.203125 \n",
       "L 7.625 11.71875 \n",
       "Q 11.71875 9.328125 16.59375 8.109375 \n",
       "Q 21.484375 6.890625 26.8125 6.890625 \n",
       "Q 36.078125 6.890625 40.9375 10.546875 \n",
       "Q 45.796875 14.203125 45.796875 21.1875 \n",
       "Q 45.796875 27.640625 41.28125 31.265625 \n",
       "Q 36.765625 34.90625 28.71875 34.90625 \n",
       "L 20.21875 34.90625 \n",
       "L 20.21875 43.015625 \n",
       "L 29.109375 43.015625 \n",
       "Q 36.375 43.015625 40.234375 45.921875 \n",
       "Q 44.09375 48.828125 44.09375 54.296875 \n",
       "Q 44.09375 59.90625 40.109375 62.90625 \n",
       "Q 36.140625 65.921875 28.71875 65.921875 \n",
       "Q 24.65625 65.921875 20.015625 65.03125 \n",
       "Q 15.375 64.15625 9.8125 62.3125 \n",
       "L 9.8125 71.09375 \n",
       "Q 15.4375 72.65625 20.34375 73.4375 \n",
       "Q 25.25 74.21875 29.59375 74.21875 \n",
       "Q 40.828125 74.21875 47.359375 69.109375 \n",
       "Q 53.90625 64.015625 53.90625 55.328125 \n",
       "Q 53.90625 49.265625 50.4375 45.09375 \n",
       "Q 46.96875 40.921875 40.578125 39.3125 \n",
       "z\n",
       "\" id=\"DejaVuSans-51\"/>\n",
       "       </defs>\n",
       "       <use xlink:href=\"#DejaVuSans-51\"/>\n",
       "      </g>\n",
       "     </g>\n",
       "    </g>\n",
       "    <g id=\"xtick_5\">\n",
       "     <g id=\"line2d_5\">\n",
       "      <g>\n",
       "       <use style=\"stroke:#000000;stroke-width:0.8;\" x=\"194.325\" xlink:href=\"#m1d623863da\" y=\"224.64\"/>\n",
       "      </g>\n",
       "     </g>\n",
       "     <g id=\"text_5\">\n",
       "      <!-- 4 -->\n",
       "      <g transform=\"translate(191.14375 239.238437)scale(0.1 -0.1)\">\n",
       "       <defs>\n",
       "        <path d=\"M 37.796875 64.3125 \n",
       "L 12.890625 25.390625 \n",
       "L 37.796875 25.390625 \n",
       "z\n",
       "M 35.203125 72.90625 \n",
       "L 47.609375 72.90625 \n",
       "L 47.609375 25.390625 \n",
       "L 58.015625 25.390625 \n",
       "L 58.015625 17.1875 \n",
       "L 47.609375 17.1875 \n",
       "L 47.609375 0 \n",
       "L 37.796875 0 \n",
       "L 37.796875 17.1875 \n",
       "L 4.890625 17.1875 \n",
       "L 4.890625 26.703125 \n",
       "z\n",
       "\" id=\"DejaVuSans-52\"/>\n",
       "       </defs>\n",
       "       <use xlink:href=\"#DejaVuSans-52\"/>\n",
       "      </g>\n",
       "     </g>\n",
       "    </g>\n",
       "    <g id=\"xtick_6\">\n",
       "     <g id=\"line2d_6\">\n",
       "      <g>\n",
       "       <use style=\"stroke:#000000;stroke-width:0.8;\" x=\"232.370455\" xlink:href=\"#m1d623863da\" y=\"224.64\"/>\n",
       "      </g>\n",
       "     </g>\n",
       "     <g id=\"text_6\">\n",
       "      <!-- 5 -->\n",
       "      <g transform=\"translate(229.189205 239.238437)scale(0.1 -0.1)\">\n",
       "       <defs>\n",
       "        <path d=\"M 10.796875 72.90625 \n",
       "L 49.515625 72.90625 \n",
       "L 49.515625 64.59375 \n",
       "L 19.828125 64.59375 \n",
       "L 19.828125 46.734375 \n",
       "Q 21.96875 47.46875 24.109375 47.828125 \n",
       "Q 26.265625 48.1875 28.421875 48.1875 \n",
       "Q 40.625 48.1875 47.75 41.5 \n",
       "Q 54.890625 34.8125 54.890625 23.390625 \n",
       "Q 54.890625 11.625 47.5625 5.09375 \n",
       "Q 40.234375 -1.421875 26.90625 -1.421875 \n",
       "Q 22.3125 -1.421875 17.546875 -0.640625 \n",
       "Q 12.796875 0.140625 7.71875 1.703125 \n",
       "L 7.71875 11.625 \n",
       "Q 12.109375 9.234375 16.796875 8.0625 \n",
       "Q 21.484375 6.890625 26.703125 6.890625 \n",
       "Q 35.15625 6.890625 40.078125 11.328125 \n",
       "Q 45.015625 15.765625 45.015625 23.390625 \n",
       "Q 45.015625 31 40.078125 35.4375 \n",
       "Q 35.15625 39.890625 26.703125 39.890625 \n",
       "Q 22.75 39.890625 18.8125 39.015625 \n",
       "Q 14.890625 38.140625 10.796875 36.28125 \n",
       "z\n",
       "\" id=\"DejaVuSans-53\"/>\n",
       "       </defs>\n",
       "       <use xlink:href=\"#DejaVuSans-53\"/>\n",
       "      </g>\n",
       "     </g>\n",
       "    </g>\n",
       "    <g id=\"xtick_7\">\n",
       "     <g id=\"line2d_7\">\n",
       "      <g>\n",
       "       <use style=\"stroke:#000000;stroke-width:0.8;\" x=\"270.415909\" xlink:href=\"#m1d623863da\" y=\"224.64\"/>\n",
       "      </g>\n",
       "     </g>\n",
       "     <g id=\"text_7\">\n",
       "      <!-- 6 -->\n",
       "      <g transform=\"translate(267.234659 239.238437)scale(0.1 -0.1)\">\n",
       "       <defs>\n",
       "        <path d=\"M 33.015625 40.375 \n",
       "Q 26.375 40.375 22.484375 35.828125 \n",
       "Q 18.609375 31.296875 18.609375 23.390625 \n",
       "Q 18.609375 15.53125 22.484375 10.953125 \n",
       "Q 26.375 6.390625 33.015625 6.390625 \n",
       "Q 39.65625 6.390625 43.53125 10.953125 \n",
       "Q 47.40625 15.53125 47.40625 23.390625 \n",
       "Q 47.40625 31.296875 43.53125 35.828125 \n",
       "Q 39.65625 40.375 33.015625 40.375 \n",
       "z\n",
       "M 52.59375 71.296875 \n",
       "L 52.59375 62.3125 \n",
       "Q 48.875 64.0625 45.09375 64.984375 \n",
       "Q 41.3125 65.921875 37.59375 65.921875 \n",
       "Q 27.828125 65.921875 22.671875 59.328125 \n",
       "Q 17.53125 52.734375 16.796875 39.40625 \n",
       "Q 19.671875 43.65625 24.015625 45.921875 \n",
       "Q 28.375 48.1875 33.59375 48.1875 \n",
       "Q 44.578125 48.1875 50.953125 41.515625 \n",
       "Q 57.328125 34.859375 57.328125 23.390625 \n",
       "Q 57.328125 12.15625 50.6875 5.359375 \n",
       "Q 44.046875 -1.421875 33.015625 -1.421875 \n",
       "Q 20.359375 -1.421875 13.671875 8.265625 \n",
       "Q 6.984375 17.96875 6.984375 36.375 \n",
       "Q 6.984375 53.65625 15.1875 63.9375 \n",
       "Q 23.390625 74.21875 37.203125 74.21875 \n",
       "Q 40.921875 74.21875 44.703125 73.484375 \n",
       "Q 48.484375 72.75 52.59375 71.296875 \n",
       "z\n",
       "\" id=\"DejaVuSans-54\"/>\n",
       "       </defs>\n",
       "       <use xlink:href=\"#DejaVuSans-54\"/>\n",
       "      </g>\n",
       "     </g>\n",
       "    </g>\n",
       "    <g id=\"xtick_8\">\n",
       "     <g id=\"line2d_8\">\n",
       "      <g>\n",
       "       <use style=\"stroke:#000000;stroke-width:0.8;\" x=\"308.461364\" xlink:href=\"#m1d623863da\" y=\"224.64\"/>\n",
       "      </g>\n",
       "     </g>\n",
       "     <g id=\"text_8\">\n",
       "      <!-- 7 -->\n",
       "      <g transform=\"translate(305.280114 239.238437)scale(0.1 -0.1)\">\n",
       "       <defs>\n",
       "        <path d=\"M 8.203125 72.90625 \n",
       "L 55.078125 72.90625 \n",
       "L 55.078125 68.703125 \n",
       "L 28.609375 0 \n",
       "L 18.3125 0 \n",
       "L 43.21875 64.59375 \n",
       "L 8.203125 64.59375 \n",
       "z\n",
       "\" id=\"DejaVuSans-55\"/>\n",
       "       </defs>\n",
       "       <use xlink:href=\"#DejaVuSans-55\"/>\n",
       "      </g>\n",
       "     </g>\n",
       "    </g>\n",
       "    <g id=\"xtick_9\">\n",
       "     <g id=\"line2d_9\">\n",
       "      <g>\n",
       "       <use style=\"stroke:#000000;stroke-width:0.8;\" x=\"346.506818\" xlink:href=\"#m1d623863da\" y=\"224.64\"/>\n",
       "      </g>\n",
       "     </g>\n",
       "     <g id=\"text_9\">\n",
       "      <!-- 8 -->\n",
       "      <g transform=\"translate(343.325568 239.238437)scale(0.1 -0.1)\">\n",
       "       <defs>\n",
       "        <path d=\"M 31.78125 34.625 \n",
       "Q 24.75 34.625 20.71875 30.859375 \n",
       "Q 16.703125 27.09375 16.703125 20.515625 \n",
       "Q 16.703125 13.921875 20.71875 10.15625 \n",
       "Q 24.75 6.390625 31.78125 6.390625 \n",
       "Q 38.8125 6.390625 42.859375 10.171875 \n",
       "Q 46.921875 13.96875 46.921875 20.515625 \n",
       "Q 46.921875 27.09375 42.890625 30.859375 \n",
       "Q 38.875 34.625 31.78125 34.625 \n",
       "z\n",
       "M 21.921875 38.8125 \n",
       "Q 15.578125 40.375 12.03125 44.71875 \n",
       "Q 8.5 49.078125 8.5 55.328125 \n",
       "Q 8.5 64.0625 14.71875 69.140625 \n",
       "Q 20.953125 74.21875 31.78125 74.21875 \n",
       "Q 42.671875 74.21875 48.875 69.140625 \n",
       "Q 55.078125 64.0625 55.078125 55.328125 \n",
       "Q 55.078125 49.078125 51.53125 44.71875 \n",
       "Q 48 40.375 41.703125 38.8125 \n",
       "Q 48.828125 37.15625 52.796875 32.3125 \n",
       "Q 56.78125 27.484375 56.78125 20.515625 \n",
       "Q 56.78125 9.90625 50.3125 4.234375 \n",
       "Q 43.84375 -1.421875 31.78125 -1.421875 \n",
       "Q 19.734375 -1.421875 13.25 4.234375 \n",
       "Q 6.78125 9.90625 6.78125 20.515625 \n",
       "Q 6.78125 27.484375 10.78125 32.3125 \n",
       "Q 14.796875 37.15625 21.921875 38.8125 \n",
       "z\n",
       "M 18.3125 54.390625 \n",
       "Q 18.3125 48.734375 21.84375 45.5625 \n",
       "Q 25.390625 42.390625 31.78125 42.390625 \n",
       "Q 38.140625 42.390625 41.71875 45.5625 \n",
       "Q 45.3125 48.734375 45.3125 54.390625 \n",
       "Q 45.3125 60.0625 41.71875 63.234375 \n",
       "Q 38.140625 66.40625 31.78125 66.40625 \n",
       "Q 25.390625 66.40625 21.84375 63.234375 \n",
       "Q 18.3125 60.0625 18.3125 54.390625 \n",
       "z\n",
       "\" id=\"DejaVuSans-56\"/>\n",
       "       </defs>\n",
       "       <use xlink:href=\"#DejaVuSans-56\"/>\n",
       "      </g>\n",
       "     </g>\n",
       "    </g>\n",
       "   </g>\n",
       "   <g id=\"matplotlib.axis_2\">\n",
       "    <g id=\"ytick_1\">\n",
       "     <g id=\"line2d_10\">\n",
       "      <defs>\n",
       "       <path d=\"M 0 0 \n",
       "L -3.5 0 \n",
       "\" id=\"mfafd9ed2e8\" style=\"stroke:#000000;stroke-width:0.8;\"/>\n",
       "      </defs>\n",
       "      <g>\n",
       "       <use style=\"stroke:#000000;stroke-width:0.8;\" x=\"26.925\" xlink:href=\"#mfafd9ed2e8\" y=\"212.964788\"/>\n",
       "      </g>\n",
       "     </g>\n",
       "     <g id=\"text_10\">\n",
       "      <!-- 10 -->\n",
       "      <g transform=\"translate(7.2 216.764006)scale(0.1 -0.1)\">\n",
       "       <use xlink:href=\"#DejaVuSans-49\"/>\n",
       "       <use x=\"63.623047\" xlink:href=\"#DejaVuSans-48\"/>\n",
       "      </g>\n",
       "     </g>\n",
       "    </g>\n",
       "    <g id=\"ytick_2\">\n",
       "     <g id=\"line2d_11\">\n",
       "      <g>\n",
       "       <use style=\"stroke:#000000;stroke-width:0.8;\" x=\"26.925\" xlink:href=\"#mfafd9ed2e8\" y=\"187.749734\"/>\n",
       "      </g>\n",
       "     </g>\n",
       "     <g id=\"text_11\">\n",
       "      <!-- 20 -->\n",
       "      <g transform=\"translate(7.2 191.548953)scale(0.1 -0.1)\">\n",
       "       <use xlink:href=\"#DejaVuSans-50\"/>\n",
       "       <use x=\"63.623047\" xlink:href=\"#DejaVuSans-48\"/>\n",
       "      </g>\n",
       "     </g>\n",
       "    </g>\n",
       "    <g id=\"ytick_3\">\n",
       "     <g id=\"line2d_12\">\n",
       "      <g>\n",
       "       <use style=\"stroke:#000000;stroke-width:0.8;\" x=\"26.925\" xlink:href=\"#mfafd9ed2e8\" y=\"162.534681\"/>\n",
       "      </g>\n",
       "     </g>\n",
       "     <g id=\"text_12\">\n",
       "      <!-- 30 -->\n",
       "      <g transform=\"translate(7.2 166.3339)scale(0.1 -0.1)\">\n",
       "       <use xlink:href=\"#DejaVuSans-51\"/>\n",
       "       <use x=\"63.623047\" xlink:href=\"#DejaVuSans-48\"/>\n",
       "      </g>\n",
       "     </g>\n",
       "    </g>\n",
       "    <g id=\"ytick_4\">\n",
       "     <g id=\"line2d_13\">\n",
       "      <g>\n",
       "       <use style=\"stroke:#000000;stroke-width:0.8;\" x=\"26.925\" xlink:href=\"#mfafd9ed2e8\" y=\"137.319628\"/>\n",
       "      </g>\n",
       "     </g>\n",
       "     <g id=\"text_13\">\n",
       "      <!-- 40 -->\n",
       "      <g transform=\"translate(7.2 141.118846)scale(0.1 -0.1)\">\n",
       "       <use xlink:href=\"#DejaVuSans-52\"/>\n",
       "       <use x=\"63.623047\" xlink:href=\"#DejaVuSans-48\"/>\n",
       "      </g>\n",
       "     </g>\n",
       "    </g>\n",
       "    <g id=\"ytick_5\">\n",
       "     <g id=\"line2d_14\">\n",
       "      <g>\n",
       "       <use style=\"stroke:#000000;stroke-width:0.8;\" x=\"26.925\" xlink:href=\"#mfafd9ed2e8\" y=\"112.104574\"/>\n",
       "      </g>\n",
       "     </g>\n",
       "     <g id=\"text_14\">\n",
       "      <!-- 50 -->\n",
       "      <g transform=\"translate(7.2 115.903793)scale(0.1 -0.1)\">\n",
       "       <use xlink:href=\"#DejaVuSans-53\"/>\n",
       "       <use x=\"63.623047\" xlink:href=\"#DejaVuSans-48\"/>\n",
       "      </g>\n",
       "     </g>\n",
       "    </g>\n",
       "    <g id=\"ytick_6\">\n",
       "     <g id=\"line2d_15\">\n",
       "      <g>\n",
       "       <use style=\"stroke:#000000;stroke-width:0.8;\" x=\"26.925\" xlink:href=\"#mfafd9ed2e8\" y=\"86.889521\"/>\n",
       "      </g>\n",
       "     </g>\n",
       "     <g id=\"text_15\">\n",
       "      <!-- 60 -->\n",
       "      <g transform=\"translate(7.2 90.68874)scale(0.1 -0.1)\">\n",
       "       <use xlink:href=\"#DejaVuSans-54\"/>\n",
       "       <use x=\"63.623047\" xlink:href=\"#DejaVuSans-48\"/>\n",
       "      </g>\n",
       "     </g>\n",
       "    </g>\n",
       "    <g id=\"ytick_7\">\n",
       "     <g id=\"line2d_16\">\n",
       "      <g>\n",
       "       <use style=\"stroke:#000000;stroke-width:0.8;\" x=\"26.925\" xlink:href=\"#mfafd9ed2e8\" y=\"61.674468\"/>\n",
       "      </g>\n",
       "     </g>\n",
       "     <g id=\"text_16\">\n",
       "      <!-- 70 -->\n",
       "      <g transform=\"translate(7.2 65.473686)scale(0.1 -0.1)\">\n",
       "       <use xlink:href=\"#DejaVuSans-55\"/>\n",
       "       <use x=\"63.623047\" xlink:href=\"#DejaVuSans-48\"/>\n",
       "      </g>\n",
       "     </g>\n",
       "    </g>\n",
       "    <g id=\"ytick_8\">\n",
       "     <g id=\"line2d_17\">\n",
       "      <g>\n",
       "       <use style=\"stroke:#000000;stroke-width:0.8;\" x=\"26.925\" xlink:href=\"#mfafd9ed2e8\" y=\"36.459414\"/>\n",
       "      </g>\n",
       "     </g>\n",
       "     <g id=\"text_17\">\n",
       "      <!-- 80 -->\n",
       "      <g transform=\"translate(7.2 40.258633)scale(0.1 -0.1)\">\n",
       "       <use xlink:href=\"#DejaVuSans-56\"/>\n",
       "       <use x=\"63.623047\" xlink:href=\"#DejaVuSans-48\"/>\n",
       "      </g>\n",
       "     </g>\n",
       "    </g>\n",
       "    <g id=\"ytick_9\">\n",
       "     <g id=\"line2d_18\">\n",
       "      <g>\n",
       "       <use style=\"stroke:#000000;stroke-width:0.8;\" x=\"26.925\" xlink:href=\"#mfafd9ed2e8\" y=\"11.244361\"/>\n",
       "      </g>\n",
       "     </g>\n",
       "     <g id=\"text_18\">\n",
       "      <!-- 90 -->\n",
       "      <g transform=\"translate(7.2 15.04358)scale(0.1 -0.1)\">\n",
       "       <defs>\n",
       "        <path d=\"M 10.984375 1.515625 \n",
       "L 10.984375 10.5 \n",
       "Q 14.703125 8.734375 18.5 7.8125 \n",
       "Q 22.3125 6.890625 25.984375 6.890625 \n",
       "Q 35.75 6.890625 40.890625 13.453125 \n",
       "Q 46.046875 20.015625 46.78125 33.40625 \n",
       "Q 43.953125 29.203125 39.59375 26.953125 \n",
       "Q 35.25 24.703125 29.984375 24.703125 \n",
       "Q 19.046875 24.703125 12.671875 31.3125 \n",
       "Q 6.296875 37.9375 6.296875 49.421875 \n",
       "Q 6.296875 60.640625 12.9375 67.421875 \n",
       "Q 19.578125 74.21875 30.609375 74.21875 \n",
       "Q 43.265625 74.21875 49.921875 64.515625 \n",
       "Q 56.59375 54.828125 56.59375 36.375 \n",
       "Q 56.59375 19.140625 48.40625 8.859375 \n",
       "Q 40.234375 -1.421875 26.421875 -1.421875 \n",
       "Q 22.703125 -1.421875 18.890625 -0.6875 \n",
       "Q 15.09375 0.046875 10.984375 1.515625 \n",
       "z\n",
       "M 30.609375 32.421875 \n",
       "Q 37.25 32.421875 41.125 36.953125 \n",
       "Q 45.015625 41.5 45.015625 49.421875 \n",
       "Q 45.015625 57.28125 41.125 61.84375 \n",
       "Q 37.25 66.40625 30.609375 66.40625 \n",
       "Q 23.96875 66.40625 20.09375 61.84375 \n",
       "Q 16.21875 57.28125 16.21875 49.421875 \n",
       "Q 16.21875 41.5 20.09375 36.953125 \n",
       "Q 23.96875 32.421875 30.609375 32.421875 \n",
       "z\n",
       "\" id=\"DejaVuSans-57\"/>\n",
       "       </defs>\n",
       "       <use xlink:href=\"#DejaVuSans-57\"/>\n",
       "       <use x=\"63.623047\" xlink:href=\"#DejaVuSans-48\"/>\n",
       "      </g>\n",
       "     </g>\n",
       "    </g>\n",
       "   </g>\n",
       "   <g id=\"line2d_19\">\n",
       "    <path clip-path=\"url(#p9fe4860818)\" d=\"M 42.143182 111.44102 \n",
       "L 80.188636 201.583939 \n",
       "L 118.234091 17.083636 \n",
       "L 156.279545 155.03652 \n",
       "L 194.325 45.417394 \n",
       "L 232.370455 57.759499 \n",
       "L 270.415909 214.756364 \n",
       "L 308.461364 68.489347 \n",
       "L 346.506818 163.725371 \n",
       "\" style=\"fill:none;stroke:#1f77b4;stroke-linecap:square;stroke-width:1.5;\"/>\n",
       "   </g>\n",
       "   <g id=\"patch_3\">\n",
       "    <path d=\"M 26.925 224.64 \n",
       "L 26.925 7.2 \n",
       "\" style=\"fill:none;stroke:#000000;stroke-linecap:square;stroke-linejoin:miter;stroke-width:0.8;\"/>\n",
       "   </g>\n",
       "   <g id=\"patch_4\">\n",
       "    <path d=\"M 361.725 224.64 \n",
       "L 361.725 7.2 \n",
       "\" style=\"fill:none;stroke:#000000;stroke-linecap:square;stroke-linejoin:miter;stroke-width:0.8;\"/>\n",
       "   </g>\n",
       "   <g id=\"patch_5\">\n",
       "    <path d=\"M 26.925 224.64 \n",
       "L 361.725 224.64 \n",
       "\" style=\"fill:none;stroke:#000000;stroke-linecap:square;stroke-linejoin:miter;stroke-width:0.8;\"/>\n",
       "   </g>\n",
       "   <g id=\"patch_6\">\n",
       "    <path d=\"M 26.925 7.2 \n",
       "L 361.725 7.2 \n",
       "\" style=\"fill:none;stroke:#000000;stroke-linecap:square;stroke-linejoin:miter;stroke-width:0.8;\"/>\n",
       "   </g>\n",
       "  </g>\n",
       " </g>\n",
       " <defs>\n",
       "  <clipPath id=\"p9fe4860818\">\n",
       "   <rect height=\"217.44\" width=\"334.8\" x=\"26.925\" y=\"7.2\"/>\n",
       "  </clipPath>\n",
       " </defs>\n",
       "</svg>\n"
      ],
      "text/plain": [
       "<Figure size 432x288 with 1 Axes>"
      ]
     },
     "metadata": {
      "needs_background": "light"
     },
     "output_type": "display_data"
    }
   ],
   "source": [
    "import matplotlib.pyplot as plt\n",
    "plt.plot(series)\n",
    "plt.show()#visualize the signal"
   ]
  },
  {
   "cell_type": "code",
   "execution_count": 142,
   "metadata": {},
   "outputs": [
    {
     "data": {
      "text/plain": [
       "'\\nuse above to visualize data manipulation with a sinwave instead \\n'"
      ]
     },
     "execution_count": 142,
     "metadata": {},
     "output_type": "execute_result"
    }
   ],
   "source": [
    "\n",
    "series = np.sin(0.1*np.arange(100)) + np.random.randn(100)*0.7\n",
    "\n",
    "\"\"\"\n",
    "use above to visualize data manipulation with a sinwave instead \n",
    "\"\"\""
   ]
  },
  {
   "cell_type": "code",
   "execution_count": 143,
   "metadata": {},
   "outputs": [
    {
     "name": "stdout",
     "output_type": "stream",
     "text": [
      "X.shape (97, 3) Y.shape (97,)\n"
     ]
    }
   ],
   "source": [
    "# use T past values to predict the next value !!!!!!!\n",
    "T = 3\n",
    "X = []\n",
    "Y = []\n",
    "for t in range(len(series) - T):\n",
    "  x = series[t:t+T]\n",
    "  X.append(x)#append features, past T values\n",
    "  y = series[t+T]\n",
    "  Y.append(y)#append lable ie current value\n",
    "\n",
    "\n",
    "\n",
    "X = np.array(X).reshape(-1, T)\n",
    "Y = np.array(Y)\n",
    "N = len(X)\n",
    "print(\"X.shape\", X.shape, \"Y.shape\", Y.shape)"
   ]
  },
  {
   "cell_type": "code",
   "execution_count": 144,
   "metadata": {},
   "outputs": [],
   "source": [
    "# X,Y"
   ]
  },
  {
   "cell_type": "markdown",
   "metadata": {},
   "source": [
    "## VISUALIZE LABLES AND FEATURES"
   ]
  },
  {
   "cell_type": "code",
   "execution_count": 145,
   "metadata": {},
   "outputs": [
    {
     "data": {
      "image/png": "[encoded data removed]",
      "image/svg+xml": [
       "<?xml version=\"1.0\" encoding=\"utf-8\" standalone=\"no\"?>\n",
       "<!DOCTYPE svg PUBLIC \"-//W3C//DTD SVG 1.1//EN\"\n",
       "  \"http://www.w3.org/Graphics/SVG/1.1/DTD/svg11.dtd\">\n",
       "<!-- Created with matplotlib (https://matplotlib.org/) -->\n",
       "<svg height=\"248.518125pt\" version=\"1.1\" viewBox=\"0 0 377.949574 248.518125\" width=\"377.949574pt\" xmlns=\"http://www.w3.org/2000/svg\" xmlns:xlink=\"http://www.w3.org/1999/xlink\">\n",
       " <metadata>\n",
       "  <rdf:RDF xmlns:cc=\"http://creativecommons.org/ns#\" xmlns:dc=\"http://purl.org/dc/elements/1.1/\" xmlns:rdf=\"http://www.w3.org/1999/02/22-rdf-syntax-ns#\">\n",
       "   <cc:Work>\n",
       "    <dc:type rdf:resource=\"http://purl.org/dc/dcmitype/StillImage\"/>\n",
       "    <dc:date>2020-12-09T23:15:56.425114</dc:date>\n",
       "    <dc:format>image/svg+xml</dc:format>\n",
       "    <dc:creator>\n",
       "     <cc:Agent>\n",
       "      <dc:title>Matplotlib v3.3.3, https://matplotlib.org/</dc:title>\n",
       "     </cc:Agent>\n",
       "    </dc:creator>\n",
       "   </cc:Work>\n",
       "  </rdf:RDF>\n",
       " </metadata>\n",
       " <defs>\n",
       "  <style type=\"text/css\">*{stroke-linecap:butt;stroke-linejoin:round;}</style>\n",
       " </defs>\n",
       " <g id=\"figure_1\">\n",
       "  <g id=\"patch_1\">\n",
       "   <path d=\"M 0 248.518125 \n",
       "L 377.949574 248.518125 \n",
       "L 377.949574 0 \n",
       "L 0 0 \n",
       "z\n",
       "\" style=\"fill:none;\"/>\n",
       "  </g>\n",
       "  <g id=\"axes_1\">\n",
       "   <g id=\"patch_2\">\n",
       "    <path d=\"M 28.942188 224.64 \n",
       "L 363.742188 224.64 \n",
       "L 363.742188 7.2 \n",
       "L 28.942188 7.2 \n",
       "z\n",
       "\" style=\"fill:#ffffff;\"/>\n",
       "   </g>\n",
       "   <g id=\"matplotlib.axis_1\">\n",
       "    <g id=\"xtick_1\">\n",
       "     <g id=\"line2d_1\">\n",
       "      <defs>\n",
       "       <path d=\"M 0 0 \n",
       "L 0 3.5 \n",
       "\" id=\"mfd92328ac5\" style=\"stroke:#000000;stroke-width:0.8;\"/>\n",
       "      </defs>\n",
       "      <g>\n",
       "       <use style=\"stroke:#000000;stroke-width:0.8;\" x=\"44.160369\" xlink:href=\"#mfd92328ac5\" y=\"224.64\"/>\n",
       "      </g>\n",
       "     </g>\n",
       "     <g id=\"text_1\">\n",
       "      <!-- 0 -->\n",
       "      <g transform=\"translate(40.979119 239.238437)scale(0.1 -0.1)\">\n",
       "       <defs>\n",
       "        <path d=\"M 31.78125 66.40625 \n",
       "Q 24.171875 66.40625 20.328125 58.90625 \n",
       "Q 16.5 51.421875 16.5 36.375 \n",
       "Q 16.5 21.390625 20.328125 13.890625 \n",
       "Q 24.171875 6.390625 31.78125 6.390625 \n",
       "Q 39.453125 6.390625 43.28125 13.890625 \n",
       "Q 47.125 21.390625 47.125 36.375 \n",
       "Q 47.125 51.421875 43.28125 58.90625 \n",
       "Q 39.453125 66.40625 31.78125 66.40625 \n",
       "z\n",
       "M 31.78125 74.21875 \n",
       "Q 44.046875 74.21875 50.515625 64.515625 \n",
       "Q 56.984375 54.828125 56.984375 36.375 \n",
       "Q 56.984375 17.96875 50.515625 8.265625 \n",
       "Q 44.046875 -1.421875 31.78125 -1.421875 \n",
       "Q 19.53125 -1.421875 13.0625 8.265625 \n",
       "Q 6.59375 17.96875 6.59375 36.375 \n",
       "Q 6.59375 54.828125 13.0625 64.515625 \n",
       "Q 19.53125 74.21875 31.78125 74.21875 \n",
       "z\n",
       "\" id=\"DejaVuSans-48\"/>\n",
       "       </defs>\n",
       "       <use xlink:href=\"#DejaVuSans-48\"/>\n",
       "      </g>\n",
       "     </g>\n",
       "    </g>\n",
       "    <g id=\"xtick_2\">\n",
       "     <g id=\"line2d_2\">\n",
       "      <g>\n",
       "       <use style=\"stroke:#000000;stroke-width:0.8;\" x=\"107.56946\" xlink:href=\"#mfd92328ac5\" y=\"224.64\"/>\n",
       "      </g>\n",
       "     </g>\n",
       "     <g id=\"text_2\">\n",
       "      <!-- 20 -->\n",
       "      <g transform=\"translate(101.20696 239.238437)scale(0.1 -0.1)\">\n",
       "       <defs>\n",
       "        <path d=\"M 19.1875 8.296875 \n",
       "L 53.609375 8.296875 \n",
       "L 53.609375 0 \n",
       "L 7.328125 0 \n",
       "L 7.328125 8.296875 \n",
       "Q 12.9375 14.109375 22.625 23.890625 \n",
       "Q 32.328125 33.6875 34.8125 36.53125 \n",
       "Q 39.546875 41.84375 41.421875 45.53125 \n",
       "Q 43.3125 49.21875 43.3125 52.78125 \n",
       "Q 43.3125 58.59375 39.234375 62.25 \n",
       "Q 35.15625 65.921875 28.609375 65.921875 \n",
       "Q 23.96875 65.921875 18.8125 64.3125 \n",
       "Q 13.671875 62.703125 7.8125 59.421875 \n",
       "L 7.8125 69.390625 \n",
       "Q 13.765625 71.78125 18.9375 73 \n",
       "Q 24.125 74.21875 28.421875 74.21875 \n",
       "Q 39.75 74.21875 46.484375 68.546875 \n",
       "Q 53.21875 62.890625 53.21875 53.421875 \n",
       "Q 53.21875 48.921875 51.53125 44.890625 \n",
       "Q 49.859375 40.875 45.40625 35.40625 \n",
       "Q 44.1875 33.984375 37.640625 27.21875 \n",
       "Q 31.109375 20.453125 19.1875 8.296875 \n",
       "z\n",
       "\" id=\"DejaVuSans-50\"/>\n",
       "       </defs>\n",
       "       <use xlink:href=\"#DejaVuSans-50\"/>\n",
       "       <use x=\"63.623047\" xlink:href=\"#DejaVuSans-48\"/>\n",
       "      </g>\n",
       "     </g>\n",
       "    </g>\n",
       "    <g id=\"xtick_3\">\n",
       "     <g id=\"line2d_3\">\n",
       "      <g>\n",
       "       <use style=\"stroke:#000000;stroke-width:0.8;\" x=\"170.978551\" xlink:href=\"#mfd92328ac5\" y=\"224.64\"/>\n",
       "      </g>\n",
       "     </g>\n",
       "     <g id=\"text_3\">\n",
       "      <!-- 40 -->\n",
       "      <g transform=\"translate(164.616051 239.238437)scale(0.1 -0.1)\">\n",
       "       <defs>\n",
       "        <path d=\"M 37.796875 64.3125 \n",
       "L 12.890625 25.390625 \n",
       "L 37.796875 25.390625 \n",
       "z\n",
       "M 35.203125 72.90625 \n",
       "L 47.609375 72.90625 \n",
       "L 47.609375 25.390625 \n",
       "L 58.015625 25.390625 \n",
       "L 58.015625 17.1875 \n",
       "L 47.609375 17.1875 \n",
       "L 47.609375 0 \n",
       "L 37.796875 0 \n",
       "L 37.796875 17.1875 \n",
       "L 4.890625 17.1875 \n",
       "L 4.890625 26.703125 \n",
       "z\n",
       "\" id=\"DejaVuSans-52\"/>\n",
       "       </defs>\n",
       "       <use xlink:href=\"#DejaVuSans-52\"/>\n",
       "       <use x=\"63.623047\" xlink:href=\"#DejaVuSans-48\"/>\n",
       "      </g>\n",
       "     </g>\n",
       "    </g>\n",
       "    <g id=\"xtick_4\">\n",
       "     <g id=\"line2d_4\">\n",
       "      <g>\n",
       "       <use style=\"stroke:#000000;stroke-width:0.8;\" x=\"234.387642\" xlink:href=\"#mfd92328ac5\" y=\"224.64\"/>\n",
       "      </g>\n",
       "     </g>\n",
       "     <g id=\"text_4\">\n",
       "      <!-- 60 -->\n",
       "      <g transform=\"translate(228.025142 239.238437)scale(0.1 -0.1)\">\n",
       "       <defs>\n",
       "        <path d=\"M 33.015625 40.375 \n",
       "Q 26.375 40.375 22.484375 35.828125 \n",
       "Q 18.609375 31.296875 18.609375 23.390625 \n",
       "Q 18.609375 15.53125 22.484375 10.953125 \n",
       "Q 26.375 6.390625 33.015625 6.390625 \n",
       "Q 39.65625 6.390625 43.53125 10.953125 \n",
       "Q 47.40625 15.53125 47.40625 23.390625 \n",
       "Q 47.40625 31.296875 43.53125 35.828125 \n",
       "Q 39.65625 40.375 33.015625 40.375 \n",
       "z\n",
       "M 52.59375 71.296875 \n",
       "L 52.59375 62.3125 \n",
       "Q 48.875 64.0625 45.09375 64.984375 \n",
       "Q 41.3125 65.921875 37.59375 65.921875 \n",
       "Q 27.828125 65.921875 22.671875 59.328125 \n",
       "Q 17.53125 52.734375 16.796875 39.40625 \n",
       "Q 19.671875 43.65625 24.015625 45.921875 \n",
       "Q 28.375 48.1875 33.59375 48.1875 \n",
       "Q 44.578125 48.1875 50.953125 41.515625 \n",
       "Q 57.328125 34.859375 57.328125 23.390625 \n",
       "Q 57.328125 12.15625 50.6875 5.359375 \n",
       "Q 44.046875 -1.421875 33.015625 -1.421875 \n",
       "Q 20.359375 -1.421875 13.671875 8.265625 \n",
       "Q 6.984375 17.96875 6.984375 36.375 \n",
       "Q 6.984375 53.65625 15.1875 63.9375 \n",
       "Q 23.390625 74.21875 37.203125 74.21875 \n",
       "Q 40.921875 74.21875 44.703125 73.484375 \n",
       "Q 48.484375 72.75 52.59375 71.296875 \n",
       "z\n",
       "\" id=\"DejaVuSans-54\"/>\n",
       "       </defs>\n",
       "       <use xlink:href=\"#DejaVuSans-54\"/>\n",
       "       <use x=\"63.623047\" xlink:href=\"#DejaVuSans-48\"/>\n",
       "      </g>\n",
       "     </g>\n",
       "    </g>\n",
       "    <g id=\"xtick_5\">\n",
       "     <g id=\"line2d_5\">\n",
       "      <g>\n",
       "       <use style=\"stroke:#000000;stroke-width:0.8;\" x=\"297.796733\" xlink:href=\"#mfd92328ac5\" y=\"224.64\"/>\n",
       "      </g>\n",
       "     </g>\n",
       "     <g id=\"text_5\">\n",
       "      <!-- 80 -->\n",
       "      <g transform=\"translate(291.434233 239.238437)scale(0.1 -0.1)\">\n",
       "       <defs>\n",
       "        <path d=\"M 31.78125 34.625 \n",
       "Q 24.75 34.625 20.71875 30.859375 \n",
       "Q 16.703125 27.09375 16.703125 20.515625 \n",
       "Q 16.703125 13.921875 20.71875 10.15625 \n",
       "Q 24.75 6.390625 31.78125 6.390625 \n",
       "Q 38.8125 6.390625 42.859375 10.171875 \n",
       "Q 46.921875 13.96875 46.921875 20.515625 \n",
       "Q 46.921875 27.09375 42.890625 30.859375 \n",
       "Q 38.875 34.625 31.78125 34.625 \n",
       "z\n",
       "M 21.921875 38.8125 \n",
       "Q 15.578125 40.375 12.03125 44.71875 \n",
       "Q 8.5 49.078125 8.5 55.328125 \n",
       "Q 8.5 64.0625 14.71875 69.140625 \n",
       "Q 20.953125 74.21875 31.78125 74.21875 \n",
       "Q 42.671875 74.21875 48.875 69.140625 \n",
       "Q 55.078125 64.0625 55.078125 55.328125 \n",
       "Q 55.078125 49.078125 51.53125 44.71875 \n",
       "Q 48 40.375 41.703125 38.8125 \n",
       "Q 48.828125 37.15625 52.796875 32.3125 \n",
       "Q 56.78125 27.484375 56.78125 20.515625 \n",
       "Q 56.78125 9.90625 50.3125 4.234375 \n",
       "Q 43.84375 -1.421875 31.78125 -1.421875 \n",
       "Q 19.734375 -1.421875 13.25 4.234375 \n",
       "Q 6.78125 9.90625 6.78125 20.515625 \n",
       "Q 6.78125 27.484375 10.78125 32.3125 \n",
       "Q 14.796875 37.15625 21.921875 38.8125 \n",
       "z\n",
       "M 18.3125 54.390625 \n",
       "Q 18.3125 48.734375 21.84375 45.5625 \n",
       "Q 25.390625 42.390625 31.78125 42.390625 \n",
       "Q 38.140625 42.390625 41.71875 45.5625 \n",
       "Q 45.3125 48.734375 45.3125 54.390625 \n",
       "Q 45.3125 60.0625 41.71875 63.234375 \n",
       "Q 38.140625 66.40625 31.78125 66.40625 \n",
       "Q 25.390625 66.40625 21.84375 63.234375 \n",
       "Q 18.3125 60.0625 18.3125 54.390625 \n",
       "z\n",
       "\" id=\"DejaVuSans-56\"/>\n",
       "       </defs>\n",
       "       <use xlink:href=\"#DejaVuSans-56\"/>\n",
       "       <use x=\"63.623047\" xlink:href=\"#DejaVuSans-48\"/>\n",
       "      </g>\n",
       "     </g>\n",
       "    </g>\n",
       "    <g id=\"xtick_6\">\n",
       "     <g id=\"line2d_6\">\n",
       "      <g>\n",
       "       <use style=\"stroke:#000000;stroke-width:0.8;\" x=\"361.205824\" xlink:href=\"#mfd92328ac5\" y=\"224.64\"/>\n",
       "      </g>\n",
       "     </g>\n",
       "     <g id=\"text_6\">\n",
       "      <!-- 100 -->\n",
       "      <g transform=\"translate(351.662074 239.238437)scale(0.1 -0.1)\">\n",
       "       <defs>\n",
       "        <path d=\"M 12.40625 8.296875 \n",
       "L 28.515625 8.296875 \n",
       "L 28.515625 63.921875 \n",
       "L 10.984375 60.40625 \n",
       "L 10.984375 69.390625 \n",
       "L 28.421875 72.90625 \n",
       "L 38.28125 72.90625 \n",
       "L 38.28125 8.296875 \n",
       "L 54.390625 8.296875 \n",
       "L 54.390625 0 \n",
       "L 12.40625 0 \n",
       "z\n",
       "\" id=\"DejaVuSans-49\"/>\n",
       "       </defs>\n",
       "       <use xlink:href=\"#DejaVuSans-49\"/>\n",
       "       <use x=\"63.623047\" xlink:href=\"#DejaVuSans-48\"/>\n",
       "       <use x=\"127.246094\" xlink:href=\"#DejaVuSans-48\"/>\n",
       "      </g>\n",
       "     </g>\n",
       "    </g>\n",
       "   </g>\n",
       "   <g id=\"matplotlib.axis_2\">\n",
       "    <g id=\"ytick_1\">\n",
       "     <g id=\"line2d_7\">\n",
       "      <defs>\n",
       "       <path d=\"M 0 0 \n",
       "L -3.5 0 \n",
       "\" id=\"m9be4923b1f\" style=\"stroke:#000000;stroke-width:0.8;\"/>\n",
       "      </defs>\n",
       "      <g>\n",
       "       <use style=\"stroke:#000000;stroke-width:0.8;\" x=\"28.942188\" xlink:href=\"#m9be4923b1f\" y=\"201.175623\"/>\n",
       "      </g>\n",
       "     </g>\n",
       "     <g id=\"text_7\">\n",
       "      <!-- −2 -->\n",
       "      <g transform=\"translate(7.2 204.974842)scale(0.1 -0.1)\">\n",
       "       <defs>\n",
       "        <path d=\"M 10.59375 35.5 \n",
       "L 73.1875 35.5 \n",
       "L 73.1875 27.203125 \n",
       "L 10.59375 27.203125 \n",
       "z\n",
       "\" id=\"DejaVuSans-8722\"/>\n",
       "       </defs>\n",
       "       <use xlink:href=\"#DejaVuSans-8722\"/>\n",
       "       <use x=\"83.789062\" xlink:href=\"#DejaVuSans-50\"/>\n",
       "      </g>\n",
       "     </g>\n",
       "    </g>\n",
       "    <g id=\"ytick_2\">\n",
       "     <g id=\"line2d_8\">\n",
       "      <g>\n",
       "       <use style=\"stroke:#000000;stroke-width:0.8;\" x=\"28.942188\" xlink:href=\"#m9be4923b1f\" y=\"159.709737\"/>\n",
       "      </g>\n",
       "     </g>\n",
       "     <g id=\"text_8\">\n",
       "      <!-- −1 -->\n",
       "      <g transform=\"translate(7.2 163.508956)scale(0.1 -0.1)\">\n",
       "       <use xlink:href=\"#DejaVuSans-8722\"/>\n",
       "       <use x=\"83.789062\" xlink:href=\"#DejaVuSans-49\"/>\n",
       "      </g>\n",
       "     </g>\n",
       "    </g>\n",
       "    <g id=\"ytick_3\">\n",
       "     <g id=\"line2d_9\">\n",
       "      <g>\n",
       "       <use style=\"stroke:#000000;stroke-width:0.8;\" x=\"28.942188\" xlink:href=\"#m9be4923b1f\" y=\"118.243852\"/>\n",
       "      </g>\n",
       "     </g>\n",
       "     <g id=\"text_9\">\n",
       "      <!-- 0 -->\n",
       "      <g transform=\"translate(15.579688 122.043071)scale(0.1 -0.1)\">\n",
       "       <use xlink:href=\"#DejaVuSans-48\"/>\n",
       "      </g>\n",
       "     </g>\n",
       "    </g>\n",
       "    <g id=\"ytick_4\">\n",
       "     <g id=\"line2d_10\">\n",
       "      <g>\n",
       "       <use style=\"stroke:#000000;stroke-width:0.8;\" x=\"28.942188\" xlink:href=\"#m9be4923b1f\" y=\"76.777967\"/>\n",
       "      </g>\n",
       "     </g>\n",
       "     <g id=\"text_10\">\n",
       "      <!-- 1 -->\n",
       "      <g transform=\"translate(15.579688 80.577185)scale(0.1 -0.1)\">\n",
       "       <use xlink:href=\"#DejaVuSans-49\"/>\n",
       "      </g>\n",
       "     </g>\n",
       "    </g>\n",
       "    <g id=\"ytick_5\">\n",
       "     <g id=\"line2d_11\">\n",
       "      <g>\n",
       "       <use style=\"stroke:#000000;stroke-width:0.8;\" x=\"28.942188\" xlink:href=\"#m9be4923b1f\" y=\"35.312081\"/>\n",
       "      </g>\n",
       "     </g>\n",
       "     <g id=\"text_11\">\n",
       "      <!-- 2 -->\n",
       "      <g transform=\"translate(15.579688 39.1113)scale(0.1 -0.1)\">\n",
       "       <use xlink:href=\"#DejaVuSans-50\"/>\n",
       "      </g>\n",
       "     </g>\n",
       "    </g>\n",
       "   </g>\n",
       "   <g id=\"line2d_12\">\n",
       "    <path clip-path=\"url(#pa325b7f04e)\" d=\"M 44.160369 130.866188 \n",
       "L 47.330824 125.925928 \n",
       "L 50.501278 114.858105 \n",
       "L 53.671733 91.72459 \n",
       "L 56.842188 106.829452 \n",
       "L 60.012642 96.879867 \n",
       "L 63.183097 93.338347 \n",
       "L 66.353551 72.206274 \n",
       "L 69.524006 120.332937 \n",
       "L 72.69446 134.110081 \n",
       "L 75.864915 84.604405 \n",
       "L 79.035369 99.976904 \n",
       "L 82.205824 103.944041 \n",
       "L 85.376278 54.738389 \n",
       "L 88.546733 80.335661 \n",
       "L 91.717188 66.43234 \n",
       "L 94.887642 129.220291 \n",
       "L 98.058097 52.978254 \n",
       "L 101.228551 69.404476 \n",
       "L 104.399006 81.168376 \n",
       "L 107.56946 97.940094 \n",
       "L 110.739915 35.681855 \n",
       "L 113.910369 28.225383 \n",
       "L 117.080824 103.319033 \n",
       "L 120.251278 124.333549 \n",
       "L 123.421733 82.853453 \n",
       "L 126.592188 127.564525 \n",
       "L 129.762642 101.962214 \n",
       "L 132.933097 86.792411 \n",
       "L 136.103551 140.712147 \n",
       "L 139.274006 121.551987 \n",
       "L 142.44446 150.551418 \n",
       "L 145.614915 145.536499 \n",
       "L 148.785369 127.534559 \n",
       "L 151.955824 177.621111 \n",
       "L 155.126278 115.145564 \n",
       "L 158.296733 165.354362 \n",
       "L 161.467188 140.920854 \n",
       "L 164.637642 83.91153 \n",
       "L 167.808097 163.002726 \n",
       "L 170.978551 149.748297 \n",
       "L 174.149006 205.013529 \n",
       "L 177.31946 214.756364 \n",
       "L 180.489915 167.103261 \n",
       "L 183.660369 213.001383 \n",
       "L 186.830824 136.727256 \n",
       "L 190.001278 181.8915 \n",
       "L 193.171733 212.195122 \n",
       "L 196.342188 197.292974 \n",
       "L 199.512642 140.40736 \n",
       "L 202.683097 163.842189 \n",
       "L 205.853551 164.923731 \n",
       "L 209.024006 163.052163 \n",
       "L 212.19446 147.010812 \n",
       "L 215.364915 155.225744 \n",
       "L 218.535369 146.37877 \n",
       "L 221.705824 147.094454 \n",
       "L 224.876278 105.220981 \n",
       "L 228.046733 117.918529 \n",
       "L 231.217188 114.615633 \n",
       "L 234.387642 116.523154 \n",
       "L 237.558097 86.693416 \n",
       "L 240.728551 117.20126 \n",
       "L 243.899006 44.143993 \n",
       "L 247.06946 131.581398 \n",
       "L 250.239915 103.101991 \n",
       "L 253.410369 46.851108 \n",
       "L 256.580824 70.456415 \n",
       "L 259.751278 92.294868 \n",
       "L 262.921733 123.150279 \n",
       "L 266.092188 63.490903 \n",
       "L 269.262642 97.559931 \n",
       "L 272.433097 102.896385 \n",
       "L 275.603551 53.900751 \n",
       "L 278.774006 146.017837 \n",
       "L 281.94446 57.569882 \n",
       "L 285.114915 85.539527 \n",
       "L 288.285369 102.015662 \n",
       "L 291.455824 63.108976 \n",
       "L 294.626278 72.313638 \n",
       "L 297.796733 126.417983 \n",
       "L 300.967188 91.574387 \n",
       "L 304.137642 138.461086 \n",
       "L 307.308097 81.534163 \n",
       "L 310.478551 84.563708 \n",
       "L 313.649006 17.083636 \n",
       "L 316.81946 92.003419 \n",
       "L 319.989915 136.210913 \n",
       "L 323.160369 96.765358 \n",
       "L 326.330824 96.520391 \n",
       "L 329.501278 146.460346 \n",
       "L 332.671733 105.262714 \n",
       "L 335.842188 144.09315 \n",
       "L 339.012642 121.105613 \n",
       "L 342.183097 88.885182 \n",
       "L 345.353551 85.8699 \n",
       "L 348.524006 134.645827 \n",
       "\" style=\"fill:none;stroke:#1f77b4;stroke-linecap:square;stroke-width:1.5;\"/>\n",
       "   </g>\n",
       "   <g id=\"line2d_13\">\n",
       "    <path clip-path=\"url(#pa325b7f04e)\" d=\"M 44.160369 125.925928 \n",
       "L 47.330824 114.858105 \n",
       "L 50.501278 91.72459 \n",
       "L 53.671733 106.829452 \n",
       "L 56.842188 96.879867 \n",
       "L 60.012642 93.338347 \n",
       "L 63.183097 72.206274 \n",
       "L 66.353551 120.332937 \n",
       "L 69.524006 134.110081 \n",
       "L 72.69446 84.604405 \n",
       "L 75.864915 99.976904 \n",
       "L 79.035369 103.944041 \n",
       "L 82.205824 54.738389 \n",
       "L 85.376278 80.335661 \n",
       "L 88.546733 66.43234 \n",
       "L 91.717188 129.220291 \n",
       "L 94.887642 52.978254 \n",
       "L 98.058097 69.404476 \n",
       "L 101.228551 81.168376 \n",
       "L 104.399006 97.940094 \n",
       "L 107.56946 35.681855 \n",
       "L 110.739915 28.225383 \n",
       "L 113.910369 103.319033 \n",
       "L 117.080824 124.333549 \n",
       "L 120.251278 82.853453 \n",
       "L 123.421733 127.564525 \n",
       "L 126.592188 101.962214 \n",
       "L 129.762642 86.792411 \n",
       "L 132.933097 140.712147 \n",
       "L 136.103551 121.551987 \n",
       "L 139.274006 150.551418 \n",
       "L 142.44446 145.536499 \n",
       "L 145.614915 127.534559 \n",
       "L 148.785369 177.621111 \n",
       "L 151.955824 115.145564 \n",
       "L 155.126278 165.354362 \n",
       "L 158.296733 140.920854 \n",
       "L 161.467188 83.91153 \n",
       "L 164.637642 163.002726 \n",
       "L 167.808097 149.748297 \n",
       "L 170.978551 205.013529 \n",
       "L 174.149006 214.756364 \n",
       "L 177.31946 167.103261 \n",
       "L 180.489915 213.001383 \n",
       "L 183.660369 136.727256 \n",
       "L 186.830824 181.8915 \n",
       "L 190.001278 212.195122 \n",
       "L 193.171733 197.292974 \n",
       "L 196.342188 140.40736 \n",
       "L 199.512642 163.842189 \n",
       "L 202.683097 164.923731 \n",
       "L 205.853551 163.052163 \n",
       "L 209.024006 147.010812 \n",
       "L 212.19446 155.225744 \n",
       "L 215.364915 146.37877 \n",
       "L 218.535369 147.094454 \n",
       "L 221.705824 105.220981 \n",
       "L 224.876278 117.918529 \n",
       "L 228.046733 114.615633 \n",
       "L 231.217188 116.523154 \n",
       "L 234.387642 86.693416 \n",
       "L 237.558097 117.20126 \n",
       "L 240.728551 44.143993 \n",
       "L 243.899006 131.581398 \n",
       "L 247.06946 103.101991 \n",
       "L 250.239915 46.851108 \n",
       "L 253.410369 70.456415 \n",
       "L 256.580824 92.294868 \n",
       "L 259.751278 123.150279 \n",
       "L 262.921733 63.490903 \n",
       "L 266.092188 97.559931 \n",
       "L 269.262642 102.896385 \n",
       "L 272.433097 53.900751 \n",
       "L 275.603551 146.017837 \n",
       "L 278.774006 57.569882 \n",
       "L 281.94446 85.539527 \n",
       "L 285.114915 102.015662 \n",
       "L 288.285369 63.108976 \n",
       "L 291.455824 72.313638 \n",
       "L 294.626278 126.417983 \n",
       "L 297.796733 91.574387 \n",
       "L 300.967188 138.461086 \n",
       "L 304.137642 81.534163 \n",
       "L 307.308097 84.563708 \n",
       "L 310.478551 17.083636 \n",
       "L 313.649006 92.003419 \n",
       "L 316.81946 136.210913 \n",
       "L 319.989915 96.765358 \n",
       "L 323.160369 96.520391 \n",
       "L 326.330824 146.460346 \n",
       "L 329.501278 105.262714 \n",
       "L 332.671733 144.09315 \n",
       "L 335.842188 121.105613 \n",
       "L 339.012642 88.885182 \n",
       "L 342.183097 85.8699 \n",
       "L 345.353551 134.645827 \n",
       "L 348.524006 89.398264 \n",
       "\" style=\"fill:none;stroke:#ff7f0e;stroke-linecap:square;stroke-width:1.5;\"/>\n",
       "   </g>\n",
       "   <g id=\"line2d_14\">\n",
       "    <path clip-path=\"url(#pa325b7f04e)\" d=\"M 44.160369 114.858105 \n",
       "L 47.330824 91.72459 \n",
       "L 50.501278 106.829452 \n",
       "L 53.671733 96.879867 \n",
       "L 56.842188 93.338347 \n",
       "L 60.012642 72.206274 \n",
       "L 63.183097 120.332937 \n",
       "L 66.353551 134.110081 \n",
       "L 69.524006 84.604405 \n",
       "L 72.69446 99.976904 \n",
       "L 75.864915 103.944041 \n",
       "L 79.035369 54.738389 \n",
       "L 82.205824 80.335661 \n",
       "L 85.376278 66.43234 \n",
       "L 88.546733 129.220291 \n",
       "L 91.717188 52.978254 \n",
       "L 94.887642 69.404476 \n",
       "L 98.058097 81.168376 \n",
       "L 101.228551 97.940094 \n",
       "L 104.399006 35.681855 \n",
       "L 107.56946 28.225383 \n",
       "L 110.739915 103.319033 \n",
       "L 113.910369 124.333549 \n",
       "L 117.080824 82.853453 \n",
       "L 120.251278 127.564525 \n",
       "L 123.421733 101.962214 \n",
       "L 126.592188 86.792411 \n",
       "L 129.762642 140.712147 \n",
       "L 132.933097 121.551987 \n",
       "L 136.103551 150.551418 \n",
       "L 139.274006 145.536499 \n",
       "L 142.44446 127.534559 \n",
       "L 145.614915 177.621111 \n",
       "L 148.785369 115.145564 \n",
       "L 151.955824 165.354362 \n",
       "L 155.126278 140.920854 \n",
       "L 158.296733 83.91153 \n",
       "L 161.467188 163.002726 \n",
       "L 164.637642 149.748297 \n",
       "L 167.808097 205.013529 \n",
       "L 170.978551 214.756364 \n",
       "L 174.149006 167.103261 \n",
       "L 177.31946 213.001383 \n",
       "L 180.489915 136.727256 \n",
       "L 183.660369 181.8915 \n",
       "L 186.830824 212.195122 \n",
       "L 190.001278 197.292974 \n",
       "L 193.171733 140.40736 \n",
       "L 196.342188 163.842189 \n",
       "L 199.512642 164.923731 \n",
       "L 202.683097 163.052163 \n",
       "L 205.853551 147.010812 \n",
       "L 209.024006 155.225744 \n",
       "L 212.19446 146.37877 \n",
       "L 215.364915 147.094454 \n",
       "L 218.535369 105.220981 \n",
       "L 221.705824 117.918529 \n",
       "L 224.876278 114.615633 \n",
       "L 228.046733 116.523154 \n",
       "L 231.217188 86.693416 \n",
       "L 234.387642 117.20126 \n",
       "L 237.558097 44.143993 \n",
       "L 240.728551 131.581398 \n",
       "L 243.899006 103.101991 \n",
       "L 247.06946 46.851108 \n",
       "L 250.239915 70.456415 \n",
       "L 253.410369 92.294868 \n",
       "L 256.580824 123.150279 \n",
       "L 259.751278 63.490903 \n",
       "L 262.921733 97.559931 \n",
       "L 266.092188 102.896385 \n",
       "L 269.262642 53.900751 \n",
       "L 272.433097 146.017837 \n",
       "L 275.603551 57.569882 \n",
       "L 278.774006 85.539527 \n",
       "L 281.94446 102.015662 \n",
       "L 285.114915 63.108976 \n",
       "L 288.285369 72.313638 \n",
       "L 291.455824 126.417983 \n",
       "L 294.626278 91.574387 \n",
       "L 297.796733 138.461086 \n",
       "L 300.967188 81.534163 \n",
       "L 304.137642 84.563708 \n",
       "L 307.308097 17.083636 \n",
       "L 310.478551 92.003419 \n",
       "L 313.649006 136.210913 \n",
       "L 316.81946 96.765358 \n",
       "L 319.989915 96.520391 \n",
       "L 323.160369 146.460346 \n",
       "L 326.330824 105.262714 \n",
       "L 329.501278 144.09315 \n",
       "L 332.671733 121.105613 \n",
       "L 335.842188 88.885182 \n",
       "L 339.012642 85.8699 \n",
       "L 342.183097 134.645827 \n",
       "L 345.353551 89.398264 \n",
       "L 348.524006 182.651836 \n",
       "\" style=\"fill:none;stroke:#2ca02c;stroke-linecap:square;stroke-width:1.5;\"/>\n",
       "   </g>\n",
       "   <g id=\"patch_3\">\n",
       "    <path d=\"M 28.942188 224.64 \n",
       "L 28.942188 7.2 \n",
       "\" style=\"fill:none;stroke:#000000;stroke-linecap:square;stroke-linejoin:miter;stroke-width:0.8;\"/>\n",
       "   </g>\n",
       "   <g id=\"patch_4\">\n",
       "    <path d=\"M 363.742188 224.64 \n",
       "L 363.742188 7.2 \n",
       "\" style=\"fill:none;stroke:#000000;stroke-linecap:square;stroke-linejoin:miter;stroke-width:0.8;\"/>\n",
       "   </g>\n",
       "   <g id=\"patch_5\">\n",
       "    <path d=\"M 28.942187 224.64 \n",
       "L 363.742188 224.64 \n",
       "\" style=\"fill:none;stroke:#000000;stroke-linecap:square;stroke-linejoin:miter;stroke-width:0.8;\"/>\n",
       "   </g>\n",
       "   <g id=\"patch_6\">\n",
       "    <path d=\"M 28.942187 7.2 \n",
       "L 363.742188 7.2 \n",
       "\" style=\"fill:none;stroke:#000000;stroke-linecap:square;stroke-linejoin:miter;stroke-width:0.8;\"/>\n",
       "   </g>\n",
       "  </g>\n",
       " </g>\n",
       " <defs>\n",
       "  <clipPath id=\"pa325b7f04e\">\n",
       "   <rect height=\"217.44\" width=\"334.8\" x=\"28.942188\" y=\"7.2\"/>\n",
       "  </clipPath>\n",
       " </defs>\n",
       "</svg>\n"
      ],
      "text/plain": [
       "<Figure size 432x288 with 1 Axes>"
      ]
     },
     "metadata": {
      "needs_background": "light"
     },
     "output_type": "display_data"
    }
   ],
   "source": [
    "plt.plot(X)\n",
    "plt.show()\n",
    "# plt.plot(Y)\n",
    "# plt.show()"
   ]
  },
  {
   "cell_type": "code",
   "execution_count": 146,
   "metadata": {},
   "outputs": [],
   "source": [
    "from tensorflow.keras.layers import Input, Dense\n",
    "from tensorflow.keras.models import Model\n",
    "from tensorflow.keras.optimizers import SGD, Adam"
   ]
  },
  {
   "cell_type": "code",
   "execution_count": 147,
   "metadata": {},
   "outputs": [
    {
     "name": "stdout",
     "output_type": "stream",
     "text": [
      "Train on 48 samples, validate on 49 samples\n",
      "Epoch 1/80\n",
      "48/48 [==============================] - 0s 6ms/sample - loss: 5.3572 - val_loss: 2.1384\n",
      "Epoch 2/80\n",
      "48/48 [==============================] - 0s 391us/sample - loss: 3.2885 - val_loss: 1.4194\n",
      "Epoch 3/80\n",
      "48/48 [==============================] - 0s 347us/sample - loss: 2.0475 - val_loss: 1.0517\n",
      "Epoch 4/80\n",
      "48/48 [==============================] - 0s 304us/sample - loss: 1.2849 - val_loss: 0.9325\n",
      "Epoch 5/80\n",
      "48/48 [==============================] - 0s 379us/sample - loss: 1.0542 - val_loss: 0.9514\n",
      "Epoch 6/80\n",
      "48/48 [==============================] - 0s 441us/sample - loss: 1.0715 - val_loss: 1.0155\n",
      "Epoch 7/80\n",
      "48/48 [==============================] - 0s 348us/sample - loss: 1.2308 - val_loss: 1.0563\n",
      "Epoch 8/80\n",
      "48/48 [==============================] - 0s 389us/sample - loss: 1.2942 - val_loss: 1.0356\n",
      "Epoch 9/80\n",
      "48/48 [==============================] - 0s 461us/sample - loss: 1.2406 - val_loss: 0.9594\n",
      "Epoch 10/80\n",
      "48/48 [==============================] - 0s 343us/sample - loss: 1.1281 - val_loss: 0.8545\n",
      "Epoch 11/80\n",
      "48/48 [==============================] - 0s 543us/sample - loss: 0.9450 - val_loss: 0.7501\n",
      "Epoch 12/80\n",
      "48/48 [==============================] - 0s 366us/sample - loss: 0.8252 - val_loss: 0.6640\n",
      "Epoch 13/80\n",
      "48/48 [==============================] - 0s 401us/sample - loss: 0.7105 - val_loss: 0.6146\n",
      "Epoch 14/80\n",
      "48/48 [==============================] - 0s 444us/sample - loss: 0.6642 - val_loss: 0.5962\n",
      "Epoch 15/80\n",
      "48/48 [==============================] - 0s 571us/sample - loss: 0.6523 - val_loss: 0.5978\n",
      "Epoch 16/80\n",
      "48/48 [==============================] - 0s 311us/sample - loss: 0.6696 - val_loss: 0.6110\n",
      "Epoch 17/80\n",
      "48/48 [==============================] - 0s 378us/sample - loss: 0.6864 - val_loss: 0.6266\n",
      "Epoch 18/80\n",
      "48/48 [==============================] - 0s 529us/sample - loss: 0.6841 - val_loss: 0.6386\n",
      "Epoch 19/80\n",
      "48/48 [==============================] - 0s 402us/sample - loss: 0.6663 - val_loss: 0.6508\n",
      "Epoch 20/80\n",
      "48/48 [==============================] - 0s 554us/sample - loss: 0.6556 - val_loss: 0.6694\n",
      "Epoch 21/80\n",
      "48/48 [==============================] - 0s 360us/sample - loss: 0.6449 - val_loss: 0.6874\n",
      "Epoch 22/80\n",
      "48/48 [==============================] - 0s 394us/sample - loss: 0.6340 - val_loss: 0.7030\n",
      "Epoch 23/80\n",
      "48/48 [==============================] - 0s 599us/sample - loss: 0.6327 - val_loss: 0.7098\n",
      "Epoch 24/80\n",
      "48/48 [==============================] - 0s 346us/sample - loss: 0.6410 - val_loss: 0.7104\n",
      "Epoch 25/80\n",
      "48/48 [==============================] - 0s 313us/sample - loss: 0.6373 - val_loss: 0.7031\n",
      "Epoch 26/80\n",
      "48/48 [==============================] - 0s 462us/sample - loss: 0.6331 - val_loss: 0.6918\n",
      "Epoch 27/80\n",
      "48/48 [==============================] - 0s 352us/sample - loss: 0.6309 - val_loss: 0.6784\n",
      "Epoch 28/80\n",
      "48/48 [==============================] - 0s 404us/sample - loss: 0.6306 - val_loss: 0.6685\n",
      "Epoch 29/80\n",
      "48/48 [==============================] - 0s 505us/sample - loss: 0.6363 - val_loss: 0.6615\n",
      "Epoch 30/80\n",
      "48/48 [==============================] - 0s 460us/sample - loss: 0.6333 - val_loss: 0.6600\n",
      "Epoch 31/80\n",
      "48/48 [==============================] - 0s 425us/sample - loss: 0.6315 - val_loss: 0.6611\n",
      "Epoch 32/80\n",
      "48/48 [==============================] - 0s 420us/sample - loss: 0.6295 - val_loss: 0.6637\n",
      "Epoch 33/80\n",
      "48/48 [==============================] - 0s 577us/sample - loss: 0.6270 - val_loss: 0.6667\n",
      "Epoch 34/80\n",
      "48/48 [==============================] - 0s 450us/sample - loss: 0.6302 - val_loss: 0.6744\n",
      "Epoch 35/80\n",
      "48/48 [==============================] - 0s 476us/sample - loss: 0.6262 - val_loss: 0.6770\n",
      "Epoch 36/80\n",
      "48/48 [==============================] - 0s 397us/sample - loss: 0.6272 - val_loss: 0.6768\n",
      "Epoch 37/80\n",
      "48/48 [==============================] - 0s 548us/sample - loss: 0.6273 - val_loss: 0.6717\n",
      "Epoch 38/80\n",
      "48/48 [==============================] - 0s 329us/sample - loss: 0.6279 - val_loss: 0.6643\n",
      "Epoch 39/80\n",
      "48/48 [==============================] - 0s 350us/sample - loss: 0.6249 - val_loss: 0.6577\n",
      "Epoch 40/80\n",
      "48/48 [==============================] - 0s 373us/sample - loss: 0.6263 - val_loss: 0.6526\n",
      "Epoch 41/80\n",
      "48/48 [==============================] - 0s 475us/sample - loss: 0.6307 - val_loss: 0.6481\n",
      "Epoch 42/80\n",
      "48/48 [==============================] - 0s 445us/sample - loss: 0.6297 - val_loss: 0.6451\n",
      "Epoch 43/80\n",
      "48/48 [==============================] - 0s 319us/sample - loss: 0.6291 - val_loss: 0.6412\n",
      "Epoch 44/80\n",
      "48/48 [==============================] - 0s 473us/sample - loss: 0.6274 - val_loss: 0.6420\n",
      "Epoch 45/80\n",
      "48/48 [==============================] - 0s 374us/sample - loss: 0.6258 - val_loss: 0.6426\n",
      "Epoch 46/80\n",
      "48/48 [==============================] - 0s 402us/sample - loss: 0.6246 - val_loss: 0.6426\n",
      "Epoch 47/80\n",
      "48/48 [==============================] - 0s 503us/sample - loss: 0.6251 - val_loss: 0.6474\n",
      "Epoch 48/80\n",
      "48/48 [==============================] - 0s 391us/sample - loss: 0.6274 - val_loss: 0.6525\n",
      "Epoch 49/80\n",
      "48/48 [==============================] - 0s 475us/sample - loss: 0.6361 - val_loss: 0.6577\n",
      "Epoch 50/80\n",
      "48/48 [==============================] - 0s 339us/sample - loss: 0.6328 - val_loss: 0.6542\n",
      "Epoch 51/80\n",
      "48/48 [==============================] - 0s 467us/sample - loss: 0.6333 - val_loss: 0.6455\n",
      "Epoch 52/80\n",
      "48/48 [==============================] - 0s 451us/sample - loss: 0.6285 - val_loss: 0.6335\n",
      "Epoch 53/80\n",
      "48/48 [==============================] - 0s 358us/sample - loss: 0.6301 - val_loss: 0.6288\n",
      "Epoch 54/80\n",
      "48/48 [==============================] - 0s 418us/sample - loss: 0.6317 - val_loss: 0.6248\n",
      "Epoch 55/80\n",
      "48/48 [==============================] - 0s 1ms/sample - loss: 0.6302 - val_loss: 0.6260\n",
      "Epoch 56/80\n",
      "48/48 [==============================] - 0s 581us/sample - loss: 0.6296 - val_loss: 0.6300\n",
      "Epoch 57/80\n",
      "48/48 [==============================] - 0s 373us/sample - loss: 0.6273 - val_loss: 0.6357\n",
      "Epoch 58/80\n",
      "48/48 [==============================] - 0s 445us/sample - loss: 0.6243 - val_loss: 0.6468\n",
      "Epoch 59/80\n",
      "48/48 [==============================] - 0s 411us/sample - loss: 0.6275 - val_loss: 0.6625\n",
      "Epoch 60/80\n",
      "48/48 [==============================] - 0s 377us/sample - loss: 0.6274 - val_loss: 0.6720\n",
      "Epoch 61/80\n",
      "48/48 [==============================] - 0s 515us/sample - loss: 0.6297 - val_loss: 0.6787\n",
      "Epoch 62/80\n",
      "48/48 [==============================] - 0s 363us/sample - loss: 0.6303 - val_loss: 0.6801\n",
      "Epoch 63/80\n",
      "48/48 [==============================] - 0s 322us/sample - loss: 0.6304 - val_loss: 0.6766\n",
      "Epoch 64/80\n",
      "48/48 [==============================] - 0s 682us/sample - loss: 0.6288 - val_loss: 0.6686\n",
      "Epoch 65/80\n",
      "48/48 [==============================] - 0s 375us/sample - loss: 0.6265 - val_loss: 0.6632\n",
      "Epoch 66/80\n",
      "48/48 [==============================] - 0s 269us/sample - loss: 0.6303 - val_loss: 0.6614\n",
      "Epoch 67/80\n",
      "48/48 [==============================] - 0s 726us/sample - loss: 0.6281 - val_loss: 0.6604\n",
      "Epoch 68/80\n",
      "48/48 [==============================] - 0s 637us/sample - loss: 0.6259 - val_loss: 0.6632\n",
      "Epoch 69/80\n",
      "48/48 [==============================] - 0s 690us/sample - loss: 0.6283 - val_loss: 0.6645\n",
      "Epoch 70/80\n",
      "48/48 [==============================] - 0s 326us/sample - loss: 0.6300 - val_loss: 0.6627\n",
      "Epoch 71/80\n",
      "48/48 [==============================] - 0s 414us/sample - loss: 0.6277 - val_loss: 0.6615\n",
      "Epoch 72/80\n",
      "48/48 [==============================] - 0s 446us/sample - loss: 0.6262 - val_loss: 0.6565\n",
      "Epoch 73/80\n",
      "48/48 [==============================] - 0s 353us/sample - loss: 0.6259 - val_loss: 0.6529\n",
      "Epoch 74/80\n",
      "48/48 [==============================] - 0s 393us/sample - loss: 0.6261 - val_loss: 0.6547\n",
      "Epoch 75/80\n",
      "48/48 [==============================] - 0s 554us/sample - loss: 0.6288 - val_loss: 0.6585\n",
      "Epoch 76/80\n",
      "48/48 [==============================] - 0s 429us/sample - loss: 0.6307 - val_loss: 0.6603\n",
      "Epoch 77/80\n",
      "48/48 [==============================] - 0s 496us/sample - loss: 0.6282 - val_loss: 0.6560\n",
      "Epoch 78/80\n",
      "48/48 [==============================] - 0s 320us/sample - loss: 0.6271 - val_loss: 0.6562\n",
      "Epoch 79/80\n",
      "48/48 [==============================] - 0s 427us/sample - loss: 0.6275 - val_loss: 0.6647\n",
      "Epoch 80/80\n",
      "48/48 [==============================] - 0s 367us/sample - loss: 0.6278 - val_loss: 0.6749\n"
     ]
    }
   ],
   "source": [
    "### try autoregressive linear model\n",
    "i = Input(shape=(T,))\n",
    "x = Dense(1)(i)\n",
    "model = Model(i, x)\n",
    "model.compile(\n",
    "  loss='mse',\n",
    "  optimizer=Adam(lr=0.1),\n",
    ")\n",
    "\n",
    "# train the RNN\n",
    "r = model.fit(\n",
    "  X[:-N//2], Y[:-N//2],#TRAINING DATA\n",
    "  epochs=80,\n",
    "  validation_data=(X[-N//2:], Y[-N//2:]),#VALIDATION DATA SPLIT\n",
    ")"
   ]
  },
  {
   "cell_type": "code",
   "execution_count": 148,
   "metadata": {},
   "outputs": [
    {
     "data": {
      "text/plain": [
       "<matplotlib.legend.Legend at 0x7f897b395ba8>"
      ]
     },
     "execution_count": 148,
     "metadata": {},
     "output_type": "execute_result"
    },
    {
     "data": {
      "image/png": "[encoded data removed]",
      "image/svg+xml": [
       "<?xml version=\"1.0\" encoding=\"utf-8\" standalone=\"no\"?>\n",
       "<!DOCTYPE svg PUBLIC \"-//W3C//DTD SVG 1.1//EN\"\n",
       "  \"http://www.w3.org/Graphics/SVG/1.1/DTD/svg11.dtd\">\n",
       "<!-- Created with matplotlib (https://matplotlib.org/) -->\n",
       "<svg height=\"248.518125pt\" version=\"1.1\" viewBox=\"0 0 362.5625 248.518125\" width=\"362.5625pt\" xmlns=\"http://www.w3.org/2000/svg\" xmlns:xlink=\"http://www.w3.org/1999/xlink\">\n",
       " <metadata>\n",
       "  <rdf:RDF xmlns:cc=\"http://creativecommons.org/ns#\" xmlns:dc=\"http://purl.org/dc/elements/1.1/\" xmlns:rdf=\"http://www.w3.org/1999/02/22-rdf-syntax-ns#\">\n",
       "   <cc:Work>\n",
       "    <dc:type rdf:resource=\"http://purl.org/dc/dcmitype/StillImage\"/>\n",
       "    <dc:date>2020-12-09T23:16:11.858880</dc:date>\n",
       "    <dc:format>image/svg+xml</dc:format>\n",
       "    <dc:creator>\n",
       "     <cc:Agent>\n",
       "      <dc:title>Matplotlib v3.3.3, https://matplotlib.org/</dc:title>\n",
       "     </cc:Agent>\n",
       "    </dc:creator>\n",
       "   </cc:Work>\n",
       "  </rdf:RDF>\n",
       " </metadata>\n",
       " <defs>\n",
       "  <style type=\"text/css\">*{stroke-linecap:butt;stroke-linejoin:round;}</style>\n",
       " </defs>\n",
       " <g id=\"figure_1\">\n",
       "  <g id=\"patch_1\">\n",
       "   <path d=\"M 0 248.518125 \n",
       "L 362.5625 248.518125 \n",
       "L 362.5625 0 \n",
       "L 0 0 \n",
       "z\n",
       "\" style=\"fill:none;\"/>\n",
       "  </g>\n",
       "  <g id=\"axes_1\">\n",
       "   <g id=\"patch_2\">\n",
       "    <path d=\"M 20.5625 224.64 \n",
       "L 355.3625 224.64 \n",
       "L 355.3625 7.2 \n",
       "L 20.5625 7.2 \n",
       "z\n",
       "\" style=\"fill:#ffffff;\"/>\n",
       "   </g>\n",
       "   <g id=\"matplotlib.axis_1\">\n",
       "    <g id=\"xtick_1\">\n",
       "     <g id=\"line2d_1\">\n",
       "      <defs>\n",
       "       <path d=\"M 0 0 \n",
       "L 0 3.5 \n",
       "\" id=\"md3a0f3aac3\" style=\"stroke:#000000;stroke-width:0.8;\"/>\n",
       "      </defs>\n",
       "      <g>\n",
       "       <use style=\"stroke:#000000;stroke-width:0.8;\" x=\"35.780682\" xlink:href=\"#md3a0f3aac3\" y=\"224.64\"/>\n",
       "      </g>\n",
       "     </g>\n",
       "     <g id=\"text_1\">\n",
       "      <!-- 0 -->\n",
       "      <g transform=\"translate(32.599432 239.238438)scale(0.1 -0.1)\">\n",
       "       <defs>\n",
       "        <path d=\"M 31.78125 66.40625 \n",
       "Q 24.171875 66.40625 20.328125 58.90625 \n",
       "Q 16.5 51.421875 16.5 36.375 \n",
       "Q 16.5 21.390625 20.328125 13.890625 \n",
       "Q 24.171875 6.390625 31.78125 6.390625 \n",
       "Q 39.453125 6.390625 43.28125 13.890625 \n",
       "Q 47.125 21.390625 47.125 36.375 \n",
       "Q 47.125 51.421875 43.28125 58.90625 \n",
       "Q 39.453125 66.40625 31.78125 66.40625 \n",
       "z\n",
       "M 31.78125 74.21875 \n",
       "Q 44.046875 74.21875 50.515625 64.515625 \n",
       "Q 56.984375 54.828125 56.984375 36.375 \n",
       "Q 56.984375 17.96875 50.515625 8.265625 \n",
       "Q 44.046875 -1.421875 31.78125 -1.421875 \n",
       "Q 19.53125 -1.421875 13.0625 8.265625 \n",
       "Q 6.59375 17.96875 6.59375 36.375 \n",
       "Q 6.59375 54.828125 13.0625 64.515625 \n",
       "Q 19.53125 74.21875 31.78125 74.21875 \n",
       "z\n",
       "\" id=\"DejaVuSans-48\"/>\n",
       "       </defs>\n",
       "       <use xlink:href=\"#DejaVuSans-48\"/>\n",
       "      </g>\n",
       "     </g>\n",
       "    </g>\n",
       "    <g id=\"xtick_2\">\n",
       "     <g id=\"line2d_2\">\n",
       "      <g>\n",
       "       <use style=\"stroke:#000000;stroke-width:0.8;\" x=\"74.307724\" xlink:href=\"#md3a0f3aac3\" y=\"224.64\"/>\n",
       "      </g>\n",
       "     </g>\n",
       "     <g id=\"text_2\">\n",
       "      <!-- 10 -->\n",
       "      <g transform=\"translate(67.945224 239.238438)scale(0.1 -0.1)\">\n",
       "       <defs>\n",
       "        <path d=\"M 12.40625 8.296875 \n",
       "L 28.515625 8.296875 \n",
       "L 28.515625 63.921875 \n",
       "L 10.984375 60.40625 \n",
       "L 10.984375 69.390625 \n",
       "L 28.421875 72.90625 \n",
       "L 38.28125 72.90625 \n",
       "L 38.28125 8.296875 \n",
       "L 54.390625 8.296875 \n",
       "L 54.390625 0 \n",
       "L 12.40625 0 \n",
       "z\n",
       "\" id=\"DejaVuSans-49\"/>\n",
       "       </defs>\n",
       "       <use xlink:href=\"#DejaVuSans-49\"/>\n",
       "       <use x=\"63.623047\" xlink:href=\"#DejaVuSans-48\"/>\n",
       "      </g>\n",
       "     </g>\n",
       "    </g>\n",
       "    <g id=\"xtick_3\">\n",
       "     <g id=\"line2d_3\">\n",
       "      <g>\n",
       "       <use style=\"stroke:#000000;stroke-width:0.8;\" x=\"112.834767\" xlink:href=\"#md3a0f3aac3\" y=\"224.64\"/>\n",
       "      </g>\n",
       "     </g>\n",
       "     <g id=\"text_3\">\n",
       "      <!-- 20 -->\n",
       "      <g transform=\"translate(106.472267 239.238438)scale(0.1 -0.1)\">\n",
       "       <defs>\n",
       "        <path d=\"M 19.1875 8.296875 \n",
       "L 53.609375 8.296875 \n",
       "L 53.609375 0 \n",
       "L 7.328125 0 \n",
       "L 7.328125 8.296875 \n",
       "Q 12.9375 14.109375 22.625 23.890625 \n",
       "Q 32.328125 33.6875 34.8125 36.53125 \n",
       "Q 39.546875 41.84375 41.421875 45.53125 \n",
       "Q 43.3125 49.21875 43.3125 52.78125 \n",
       "Q 43.3125 58.59375 39.234375 62.25 \n",
       "Q 35.15625 65.921875 28.609375 65.921875 \n",
       "Q 23.96875 65.921875 18.8125 64.3125 \n",
       "Q 13.671875 62.703125 7.8125 59.421875 \n",
       "L 7.8125 69.390625 \n",
       "Q 13.765625 71.78125 18.9375 73 \n",
       "Q 24.125 74.21875 28.421875 74.21875 \n",
       "Q 39.75 74.21875 46.484375 68.546875 \n",
       "Q 53.21875 62.890625 53.21875 53.421875 \n",
       "Q 53.21875 48.921875 51.53125 44.890625 \n",
       "Q 49.859375 40.875 45.40625 35.40625 \n",
       "Q 44.1875 33.984375 37.640625 27.21875 \n",
       "Q 31.109375 20.453125 19.1875 8.296875 \n",
       "z\n",
       "\" id=\"DejaVuSans-50\"/>\n",
       "       </defs>\n",
       "       <use xlink:href=\"#DejaVuSans-50\"/>\n",
       "       <use x=\"63.623047\" xlink:href=\"#DejaVuSans-48\"/>\n",
       "      </g>\n",
       "     </g>\n",
       "    </g>\n",
       "    <g id=\"xtick_4\">\n",
       "     <g id=\"line2d_4\">\n",
       "      <g>\n",
       "       <use style=\"stroke:#000000;stroke-width:0.8;\" x=\"151.36181\" xlink:href=\"#md3a0f3aac3\" y=\"224.64\"/>\n",
       "      </g>\n",
       "     </g>\n",
       "     <g id=\"text_4\">\n",
       "      <!-- 30 -->\n",
       "      <g transform=\"translate(144.99931 239.238438)scale(0.1 -0.1)\">\n",
       "       <defs>\n",
       "        <path d=\"M 40.578125 39.3125 \n",
       "Q 47.65625 37.796875 51.625 33 \n",
       "Q 55.609375 28.21875 55.609375 21.1875 \n",
       "Q 55.609375 10.40625 48.1875 4.484375 \n",
       "Q 40.765625 -1.421875 27.09375 -1.421875 \n",
       "Q 22.515625 -1.421875 17.65625 -0.515625 \n",
       "Q 12.796875 0.390625 7.625 2.203125 \n",
       "L 7.625 11.71875 \n",
       "Q 11.71875 9.328125 16.59375 8.109375 \n",
       "Q 21.484375 6.890625 26.8125 6.890625 \n",
       "Q 36.078125 6.890625 40.9375 10.546875 \n",
       "Q 45.796875 14.203125 45.796875 21.1875 \n",
       "Q 45.796875 27.640625 41.28125 31.265625 \n",
       "Q 36.765625 34.90625 28.71875 34.90625 \n",
       "L 20.21875 34.90625 \n",
       "L 20.21875 43.015625 \n",
       "L 29.109375 43.015625 \n",
       "Q 36.375 43.015625 40.234375 45.921875 \n",
       "Q 44.09375 48.828125 44.09375 54.296875 \n",
       "Q 44.09375 59.90625 40.109375 62.90625 \n",
       "Q 36.140625 65.921875 28.71875 65.921875 \n",
       "Q 24.65625 65.921875 20.015625 65.03125 \n",
       "Q 15.375 64.15625 9.8125 62.3125 \n",
       "L 9.8125 71.09375 \n",
       "Q 15.4375 72.65625 20.34375 73.4375 \n",
       "Q 25.25 74.21875 29.59375 74.21875 \n",
       "Q 40.828125 74.21875 47.359375 69.109375 \n",
       "Q 53.90625 64.015625 53.90625 55.328125 \n",
       "Q 53.90625 49.265625 50.4375 45.09375 \n",
       "Q 46.96875 40.921875 40.578125 39.3125 \n",
       "z\n",
       "\" id=\"DejaVuSans-51\"/>\n",
       "       </defs>\n",
       "       <use xlink:href=\"#DejaVuSans-51\"/>\n",
       "       <use x=\"63.623047\" xlink:href=\"#DejaVuSans-48\"/>\n",
       "      </g>\n",
       "     </g>\n",
       "    </g>\n",
       "    <g id=\"xtick_5\">\n",
       "     <g id=\"line2d_5\">\n",
       "      <g>\n",
       "       <use style=\"stroke:#000000;stroke-width:0.8;\" x=\"189.888852\" xlink:href=\"#md3a0f3aac3\" y=\"224.64\"/>\n",
       "      </g>\n",
       "     </g>\n",
       "     <g id=\"text_5\">\n",
       "      <!-- 40 -->\n",
       "      <g transform=\"translate(183.526352 239.238438)scale(0.1 -0.1)\">\n",
       "       <defs>\n",
       "        <path d=\"M 37.796875 64.3125 \n",
       "L 12.890625 25.390625 \n",
       "L 37.796875 25.390625 \n",
       "z\n",
       "M 35.203125 72.90625 \n",
       "L 47.609375 72.90625 \n",
       "L 47.609375 25.390625 \n",
       "L 58.015625 25.390625 \n",
       "L 58.015625 17.1875 \n",
       "L 47.609375 17.1875 \n",
       "L 47.609375 0 \n",
       "L 37.796875 0 \n",
       "L 37.796875 17.1875 \n",
       "L 4.890625 17.1875 \n",
       "L 4.890625 26.703125 \n",
       "z\n",
       "\" id=\"DejaVuSans-52\"/>\n",
       "       </defs>\n",
       "       <use xlink:href=\"#DejaVuSans-52\"/>\n",
       "       <use x=\"63.623047\" xlink:href=\"#DejaVuSans-48\"/>\n",
       "      </g>\n",
       "     </g>\n",
       "    </g>\n",
       "    <g id=\"xtick_6\">\n",
       "     <g id=\"line2d_6\">\n",
       "      <g>\n",
       "       <use style=\"stroke:#000000;stroke-width:0.8;\" x=\"228.415895\" xlink:href=\"#md3a0f3aac3\" y=\"224.64\"/>\n",
       "      </g>\n",
       "     </g>\n",
       "     <g id=\"text_6\">\n",
       "      <!-- 50 -->\n",
       "      <g transform=\"translate(222.053395 239.238438)scale(0.1 -0.1)\">\n",
       "       <defs>\n",
       "        <path d=\"M 10.796875 72.90625 \n",
       "L 49.515625 72.90625 \n",
       "L 49.515625 64.59375 \n",
       "L 19.828125 64.59375 \n",
       "L 19.828125 46.734375 \n",
       "Q 21.96875 47.46875 24.109375 47.828125 \n",
       "Q 26.265625 48.1875 28.421875 48.1875 \n",
       "Q 40.625 48.1875 47.75 41.5 \n",
       "Q 54.890625 34.8125 54.890625 23.390625 \n",
       "Q 54.890625 11.625 47.5625 5.09375 \n",
       "Q 40.234375 -1.421875 26.90625 -1.421875 \n",
       "Q 22.3125 -1.421875 17.546875 -0.640625 \n",
       "Q 12.796875 0.140625 7.71875 1.703125 \n",
       "L 7.71875 11.625 \n",
       "Q 12.109375 9.234375 16.796875 8.0625 \n",
       "Q 21.484375 6.890625 26.703125 6.890625 \n",
       "Q 35.15625 6.890625 40.078125 11.328125 \n",
       "Q 45.015625 15.765625 45.015625 23.390625 \n",
       "Q 45.015625 31 40.078125 35.4375 \n",
       "Q 35.15625 39.890625 26.703125 39.890625 \n",
       "Q 22.75 39.890625 18.8125 39.015625 \n",
       "Q 14.890625 38.140625 10.796875 36.28125 \n",
       "z\n",
       "\" id=\"DejaVuSans-53\"/>\n",
       "       </defs>\n",
       "       <use xlink:href=\"#DejaVuSans-53\"/>\n",
       "       <use x=\"63.623047\" xlink:href=\"#DejaVuSans-48\"/>\n",
       "      </g>\n",
       "     </g>\n",
       "    </g>\n",
       "    <g id=\"xtick_7\">\n",
       "     <g id=\"line2d_7\">\n",
       "      <g>\n",
       "       <use style=\"stroke:#000000;stroke-width:0.8;\" x=\"266.942937\" xlink:href=\"#md3a0f3aac3\" y=\"224.64\"/>\n",
       "      </g>\n",
       "     </g>\n",
       "     <g id=\"text_7\">\n",
       "      <!-- 60 -->\n",
       "      <g transform=\"translate(260.580437 239.238438)scale(0.1 -0.1)\">\n",
       "       <defs>\n",
       "        <path d=\"M 33.015625 40.375 \n",
       "Q 26.375 40.375 22.484375 35.828125 \n",
       "Q 18.609375 31.296875 18.609375 23.390625 \n",
       "Q 18.609375 15.53125 22.484375 10.953125 \n",
       "Q 26.375 6.390625 33.015625 6.390625 \n",
       "Q 39.65625 6.390625 43.53125 10.953125 \n",
       "Q 47.40625 15.53125 47.40625 23.390625 \n",
       "Q 47.40625 31.296875 43.53125 35.828125 \n",
       "Q 39.65625 40.375 33.015625 40.375 \n",
       "z\n",
       "M 52.59375 71.296875 \n",
       "L 52.59375 62.3125 \n",
       "Q 48.875 64.0625 45.09375 64.984375 \n",
       "Q 41.3125 65.921875 37.59375 65.921875 \n",
       "Q 27.828125 65.921875 22.671875 59.328125 \n",
       "Q 17.53125 52.734375 16.796875 39.40625 \n",
       "Q 19.671875 43.65625 24.015625 45.921875 \n",
       "Q 28.375 48.1875 33.59375 48.1875 \n",
       "Q 44.578125 48.1875 50.953125 41.515625 \n",
       "Q 57.328125 34.859375 57.328125 23.390625 \n",
       "Q 57.328125 12.15625 50.6875 5.359375 \n",
       "Q 44.046875 -1.421875 33.015625 -1.421875 \n",
       "Q 20.359375 -1.421875 13.671875 8.265625 \n",
       "Q 6.984375 17.96875 6.984375 36.375 \n",
       "Q 6.984375 53.65625 15.1875 63.9375 \n",
       "Q 23.390625 74.21875 37.203125 74.21875 \n",
       "Q 40.921875 74.21875 44.703125 73.484375 \n",
       "Q 48.484375 72.75 52.59375 71.296875 \n",
       "z\n",
       "\" id=\"DejaVuSans-54\"/>\n",
       "       </defs>\n",
       "       <use xlink:href=\"#DejaVuSans-54\"/>\n",
       "       <use x=\"63.623047\" xlink:href=\"#DejaVuSans-48\"/>\n",
       "      </g>\n",
       "     </g>\n",
       "    </g>\n",
       "    <g id=\"xtick_8\">\n",
       "     <g id=\"line2d_8\">\n",
       "      <g>\n",
       "       <use style=\"stroke:#000000;stroke-width:0.8;\" x=\"305.46998\" xlink:href=\"#md3a0f3aac3\" y=\"224.64\"/>\n",
       "      </g>\n",
       "     </g>\n",
       "     <g id=\"text_8\">\n",
       "      <!-- 70 -->\n",
       "      <g transform=\"translate(299.10748 239.238438)scale(0.1 -0.1)\">\n",
       "       <defs>\n",
       "        <path d=\"M 8.203125 72.90625 \n",
       "L 55.078125 72.90625 \n",
       "L 55.078125 68.703125 \n",
       "L 28.609375 0 \n",
       "L 18.3125 0 \n",
       "L 43.21875 64.59375 \n",
       "L 8.203125 64.59375 \n",
       "z\n",
       "\" id=\"DejaVuSans-55\"/>\n",
       "       </defs>\n",
       "       <use xlink:href=\"#DejaVuSans-55\"/>\n",
       "       <use x=\"63.623047\" xlink:href=\"#DejaVuSans-48\"/>\n",
       "      </g>\n",
       "     </g>\n",
       "    </g>\n",
       "    <g id=\"xtick_9\">\n",
       "     <g id=\"line2d_9\">\n",
       "      <g>\n",
       "       <use style=\"stroke:#000000;stroke-width:0.8;\" x=\"343.997022\" xlink:href=\"#md3a0f3aac3\" y=\"224.64\"/>\n",
       "      </g>\n",
       "     </g>\n",
       "     <g id=\"text_9\">\n",
       "      <!-- 80 -->\n",
       "      <g transform=\"translate(337.634522 239.238438)scale(0.1 -0.1)\">\n",
       "       <defs>\n",
       "        <path d=\"M 31.78125 34.625 \n",
       "Q 24.75 34.625 20.71875 30.859375 \n",
       "Q 16.703125 27.09375 16.703125 20.515625 \n",
       "Q 16.703125 13.921875 20.71875 10.15625 \n",
       "Q 24.75 6.390625 31.78125 6.390625 \n",
       "Q 38.8125 6.390625 42.859375 10.171875 \n",
       "Q 46.921875 13.96875 46.921875 20.515625 \n",
       "Q 46.921875 27.09375 42.890625 30.859375 \n",
       "Q 38.875 34.625 31.78125 34.625 \n",
       "z\n",
       "M 21.921875 38.8125 \n",
       "Q 15.578125 40.375 12.03125 44.71875 \n",
       "Q 8.5 49.078125 8.5 55.328125 \n",
       "Q 8.5 64.0625 14.71875 69.140625 \n",
       "Q 20.953125 74.21875 31.78125 74.21875 \n",
       "Q 42.671875 74.21875 48.875 69.140625 \n",
       "Q 55.078125 64.0625 55.078125 55.328125 \n",
       "Q 55.078125 49.078125 51.53125 44.71875 \n",
       "Q 48 40.375 41.703125 38.8125 \n",
       "Q 48.828125 37.15625 52.796875 32.3125 \n",
       "Q 56.78125 27.484375 56.78125 20.515625 \n",
       "Q 56.78125 9.90625 50.3125 4.234375 \n",
       "Q 43.84375 -1.421875 31.78125 -1.421875 \n",
       "Q 19.734375 -1.421875 13.25 4.234375 \n",
       "Q 6.78125 9.90625 6.78125 20.515625 \n",
       "Q 6.78125 27.484375 10.78125 32.3125 \n",
       "Q 14.796875 37.15625 21.921875 38.8125 \n",
       "z\n",
       "M 18.3125 54.390625 \n",
       "Q 18.3125 48.734375 21.84375 45.5625 \n",
       "Q 25.390625 42.390625 31.78125 42.390625 \n",
       "Q 38.140625 42.390625 41.71875 45.5625 \n",
       "Q 45.3125 48.734375 45.3125 54.390625 \n",
       "Q 45.3125 60.0625 41.71875 63.234375 \n",
       "Q 38.140625 66.40625 31.78125 66.40625 \n",
       "Q 25.390625 66.40625 21.84375 63.234375 \n",
       "Q 18.3125 60.0625 18.3125 54.390625 \n",
       "z\n",
       "\" id=\"DejaVuSans-56\"/>\n",
       "       </defs>\n",
       "       <use xlink:href=\"#DejaVuSans-56\"/>\n",
       "       <use x=\"63.623047\" xlink:href=\"#DejaVuSans-48\"/>\n",
       "      </g>\n",
       "     </g>\n",
       "    </g>\n",
       "   </g>\n",
       "   <g id=\"matplotlib.axis_2\">\n",
       "    <g id=\"ytick_1\">\n",
       "     <g id=\"line2d_10\">\n",
       "      <defs>\n",
       "       <path d=\"M 0 0 \n",
       "L -3.5 0 \n",
       "\" id=\"me28bb9c60e\" style=\"stroke:#000000;stroke-width:0.8;\"/>\n",
       "      </defs>\n",
       "      <g>\n",
       "       <use style=\"stroke:#000000;stroke-width:0.8;\" x=\"20.5625\" xlink:href=\"#me28bb9c60e\" y=\"197.990167\"/>\n",
       "      </g>\n",
       "     </g>\n",
       "     <g id=\"text_10\">\n",
       "      <!-- 1 -->\n",
       "      <g transform=\"translate(7.2 201.789386)scale(0.1 -0.1)\">\n",
       "       <use xlink:href=\"#DejaVuSans-49\"/>\n",
       "      </g>\n",
       "     </g>\n",
       "    </g>\n",
       "    <g id=\"ytick_2\">\n",
       "     <g id=\"line2d_11\">\n",
       "      <g>\n",
       "       <use style=\"stroke:#000000;stroke-width:0.8;\" x=\"20.5625\" xlink:href=\"#me28bb9c60e\" y=\"156.470992\"/>\n",
       "      </g>\n",
       "     </g>\n",
       "     <g id=\"text_11\">\n",
       "      <!-- 2 -->\n",
       "      <g transform=\"translate(7.2 160.270211)scale(0.1 -0.1)\">\n",
       "       <use xlink:href=\"#DejaVuSans-50\"/>\n",
       "      </g>\n",
       "     </g>\n",
       "    </g>\n",
       "    <g id=\"ytick_3\">\n",
       "     <g id=\"line2d_12\">\n",
       "      <g>\n",
       "       <use style=\"stroke:#000000;stroke-width:0.8;\" x=\"20.5625\" xlink:href=\"#me28bb9c60e\" y=\"114.951817\"/>\n",
       "      </g>\n",
       "     </g>\n",
       "     <g id=\"text_12\">\n",
       "      <!-- 3 -->\n",
       "      <g transform=\"translate(7.2 118.751036)scale(0.1 -0.1)\">\n",
       "       <use xlink:href=\"#DejaVuSans-51\"/>\n",
       "      </g>\n",
       "     </g>\n",
       "    </g>\n",
       "    <g id=\"ytick_4\">\n",
       "     <g id=\"line2d_13\">\n",
       "      <g>\n",
       "       <use style=\"stroke:#000000;stroke-width:0.8;\" x=\"20.5625\" xlink:href=\"#me28bb9c60e\" y=\"73.432642\"/>\n",
       "      </g>\n",
       "     </g>\n",
       "     <g id=\"text_13\">\n",
       "      <!-- 4 -->\n",
       "      <g transform=\"translate(7.2 77.231861)scale(0.1 -0.1)\">\n",
       "       <use xlink:href=\"#DejaVuSans-52\"/>\n",
       "      </g>\n",
       "     </g>\n",
       "    </g>\n",
       "    <g id=\"ytick_5\">\n",
       "     <g id=\"line2d_14\">\n",
       "      <g>\n",
       "       <use style=\"stroke:#000000;stroke-width:0.8;\" x=\"20.5625\" xlink:href=\"#me28bb9c60e\" y=\"31.913467\"/>\n",
       "      </g>\n",
       "     </g>\n",
       "     <g id=\"text_14\">\n",
       "      <!-- 5 -->\n",
       "      <g transform=\"translate(7.2 35.712686)scale(0.1 -0.1)\">\n",
       "       <use xlink:href=\"#DejaVuSans-53\"/>\n",
       "      </g>\n",
       "     </g>\n",
       "    </g>\n",
       "   </g>\n",
       "   <g id=\"line2d_15\">\n",
       "    <path clip-path=\"url(#p09b45c48b8)\" d=\"M 35.780682 17.083636 \n",
       "L 39.633386 102.975284 \n",
       "L 43.48609 154.498875 \n",
       "L 47.338795 186.16031 \n",
       "L 51.191499 195.739129 \n",
       "L 55.044203 195.021303 \n",
       "L 58.896907 188.409101 \n",
       "L 62.749612 185.776959 \n",
       "L 66.602316 188.002299 \n",
       "L 70.45502 192.673364 \n",
       "L 74.307724 200.274906 \n",
       "L 78.160429 205.249195 \n",
       "L 82.013133 210.011019 \n",
       "L 85.865837 211.932987 \n",
       "L 89.718541 212.428062 \n",
       "L 93.571246 211.708338 \n",
       "L 97.42395 211.010645 \n",
       "L 101.276654 211.105837 \n",
       "L 105.129358 211.844185 \n",
       "L 108.982063 212.29132 \n",
       "L 112.834767 212.734101 \n",
       "L 116.687471 213.188136 \n",
       "L 120.540175 213.239924 \n",
       "L 124.39288 212.893932 \n",
       "L 128.245584 213.047436 \n",
       "L 132.098288 213.222949 \n",
       "L 135.950993 213.314969 \n",
       "L 139.803697 213.327013 \n",
       "L 143.656401 213.092745 \n",
       "L 147.509105 213.215392 \n",
       "L 151.36181 213.289135 \n",
       "L 155.214514 213.374952 \n",
       "L 159.067218 213.476291 \n",
       "L 162.919922 213.343034 \n",
       "L 166.772627 213.509652 \n",
       "L 170.625331 213.46917 \n",
       "L 174.478035 213.465867 \n",
       "L 178.330739 213.438454 \n",
       "L 182.183444 213.56234 \n",
       "L 186.036148 213.505127 \n",
       "L 189.888852 213.32442 \n",
       "L 193.741556 213.366527 \n",
       "L 197.594261 213.390249 \n",
       "L 201.446965 213.460157 \n",
       "L 205.299669 213.52697 \n",
       "L 209.152373 213.575967 \n",
       "L 213.005078 213.554597 \n",
       "L 216.857782 213.459629 \n",
       "L 220.710486 213.099173 \n",
       "L 224.56319 213.236352 \n",
       "L 228.415895 213.216303 \n",
       "L 232.268599 213.412661 \n",
       "L 236.121303 213.346517 \n",
       "L 239.974007 213.280469 \n",
       "L 243.826712 213.343266 \n",
       "L 247.679416 213.37061 \n",
       "L 251.53212 213.466186 \n",
       "L 255.384825 213.589876 \n",
       "L 259.237529 213.456379 \n",
       "L 263.090233 213.459212 \n",
       "L 266.942937 213.365864 \n",
       "L 270.795642 213.340496 \n",
       "L 274.648346 213.335983 \n",
       "L 278.50105 213.401207 \n",
       "L 282.353754 213.499061 \n",
       "L 286.206459 213.339285 \n",
       "L 290.059163 213.431094 \n",
       "L 293.911867 213.520487 \n",
       "L 297.764571 213.421259 \n",
       "L 301.617276 213.352959 \n",
       "L 305.46998 213.446343 \n",
       "L 309.322684 213.508558 \n",
       "L 313.175388 213.523975 \n",
       "L 317.028093 213.514192 \n",
       "L 320.880797 213.402196 \n",
       "L 324.733501 213.325178 \n",
       "L 328.586205 213.425478 \n",
       "L 332.43891 213.472399 \n",
       "L 336.291614 213.454042 \n",
       "L 340.144318 213.444727 \n",
       "\" style=\"fill:none;stroke:#1f77b4;stroke-linecap:square;stroke-width:1.5;\"/>\n",
       "   </g>\n",
       "   <g id=\"line2d_16\">\n",
       "    <path clip-path=\"url(#p09b45c48b8)\" d=\"M 35.780682 150.722908 \n",
       "L 39.633386 180.57495 \n",
       "L 43.48609 195.842792 \n",
       "L 47.338795 200.792429 \n",
       "L 51.191499 200.007218 \n",
       "L 55.044203 197.345891 \n",
       "L 58.896907 195.652615 \n",
       "L 62.749612 196.512443 \n",
       "L 66.602316 199.674111 \n",
       "L 70.45502 204.030954 \n",
       "L 74.307724 208.363892 \n",
       "L 78.160429 211.939903 \n",
       "L 82.013133 213.991835 \n",
       "L 85.865837 214.756364 \n",
       "L 89.718541 214.689495 \n",
       "L 93.571246 214.140418 \n",
       "L 97.42395 213.492481 \n",
       "L 101.276654 212.99582 \n",
       "L 105.129358 212.487724 \n",
       "L 108.982063 211.715087 \n",
       "L 112.834767 210.968342 \n",
       "L 116.687471 210.323081 \n",
       "L 120.540175 210.038446 \n",
       "L 124.39288 210.012435 \n",
       "L 128.245584 210.315993 \n",
       "L 132.098288 210.785916 \n",
       "L 135.950993 211.342537 \n",
       "L 139.803697 211.754992 \n",
       "L 143.656401 212.042486 \n",
       "L 147.509105 212.106717 \n",
       "L 151.36181 212.059563 \n",
       "L 155.214514 211.953613 \n",
       "L 159.067218 211.830001 \n",
       "L 162.919922 211.508232 \n",
       "L 166.772627 211.400201 \n",
       "L 170.625331 211.40786 \n",
       "L 174.478035 211.621734 \n",
       "L 178.330739 211.926569 \n",
       "L 182.183444 212.204003 \n",
       "L 186.036148 212.413705 \n",
       "L 189.888852 212.601667 \n",
       "L 193.741556 212.723588 \n",
       "L 197.594261 212.886146 \n",
       "L 201.446965 212.854852 \n",
       "L 205.299669 212.828807 \n",
       "L 209.152373 212.828986 \n",
       "L 213.005078 212.629477 \n",
       "L 216.857782 212.417441 \n",
       "L 220.710486 212.200248 \n",
       "L 224.56319 212.348066 \n",
       "L 228.415895 212.708535 \n",
       "L 232.268599 213.207807 \n",
       "L 236.121303 213.401496 \n",
       "L 239.974007 213.567599 \n",
       "L 243.826712 213.517589 \n",
       "L 247.679416 213.353327 \n",
       "L 251.53212 213.116113 \n",
       "L 255.384825 212.655207 \n",
       "L 259.237529 212.001436 \n",
       "L 263.090233 211.609861 \n",
       "L 266.942937 211.331984 \n",
       "L 270.795642 211.27252 \n",
       "L 274.648346 211.417788 \n",
       "L 278.50105 211.751243 \n",
       "L 282.353754 211.975687 \n",
       "L 286.206459 212.048529 \n",
       "L 290.059163 212.091532 \n",
       "L 293.911867 211.971941 \n",
       "L 297.764571 211.920964 \n",
       "L 301.617276 211.995535 \n",
       "L 305.46998 212.045087 \n",
       "L 309.322684 212.252113 \n",
       "L 313.175388 212.399575 \n",
       "L 317.028093 212.327366 \n",
       "L 320.880797 212.170421 \n",
       "L 324.733501 212.092688 \n",
       "L 328.586205 212.271062 \n",
       "L 332.43891 212.265122 \n",
       "L 336.291614 211.911798 \n",
       "L 340.144318 211.488172 \n",
       "\" style=\"fill:none;stroke:#ff7f0e;stroke-linecap:square;stroke-width:1.5;\"/>\n",
       "   </g>\n",
       "   <g id=\"patch_3\">\n",
       "    <path d=\"M 20.5625 224.64 \n",
       "L 20.5625 7.2 \n",
       "\" style=\"fill:none;stroke:#000000;stroke-linecap:square;stroke-linejoin:miter;stroke-width:0.8;\"/>\n",
       "   </g>\n",
       "   <g id=\"patch_4\">\n",
       "    <path d=\"M 355.3625 224.64 \n",
       "L 355.3625 7.2 \n",
       "\" style=\"fill:none;stroke:#000000;stroke-linecap:square;stroke-linejoin:miter;stroke-width:0.8;\"/>\n",
       "   </g>\n",
       "   <g id=\"patch_5\">\n",
       "    <path d=\"M 20.5625 224.64 \n",
       "L 355.3625 224.64 \n",
       "\" style=\"fill:none;stroke:#000000;stroke-linecap:square;stroke-linejoin:miter;stroke-width:0.8;\"/>\n",
       "   </g>\n",
       "   <g id=\"patch_6\">\n",
       "    <path d=\"M 20.5625 7.2 \n",
       "L 355.3625 7.2 \n",
       "\" style=\"fill:none;stroke:#000000;stroke-linecap:square;stroke-linejoin:miter;stroke-width:0.8;\"/>\n",
       "   </g>\n",
       "   <g id=\"legend_1\">\n",
       "    <g id=\"patch_7\">\n",
       "     <path d=\"M 277.221875 44.834375 \n",
       "L 348.3625 44.834375 \n",
       "Q 350.3625 44.834375 350.3625 42.834375 \n",
       "L 350.3625 14.2 \n",
       "Q 350.3625 12.2 348.3625 12.2 \n",
       "L 277.221875 12.2 \n",
       "Q 275.221875 12.2 275.221875 14.2 \n",
       "L 275.221875 42.834375 \n",
       "Q 275.221875 44.834375 277.221875 44.834375 \n",
       "z\n",
       "\" style=\"fill:#ffffff;opacity:0.8;stroke:#cccccc;stroke-linejoin:miter;\"/>\n",
       "    </g>\n",
       "    <g id=\"line2d_17\">\n",
       "     <path d=\"M 279.221875 20.298437 \n",
       "L 299.221875 20.298437 \n",
       "\" style=\"fill:none;stroke:#1f77b4;stroke-linecap:square;stroke-width:1.5;\"/>\n",
       "    </g>\n",
       "    <g id=\"line2d_18\"/>\n",
       "    <g id=\"text_15\">\n",
       "     <!-- loss -->\n",
       "     <g transform=\"translate(307.221875 23.798437)scale(0.1 -0.1)\">\n",
       "      <defs>\n",
       "       <path d=\"M 9.421875 75.984375 \n",
       "L 18.40625 75.984375 \n",
       "L 18.40625 0 \n",
       "L 9.421875 0 \n",
       "z\n",
       "\" id=\"DejaVuSans-108\"/>\n",
       "       <path d=\"M 30.609375 48.390625 \n",
       "Q 23.390625 48.390625 19.1875 42.75 \n",
       "Q 14.984375 37.109375 14.984375 27.296875 \n",
       "Q 14.984375 17.484375 19.15625 11.84375 \n",
       "Q 23.34375 6.203125 30.609375 6.203125 \n",
       "Q 37.796875 6.203125 41.984375 11.859375 \n",
       "Q 46.1875 17.53125 46.1875 27.296875 \n",
       "Q 46.1875 37.015625 41.984375 42.703125 \n",
       "Q 37.796875 48.390625 30.609375 48.390625 \n",
       "z\n",
       "M 30.609375 56 \n",
       "Q 42.328125 56 49.015625 48.375 \n",
       "Q 55.71875 40.765625 55.71875 27.296875 \n",
       "Q 55.71875 13.875 49.015625 6.21875 \n",
       "Q 42.328125 -1.421875 30.609375 -1.421875 \n",
       "Q 18.84375 -1.421875 12.171875 6.21875 \n",
       "Q 5.515625 13.875 5.515625 27.296875 \n",
       "Q 5.515625 40.765625 12.171875 48.375 \n",
       "Q 18.84375 56 30.609375 56 \n",
       "z\n",
       "\" id=\"DejaVuSans-111\"/>\n",
       "       <path d=\"M 44.28125 53.078125 \n",
       "L 44.28125 44.578125 \n",
       "Q 40.484375 46.53125 36.375 47.5 \n",
       "Q 32.28125 48.484375 27.875 48.484375 \n",
       "Q 21.1875 48.484375 17.84375 46.4375 \n",
       "Q 14.5 44.390625 14.5 40.28125 \n",
       "Q 14.5 37.15625 16.890625 35.375 \n",
       "Q 19.28125 33.59375 26.515625 31.984375 \n",
       "L 29.59375 31.296875 \n",
       "Q 39.15625 29.25 43.1875 25.515625 \n",
       "Q 47.21875 21.78125 47.21875 15.09375 \n",
       "Q 47.21875 7.46875 41.1875 3.015625 \n",
       "Q 35.15625 -1.421875 24.609375 -1.421875 \n",
       "Q 20.21875 -1.421875 15.453125 -0.5625 \n",
       "Q 10.6875 0.296875 5.421875 2 \n",
       "L 5.421875 11.28125 \n",
       "Q 10.40625 8.6875 15.234375 7.390625 \n",
       "Q 20.0625 6.109375 24.8125 6.109375 \n",
       "Q 31.15625 6.109375 34.5625 8.28125 \n",
       "Q 37.984375 10.453125 37.984375 14.40625 \n",
       "Q 37.984375 18.0625 35.515625 20.015625 \n",
       "Q 33.0625 21.96875 24.703125 23.78125 \n",
       "L 21.578125 24.515625 \n",
       "Q 13.234375 26.265625 9.515625 29.90625 \n",
       "Q 5.8125 33.546875 5.8125 39.890625 \n",
       "Q 5.8125 47.609375 11.28125 51.796875 \n",
       "Q 16.75 56 26.8125 56 \n",
       "Q 31.78125 56 36.171875 55.265625 \n",
       "Q 40.578125 54.546875 44.28125 53.078125 \n",
       "z\n",
       "\" id=\"DejaVuSans-115\"/>\n",
       "      </defs>\n",
       "      <use xlink:href=\"#DejaVuSans-108\"/>\n",
       "      <use x=\"27.783203\" xlink:href=\"#DejaVuSans-111\"/>\n",
       "      <use x=\"88.964844\" xlink:href=\"#DejaVuSans-115\"/>\n",
       "      <use x=\"141.064453\" xlink:href=\"#DejaVuSans-115\"/>\n",
       "     </g>\n",
       "    </g>\n",
       "    <g id=\"line2d_19\">\n",
       "     <path d=\"M 279.221875 34.976562 \n",
       "L 299.221875 34.976562 \n",
       "\" style=\"fill:none;stroke:#ff7f0e;stroke-linecap:square;stroke-width:1.5;\"/>\n",
       "    </g>\n",
       "    <g id=\"line2d_20\"/>\n",
       "    <g id=\"text_16\">\n",
       "     <!-- val_loss -->\n",
       "     <g transform=\"translate(307.221875 38.476562)scale(0.1 -0.1)\">\n",
       "      <defs>\n",
       "       <path d=\"M 2.984375 54.6875 \n",
       "L 12.5 54.6875 \n",
       "L 29.59375 8.796875 \n",
       "L 46.6875 54.6875 \n",
       "L 56.203125 54.6875 \n",
       "L 35.6875 0 \n",
       "L 23.484375 0 \n",
       "z\n",
       "\" id=\"DejaVuSans-118\"/>\n",
       "       <path d=\"M 34.28125 27.484375 \n",
       "Q 23.390625 27.484375 19.1875 25 \n",
       "Q 14.984375 22.515625 14.984375 16.5 \n",
       "Q 14.984375 11.71875 18.140625 8.90625 \n",
       "Q 21.296875 6.109375 26.703125 6.109375 \n",
       "Q 34.1875 6.109375 38.703125 11.40625 \n",
       "Q 43.21875 16.703125 43.21875 25.484375 \n",
       "L 43.21875 27.484375 \n",
       "z\n",
       "M 52.203125 31.203125 \n",
       "L 52.203125 0 \n",
       "L 43.21875 0 \n",
       "L 43.21875 8.296875 \n",
       "Q 40.140625 3.328125 35.546875 0.953125 \n",
       "Q 30.953125 -1.421875 24.3125 -1.421875 \n",
       "Q 15.921875 -1.421875 10.953125 3.296875 \n",
       "Q 6 8.015625 6 15.921875 \n",
       "Q 6 25.140625 12.171875 29.828125 \n",
       "Q 18.359375 34.515625 30.609375 34.515625 \n",
       "L 43.21875 34.515625 \n",
       "L 43.21875 35.40625 \n",
       "Q 43.21875 41.609375 39.140625 45 \n",
       "Q 35.0625 48.390625 27.6875 48.390625 \n",
       "Q 23 48.390625 18.546875 47.265625 \n",
       "Q 14.109375 46.140625 10.015625 43.890625 \n",
       "L 10.015625 52.203125 \n",
       "Q 14.9375 54.109375 19.578125 55.046875 \n",
       "Q 24.21875 56 28.609375 56 \n",
       "Q 40.484375 56 46.34375 49.84375 \n",
       "Q 52.203125 43.703125 52.203125 31.203125 \n",
       "z\n",
       "\" id=\"DejaVuSans-97\"/>\n",
       "       <path d=\"M 50.984375 -16.609375 \n",
       "L 50.984375 -23.578125 \n",
       "L -0.984375 -23.578125 \n",
       "L -0.984375 -16.609375 \n",
       "z\n",
       "\" id=\"DejaVuSans-95\"/>\n",
       "      </defs>\n",
       "      <use xlink:href=\"#DejaVuSans-118\"/>\n",
       "      <use x=\"59.179688\" xlink:href=\"#DejaVuSans-97\"/>\n",
       "      <use x=\"120.458984\" xlink:href=\"#DejaVuSans-108\"/>\n",
       "      <use x=\"148.242188\" xlink:href=\"#DejaVuSans-95\"/>\n",
       "      <use x=\"198.242188\" xlink:href=\"#DejaVuSans-108\"/>\n",
       "      <use x=\"226.025391\" xlink:href=\"#DejaVuSans-111\"/>\n",
       "      <use x=\"287.207031\" xlink:href=\"#DejaVuSans-115\"/>\n",
       "      <use x=\"339.306641\" xlink:href=\"#DejaVuSans-115\"/>\n",
       "     </g>\n",
       "    </g>\n",
       "   </g>\n",
       "  </g>\n",
       " </g>\n",
       " <defs>\n",
       "  <clipPath id=\"p09b45c48b8\">\n",
       "   <rect height=\"217.44\" width=\"334.8\" x=\"20.5625\" y=\"7.2\"/>\n",
       "  </clipPath>\n",
       " </defs>\n",
       "</svg>\n"
      ],
      "text/plain": [
       "<Figure size 432x288 with 1 Axes>"
      ]
     },
     "metadata": {
      "needs_background": "light"
     },
     "output_type": "display_data"
    }
   ],
   "source": [
    "# Plot loss per iteration\n",
    "import matplotlib.pyplot as plt\n",
    "plt.plot(r.history['loss'], label='loss')\n",
    "plt.plot(r.history['val_loss'], label='val_loss')\n",
    "plt.legend()"
   ]
  },
  {
   "cell_type": "code",
   "execution_count": 149,
   "metadata": {},
   "outputs": [],
   "source": [
    "# Forecast future values (use only self-predictions for making future predictions)\n",
    "\n",
    "validation_target = Y[-N//2:]\n",
    "validation_predictions = []\n",
    "\n",
    "# first validation input\n",
    "last_x = X[-N//2] # 1-D array of length T\n",
    "\n",
    "while len(validation_predictions) < len(validation_target):\n",
    "  p = model.predict(last_x.reshape(1, -1))[0,0] # 1x1 array -> scalar\n",
    "  \n",
    "  # update the predictions list\n",
    "  validation_predictions.append(p)\n",
    "  \n",
    "  # make the new input\n",
    "  last_x = np.roll(last_x, -1)\n",
    "  last_x[-1] = p"
   ]
  },
  {
   "cell_type": "code",
   "execution_count": 150,
   "metadata": {},
   "outputs": [
    {
     "data": {
      "text/plain": [
       "<matplotlib.legend.Legend at 0x7f897b19db00>"
      ]
     },
     "execution_count": 150,
     "metadata": {},
     "output_type": "execute_result"
    },
    {
     "data": {
      "image/png": "[encoded data removed]",
      "image/svg+xml": [
       "<?xml version=\"1.0\" encoding=\"utf-8\" standalone=\"no\"?>\n",
       "<!DOCTYPE svg PUBLIC \"-//W3C//DTD SVG 1.1//EN\"\n",
       "  \"http://www.w3.org/Graphics/SVG/1.1/DTD/svg11.dtd\">\n",
       "<!-- Created with matplotlib (https://matplotlib.org/) -->\n",
       "<svg height=\"248.518125pt\" version=\"1.1\" viewBox=\"0 0 384.308949 248.518125\" width=\"384.308949pt\" xmlns=\"http://www.w3.org/2000/svg\" xmlns:xlink=\"http://www.w3.org/1999/xlink\">\n",
       " <metadata>\n",
       "  <rdf:RDF xmlns:cc=\"http://creativecommons.org/ns#\" xmlns:dc=\"http://purl.org/dc/elements/1.1/\" xmlns:rdf=\"http://www.w3.org/1999/02/22-rdf-syntax-ns#\">\n",
       "   <cc:Work>\n",
       "    <dc:type rdf:resource=\"http://purl.org/dc/dcmitype/StillImage\"/>\n",
       "    <dc:date>2020-12-09T23:16:20.921197</dc:date>\n",
       "    <dc:format>image/svg+xml</dc:format>\n",
       "    <dc:creator>\n",
       "     <cc:Agent>\n",
       "      <dc:title>Matplotlib v3.3.3, https://matplotlib.org/</dc:title>\n",
       "     </cc:Agent>\n",
       "    </dc:creator>\n",
       "   </cc:Work>\n",
       "  </rdf:RDF>\n",
       " </metadata>\n",
       " <defs>\n",
       "  <style type=\"text/css\">*{stroke-linecap:butt;stroke-linejoin:round;}</style>\n",
       " </defs>\n",
       " <g id=\"figure_1\">\n",
       "  <g id=\"patch_1\">\n",
       "   <path d=\"M -0 248.518125 \n",
       "L 384.308949 248.518125 \n",
       "L 384.308949 0 \n",
       "L -0 0 \n",
       "z\n",
       "\" style=\"fill:none;\"/>\n",
       "  </g>\n",
       "  <g id=\"axes_1\">\n",
       "   <g id=\"patch_2\">\n",
       "    <path d=\"M 38.482813 224.64 \n",
       "L 373.282813 224.64 \n",
       "L 373.282813 7.2 \n",
       "L 38.482813 7.2 \n",
       "z\n",
       "\" style=\"fill:#ffffff;\"/>\n",
       "   </g>\n",
       "   <g id=\"matplotlib.axis_1\">\n",
       "    <g id=\"xtick_1\">\n",
       "     <g id=\"line2d_1\">\n",
       "      <defs>\n",
       "       <path d=\"M 0 0 \n",
       "L 0 3.5 \n",
       "\" id=\"m8f3331e116\" style=\"stroke:#000000;stroke-width:0.8;\"/>\n",
       "      </defs>\n",
       "      <g>\n",
       "       <use style=\"stroke:#000000;stroke-width:0.8;\" x=\"53.700994\" xlink:href=\"#m8f3331e116\" y=\"224.64\"/>\n",
       "      </g>\n",
       "     </g>\n",
       "     <g id=\"text_1\">\n",
       "      <!-- 0 -->\n",
       "      <g transform=\"translate(50.519744 239.238437)scale(0.1 -0.1)\">\n",
       "       <defs>\n",
       "        <path d=\"M 31.78125 66.40625 \n",
       "Q 24.171875 66.40625 20.328125 58.90625 \n",
       "Q 16.5 51.421875 16.5 36.375 \n",
       "Q 16.5 21.390625 20.328125 13.890625 \n",
       "Q 24.171875 6.390625 31.78125 6.390625 \n",
       "Q 39.453125 6.390625 43.28125 13.890625 \n",
       "Q 47.125 21.390625 47.125 36.375 \n",
       "Q 47.125 51.421875 43.28125 58.90625 \n",
       "Q 39.453125 66.40625 31.78125 66.40625 \n",
       "z\n",
       "M 31.78125 74.21875 \n",
       "Q 44.046875 74.21875 50.515625 64.515625 \n",
       "Q 56.984375 54.828125 56.984375 36.375 \n",
       "Q 56.984375 17.96875 50.515625 8.265625 \n",
       "Q 44.046875 -1.421875 31.78125 -1.421875 \n",
       "Q 19.53125 -1.421875 13.0625 8.265625 \n",
       "Q 6.59375 17.96875 6.59375 36.375 \n",
       "Q 6.59375 54.828125 13.0625 64.515625 \n",
       "Q 19.53125 74.21875 31.78125 74.21875 \n",
       "z\n",
       "\" id=\"DejaVuSans-48\"/>\n",
       "       </defs>\n",
       "       <use xlink:href=\"#DejaVuSans-48\"/>\n",
       "      </g>\n",
       "     </g>\n",
       "    </g>\n",
       "    <g id=\"xtick_2\">\n",
       "     <g id=\"line2d_2\">\n",
       "      <g>\n",
       "       <use style=\"stroke:#000000;stroke-width:0.8;\" x=\"117.110085\" xlink:href=\"#m8f3331e116\" y=\"224.64\"/>\n",
       "      </g>\n",
       "     </g>\n",
       "     <g id=\"text_2\">\n",
       "      <!-- 10 -->\n",
       "      <g transform=\"translate(110.747585 239.238437)scale(0.1 -0.1)\">\n",
       "       <defs>\n",
       "        <path d=\"M 12.40625 8.296875 \n",
       "L 28.515625 8.296875 \n",
       "L 28.515625 63.921875 \n",
       "L 10.984375 60.40625 \n",
       "L 10.984375 69.390625 \n",
       "L 28.421875 72.90625 \n",
       "L 38.28125 72.90625 \n",
       "L 38.28125 8.296875 \n",
       "L 54.390625 8.296875 \n",
       "L 54.390625 0 \n",
       "L 12.40625 0 \n",
       "z\n",
       "\" id=\"DejaVuSans-49\"/>\n",
       "       </defs>\n",
       "       <use xlink:href=\"#DejaVuSans-49\"/>\n",
       "       <use x=\"63.623047\" xlink:href=\"#DejaVuSans-48\"/>\n",
       "      </g>\n",
       "     </g>\n",
       "    </g>\n",
       "    <g id=\"xtick_3\">\n",
       "     <g id=\"line2d_3\">\n",
       "      <g>\n",
       "       <use style=\"stroke:#000000;stroke-width:0.8;\" x=\"180.519176\" xlink:href=\"#m8f3331e116\" y=\"224.64\"/>\n",
       "      </g>\n",
       "     </g>\n",
       "     <g id=\"text_3\">\n",
       "      <!-- 20 -->\n",
       "      <g transform=\"translate(174.156676 239.238437)scale(0.1 -0.1)\">\n",
       "       <defs>\n",
       "        <path d=\"M 19.1875 8.296875 \n",
       "L 53.609375 8.296875 \n",
       "L 53.609375 0 \n",
       "L 7.328125 0 \n",
       "L 7.328125 8.296875 \n",
       "Q 12.9375 14.109375 22.625 23.890625 \n",
       "Q 32.328125 33.6875 34.8125 36.53125 \n",
       "Q 39.546875 41.84375 41.421875 45.53125 \n",
       "Q 43.3125 49.21875 43.3125 52.78125 \n",
       "Q 43.3125 58.59375 39.234375 62.25 \n",
       "Q 35.15625 65.921875 28.609375 65.921875 \n",
       "Q 23.96875 65.921875 18.8125 64.3125 \n",
       "Q 13.671875 62.703125 7.8125 59.421875 \n",
       "L 7.8125 69.390625 \n",
       "Q 13.765625 71.78125 18.9375 73 \n",
       "Q 24.125 74.21875 28.421875 74.21875 \n",
       "Q 39.75 74.21875 46.484375 68.546875 \n",
       "Q 53.21875 62.890625 53.21875 53.421875 \n",
       "Q 53.21875 48.921875 51.53125 44.890625 \n",
       "Q 49.859375 40.875 45.40625 35.40625 \n",
       "Q 44.1875 33.984375 37.640625 27.21875 \n",
       "Q 31.109375 20.453125 19.1875 8.296875 \n",
       "z\n",
       "\" id=\"DejaVuSans-50\"/>\n",
       "       </defs>\n",
       "       <use xlink:href=\"#DejaVuSans-50\"/>\n",
       "       <use x=\"63.623047\" xlink:href=\"#DejaVuSans-48\"/>\n",
       "      </g>\n",
       "     </g>\n",
       "    </g>\n",
       "    <g id=\"xtick_4\">\n",
       "     <g id=\"line2d_4\">\n",
       "      <g>\n",
       "       <use style=\"stroke:#000000;stroke-width:0.8;\" x=\"243.928267\" xlink:href=\"#m8f3331e116\" y=\"224.64\"/>\n",
       "      </g>\n",
       "     </g>\n",
       "     <g id=\"text_4\">\n",
       "      <!-- 30 -->\n",
       "      <g transform=\"translate(237.565767 239.238437)scale(0.1 -0.1)\">\n",
       "       <defs>\n",
       "        <path d=\"M 40.578125 39.3125 \n",
       "Q 47.65625 37.796875 51.625 33 \n",
       "Q 55.609375 28.21875 55.609375 21.1875 \n",
       "Q 55.609375 10.40625 48.1875 4.484375 \n",
       "Q 40.765625 -1.421875 27.09375 -1.421875 \n",
       "Q 22.515625 -1.421875 17.65625 -0.515625 \n",
       "Q 12.796875 0.390625 7.625 2.203125 \n",
       "L 7.625 11.71875 \n",
       "Q 11.71875 9.328125 16.59375 8.109375 \n",
       "Q 21.484375 6.890625 26.8125 6.890625 \n",
       "Q 36.078125 6.890625 40.9375 10.546875 \n",
       "Q 45.796875 14.203125 45.796875 21.1875 \n",
       "Q 45.796875 27.640625 41.28125 31.265625 \n",
       "Q 36.765625 34.90625 28.71875 34.90625 \n",
       "L 20.21875 34.90625 \n",
       "L 20.21875 43.015625 \n",
       "L 29.109375 43.015625 \n",
       "Q 36.375 43.015625 40.234375 45.921875 \n",
       "Q 44.09375 48.828125 44.09375 54.296875 \n",
       "Q 44.09375 59.90625 40.109375 62.90625 \n",
       "Q 36.140625 65.921875 28.71875 65.921875 \n",
       "Q 24.65625 65.921875 20.015625 65.03125 \n",
       "Q 15.375 64.15625 9.8125 62.3125 \n",
       "L 9.8125 71.09375 \n",
       "Q 15.4375 72.65625 20.34375 73.4375 \n",
       "Q 25.25 74.21875 29.59375 74.21875 \n",
       "Q 40.828125 74.21875 47.359375 69.109375 \n",
       "Q 53.90625 64.015625 53.90625 55.328125 \n",
       "Q 53.90625 49.265625 50.4375 45.09375 \n",
       "Q 46.96875 40.921875 40.578125 39.3125 \n",
       "z\n",
       "\" id=\"DejaVuSans-51\"/>\n",
       "       </defs>\n",
       "       <use xlink:href=\"#DejaVuSans-51\"/>\n",
       "       <use x=\"63.623047\" xlink:href=\"#DejaVuSans-48\"/>\n",
       "      </g>\n",
       "     </g>\n",
       "    </g>\n",
       "    <g id=\"xtick_5\">\n",
       "     <g id=\"line2d_5\">\n",
       "      <g>\n",
       "       <use style=\"stroke:#000000;stroke-width:0.8;\" x=\"307.337358\" xlink:href=\"#m8f3331e116\" y=\"224.64\"/>\n",
       "      </g>\n",
       "     </g>\n",
       "     <g id=\"text_5\">\n",
       "      <!-- 40 -->\n",
       "      <g transform=\"translate(300.974858 239.238437)scale(0.1 -0.1)\">\n",
       "       <defs>\n",
       "        <path d=\"M 37.796875 64.3125 \n",
       "L 12.890625 25.390625 \n",
       "L 37.796875 25.390625 \n",
       "z\n",
       "M 35.203125 72.90625 \n",
       "L 47.609375 72.90625 \n",
       "L 47.609375 25.390625 \n",
       "L 58.015625 25.390625 \n",
       "L 58.015625 17.1875 \n",
       "L 47.609375 17.1875 \n",
       "L 47.609375 0 \n",
       "L 37.796875 0 \n",
       "L 37.796875 17.1875 \n",
       "L 4.890625 17.1875 \n",
       "L 4.890625 26.703125 \n",
       "z\n",
       "\" id=\"DejaVuSans-52\"/>\n",
       "       </defs>\n",
       "       <use xlink:href=\"#DejaVuSans-52\"/>\n",
       "       <use x=\"63.623047\" xlink:href=\"#DejaVuSans-48\"/>\n",
       "      </g>\n",
       "     </g>\n",
       "    </g>\n",
       "    <g id=\"xtick_6\">\n",
       "     <g id=\"line2d_6\">\n",
       "      <g>\n",
       "       <use style=\"stroke:#000000;stroke-width:0.8;\" x=\"370.746449\" xlink:href=\"#m8f3331e116\" y=\"224.64\"/>\n",
       "      </g>\n",
       "     </g>\n",
       "     <g id=\"text_6\">\n",
       "      <!-- 50 -->\n",
       "      <g transform=\"translate(364.383949 239.238437)scale(0.1 -0.1)\">\n",
       "       <defs>\n",
       "        <path d=\"M 10.796875 72.90625 \n",
       "L 49.515625 72.90625 \n",
       "L 49.515625 64.59375 \n",
       "L 19.828125 64.59375 \n",
       "L 19.828125 46.734375 \n",
       "Q 21.96875 47.46875 24.109375 47.828125 \n",
       "Q 26.265625 48.1875 28.421875 48.1875 \n",
       "Q 40.625 48.1875 47.75 41.5 \n",
       "Q 54.890625 34.8125 54.890625 23.390625 \n",
       "Q 54.890625 11.625 47.5625 5.09375 \n",
       "Q 40.234375 -1.421875 26.90625 -1.421875 \n",
       "Q 22.3125 -1.421875 17.546875 -0.640625 \n",
       "Q 12.796875 0.140625 7.71875 1.703125 \n",
       "L 7.71875 11.625 \n",
       "Q 12.109375 9.234375 16.796875 8.0625 \n",
       "Q 21.484375 6.890625 26.703125 6.890625 \n",
       "Q 35.15625 6.890625 40.078125 11.328125 \n",
       "Q 45.015625 15.765625 45.015625 23.390625 \n",
       "Q 45.015625 31 40.078125 35.4375 \n",
       "Q 35.15625 39.890625 26.703125 39.890625 \n",
       "Q 22.75 39.890625 18.8125 39.015625 \n",
       "Q 14.890625 38.140625 10.796875 36.28125 \n",
       "z\n",
       "\" id=\"DejaVuSans-53\"/>\n",
       "       </defs>\n",
       "       <use xlink:href=\"#DejaVuSans-53\"/>\n",
       "       <use x=\"63.623047\" xlink:href=\"#DejaVuSans-48\"/>\n",
       "      </g>\n",
       "     </g>\n",
       "    </g>\n",
       "   </g>\n",
       "   <g id=\"matplotlib.axis_2\">\n",
       "    <g id=\"ytick_1\">\n",
       "     <g id=\"line2d_7\">\n",
       "      <defs>\n",
       "       <path d=\"M 0 0 \n",
       "L -3.5 0 \n",
       "\" id=\"m5859f7db1c\" style=\"stroke:#000000;stroke-width:0.8;\"/>\n",
       "      </defs>\n",
       "      <g>\n",
       "       <use style=\"stroke:#000000;stroke-width:0.8;\" x=\"38.482813\" xlink:href=\"#m5859f7db1c\" y=\"212.11884\"/>\n",
       "      </g>\n",
       "     </g>\n",
       "     <g id=\"text_7\">\n",
       "      <!-- −1.5 -->\n",
       "      <g transform=\"translate(7.2 215.918059)scale(0.1 -0.1)\">\n",
       "       <defs>\n",
       "        <path d=\"M 10.59375 35.5 \n",
       "L 73.1875 35.5 \n",
       "L 73.1875 27.203125 \n",
       "L 10.59375 27.203125 \n",
       "z\n",
       "\" id=\"DejaVuSans-8722\"/>\n",
       "        <path d=\"M 10.6875 12.40625 \n",
       "L 21 12.40625 \n",
       "L 21 0 \n",
       "L 10.6875 0 \n",
       "z\n",
       "\" id=\"DejaVuSans-46\"/>\n",
       "       </defs>\n",
       "       <use xlink:href=\"#DejaVuSans-8722\"/>\n",
       "       <use x=\"83.789062\" xlink:href=\"#DejaVuSans-49\"/>\n",
       "       <use x=\"147.412109\" xlink:href=\"#DejaVuSans-46\"/>\n",
       "       <use x=\"179.199219\" xlink:href=\"#DejaVuSans-53\"/>\n",
       "      </g>\n",
       "     </g>\n",
       "    </g>\n",
       "    <g id=\"ytick_2\">\n",
       "     <g id=\"line2d_8\">\n",
       "      <g>\n",
       "       <use style=\"stroke:#000000;stroke-width:0.8;\" x=\"38.482813\" xlink:href=\"#m5859f7db1c\" y=\"187.365673\"/>\n",
       "      </g>\n",
       "     </g>\n",
       "     <g id=\"text_8\">\n",
       "      <!-- −1.0 -->\n",
       "      <g transform=\"translate(7.2 191.164892)scale(0.1 -0.1)\">\n",
       "       <use xlink:href=\"#DejaVuSans-8722\"/>\n",
       "       <use x=\"83.789062\" xlink:href=\"#DejaVuSans-49\"/>\n",
       "       <use x=\"147.412109\" xlink:href=\"#DejaVuSans-46\"/>\n",
       "       <use x=\"179.199219\" xlink:href=\"#DejaVuSans-48\"/>\n",
       "      </g>\n",
       "     </g>\n",
       "    </g>\n",
       "    <g id=\"ytick_3\">\n",
       "     <g id=\"line2d_9\">\n",
       "      <g>\n",
       "       <use style=\"stroke:#000000;stroke-width:0.8;\" x=\"38.482813\" xlink:href=\"#m5859f7db1c\" y=\"162.612506\"/>\n",
       "      </g>\n",
       "     </g>\n",
       "     <g id=\"text_9\">\n",
       "      <!-- −0.5 -->\n",
       "      <g transform=\"translate(7.2 166.411725)scale(0.1 -0.1)\">\n",
       "       <use xlink:href=\"#DejaVuSans-8722\"/>\n",
       "       <use x=\"83.789062\" xlink:href=\"#DejaVuSans-48\"/>\n",
       "       <use x=\"147.412109\" xlink:href=\"#DejaVuSans-46\"/>\n",
       "       <use x=\"179.199219\" xlink:href=\"#DejaVuSans-53\"/>\n",
       "      </g>\n",
       "     </g>\n",
       "    </g>\n",
       "    <g id=\"ytick_4\">\n",
       "     <g id=\"line2d_10\">\n",
       "      <g>\n",
       "       <use style=\"stroke:#000000;stroke-width:0.8;\" x=\"38.482813\" xlink:href=\"#m5859f7db1c\" y=\"137.859339\"/>\n",
       "      </g>\n",
       "     </g>\n",
       "     <g id=\"text_10\">\n",
       "      <!-- 0.0 -->\n",
       "      <g transform=\"translate(15.579688 141.658558)scale(0.1 -0.1)\">\n",
       "       <use xlink:href=\"#DejaVuSans-48\"/>\n",
       "       <use x=\"63.623047\" xlink:href=\"#DejaVuSans-46\"/>\n",
       "       <use x=\"95.410156\" xlink:href=\"#DejaVuSans-48\"/>\n",
       "      </g>\n",
       "     </g>\n",
       "    </g>\n",
       "    <g id=\"ytick_5\">\n",
       "     <g id=\"line2d_11\">\n",
       "      <g>\n",
       "       <use style=\"stroke:#000000;stroke-width:0.8;\" x=\"38.482813\" xlink:href=\"#m5859f7db1c\" y=\"113.106172\"/>\n",
       "      </g>\n",
       "     </g>\n",
       "     <g id=\"text_11\">\n",
       "      <!-- 0.5 -->\n",
       "      <g transform=\"translate(15.579688 116.905391)scale(0.1 -0.1)\">\n",
       "       <use xlink:href=\"#DejaVuSans-48\"/>\n",
       "       <use x=\"63.623047\" xlink:href=\"#DejaVuSans-46\"/>\n",
       "       <use x=\"95.410156\" xlink:href=\"#DejaVuSans-53\"/>\n",
       "      </g>\n",
       "     </g>\n",
       "    </g>\n",
       "    <g id=\"ytick_6\">\n",
       "     <g id=\"line2d_12\">\n",
       "      <g>\n",
       "       <use style=\"stroke:#000000;stroke-width:0.8;\" x=\"38.482813\" xlink:href=\"#m5859f7db1c\" y=\"88.353005\"/>\n",
       "      </g>\n",
       "     </g>\n",
       "     <g id=\"text_12\">\n",
       "      <!-- 1.0 -->\n",
       "      <g transform=\"translate(15.579688 92.152224)scale(0.1 -0.1)\">\n",
       "       <use xlink:href=\"#DejaVuSans-49\"/>\n",
       "       <use x=\"63.623047\" xlink:href=\"#DejaVuSans-46\"/>\n",
       "       <use x=\"95.410156\" xlink:href=\"#DejaVuSans-48\"/>\n",
       "      </g>\n",
       "     </g>\n",
       "    </g>\n",
       "    <g id=\"ytick_7\">\n",
       "     <g id=\"line2d_13\">\n",
       "      <g>\n",
       "       <use style=\"stroke:#000000;stroke-width:0.8;\" x=\"38.482813\" xlink:href=\"#m5859f7db1c\" y=\"63.599838\"/>\n",
       "      </g>\n",
       "     </g>\n",
       "     <g id=\"text_13\">\n",
       "      <!-- 1.5 -->\n",
       "      <g transform=\"translate(15.579688 67.399057)scale(0.1 -0.1)\">\n",
       "       <use xlink:href=\"#DejaVuSans-49\"/>\n",
       "       <use x=\"63.623047\" xlink:href=\"#DejaVuSans-46\"/>\n",
       "       <use x=\"95.410156\" xlink:href=\"#DejaVuSans-53\"/>\n",
       "      </g>\n",
       "     </g>\n",
       "    </g>\n",
       "    <g id=\"ytick_8\">\n",
       "     <g id=\"line2d_14\">\n",
       "      <g>\n",
       "       <use style=\"stroke:#000000;stroke-width:0.8;\" x=\"38.482813\" xlink:href=\"#m5859f7db1c\" y=\"38.846671\"/>\n",
       "      </g>\n",
       "     </g>\n",
       "     <g id=\"text_14\">\n",
       "      <!-- 2.0 -->\n",
       "      <g transform=\"translate(15.579688 42.64589)scale(0.1 -0.1)\">\n",
       "       <use xlink:href=\"#DejaVuSans-50\"/>\n",
       "       <use x=\"63.623047\" xlink:href=\"#DejaVuSans-46\"/>\n",
       "       <use x=\"95.410156\" xlink:href=\"#DejaVuSans-48\"/>\n",
       "      </g>\n",
       "     </g>\n",
       "    </g>\n",
       "    <g id=\"ytick_9\">\n",
       "     <g id=\"line2d_15\">\n",
       "      <g>\n",
       "       <use style=\"stroke:#000000;stroke-width:0.8;\" x=\"38.482813\" xlink:href=\"#m5859f7db1c\" y=\"14.093504\"/>\n",
       "      </g>\n",
       "     </g>\n",
       "     <g id=\"text_15\">\n",
       "      <!-- 2.5 -->\n",
       "      <g transform=\"translate(15.579688 17.892722)scale(0.1 -0.1)\">\n",
       "       <use xlink:href=\"#DejaVuSans-50\"/>\n",
       "       <use x=\"63.623047\" xlink:href=\"#DejaVuSans-46\"/>\n",
       "       <use x=\"95.410156\" xlink:href=\"#DejaVuSans-53\"/>\n",
       "      </g>\n",
       "     </g>\n",
       "    </g>\n",
       "   </g>\n",
       "   <g id=\"line2d_16\">\n",
       "    <path clip-path=\"url(#pbb3f0538ad)\" d=\"M 53.700994 193.590687 \n",
       "L 60.041903 191.356213 \n",
       "L 66.382813 172.204361 \n",
       "L 72.723722 182.012211 \n",
       "L 79.064631 171.449763 \n",
       "L 85.40554 172.304221 \n",
       "L 91.746449 122.311266 \n",
       "L 98.087358 137.470934 \n",
       "L 104.428267 133.52759 \n",
       "L 110.769176 135.804989 \n",
       "L 117.110085 100.191111 \n",
       "L 123.450994 136.614583 \n",
       "L 129.791903 49.391135 \n",
       "L 136.132812 153.783104 \n",
       "L 142.473722 119.781394 \n",
       "L 148.814631 52.623174 \n",
       "L 155.15554 80.805672 \n",
       "L 161.496449 106.878713 \n",
       "L 167.837358 143.717148 \n",
       "L 174.178267 72.489512 \n",
       "L 180.519176 113.164699 \n",
       "L 186.860085 119.535919 \n",
       "L 193.200994 61.03978 \n",
       "L 199.541903 171.018843 \n",
       "L 205.882812 65.420374 \n",
       "L 212.223722 98.813477 \n",
       "L 218.564631 118.484419 \n",
       "L 224.90554 72.033527 \n",
       "L 231.246449 83.02302 \n",
       "L 237.587358 147.618477 \n",
       "L 243.928267 106.018527 \n",
       "L 250.269176 161.9968 \n",
       "L 256.610085 94.031452 \n",
       "L 262.950994 97.648441 \n",
       "L 269.291903 17.083636 \n",
       "L 275.632813 106.530751 \n",
       "L 281.973722 159.310305 \n",
       "L 288.314631 112.216054 \n",
       "L 294.65554 111.923587 \n",
       "L 300.996449 171.547156 \n",
       "L 307.337358 122.361091 \n",
       "L 313.678267 168.720949 \n",
       "L 320.019176 141.27601 \n",
       "L 326.360085 102.807871 \n",
       "L 332.700994 99.20791 \n",
       "L 339.041903 157.441742 \n",
       "L 345.382813 103.420443 \n",
       "L 351.723722 214.756364 \n",
       "L 358.064631 122.47885 \n",
       "\" style=\"fill:none;stroke:#1f77b4;stroke-linecap:square;stroke-width:1.5;\"/>\n",
       "   </g>\n",
       "   <g id=\"line2d_17\">\n",
       "    <path clip-path=\"url(#pbb3f0538ad)\" d=\"M 53.700994 197.283615 \n",
       "L 60.041903 182.930565 \n",
       "L 66.382813 188.838935 \n",
       "L 72.723722 188.926603 \n",
       "L 79.064631 185.56821 \n",
       "L 85.40554 186.46519 \n",
       "L 91.746449 185.957433 \n",
       "L 98.087358 184.873212 \n",
       "L 104.428267 184.686632 \n",
       "L 110.769176 184.181357 \n",
       "L 117.110085 183.59795 \n",
       "L 123.450994 183.212893 \n",
       "L 129.791903 182.766896 \n",
       "L 136.132812 182.323502 \n",
       "L 142.473722 181.932968 \n",
       "L 148.814631 181.540175 \n",
       "L 155.15554 181.160695 \n",
       "L 161.496449 180.803027 \n",
       "L 167.837358 180.455236 \n",
       "L 174.178267 180.120715 \n",
       "L 180.519176 179.800496 \n",
       "L 186.860085 179.491736 \n",
       "L 193.200994 179.19489 \n",
       "L 199.541903 178.909742 \n",
       "L 205.882812 178.635376 \n",
       "L 212.223722 178.371586 \n",
       "L 218.564631 178.117993 \n",
       "L 224.90554 177.874118 \n",
       "L 231.246449 177.639632 \n",
       "L 237.587358 177.414176 \n",
       "L 243.928267 177.197383 \n",
       "L 250.269176 176.988932 \n",
       "L 256.610085 176.788501 \n",
       "L 262.950994 176.595781 \n",
       "L 269.291903 176.410473 \n",
       "L 275.632813 176.232295 \n",
       "L 281.973722 176.060971 \n",
       "L 288.314631 175.896236 \n",
       "L 294.65554 175.73784 \n",
       "L 300.996449 175.585537 \n",
       "L 307.337358 175.439091 \n",
       "L 313.678267 175.298284 \n",
       "L 320.019176 175.162889 \n",
       "L 326.360085 175.032706 \n",
       "L 332.700994 174.907529 \n",
       "L 339.041903 174.787169 \n",
       "L 345.382813 174.671438 \n",
       "L 351.723722 174.560157 \n",
       "L 358.064631 174.453158 \n",
       "\" style=\"fill:none;stroke:#ff7f0e;stroke-linecap:square;stroke-width:1.5;\"/>\n",
       "   </g>\n",
       "   <g id=\"patch_3\">\n",
       "    <path d=\"M 38.482813 224.64 \n",
       "L 38.482813 7.2 \n",
       "\" style=\"fill:none;stroke:#000000;stroke-linecap:square;stroke-linejoin:miter;stroke-width:0.8;\"/>\n",
       "   </g>\n",
       "   <g id=\"patch_4\">\n",
       "    <path d=\"M 373.282813 224.64 \n",
       "L 373.282813 7.2 \n",
       "\" style=\"fill:none;stroke:#000000;stroke-linecap:square;stroke-linejoin:miter;stroke-width:0.8;\"/>\n",
       "   </g>\n",
       "   <g id=\"patch_5\">\n",
       "    <path d=\"M 38.482813 224.64 \n",
       "L 373.282813 224.64 \n",
       "\" style=\"fill:none;stroke:#000000;stroke-linecap:square;stroke-linejoin:miter;stroke-width:0.8;\"/>\n",
       "   </g>\n",
       "   <g id=\"patch_6\">\n",
       "    <path d=\"M 38.482813 7.2 \n",
       "L 373.282813 7.2 \n",
       "\" style=\"fill:none;stroke:#000000;stroke-linecap:square;stroke-linejoin:miter;stroke-width:0.8;\"/>\n",
       "   </g>\n",
       "   <g id=\"legend_1\">\n",
       "    <g id=\"patch_7\">\n",
       "     <path d=\"M 45.482813 44.55625 \n",
       "L 171.2625 44.55625 \n",
       "Q 173.2625 44.55625 173.2625 42.55625 \n",
       "L 173.2625 14.2 \n",
       "Q 173.2625 12.2 171.2625 12.2 \n",
       "L 45.482813 12.2 \n",
       "Q 43.482813 12.2 43.482813 14.2 \n",
       "L 43.482813 42.55625 \n",
       "Q 43.482813 44.55625 45.482813 44.55625 \n",
       "z\n",
       "\" style=\"fill:#ffffff;opacity:0.8;stroke:#cccccc;stroke-linejoin:miter;\"/>\n",
       "    </g>\n",
       "    <g id=\"line2d_18\">\n",
       "     <path d=\"M 47.482813 20.298437 \n",
       "L 67.482812 20.298437 \n",
       "\" style=\"fill:none;stroke:#1f77b4;stroke-linecap:square;stroke-width:1.5;\"/>\n",
       "    </g>\n",
       "    <g id=\"line2d_19\"/>\n",
       "    <g id=\"text_16\">\n",
       "     <!-- forecast target -->\n",
       "     <g transform=\"translate(75.482812 23.798437)scale(0.1 -0.1)\">\n",
       "      <defs>\n",
       "       <path d=\"M 37.109375 75.984375 \n",
       "L 37.109375 68.5 \n",
       "L 28.515625 68.5 \n",
       "Q 23.6875 68.5 21.796875 66.546875 \n",
       "Q 19.921875 64.59375 19.921875 59.515625 \n",
       "L 19.921875 54.6875 \n",
       "L 34.71875 54.6875 \n",
       "L 34.71875 47.703125 \n",
       "L 19.921875 47.703125 \n",
       "L 19.921875 0 \n",
       "L 10.890625 0 \n",
       "L 10.890625 47.703125 \n",
       "L 2.296875 47.703125 \n",
       "L 2.296875 54.6875 \n",
       "L 10.890625 54.6875 \n",
       "L 10.890625 58.5 \n",
       "Q 10.890625 67.625 15.140625 71.796875 \n",
       "Q 19.390625 75.984375 28.609375 75.984375 \n",
       "z\n",
       "\" id=\"DejaVuSans-102\"/>\n",
       "       <path d=\"M 30.609375 48.390625 \n",
       "Q 23.390625 48.390625 19.1875 42.75 \n",
       "Q 14.984375 37.109375 14.984375 27.296875 \n",
       "Q 14.984375 17.484375 19.15625 11.84375 \n",
       "Q 23.34375 6.203125 30.609375 6.203125 \n",
       "Q 37.796875 6.203125 41.984375 11.859375 \n",
       "Q 46.1875 17.53125 46.1875 27.296875 \n",
       "Q 46.1875 37.015625 41.984375 42.703125 \n",
       "Q 37.796875 48.390625 30.609375 48.390625 \n",
       "z\n",
       "M 30.609375 56 \n",
       "Q 42.328125 56 49.015625 48.375 \n",
       "Q 55.71875 40.765625 55.71875 27.296875 \n",
       "Q 55.71875 13.875 49.015625 6.21875 \n",
       "Q 42.328125 -1.421875 30.609375 -1.421875 \n",
       "Q 18.84375 -1.421875 12.171875 6.21875 \n",
       "Q 5.515625 13.875 5.515625 27.296875 \n",
       "Q 5.515625 40.765625 12.171875 48.375 \n",
       "Q 18.84375 56 30.609375 56 \n",
       "z\n",
       "\" id=\"DejaVuSans-111\"/>\n",
       "       <path d=\"M 41.109375 46.296875 \n",
       "Q 39.59375 47.171875 37.8125 47.578125 \n",
       "Q 36.03125 48 33.890625 48 \n",
       "Q 26.265625 48 22.1875 43.046875 \n",
       "Q 18.109375 38.09375 18.109375 28.8125 \n",
       "L 18.109375 0 \n",
       "L 9.078125 0 \n",
       "L 9.078125 54.6875 \n",
       "L 18.109375 54.6875 \n",
       "L 18.109375 46.1875 \n",
       "Q 20.953125 51.171875 25.484375 53.578125 \n",
       "Q 30.03125 56 36.53125 56 \n",
       "Q 37.453125 56 38.578125 55.875 \n",
       "Q 39.703125 55.765625 41.0625 55.515625 \n",
       "z\n",
       "\" id=\"DejaVuSans-114\"/>\n",
       "       <path d=\"M 56.203125 29.59375 \n",
       "L 56.203125 25.203125 \n",
       "L 14.890625 25.203125 \n",
       "Q 15.484375 15.921875 20.484375 11.0625 \n",
       "Q 25.484375 6.203125 34.421875 6.203125 \n",
       "Q 39.59375 6.203125 44.453125 7.46875 \n",
       "Q 49.3125 8.734375 54.109375 11.28125 \n",
       "L 54.109375 2.78125 \n",
       "Q 49.265625 0.734375 44.1875 -0.34375 \n",
       "Q 39.109375 -1.421875 33.890625 -1.421875 \n",
       "Q 20.796875 -1.421875 13.15625 6.1875 \n",
       "Q 5.515625 13.8125 5.515625 26.8125 \n",
       "Q 5.515625 40.234375 12.765625 48.109375 \n",
       "Q 20.015625 56 32.328125 56 \n",
       "Q 43.359375 56 49.78125 48.890625 \n",
       "Q 56.203125 41.796875 56.203125 29.59375 \n",
       "z\n",
       "M 47.21875 32.234375 \n",
       "Q 47.125 39.59375 43.09375 43.984375 \n",
       "Q 39.0625 48.390625 32.421875 48.390625 \n",
       "Q 24.90625 48.390625 20.390625 44.140625 \n",
       "Q 15.875 39.890625 15.1875 32.171875 \n",
       "z\n",
       "\" id=\"DejaVuSans-101\"/>\n",
       "       <path d=\"M 48.78125 52.59375 \n",
       "L 48.78125 44.1875 \n",
       "Q 44.96875 46.296875 41.140625 47.34375 \n",
       "Q 37.3125 48.390625 33.40625 48.390625 \n",
       "Q 24.65625 48.390625 19.8125 42.84375 \n",
       "Q 14.984375 37.3125 14.984375 27.296875 \n",
       "Q 14.984375 17.28125 19.8125 11.734375 \n",
       "Q 24.65625 6.203125 33.40625 6.203125 \n",
       "Q 37.3125 6.203125 41.140625 7.25 \n",
       "Q 44.96875 8.296875 48.78125 10.40625 \n",
       "L 48.78125 2.09375 \n",
       "Q 45.015625 0.34375 40.984375 -0.53125 \n",
       "Q 36.96875 -1.421875 32.421875 -1.421875 \n",
       "Q 20.0625 -1.421875 12.78125 6.34375 \n",
       "Q 5.515625 14.109375 5.515625 27.296875 \n",
       "Q 5.515625 40.671875 12.859375 48.328125 \n",
       "Q 20.21875 56 33.015625 56 \n",
       "Q 37.15625 56 41.109375 55.140625 \n",
       "Q 45.0625 54.296875 48.78125 52.59375 \n",
       "z\n",
       "\" id=\"DejaVuSans-99\"/>\n",
       "       <path d=\"M 34.28125 27.484375 \n",
       "Q 23.390625 27.484375 19.1875 25 \n",
       "Q 14.984375 22.515625 14.984375 16.5 \n",
       "Q 14.984375 11.71875 18.140625 8.90625 \n",
       "Q 21.296875 6.109375 26.703125 6.109375 \n",
       "Q 34.1875 6.109375 38.703125 11.40625 \n",
       "Q 43.21875 16.703125 43.21875 25.484375 \n",
       "L 43.21875 27.484375 \n",
       "z\n",
       "M 52.203125 31.203125 \n",
       "L 52.203125 0 \n",
       "L 43.21875 0 \n",
       "L 43.21875 8.296875 \n",
       "Q 40.140625 3.328125 35.546875 0.953125 \n",
       "Q 30.953125 -1.421875 24.3125 -1.421875 \n",
       "Q 15.921875 -1.421875 10.953125 3.296875 \n",
       "Q 6 8.015625 6 15.921875 \n",
       "Q 6 25.140625 12.171875 29.828125 \n",
       "Q 18.359375 34.515625 30.609375 34.515625 \n",
       "L 43.21875 34.515625 \n",
       "L 43.21875 35.40625 \n",
       "Q 43.21875 41.609375 39.140625 45 \n",
       "Q 35.0625 48.390625 27.6875 48.390625 \n",
       "Q 23 48.390625 18.546875 47.265625 \n",
       "Q 14.109375 46.140625 10.015625 43.890625 \n",
       "L 10.015625 52.203125 \n",
       "Q 14.9375 54.109375 19.578125 55.046875 \n",
       "Q 24.21875 56 28.609375 56 \n",
       "Q 40.484375 56 46.34375 49.84375 \n",
       "Q 52.203125 43.703125 52.203125 31.203125 \n",
       "z\n",
       "\" id=\"DejaVuSans-97\"/>\n",
       "       <path d=\"M 44.28125 53.078125 \n",
       "L 44.28125 44.578125 \n",
       "Q 40.484375 46.53125 36.375 47.5 \n",
       "Q 32.28125 48.484375 27.875 48.484375 \n",
       "Q 21.1875 48.484375 17.84375 46.4375 \n",
       "Q 14.5 44.390625 14.5 40.28125 \n",
       "Q 14.5 37.15625 16.890625 35.375 \n",
       "Q 19.28125 33.59375 26.515625 31.984375 \n",
       "L 29.59375 31.296875 \n",
       "Q 39.15625 29.25 43.1875 25.515625 \n",
       "Q 47.21875 21.78125 47.21875 15.09375 \n",
       "Q 47.21875 7.46875 41.1875 3.015625 \n",
       "Q 35.15625 -1.421875 24.609375 -1.421875 \n",
       "Q 20.21875 -1.421875 15.453125 -0.5625 \n",
       "Q 10.6875 0.296875 5.421875 2 \n",
       "L 5.421875 11.28125 \n",
       "Q 10.40625 8.6875 15.234375 7.390625 \n",
       "Q 20.0625 6.109375 24.8125 6.109375 \n",
       "Q 31.15625 6.109375 34.5625 8.28125 \n",
       "Q 37.984375 10.453125 37.984375 14.40625 \n",
       "Q 37.984375 18.0625 35.515625 20.015625 \n",
       "Q 33.0625 21.96875 24.703125 23.78125 \n",
       "L 21.578125 24.515625 \n",
       "Q 13.234375 26.265625 9.515625 29.90625 \n",
       "Q 5.8125 33.546875 5.8125 39.890625 \n",
       "Q 5.8125 47.609375 11.28125 51.796875 \n",
       "Q 16.75 56 26.8125 56 \n",
       "Q 31.78125 56 36.171875 55.265625 \n",
       "Q 40.578125 54.546875 44.28125 53.078125 \n",
       "z\n",
       "\" id=\"DejaVuSans-115\"/>\n",
       "       <path d=\"M 18.3125 70.21875 \n",
       "L 18.3125 54.6875 \n",
       "L 36.8125 54.6875 \n",
       "L 36.8125 47.703125 \n",
       "L 18.3125 47.703125 \n",
       "L 18.3125 18.015625 \n",
       "Q 18.3125 11.328125 20.140625 9.421875 \n",
       "Q 21.96875 7.515625 27.59375 7.515625 \n",
       "L 36.8125 7.515625 \n",
       "L 36.8125 0 \n",
       "L 27.59375 0 \n",
       "Q 17.1875 0 13.234375 3.875 \n",
       "Q 9.28125 7.765625 9.28125 18.015625 \n",
       "L 9.28125 47.703125 \n",
       "L 2.6875 47.703125 \n",
       "L 2.6875 54.6875 \n",
       "L 9.28125 54.6875 \n",
       "L 9.28125 70.21875 \n",
       "z\n",
       "\" id=\"DejaVuSans-116\"/>\n",
       "       <path id=\"DejaVuSans-32\"/>\n",
       "       <path d=\"M 45.40625 27.984375 \n",
       "Q 45.40625 37.75 41.375 43.109375 \n",
       "Q 37.359375 48.484375 30.078125 48.484375 \n",
       "Q 22.859375 48.484375 18.828125 43.109375 \n",
       "Q 14.796875 37.75 14.796875 27.984375 \n",
       "Q 14.796875 18.265625 18.828125 12.890625 \n",
       "Q 22.859375 7.515625 30.078125 7.515625 \n",
       "Q 37.359375 7.515625 41.375 12.890625 \n",
       "Q 45.40625 18.265625 45.40625 27.984375 \n",
       "z\n",
       "M 54.390625 6.78125 \n",
       "Q 54.390625 -7.171875 48.1875 -13.984375 \n",
       "Q 42 -20.796875 29.203125 -20.796875 \n",
       "Q 24.46875 -20.796875 20.265625 -20.09375 \n",
       "Q 16.0625 -19.390625 12.109375 -17.921875 \n",
       "L 12.109375 -9.1875 \n",
       "Q 16.0625 -11.328125 19.921875 -12.34375 \n",
       "Q 23.78125 -13.375 27.78125 -13.375 \n",
       "Q 36.625 -13.375 41.015625 -8.765625 \n",
       "Q 45.40625 -4.15625 45.40625 5.171875 \n",
       "L 45.40625 9.625 \n",
       "Q 42.625 4.78125 38.28125 2.390625 \n",
       "Q 33.9375 0 27.875 0 \n",
       "Q 17.828125 0 11.671875 7.65625 \n",
       "Q 5.515625 15.328125 5.515625 27.984375 \n",
       "Q 5.515625 40.671875 11.671875 48.328125 \n",
       "Q 17.828125 56 27.875 56 \n",
       "Q 33.9375 56 38.28125 53.609375 \n",
       "Q 42.625 51.21875 45.40625 46.390625 \n",
       "L 45.40625 54.6875 \n",
       "L 54.390625 54.6875 \n",
       "z\n",
       "\" id=\"DejaVuSans-103\"/>\n",
       "      </defs>\n",
       "      <use xlink:href=\"#DejaVuSans-102\"/>\n",
       "      <use x=\"35.205078\" xlink:href=\"#DejaVuSans-111\"/>\n",
       "      <use x=\"96.386719\" xlink:href=\"#DejaVuSans-114\"/>\n",
       "      <use x=\"135.25\" xlink:href=\"#DejaVuSans-101\"/>\n",
       "      <use x=\"196.773438\" xlink:href=\"#DejaVuSans-99\"/>\n",
       "      <use x=\"251.753906\" xlink:href=\"#DejaVuSans-97\"/>\n",
       "      <use x=\"313.033203\" xlink:href=\"#DejaVuSans-115\"/>\n",
       "      <use x=\"365.132812\" xlink:href=\"#DejaVuSans-116\"/>\n",
       "      <use x=\"404.341797\" xlink:href=\"#DejaVuSans-32\"/>\n",
       "      <use x=\"436.128906\" xlink:href=\"#DejaVuSans-116\"/>\n",
       "      <use x=\"475.337891\" xlink:href=\"#DejaVuSans-97\"/>\n",
       "      <use x=\"536.617188\" xlink:href=\"#DejaVuSans-114\"/>\n",
       "      <use x=\"575.980469\" xlink:href=\"#DejaVuSans-103\"/>\n",
       "      <use x=\"639.457031\" xlink:href=\"#DejaVuSans-101\"/>\n",
       "      <use x=\"700.980469\" xlink:href=\"#DejaVuSans-116\"/>\n",
       "     </g>\n",
       "    </g>\n",
       "    <g id=\"line2d_20\">\n",
       "     <path d=\"M 47.482813 34.976562 \n",
       "L 67.482812 34.976562 \n",
       "\" style=\"fill:none;stroke:#ff7f0e;stroke-linecap:square;stroke-width:1.5;\"/>\n",
       "    </g>\n",
       "    <g id=\"line2d_21\"/>\n",
       "    <g id=\"text_17\">\n",
       "     <!-- forecast prediction -->\n",
       "     <g transform=\"translate(75.482812 38.476562)scale(0.1 -0.1)\">\n",
       "      <defs>\n",
       "       <path d=\"M 18.109375 8.203125 \n",
       "L 18.109375 -20.796875 \n",
       "L 9.078125 -20.796875 \n",
       "L 9.078125 54.6875 \n",
       "L 18.109375 54.6875 \n",
       "L 18.109375 46.390625 \n",
       "Q 20.953125 51.265625 25.265625 53.625 \n",
       "Q 29.59375 56 35.59375 56 \n",
       "Q 45.5625 56 51.78125 48.09375 \n",
       "Q 58.015625 40.1875 58.015625 27.296875 \n",
       "Q 58.015625 14.40625 51.78125 6.484375 \n",
       "Q 45.5625 -1.421875 35.59375 -1.421875 \n",
       "Q 29.59375 -1.421875 25.265625 0.953125 \n",
       "Q 20.953125 3.328125 18.109375 8.203125 \n",
       "z\n",
       "M 48.6875 27.296875 \n",
       "Q 48.6875 37.203125 44.609375 42.84375 \n",
       "Q 40.53125 48.484375 33.40625 48.484375 \n",
       "Q 26.265625 48.484375 22.1875 42.84375 \n",
       "Q 18.109375 37.203125 18.109375 27.296875 \n",
       "Q 18.109375 17.390625 22.1875 11.75 \n",
       "Q 26.265625 6.109375 33.40625 6.109375 \n",
       "Q 40.53125 6.109375 44.609375 11.75 \n",
       "Q 48.6875 17.390625 48.6875 27.296875 \n",
       "z\n",
       "\" id=\"DejaVuSans-112\"/>\n",
       "       <path d=\"M 45.40625 46.390625 \n",
       "L 45.40625 75.984375 \n",
       "L 54.390625 75.984375 \n",
       "L 54.390625 0 \n",
       "L 45.40625 0 \n",
       "L 45.40625 8.203125 \n",
       "Q 42.578125 3.328125 38.25 0.953125 \n",
       "Q 33.9375 -1.421875 27.875 -1.421875 \n",
       "Q 17.96875 -1.421875 11.734375 6.484375 \n",
       "Q 5.515625 14.40625 5.515625 27.296875 \n",
       "Q 5.515625 40.1875 11.734375 48.09375 \n",
       "Q 17.96875 56 27.875 56 \n",
       "Q 33.9375 56 38.25 53.625 \n",
       "Q 42.578125 51.265625 45.40625 46.390625 \n",
       "z\n",
       "M 14.796875 27.296875 \n",
       "Q 14.796875 17.390625 18.875 11.75 \n",
       "Q 22.953125 6.109375 30.078125 6.109375 \n",
       "Q 37.203125 6.109375 41.296875 11.75 \n",
       "Q 45.40625 17.390625 45.40625 27.296875 \n",
       "Q 45.40625 37.203125 41.296875 42.84375 \n",
       "Q 37.203125 48.484375 30.078125 48.484375 \n",
       "Q 22.953125 48.484375 18.875 42.84375 \n",
       "Q 14.796875 37.203125 14.796875 27.296875 \n",
       "z\n",
       "\" id=\"DejaVuSans-100\"/>\n",
       "       <path d=\"M 9.421875 54.6875 \n",
       "L 18.40625 54.6875 \n",
       "L 18.40625 0 \n",
       "L 9.421875 0 \n",
       "z\n",
       "M 9.421875 75.984375 \n",
       "L 18.40625 75.984375 \n",
       "L 18.40625 64.59375 \n",
       "L 9.421875 64.59375 \n",
       "z\n",
       "\" id=\"DejaVuSans-105\"/>\n",
       "       <path d=\"M 54.890625 33.015625 \n",
       "L 54.890625 0 \n",
       "L 45.90625 0 \n",
       "L 45.90625 32.71875 \n",
       "Q 45.90625 40.484375 42.875 44.328125 \n",
       "Q 39.84375 48.1875 33.796875 48.1875 \n",
       "Q 26.515625 48.1875 22.3125 43.546875 \n",
       "Q 18.109375 38.921875 18.109375 30.90625 \n",
       "L 18.109375 0 \n",
       "L 9.078125 0 \n",
       "L 9.078125 54.6875 \n",
       "L 18.109375 54.6875 \n",
       "L 18.109375 46.1875 \n",
       "Q 21.34375 51.125 25.703125 53.5625 \n",
       "Q 30.078125 56 35.796875 56 \n",
       "Q 45.21875 56 50.046875 50.171875 \n",
       "Q 54.890625 44.34375 54.890625 33.015625 \n",
       "z\n",
       "\" id=\"DejaVuSans-110\"/>\n",
       "      </defs>\n",
       "      <use xlink:href=\"#DejaVuSans-102\"/>\n",
       "      <use x=\"35.205078\" xlink:href=\"#DejaVuSans-111\"/>\n",
       "      <use x=\"96.386719\" xlink:href=\"#DejaVuSans-114\"/>\n",
       "      <use x=\"135.25\" xlink:href=\"#DejaVuSans-101\"/>\n",
       "      <use x=\"196.773438\" xlink:href=\"#DejaVuSans-99\"/>\n",
       "      <use x=\"251.753906\" xlink:href=\"#DejaVuSans-97\"/>\n",
       "      <use x=\"313.033203\" xlink:href=\"#DejaVuSans-115\"/>\n",
       "      <use x=\"365.132812\" xlink:href=\"#DejaVuSans-116\"/>\n",
       "      <use x=\"404.341797\" xlink:href=\"#DejaVuSans-32\"/>\n",
       "      <use x=\"436.128906\" xlink:href=\"#DejaVuSans-112\"/>\n",
       "      <use x=\"499.605469\" xlink:href=\"#DejaVuSans-114\"/>\n",
       "      <use x=\"538.46875\" xlink:href=\"#DejaVuSans-101\"/>\n",
       "      <use x=\"599.992188\" xlink:href=\"#DejaVuSans-100\"/>\n",
       "      <use x=\"663.46875\" xlink:href=\"#DejaVuSans-105\"/>\n",
       "      <use x=\"691.251953\" xlink:href=\"#DejaVuSans-99\"/>\n",
       "      <use x=\"746.232422\" xlink:href=\"#DejaVuSans-116\"/>\n",
       "      <use x=\"785.441406\" xlink:href=\"#DejaVuSans-105\"/>\n",
       "      <use x=\"813.224609\" xlink:href=\"#DejaVuSans-111\"/>\n",
       "      <use x=\"874.40625\" xlink:href=\"#DejaVuSans-110\"/>\n",
       "     </g>\n",
       "    </g>\n",
       "   </g>\n",
       "  </g>\n",
       " </g>\n",
       " <defs>\n",
       "  <clipPath id=\"pbb3f0538ad\">\n",
       "   <rect height=\"217.44\" width=\"334.8\" x=\"38.482813\" y=\"7.2\"/>\n",
       "  </clipPath>\n",
       " </defs>\n",
       "</svg>\n"
      ],
      "text/plain": [
       "<Figure size 432x288 with 1 Axes>"
      ]
     },
     "metadata": {
      "needs_background": "light"
     },
     "output_type": "display_data"
    }
   ],
   "source": [
    "plt.plot(validation_target, label='forecast target')\n",
    "plt.plot(validation_predictions, label='forecast prediction')\n",
    "plt.legend()"
   ]
  },
  {
   "cell_type": "code",
   "execution_count": 84,
   "metadata": {},
   "outputs": [],
   "source": [
    "# RNN MODEL"
   ]
  },
  {
   "cell_type": "code",
   "execution_count": 120,
   "metadata": {},
   "outputs": [],
   "source": [
    "X=X.reshape(-1, T, 1) # Now the data should be N x T x D"
   ]
  },
  {
   "cell_type": "code",
   "execution_count": 102,
   "metadata": {},
   "outputs": [],
   "source": [
    "from tensorflow.keras.layers import SimpleRNN"
   ]
  },
  {
   "cell_type": "code",
   "execution_count": 121,
   "metadata": {},
   "outputs": [
    {
     "name": "stdout",
     "output_type": "stream",
     "text": [
      "Train on 3 samples, validate on 4 samples\n",
      "Epoch 1/80\n",
      "3/3 [==============================] - 1s 447ms/sample - loss: 3815.2578 - val_loss: 1924.5553\n",
      "Epoch 2/80\n",
      "3/3 [==============================] - 0s 6ms/sample - loss: 3793.2258 - val_loss: 1912.1532\n",
      "Epoch 3/80\n",
      "3/3 [==============================] - 0s 7ms/sample - loss: 3771.1924 - val_loss: 1899.7255\n",
      "Epoch 4/80\n",
      "3/3 [==============================] - 0s 7ms/sample - loss: 3749.0188 - val_loss: 1887.2852\n",
      "Epoch 5/80\n",
      "3/3 [==============================] - 0s 8ms/sample - loss: 3726.7527 - val_loss: 1874.8239\n",
      "Epoch 6/80\n",
      "3/3 [==============================] - 0s 8ms/sample - loss: 3704.4089 - val_loss: 1862.3503\n",
      "Epoch 7/80\n",
      "3/3 [==============================] - 0s 7ms/sample - loss: 3681.6160 - val_loss: 1849.9905\n",
      "Epoch 8/80\n",
      "3/3 [==============================] - 0s 8ms/sample - loss: 3657.0847 - val_loss: 1837.6287\n",
      "Epoch 9/80\n",
      "3/3 [==============================] - 0s 8ms/sample - loss: 3632.4470 - val_loss: 1825.2609\n",
      "Epoch 10/80\n",
      "3/3 [==============================] - 0s 6ms/sample - loss: 3607.6904 - val_loss: 1812.8894\n",
      "Epoch 11/80\n",
      "3/3 [==============================] - 0s 6ms/sample - loss: 3582.8225 - val_loss: 1800.5183\n",
      "Epoch 12/80\n",
      "3/3 [==============================] - 0s 11ms/sample - loss: 3557.8518 - val_loss: 1788.1500\n",
      "Epoch 13/80\n",
      "3/3 [==============================] - 0s 12ms/sample - loss: 3532.7864 - val_loss: 1775.7887\n",
      "Epoch 14/80\n",
      "3/3 [==============================] - 0s 8ms/sample - loss: 3507.6328 - val_loss: 1763.4359\n",
      "Epoch 15/80\n",
      "3/3 [==============================] - 0s 9ms/sample - loss: 3482.3975 - val_loss: 1751.0952\n",
      "Epoch 16/80\n",
      "3/3 [==============================] - 0s 11ms/sample - loss: 3457.0842 - val_loss: 1738.7687\n",
      "Epoch 17/80\n",
      "3/3 [==============================] - 0s 7ms/sample - loss: 3431.6975 - val_loss: 1726.4581\n",
      "Epoch 18/80\n",
      "3/3 [==============================] - 0s 10ms/sample - loss: 3406.2395 - val_loss: 1714.1664\n",
      "Epoch 19/80\n",
      "3/3 [==============================] - 0s 11ms/sample - loss: 3380.7136 - val_loss: 1701.8949\n",
      "Epoch 20/80\n",
      "3/3 [==============================] - 0s 7ms/sample - loss: 3355.1213 - val_loss: 1689.6460\n",
      "Epoch 21/80\n",
      "3/3 [==============================] - 0s 9ms/sample - loss: 3329.4651 - val_loss: 1677.4211\n",
      "Epoch 22/80\n",
      "3/3 [==============================] - 0s 11ms/sample - loss: 3303.7451 - val_loss: 1665.2224\n",
      "Epoch 23/80\n",
      "3/3 [==============================] - 0s 6ms/sample - loss: 3278.6814 - val_loss: 1653.0747\n",
      "Epoch 24/80\n",
      "3/3 [==============================] - 0s 11ms/sample - loss: 3253.8916 - val_loss: 1640.9742\n",
      "Epoch 25/80\n",
      "3/3 [==============================] - 0s 10ms/sample - loss: 3229.0547 - val_loss: 1628.9158\n",
      "Epoch 26/80\n",
      "3/3 [==============================] - 0s 7ms/sample - loss: 3204.4324 - val_loss: 1616.8627\n",
      "Epoch 27/80\n",
      "3/3 [==============================] - 0s 7ms/sample - loss: 3180.2449 - val_loss: 1604.4897\n",
      "Epoch 28/80\n",
      "3/3 [==============================] - 0s 8ms/sample - loss: 3155.3699 - val_loss: 1592.1418\n",
      "Epoch 29/80\n",
      "3/3 [==============================] - 0s 7ms/sample - loss: 3130.3215 - val_loss: 1579.8230\n",
      "Epoch 30/80\n",
      "3/3 [==============================] - 0s 7ms/sample - loss: 3105.1243 - val_loss: 1567.5372\n",
      "Epoch 31/80\n",
      "3/3 [==============================] - 0s 7ms/sample - loss: 3079.5146 - val_loss: 1555.2778\n",
      "Epoch 32/80\n",
      "3/3 [==============================] - 0s 10ms/sample - loss: 3053.2051 - val_loss: 1543.0493\n",
      "Epoch 33/80\n",
      "3/3 [==============================] - 0s 7ms/sample - loss: 3026.6980 - val_loss: 1530.8563\n",
      "Epoch 34/80\n",
      "3/3 [==============================] - 0s 10ms/sample - loss: 3000.0085 - val_loss: 1518.8512\n",
      "Epoch 35/80\n",
      "3/3 [==============================] - 0s 10ms/sample - loss: 2973.1492 - val_loss: 1507.0637\n",
      "Epoch 36/80\n",
      "3/3 [==============================] - 0s 7ms/sample - loss: 2946.1328 - val_loss: 1495.3052\n",
      "Epoch 37/80\n",
      "3/3 [==============================] - 0s 9ms/sample - loss: 2918.9700 - val_loss: 1483.4829\n",
      "Epoch 38/80\n",
      "3/3 [==============================] - 0s 7ms/sample - loss: 2891.6707 - val_loss: 1471.5497\n",
      "Epoch 39/80\n",
      "3/3 [==============================] - 0s 10ms/sample - loss: 2864.2422 - val_loss: 1459.6609\n",
      "Epoch 40/80\n",
      "3/3 [==============================] - 0s 10ms/sample - loss: 2836.6943 - val_loss: 1447.8209\n",
      "Epoch 41/80\n",
      "3/3 [==============================] - 0s 9ms/sample - loss: 2809.0344 - val_loss: 1436.0342\n",
      "Epoch 42/80\n",
      "3/3 [==============================] - 0s 7ms/sample - loss: 2781.2695 - val_loss: 1424.3049\n",
      "Epoch 43/80\n",
      "3/3 [==============================] - 0s 9ms/sample - loss: 2753.4065 - val_loss: 1412.6375\n",
      "Epoch 44/80\n",
      "3/3 [==============================] - 0s 9ms/sample - loss: 2725.4526 - val_loss: 1401.0356\n",
      "Epoch 45/80\n",
      "3/3 [==============================] - 0s 7ms/sample - loss: 2697.4138 - val_loss: 1389.5039\n",
      "Epoch 46/80\n",
      "3/3 [==============================] - 0s 10ms/sample - loss: 2669.2971 - val_loss: 1378.0463\n",
      "Epoch 47/80\n",
      "3/3 [==============================] - 0s 10ms/sample - loss: 2641.1082 - val_loss: 1366.6670\n",
      "Epoch 48/80\n",
      "3/3 [==============================] - 0s 11ms/sample - loss: 2612.8540 - val_loss: 1355.3704\n",
      "Epoch 49/80\n",
      "3/3 [==============================] - 0s 8ms/sample - loss: 2584.5408 - val_loss: 1344.1603\n",
      "Epoch 50/80\n",
      "3/3 [==============================] - 0s 8ms/sample - loss: 2556.1746 - val_loss: 1333.0413\n",
      "Epoch 51/80\n",
      "3/3 [==============================] - 0s 9ms/sample - loss: 2527.7617 - val_loss: 1322.0176\n",
      "Epoch 52/80\n",
      "3/3 [==============================] - 0s 9ms/sample - loss: 2499.3083 - val_loss: 1311.0935\n",
      "Epoch 53/80\n",
      "3/3 [==============================] - 0s 10ms/sample - loss: 2470.8218 - val_loss: 1300.2732\n",
      "Epoch 54/80\n",
      "3/3 [==============================] - 0s 7ms/sample - loss: 2442.3074 - val_loss: 1289.5609\n",
      "Epoch 55/80\n",
      "3/3 [==============================] - 0s 10ms/sample - loss: 2413.7722 - val_loss: 1278.9613\n",
      "Epoch 56/80\n",
      "3/3 [==============================] - 0s 7ms/sample - loss: 2385.2224 - val_loss: 1268.4784\n",
      "Epoch 57/80\n",
      "3/3 [==============================] - 0s 8ms/sample - loss: 2356.6655 - val_loss: 1258.1169\n",
      "Epoch 58/80\n",
      "3/3 [==============================] - 0s 9ms/sample - loss: 2328.1072 - val_loss: 1247.8815\n",
      "Epoch 59/80\n",
      "3/3 [==============================] - 0s 9ms/sample - loss: 2299.5549 - val_loss: 1237.7758\n",
      "Epoch 60/80\n",
      "3/3 [==============================] - 0s 6ms/sample - loss: 2271.0156 - val_loss: 1227.8049\n",
      "Epoch 61/80\n",
      "3/3 [==============================] - 0s 9ms/sample - loss: 2242.4963 - val_loss: 1217.9731\n",
      "Epoch 62/80\n",
      "3/3 [==============================] - 0s 9ms/sample - loss: 2214.0042 - val_loss: 1208.2848\n",
      "Epoch 63/80\n",
      "3/3 [==============================] - 0s 12ms/sample - loss: 2185.5466 - val_loss: 1198.7443\n",
      "Epoch 64/80\n",
      "3/3 [==============================] - 0s 8ms/sample - loss: 2157.1301 - val_loss: 1189.3563\n",
      "Epoch 65/80\n",
      "3/3 [==============================] - 0s 10ms/sample - loss: 2128.7625 - val_loss: 1180.1251\n",
      "Epoch 66/80\n",
      "3/3 [==============================] - 0s 9ms/sample - loss: 2100.4514 - val_loss: 1171.0552\n",
      "Epoch 67/80\n",
      "3/3 [==============================] - 0s 7ms/sample - loss: 2072.2041 - val_loss: 1162.1511\n",
      "Epoch 68/80\n",
      "3/3 [==============================] - 0s 9ms/sample - loss: 2044.0283 - val_loss: 1153.4170\n",
      "Epoch 69/80\n",
      "3/3 [==============================] - 0s 7ms/sample - loss: 2015.9323 - val_loss: 1144.8572\n",
      "Epoch 70/80\n",
      "3/3 [==============================] - 0s 20ms/sample - loss: 1987.9232 - val_loss: 1136.1121\n",
      "Epoch 71/80\n",
      "3/3 [==============================] - 0s 10ms/sample - loss: 1960.0084 - val_loss: 1127.2740\n",
      "Epoch 72/80\n",
      "3/3 [==============================] - 0s 12ms/sample - loss: 1932.1971 - val_loss: 1118.8734\n",
      "Epoch 73/80\n",
      "3/3 [==============================] - 0s 8ms/sample - loss: 1904.4962 - val_loss: 1111.8256\n",
      "Epoch 74/80\n",
      "3/3 [==============================] - 0s 8ms/sample - loss: 1876.9141 - val_loss: 1105.0438\n",
      "Epoch 75/80\n",
      "3/3 [==============================] - 0s 6ms/sample - loss: 1849.4590 - val_loss: 1098.5332\n",
      "Epoch 76/80\n",
      "3/3 [==============================] - 0s 8ms/sample - loss: 1822.1383 - val_loss: 1092.2992\n",
      "Epoch 77/80\n",
      "3/3 [==============================] - 0s 9ms/sample - loss: 1794.9606 - val_loss: 1086.3469\n",
      "Epoch 78/80\n",
      "3/3 [==============================] - 0s 10ms/sample - loss: 1767.9340 - val_loss: 1080.6812\n",
      "Epoch 79/80\n",
      "3/3 [==============================] - 0s 10ms/sample - loss: 1741.0664 - val_loss: 1075.3069\n",
      "Epoch 80/80\n",
      "3/3 [==============================] - 0s 8ms/sample - loss: 1714.3662 - val_loss: 1070.2290\n"
     ]
    }
   ],
   "source": [
    "### try autoregressive RNN model\n",
    "i = Input(shape=(T,1))\n",
    "x = SimpleRNN(15, activation='relu')(i)\n",
    "x = Dense(1)(x)\n",
    "model = Model(i, x)\n",
    "model.compile(\n",
    "  loss='mse',\n",
    "  optimizer=Adam(lr=0.001),\n",
    ")\n",
    "\n",
    "# train the RNN\n",
    "r = model.fit(\n",
    "  X[:-N//2], Y[:-N//2],\n",
    "  epochs=80,\n",
    "  validation_data=(X[-N//2:], Y[-N//2:]),\n",
    ")"
   ]
  },
  {
   "cell_type": "code",
   "execution_count": null,
   "metadata": {},
   "outputs": [],
   "source": []
  }
 ],
 "metadata": {
  "kernelspec": {
   "display_name": "Python 3.6.12 64-bit ('air': conda)",
   "language": "python",
   "name": "python361264bitairconda9286f498a35a47e7964c247e26773dcd"
  },
  "language_info": {
   "codemirror_mode": {
    "name": "ipython",
    "version": 3
   },
   "file_extension": ".py",
   "mimetype": "text/x-python",
   "name": "python",
   "nbconvert_exporter": "python",
   "pygments_lexer": "ipython3",
   "version": "3.6.12-final"
  }
 },
 "nbformat": 4,
 "nbformat_minor": 2
}