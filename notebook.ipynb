{
 "metadata": {
  "language_info": {
   "codemirror_mode": {
    "name": "ipython",
    "version": 3
   },
   "file_extension": ".py",
   "mimetype": "text/x-python",
   "name": "python",
   "nbconvert_exporter": "python",
   "pygments_lexer": "ipython3",
   "version": "3.6.12-final"
  },
  "orig_nbformat": 2,
  "kernelspec": {
   "name": "python361264bitplotlyconda963cc862a9a24d3e8bfd93858a078d4f",
   "display_name": "Python 3.6.12 64-bit ('plotly': conda)"
  }
 },
 "nbformat": 4,
 "nbformat_minor": 2,
 "cells": [
  {
   "cell_type": "code",
   "execution_count": 1,
   "metadata": {},
   "outputs": [],
   "source": [
    "import requests \n",
    "import os\n",
    "from datetime import datetime\n",
    "import pandas"
   ]
  },
  {
   "source": [
    "# DOWNLOAD DATA FROM API"
   ],
   "cell_type": "markdown",
   "metadata": {}
  },
  {
   "cell_type": "code",
   "execution_count": 4,
   "metadata": {},
   "outputs": [],
   "source": [
    "data= ''\n",
    "n=0\n",
    "\n",
    "while True :\n",
    "\n",
    "    ploads = {'api-key':'579b464db66ec23bdd000001cdd3946e44ce4aad7209ff7b23ac571b','format':'csv',\n",
    "    'offset':n,\n",
    "    'limit':10,\n",
    "    # 'filters':'city=Calcutta',\n",
    "    }\n",
    "    r=requests.get('https://api.data.gov.in/resource/3b01bcb8-0b14-4abf-b6f2-c1bfd384ba69',params=ploads)\n",
    "    n+=10\n",
    "    data+=r.text\n",
    "    if r.text == '':\n",
    "        break"
   ]
  },
  {
   "source": [
    "# WRITE DATA TO CSV"
   ],
   "cell_type": "markdown",
   "metadata": {}
  },
  {
   "cell_type": "code",
   "execution_count": 75,
   "metadata": {},
   "outputs": [],
   "source": [
    "\n",
    "time = datetime.now()\n",
    "text_file = open(\"Air-{}.csv\".format(time), \"w\")\n",
    "n = text_file.write(data)\n",
    "text_file.close()"
   ]
  },
  {
   "cell_type": "code",
   "execution_count": 10,
   "metadata": {},
   "outputs": [],
   "source": []
  },
  {
   "source": [
    "## clean data"
   ],
   "cell_type": "markdown",
   "metadata": {}
  },
  {
   "cell_type": "code",
   "execution_count": 76,
   "metadata": {},
   "outputs": [],
   "source": [
    "df=pandas.read_csv(\"Air-{}.csv\".format(time))\n",
    "df=df.drop_duplicates()\n",
    "df=df.drop(df.index[[10]])\n"
   ]
  },
  {
   "cell_type": "code",
   "execution_count": 77,
   "metadata": {},
   "outputs": [
    {
     "output_type": "execute_result",
     "data": {
      "text/plain": [
       "id               object\n",
       "country          object\n",
       "state            object\n",
       "city             object\n",
       "station          object\n",
       "last_update      object\n",
       "pollutant_id     object\n",
       "pollutant_min    object\n",
       "pollutant_max    object\n",
       "pollutant_avg    object\n",
       "dtype: object"
      ]
     },
     "metadata": {},
     "execution_count": 77
    }
   ],
   "source": [
    "\n",
    "df=df.drop('pollutant_unit',axis=1)\n",
    "df.dtypes"
   ]
  },
  {
   "cell_type": "code",
   "execution_count": 78,
   "metadata": {},
   "outputs": [],
   "source": [
    "df= df.fillna(0.0001)\n",
    "\n",
    "df['pollutant_min']=df['pollutant_min'].astype('float')\n",
    "df['pollutant_max']=df['pollutant_max'].astype('float')\n",
    "df['pollutant_avg']=df['pollutant_avg'].astype('float')\n",
    "\n",
    "#replace nans and change datatype"
   ]
  },
  {
   "source": [
    "# CLEANED CSV"
   ],
   "cell_type": "markdown",
   "metadata": {}
  },
  {
   "cell_type": "code",
   "execution_count": 106,
   "metadata": {},
   "outputs": [
    {
     "output_type": "execute_result",
     "data": {
      "text/plain": [
       "array(['Andhra_Pradesh', 'Assam', 'Bihar', 'Chandigarh', 'Delhi',\n",
       "       'Gujarat', 'Haryana', 'Jharkhand', 'Karnataka', 'Kerala',\n",
       "       'Madhya Pradesh', 'Maharashtra', 'Meghalaya', 'Mizoram',\n",
       "       'Nagaland', 'Odisha', 'Punjab', 'Rajasthan', 'TamilNadu',\n",
       "       'Telangana', 'Tripura', 'Uttar_Pradesh', 'West_Bengal'],\n",
       "      dtype=object)"
      ]
     },
     "metadata": {},
     "execution_count": 106
    }
   ],
   "source": [
    "df['state'].unique()"
   ]
  },
  {
   "cell_type": "code",
   "execution_count": 79,
   "metadata": {},
   "outputs": [
    {
     "output_type": "execute_result",
     "data": {
      "text/plain": [
       "        id country           state       city                         station  \\\n",
       "0        1   India  Andhra_Pradesh  Amaravati  Secretariat, Amaravati - APPCB   \n",
       "1        2   India  Andhra_Pradesh  Amaravati  Secretariat, Amaravati - APPCB   \n",
       "2        3   India  Andhra_Pradesh  Amaravati  Secretariat, Amaravati - APPCB   \n",
       "3        4   India  Andhra_Pradesh  Amaravati  Secretariat, Amaravati - APPCB   \n",
       "4        5   India  Andhra_Pradesh  Amaravati  Secretariat, Amaravati - APPCB   \n",
       "...    ...     ...             ...        ...                             ...   \n",
       "1701  1548   India     West_Bengal    Kolkata       Victoria, Kolkata - WBPCB   \n",
       "1702  1549   India     West_Bengal    Kolkata       Victoria, Kolkata - WBPCB   \n",
       "1703  1550   India     West_Bengal    Kolkata       Victoria, Kolkata - WBPCB   \n",
       "1705  1551   India     West_Bengal    Kolkata       Victoria, Kolkata - WBPCB   \n",
       "1706  1552   India     West_Bengal    Kolkata       Victoria, Kolkata - WBPCB   \n",
       "\n",
       "              last_update pollutant_id  pollutant_min  pollutant_max  \\\n",
       "0     03-12-2020 11:00:00        PM2.5        49.0000       339.0000   \n",
       "1     03-12-2020 11:00:00         PM10        59.0000       185.0000   \n",
       "2     03-12-2020 11:00:00          NO2        18.0000        62.0000   \n",
       "3     03-12-2020 11:00:00          NH3         3.0000         6.0000   \n",
       "4     03-12-2020 11:00:00          SO2         5.0000        31.0000   \n",
       "...                   ...          ...            ...            ...   \n",
       "1701  03-12-2020 11:00:00          NO2        26.0000       117.0000   \n",
       "1702  03-12-2020 11:00:00          NH3         0.0001         0.0001   \n",
       "1703  03-12-2020 11:00:00          SO2        10.0000        49.0000   \n",
       "1705  03-12-2020 11:00:00           CO        26.0000       123.0000   \n",
       "1706  03-12-2020 11:00:00        OZONE         4.0000       147.0000   \n",
       "\n",
       "      pollutant_avg  \n",
       "0          104.0000  \n",
       "1           95.0000  \n",
       "2           27.0000  \n",
       "3            4.0000  \n",
       "4           20.0000  \n",
       "...             ...  \n",
       "1701        80.0000  \n",
       "1702         0.0001  \n",
       "1703        22.0000  \n",
       "1705        63.0000  \n",
       "1706        27.0000  \n",
       "\n",
       "[1552 rows x 10 columns]"
      ],
      "text/html": "<div>\n<style scoped>\n    .dataframe tbody tr th:only-of-type {\n        vertical-align: middle;\n    }\n\n    .dataframe tbody tr th {\n        vertical-align: top;\n    }\n\n    .dataframe thead th {\n        text-align: right;\n    }\n</style>\n<table border=\"1\" class=\"dataframe\">\n  <thead>\n    <tr style=\"text-align: right;\">\n      <th></th>\n      <th>id</th>\n      <th>country</th>\n      <th>state</th>\n      <th>city</th>\n      <th>station</th>\n      <th>last_update</th>\n      <th>pollutant_id</th>\n      <th>pollutant_min</th>\n      <th>pollutant_max</th>\n      <th>pollutant_avg</th>\n    </tr>\n  </thead>\n  <tbody>\n    <tr>\n      <th>0</th>\n      <td>1</td>\n      <td>India</td>\n      <td>Andhra_Pradesh</td>\n      <td>Amaravati</td>\n      <td>Secretariat, Amaravati - APPCB</td>\n      <td>03-12-2020 11:00:00</td>\n      <td>PM2.5</td>\n      <td>49.0000</td>\n      <td>339.0000</td>\n      <td>104.0000</td>\n    </tr>\n    <tr>\n      <th>1</th>\n      <td>2</td>\n      <td>India</td>\n      <td>Andhra_Pradesh</td>\n      <td>Amaravati</td>\n      <td>Secretariat, Amaravati - APPCB</td>\n      <td>03-12-2020 11:00:00</td>\n      <td>PM10</td>\n      <td>59.0000</td>\n      <td>185.0000</td>\n      <td>95.0000</td>\n    </tr>\n    <tr>\n      <th>2</th>\n      <td>3</td>\n      <td>India</td>\n      <td>Andhra_Pradesh</td>\n      <td>Amaravati</td>\n      <td>Secretariat, Amaravati - APPCB</td>\n      <td>03-12-2020 11:00:00</td>\n      <td>NO2</td>\n      <td>18.0000</td>\n      <td>62.0000</td>\n      <td>27.0000</td>\n    </tr>\n    <tr>\n      <th>3</th>\n      <td>4</td>\n      <td>India</td>\n      <td>Andhra_Pradesh</td>\n      <td>Amaravati</td>\n      <td>Secretariat, Amaravati - APPCB</td>\n      <td>03-12-2020 11:00:00</td>\n      <td>NH3</td>\n      <td>3.0000</td>\n      <td>6.0000</td>\n      <td>4.0000</td>\n    </tr>\n    <tr>\n      <th>4</th>\n      <td>5</td>\n      <td>India</td>\n      <td>Andhra_Pradesh</td>\n      <td>Amaravati</td>\n      <td>Secretariat, Amaravati - APPCB</td>\n      <td>03-12-2020 11:00:00</td>\n      <td>SO2</td>\n      <td>5.0000</td>\n      <td>31.0000</td>\n      <td>20.0000</td>\n    </tr>\n    <tr>\n      <th>...</th>\n      <td>...</td>\n      <td>...</td>\n      <td>...</td>\n      <td>...</td>\n      <td>...</td>\n      <td>...</td>\n      <td>...</td>\n      <td>...</td>\n      <td>...</td>\n      <td>...</td>\n    </tr>\n    <tr>\n      <th>1701</th>\n      <td>1548</td>\n      <td>India</td>\n      <td>West_Bengal</td>\n      <td>Kolkata</td>\n      <td>Victoria, Kolkata - WBPCB</td>\n      <td>03-12-2020 11:00:00</td>\n      <td>NO2</td>\n      <td>26.0000</td>\n      <td>117.0000</td>\n      <td>80.0000</td>\n    </tr>\n    <tr>\n      <th>1702</th>\n      <td>1549</td>\n      <td>India</td>\n      <td>West_Bengal</td>\n      <td>Kolkata</td>\n      <td>Victoria, Kolkata - WBPCB</td>\n      <td>03-12-2020 11:00:00</td>\n      <td>NH3</td>\n      <td>0.0001</td>\n      <td>0.0001</td>\n      <td>0.0001</td>\n    </tr>\n    <tr>\n      <th>1703</th>\n      <td>1550</td>\n      <td>India</td>\n      <td>West_Bengal</td>\n      <td>Kolkata</td>\n      <td>Victoria, Kolkata - WBPCB</td>\n      <td>03-12-2020 11:00:00</td>\n      <td>SO2</td>\n      <td>10.0000</td>\n      <td>49.0000</td>\n      <td>22.0000</td>\n    </tr>\n    <tr>\n      <th>1705</th>\n      <td>1551</td>\n      <td>India</td>\n      <td>West_Bengal</td>\n      <td>Kolkata</td>\n      <td>Victoria, Kolkata - WBPCB</td>\n      <td>03-12-2020 11:00:00</td>\n      <td>CO</td>\n      <td>26.0000</td>\n      <td>123.0000</td>\n      <td>63.0000</td>\n    </tr>\n    <tr>\n      <th>1706</th>\n      <td>1552</td>\n      <td>India</td>\n      <td>West_Bengal</td>\n      <td>Kolkata</td>\n      <td>Victoria, Kolkata - WBPCB</td>\n      <td>03-12-2020 11:00:00</td>\n      <td>OZONE</td>\n      <td>4.0000</td>\n      <td>147.0000</td>\n      <td>27.0000</td>\n    </tr>\n  </tbody>\n</table>\n<p>1552 rows × 10 columns</p>\n</div>"
     },
     "metadata": {},
     "execution_count": 79
    }
   ],
   "source": [
    "df"
   ]
  },
  {
   "source": [
    "# Data Visulization"
   ],
   "cell_type": "markdown",
   "metadata": {}
  },
  {
   "cell_type": "code",
   "execution_count": 132,
   "metadata": {},
   "outputs": [
    {
     "output_type": "display_data",
     "data": {
      "application/vnd.plotly.v1+json": {
       "config": {
        "plotlyServerURL": "https://plot.ly"
       },
       "data": [
        {
         "hovertemplate": "pollutant_id=PM2.5<br>pollutant_avg=%{x}<br>station=%{y}<br>pollutant_max=%{marker.size}<extra></extra>",
         "legendgroup": "PM2.5",
         "marker": {
          "color": "#636efa",
          "size": [
           432,
           418,
           431,
           351,
           440,
           374,
           478,
           435,
           378,
           385,
           354,
           333,
           368,
           435,
           393,
           348,
           344,
           388,
           387,
           449,
           316,
           348,
           479,
           500,
           379,
           0.0001,
           404,
           400,
           395,
           382,
           460,
           432,
           306,
           368,
           433,
           375,
           500,
           329
          ],
          "sizemode": "area",
          "sizeref": 1.25,
          "symbol": "circle"
         },
         "mode": "markers",
         "name": "PM2.5",
         "orientation": "h",
         "showlegend": true,
         "type": "scatter",
         "x": [
          364,
          378,
          383,
          290,
          381,
          320,
          357,
          373,
          332,
          348,
          295,
          289,
          330,
          391,
          343,
          285,
          303,
          341,
          332,
          366,
          202,
          298,
          381,
          380,
          321,
          0.0001,
          369,
          361,
          353,
          302,
          355,
          383,
          163,
          330,
          376,
          330,
          403,
          282
         ],
         "xaxis": "x",
         "y": [
          "Alipur, Delhi - DPCC",
          "Anand Vihar, Delhi - DPCC",
          "Ashok Vihar, Delhi - DPCC",
          "Aya Nagar, Delhi - IMD",
          "Bawana, Delhi - DPCC",
          "CRRI Mathura Road, Delhi - IMD",
          "Chandni Chowk, Delhi - IITM",
          "DTU, Delhi - CPCB",
          "Dr. Karni Singh Shooting Range, Delhi - DPCC",
          "Dwarka-Sector 8, Delhi - DPCC ",
          "IGI Airport (T3), Delhi - IMD",
          "IHBAS, Dilshad Garden, Delhi - CPCB",
          "ITO, Delhi - CPCB",
          "Jahangirpuri, Delhi - DPCC",
          "Jawaharlal Nehru Stadium, Delhi - DPCC",
          "Lodhi Road, Delhi - IITM",
          "Lodhi Road, Delhi - IMD",
          "Major Dhyan Chand National Stadium, Delhi - DPCC",
          "Mandir Marg, Delhi - DPCC",
          "Mundka, Delhi - DPCC",
          "NSIT Dwarka, Delhi - CPCB",
          "Najafgarh, Delhi - DPCC",
          "Narela, Delhi - DPCC",
          "Nehru Nagar, Delhi - DPCC",
          "North Campus, DU, Delhi - IMD",
          "Okhla Phase-2, Delhi - DPCC",
          "Patparganj, Delhi - DPCC",
          "Punjabi Bagh, Delhi - DPCC",
          "Pusa, Delhi - DPCC",
          "Pusa, Delhi - IMD",
          "R K Puram, Delhi - DPCC",
          "Rohini, Delhi - DPCC",
          "Shadipur, Delhi - CPCB",
          "Sirifort, Delhi - CPCB",
          "Sonia Vihar, Delhi - DPCC",
          "Sri Aurobindo Marg, Delhi - DPCC",
          "Vivek Vihar, Delhi - DPCC",
          "Wazirpur, Delhi - DPCC"
         ],
         "yaxis": "y"
        },
        {
         "hovertemplate": "pollutant_id=PM10<br>pollutant_avg=%{x}<br>station=%{y}<br>pollutant_max=%{marker.size}<extra></extra>",
         "legendgroup": "PM10",
         "marker": {
          "color": "#EF553B",
          "size": [
           420,
           468,
           418,
           330,
           472,
           415,
           500,
           364,
           395,
           390,
           433,
           453,
           273,
           456,
           305,
           245,
           194,
           325,
           283,
           492,
           405,
           219,
           453,
           467,
           372,
           0.0001,
           341,
           413,
           473,
           361,
           413,
           436,
           423,
           487,
           429,
           229,
           428,
           409
          ],
          "sizemode": "area",
          "sizeref": 1.25,
          "symbol": "circle"
         },
         "mode": "markers",
         "name": "PM10",
         "orientation": "h",
         "showlegend": true,
         "type": "scatter",
         "x": [
          301,
          328,
          281,
          180,
          357,
          272,
          362,
          261,
          258,
          257,
          252,
          290,
          197,
          346,
          234,
          173,
          154,
          234,
          207,
          305,
          266,
          172,
          329,
          284,
          221,
          0.0001,
          249,
          276,
          304,
          221,
          233,
          333,
          285,
          255,
          335,
          172,
          333,
          303
         ],
         "xaxis": "x",
         "y": [
          "Alipur, Delhi - DPCC",
          "Anand Vihar, Delhi - DPCC",
          "Ashok Vihar, Delhi - DPCC",
          "Aya Nagar, Delhi - IMD",
          "Bawana, Delhi - DPCC",
          "CRRI Mathura Road, Delhi - IMD",
          "Chandni Chowk, Delhi - IITM",
          "DTU, Delhi - CPCB",
          "Dr. Karni Singh Shooting Range, Delhi - DPCC",
          "Dwarka-Sector 8, Delhi - DPCC ",
          "IGI Airport (T3), Delhi - IMD",
          "IHBAS, Dilshad Garden, Delhi - CPCB",
          "ITO, Delhi - CPCB",
          "Jahangirpuri, Delhi - DPCC",
          "Jawaharlal Nehru Stadium, Delhi - DPCC",
          "Lodhi Road, Delhi - IITM",
          "Lodhi Road, Delhi - IMD",
          "Major Dhyan Chand National Stadium, Delhi - DPCC",
          "Mandir Marg, Delhi - DPCC",
          "Mundka, Delhi - DPCC",
          "NSIT Dwarka, Delhi - CPCB",
          "Najafgarh, Delhi - DPCC",
          "Narela, Delhi - DPCC",
          "Nehru Nagar, Delhi - DPCC",
          "North Campus, DU, Delhi - IMD",
          "Okhla Phase-2, Delhi - DPCC",
          "Patparganj, Delhi - DPCC",
          "Punjabi Bagh, Delhi - DPCC",
          "Pusa, Delhi - DPCC",
          "Pusa, Delhi - IMD",
          "R K Puram, Delhi - DPCC",
          "Rohini, Delhi - DPCC",
          "Shadipur, Delhi - CPCB",
          "Sirifort, Delhi - CPCB",
          "Sonia Vihar, Delhi - DPCC",
          "Sri Aurobindo Marg, Delhi - DPCC",
          "Vivek Vihar, Delhi - DPCC",
          "Wazirpur, Delhi - DPCC"
         ],
         "yaxis": "y"
        },
        {
         "hovertemplate": "pollutant_id=NO2<br>pollutant_avg=%{x}<br>station=%{y}<br>pollutant_max=%{marker.size}<extra></extra>",
         "legendgroup": "NO2",
         "marker": {
          "color": "#00cc96",
          "size": [
           112,
           185,
           132,
           55,
           179,
           70,
           85,
           69,
           177,
           152,
           290,
           54,
           162,
           134,
           117,
           18,
           147,
           128,
           111,
           88,
           45,
           147,
           0.0001,
           81,
           0.0001,
           98,
           147,
           179,
           100,
           152,
           92,
           260,
           190,
           155,
           75,
           74,
           127
          ],
          "sizemode": "area",
          "sizeref": 1.25,
          "symbol": "circle"
         },
         "mode": "markers",
         "name": "NO2",
         "orientation": "h",
         "showlegend": true,
         "type": "scatter",
         "x": [
          63,
          152,
          92,
          32,
          77,
          49,
          50,
          49,
          108,
          96,
          146,
          43,
          111,
          85,
          81,
          11,
          98,
          101,
          73,
          55,
          30,
          90,
          0.0001,
          48,
          0.0001,
          64,
          90,
          104,
          60,
          97,
          55,
          167,
          91,
          106,
          44,
          55,
          97
         ],
         "xaxis": "x",
         "y": [
          "Alipur, Delhi - DPCC",
          "Anand Vihar, Delhi - DPCC",
          "Ashok Vihar, Delhi - DPCC",
          "Aya Nagar, Delhi - IMD",
          "Bawana, Delhi - DPCC",
          "CRRI Mathura Road, Delhi - IMD",
          "Chandni Chowk, Delhi - IITM",
          "DTU, Delhi - CPCB",
          "Dr. Karni Singh Shooting Range, Delhi - DPCC",
          "Dwarka-Sector 8, Delhi - DPCC ",
          "IHBAS, Dilshad Garden, Delhi - CPCB",
          "ITO, Delhi - CPCB",
          "Jahangirpuri, Delhi - DPCC",
          "Jawaharlal Nehru Stadium, Delhi - DPCC",
          "Lodhi Road, Delhi - IITM",
          "Lodhi Road, Delhi - IMD",
          "Major Dhyan Chand National Stadium, Delhi - DPCC",
          "Mandir Marg, Delhi - DPCC",
          "Mundka, Delhi - DPCC",
          "NSIT Dwarka, Delhi - CPCB",
          "Najafgarh, Delhi - DPCC",
          "Narela, Delhi - DPCC",
          "Nehru Nagar, Delhi - DPCC",
          "North Campus, DU, Delhi - IMD",
          "Okhla Phase-2, Delhi - DPCC",
          "Patparganj, Delhi - DPCC",
          "Punjabi Bagh, Delhi - DPCC",
          "Pusa, Delhi - DPCC",
          "Pusa, Delhi - IMD",
          "R K Puram, Delhi - DPCC",
          "Rohini, Delhi - DPCC",
          "Shadipur, Delhi - CPCB",
          "Sirifort, Delhi - CPCB",
          "Sonia Vihar, Delhi - DPCC",
          "Sri Aurobindo Marg, Delhi - DPCC",
          "Vivek Vihar, Delhi - DPCC",
          "Wazirpur, Delhi - DPCC"
         ],
         "yaxis": "y"
        },
        {
         "hovertemplate": "pollutant_id=NH3<br>pollutant_avg=%{x}<br>station=%{y}<br>pollutant_max=%{marker.size}<extra></extra>",
         "legendgroup": "NH3",
         "marker": {
          "color": "#ab63fa",
          "size": [
           8,
           17,
           5,
           12,
           35,
           18,
           14,
           15,
           31,
           12,
           14,
           9,
           17,
           11,
           6,
           9,
           33,
           9,
           10,
           19,
           0.0001,
           20,
           8,
           16,
           8,
           24,
           26,
           8,
           11,
           7,
           10,
           26
          ],
          "sizemode": "area",
          "sizeref": 1.25,
          "symbol": "circle"
         },
         "mode": "markers",
         "name": "NH3",
         "orientation": "h",
         "showlegend": true,
         "type": "scatter",
         "x": [
          7,
          15,
          4,
          11,
          20,
          11,
          11,
          14,
          23,
          8,
          12,
          7,
          13,
          9,
          5,
          8,
          24,
          8,
          8,
          15,
          0.0001,
          14,
          7,
          12,
          7,
          21,
          23,
          6,
          9,
          7,
          8,
          25
         ],
         "xaxis": "x",
         "y": [
          "Alipur, Delhi - DPCC",
          "Anand Vihar, Delhi - DPCC",
          "Ashok Vihar, Delhi - DPCC",
          "Bawana, Delhi - DPCC",
          "Chandni Chowk, Delhi - IITM",
          "DTU, Delhi - CPCB",
          "Dr. Karni Singh Shooting Range, Delhi - DPCC",
          "Dwarka-Sector 8, Delhi - DPCC ",
          "IHBAS, Dilshad Garden, Delhi - CPCB",
          "ITO, Delhi - CPCB",
          "Jahangirpuri, Delhi - DPCC",
          "Jawaharlal Nehru Stadium, Delhi - DPCC",
          "Lodhi Road, Delhi - IITM",
          "Major Dhyan Chand National Stadium, Delhi - DPCC",
          "Mandir Marg, Delhi - DPCC",
          "Mundka, Delhi - DPCC",
          "NSIT Dwarka, Delhi - CPCB",
          "Najafgarh, Delhi - DPCC",
          "Narela, Delhi - DPCC",
          "Nehru Nagar, Delhi - DPCC",
          "Okhla Phase-2, Delhi - DPCC",
          "Patparganj, Delhi - DPCC",
          "Punjabi Bagh, Delhi - DPCC",
          "Pusa, Delhi - DPCC",
          "R K Puram, Delhi - DPCC",
          "Rohini, Delhi - DPCC",
          "Shadipur, Delhi - CPCB",
          "Sirifort, Delhi - CPCB",
          "Sonia Vihar, Delhi - DPCC",
          "Sri Aurobindo Marg, Delhi - DPCC",
          "Vivek Vihar, Delhi - DPCC",
          "Wazirpur, Delhi - DPCC"
         ],
         "yaxis": "y"
        },
        {
         "hovertemplate": "pollutant_id=SO2<br>pollutant_avg=%{x}<br>station=%{y}<br>pollutant_max=%{marker.size}<extra></extra>",
         "legendgroup": "SO2",
         "marker": {
          "color": "#FFA15A",
          "size": [
           41,
           26,
           54,
           10,
           9,
           9,
           42,
           25,
           37,
           51,
           24,
           0.0001,
           6,
           29,
           35,
           48,
           33,
           36,
           35,
           28,
           0.0001,
           12,
           23,
           44,
           33,
           33,
           23,
           36,
           32,
           20,
           43,
           65
          ],
          "sizemode": "area",
          "sizeref": 1.25,
          "symbol": "circle"
         },
         "mode": "markers",
         "name": "SO2",
         "orientation": "h",
         "showlegend": true,
         "type": "scatter",
         "x": [
          22,
          13,
          30,
          6,
          6,
          6,
          28,
          13,
          12,
          22,
          14,
          0.0001,
          5,
          21,
          26,
          25,
          12,
          12,
          15,
          20,
          0.0001,
          8,
          15,
          22,
          15,
          14,
          13,
          27,
          17,
          9,
          28,
          39
         ],
         "xaxis": "x",
         "y": [
          "Alipur, Delhi - DPCC",
          "Anand Vihar, Delhi - DPCC",
          "Ashok Vihar, Delhi - DPCC",
          "Bawana, Delhi - DPCC",
          "Chandni Chowk, Delhi - IITM",
          "DTU, Delhi - CPCB",
          "Dr. Karni Singh Shooting Range, Delhi - DPCC",
          "Dwarka-Sector 8, Delhi - DPCC ",
          "IHBAS, Dilshad Garden, Delhi - CPCB",
          "ITO, Delhi - CPCB",
          "Jahangirpuri, Delhi - DPCC",
          "Jawaharlal Nehru Stadium, Delhi - DPCC",
          "Lodhi Road, Delhi - IITM",
          "Major Dhyan Chand National Stadium, Delhi - DPCC",
          "Mandir Marg, Delhi - DPCC",
          "Mundka, Delhi - DPCC",
          "NSIT Dwarka, Delhi - CPCB",
          "Najafgarh, Delhi - DPCC",
          "Narela, Delhi - DPCC",
          "Nehru Nagar, Delhi - DPCC",
          "Okhla Phase-2, Delhi - DPCC",
          "Patparganj, Delhi - DPCC",
          "Punjabi Bagh, Delhi - DPCC",
          "Pusa, Delhi - DPCC",
          "R K Puram, Delhi - DPCC",
          "Rohini, Delhi - DPCC",
          "Shadipur, Delhi - CPCB",
          "Sirifort, Delhi - CPCB",
          "Sonia Vihar, Delhi - DPCC",
          "Sri Aurobindo Marg, Delhi - DPCC",
          "Vivek Vihar, Delhi - DPCC",
          "Wazirpur, Delhi - DPCC"
         ],
         "yaxis": "y"
        },
        {
         "hovertemplate": "pollutant_id=CO<br>pollutant_avg=%{x}<br>station=%{y}<br>pollutant_max=%{marker.size}<extra></extra>",
         "legendgroup": "CO",
         "marker": {
          "color": "#19d3f3",
          "size": [
           75,
           174,
           132,
           95,
           103,
           177,
           129,
           113,
           111,
           122,
           120,
           111,
           158,
           125,
           128,
           50,
           114,
           126,
           111,
           118,
           107,
           75,
           122,
           179,
           156,
           118,
           133,
           129,
           144,
           94,
           149,
           122,
           142,
           133,
           111,
           85,
           149,
           124
          ],
          "sizemode": "area",
          "sizeref": 1.25,
          "symbol": "circle"
         },
         "mode": "markers",
         "name": "CO",
         "orientation": "h",
         "showlegend": true,
         "type": "scatter",
         "x": [
          61,
          109,
          78,
          83,
          69,
          76,
          94,
          97,
          85,
          62,
          80,
          63,
          111,
          80,
          78,
          49,
          106,
          37,
          80,
          71,
          42,
          57,
          110,
          93,
          75,
          118,
          52,
          92,
          76,
          66,
          68,
          87,
          73,
          70,
          103,
          64,
          99,
          103
         ],
         "xaxis": "x",
         "y": [
          "Alipur, Delhi - DPCC",
          "Anand Vihar, Delhi - DPCC",
          "Ashok Vihar, Delhi - DPCC",
          "Aya Nagar, Delhi - IMD",
          "Bawana, Delhi - DPCC",
          "CRRI Mathura Road, Delhi - IMD",
          "Chandni Chowk, Delhi - IITM",
          "DTU, Delhi - CPCB",
          "Dr. Karni Singh Shooting Range, Delhi - DPCC",
          "Dwarka-Sector 8, Delhi - DPCC ",
          "IGI Airport (T3), Delhi - IMD",
          "IHBAS, Dilshad Garden, Delhi - CPCB",
          "ITO, Delhi - CPCB",
          "Jahangirpuri, Delhi - DPCC",
          "Jawaharlal Nehru Stadium, Delhi - DPCC",
          "Lodhi Road, Delhi - IITM",
          "Lodhi Road, Delhi - IMD",
          "Major Dhyan Chand National Stadium, Delhi - DPCC",
          "Mandir Marg, Delhi - DPCC",
          "Mundka, Delhi - DPCC",
          "NSIT Dwarka, Delhi - CPCB",
          "Najafgarh, Delhi - DPCC",
          "Narela, Delhi - DPCC",
          "Nehru Nagar, Delhi - DPCC",
          "North Campus, DU, Delhi - IMD",
          "Okhla Phase-2, Delhi - DPCC",
          "Patparganj, Delhi - DPCC",
          "Punjabi Bagh, Delhi - DPCC",
          "Pusa, Delhi - DPCC",
          "Pusa, Delhi - IMD",
          "R K Puram, Delhi - DPCC",
          "Rohini, Delhi - DPCC",
          "Shadipur, Delhi - CPCB",
          "Sirifort, Delhi - CPCB",
          "Sonia Vihar, Delhi - DPCC",
          "Sri Aurobindo Marg, Delhi - DPCC",
          "Vivek Vihar, Delhi - DPCC",
          "Wazirpur, Delhi - DPCC"
         ],
         "yaxis": "y"
        },
        {
         "hovertemplate": "pollutant_id=OZONE<br>pollutant_avg=%{x}<br>station=%{y}<br>pollutant_max=%{marker.size}<extra></extra>",
         "legendgroup": "OZONE",
         "marker": {
          "color": "#FF6692",
          "size": [
           199,
           41,
           185,
           39,
           118,
           35,
           31,
           66,
           247,
           156,
           45,
           64,
           90,
           129,
           177,
           13,
           59,
           215,
           71,
           66,
           185,
           160,
           254,
           68,
           93,
           36,
           148,
           138,
           94,
           243,
           81,
           97,
           265,
           139,
           260,
           38,
           55
          ],
          "sizemode": "area",
          "sizeref": 1.25,
          "symbol": "circle"
         },
         "mode": "markers",
         "name": "OZONE",
         "orientation": "h",
         "showlegend": true,
         "type": "scatter",
         "x": [
          11,
          13,
          11,
          12,
          11,
          2,
          11,
          11,
          53,
          10,
          9,
          7,
          9,
          4,
          6,
          9,
          8,
          5,
          5,
          13,
          16,
          17,
          5,
          10,
          13,
          3,
          51,
          3,
          16,
          14,
          5,
          4,
          73,
          9,
          39,
          11,
          28
         ],
         "xaxis": "x",
         "y": [
          "Alipur, Delhi - DPCC",
          "Anand Vihar, Delhi - DPCC",
          "Ashok Vihar, Delhi - DPCC",
          "Aya Nagar, Delhi - IMD",
          "Bawana, Delhi - DPCC",
          "CRRI Mathura Road, Delhi - IMD",
          "Chandni Chowk, Delhi - IITM",
          "DTU, Delhi - CPCB",
          "Dr. Karni Singh Shooting Range, Delhi - DPCC",
          "Dwarka-Sector 8, Delhi - DPCC ",
          "IGI Airport (T3), Delhi - IMD",
          "IHBAS, Dilshad Garden, Delhi - CPCB",
          "ITO, Delhi - CPCB",
          "Jahangirpuri, Delhi - DPCC",
          "Jawaharlal Nehru Stadium, Delhi - DPCC",
          "Lodhi Road, Delhi - IITM",
          "Lodhi Road, Delhi - IMD",
          "Major Dhyan Chand National Stadium, Delhi - DPCC",
          "Mandir Marg, Delhi - DPCC",
          "NSIT Dwarka, Delhi - CPCB",
          "Najafgarh, Delhi - DPCC",
          "Narela, Delhi - DPCC",
          "Nehru Nagar, Delhi - DPCC",
          "North Campus, DU, Delhi - IMD",
          "Okhla Phase-2, Delhi - DPCC",
          "Patparganj, Delhi - DPCC",
          "Punjabi Bagh, Delhi - DPCC",
          "Pusa, Delhi - DPCC",
          "Pusa, Delhi - IMD",
          "R K Puram, Delhi - DPCC",
          "Rohini, Delhi - DPCC",
          "Shadipur, Delhi - CPCB",
          "Sirifort, Delhi - CPCB",
          "Sonia Vihar, Delhi - DPCC",
          "Sri Aurobindo Marg, Delhi - DPCC",
          "Vivek Vihar, Delhi - DPCC",
          "Wazirpur, Delhi - DPCC"
         ],
         "yaxis": "y"
        }
       ],
       "layout": {
        "font": {
         "family": "Courier New, monospace",
         "size": 12
        },
        "legend": {
         "itemsizing": "constant",
         "title": {
          "text": "Pollutants"
         },
         "tracegroupgap": 0
        },
        "margin": {
         "t": 60
        },
        "template": {
         "data": {
          "bar": [
           {
            "error_x": {
             "color": "#2a3f5f"
            },
            "error_y": {
             "color": "#2a3f5f"
            },
            "marker": {
             "line": {
              "color": "#E5ECF6",
              "width": 0.5
             }
            },
            "type": "bar"
           }
          ],
          "barpolar": [
           {
            "marker": {
             "line": {
              "color": "#E5ECF6",
              "width": 0.5
             }
            },
            "type": "barpolar"
           }
          ],
          "carpet": [
           {
            "aaxis": {
             "endlinecolor": "#2a3f5f",
             "gridcolor": "white",
             "linecolor": "white",
             "minorgridcolor": "white",
             "startlinecolor": "#2a3f5f"
            },
            "baxis": {
             "endlinecolor": "#2a3f5f",
             "gridcolor": "white",
             "linecolor": "white",
             "minorgridcolor": "white",
             "startlinecolor": "#2a3f5f"
            },
            "type": "carpet"
           }
          ],
          "choropleth": [
           {
            "colorbar": {
             "outlinewidth": 0,
             "ticks": ""
            },
            "type": "choropleth"
           }
          ],
          "contour": [
           {
            "colorbar": {
             "outlinewidth": 0,
             "ticks": ""
            },
            "colorscale": [
             [
              0,
              "#0d0887"
             ],
             [
              0.1111111111111111,
              "#46039f"
             ],
             [
              0.2222222222222222,
              "#7201a8"
             ],
             [
              0.3333333333333333,
              "#9c179e"
             ],
             [
              0.4444444444444444,
              "#bd3786"
             ],
             [
              0.5555555555555556,
              "#d8576b"
             ],
             [
              0.6666666666666666,
              "#ed7953"
             ],
             [
              0.7777777777777778,
              "#fb9f3a"
             ],
             [
              0.8888888888888888,
              "#fdca26"
             ],
             [
              1,
              "#f0f921"
             ]
            ],
            "type": "contour"
           }
          ],
          "contourcarpet": [
           {
            "colorbar": {
             "outlinewidth": 0,
             "ticks": ""
            },
            "type": "contourcarpet"
           }
          ],
          "heatmap": [
           {
            "colorbar": {
             "outlinewidth": 0,
             "ticks": ""
            },
            "colorscale": [
             [
              0,
              "#0d0887"
             ],
             [
              0.1111111111111111,
              "#46039f"
             ],
             [
              0.2222222222222222,
              "#7201a8"
             ],
             [
              0.3333333333333333,
              "#9c179e"
             ],
             [
              0.4444444444444444,
              "#bd3786"
             ],
             [
              0.5555555555555556,
              "#d8576b"
             ],
             [
              0.6666666666666666,
              "#ed7953"
             ],
             [
              0.7777777777777778,
              "#fb9f3a"
             ],
             [
              0.8888888888888888,
              "#fdca26"
             ],
             [
              1,
              "#f0f921"
             ]
            ],
            "type": "heatmap"
           }
          ],
          "heatmapgl": [
           {
            "colorbar": {
             "outlinewidth": 0,
             "ticks": ""
            },
            "colorscale": [
             [
              0,
              "#0d0887"
             ],
             [
              0.1111111111111111,
              "#46039f"
             ],
             [
              0.2222222222222222,
              "#7201a8"
             ],
             [
              0.3333333333333333,
              "#9c179e"
             ],
             [
              0.4444444444444444,
              "#bd3786"
             ],
             [
              0.5555555555555556,
              "#d8576b"
             ],
             [
              0.6666666666666666,
              "#ed7953"
             ],
             [
              0.7777777777777778,
              "#fb9f3a"
             ],
             [
              0.8888888888888888,
              "#fdca26"
             ],
             [
              1,
              "#f0f921"
             ]
            ],
            "type": "heatmapgl"
           }
          ],
          "histogram": [
           {
            "marker": {
             "colorbar": {
              "outlinewidth": 0,
              "ticks": ""
             }
            },
            "type": "histogram"
           }
          ],
          "histogram2d": [
           {
            "colorbar": {
             "outlinewidth": 0,
             "ticks": ""
            },
            "colorscale": [
             [
              0,
              "#0d0887"
             ],
             [
              0.1111111111111111,
              "#46039f"
             ],
             [
              0.2222222222222222,
              "#7201a8"
             ],
             [
              0.3333333333333333,
              "#9c179e"
             ],
             [
              0.4444444444444444,
              "#bd3786"
             ],
             [
              0.5555555555555556,
              "#d8576b"
             ],
             [
              0.6666666666666666,
              "#ed7953"
             ],
             [
              0.7777777777777778,
              "#fb9f3a"
             ],
             [
              0.8888888888888888,
              "#fdca26"
             ],
             [
              1,
              "#f0f921"
             ]
            ],
            "type": "histogram2d"
           }
          ],
          "histogram2dcontour": [
           {
            "colorbar": {
             "outlinewidth": 0,
             "ticks": ""
            },
            "colorscale": [
             [
              0,
              "#0d0887"
             ],
             [
              0.1111111111111111,
              "#46039f"
             ],
             [
              0.2222222222222222,
              "#7201a8"
             ],
             [
              0.3333333333333333,
              "#9c179e"
             ],
             [
              0.4444444444444444,
              "#bd3786"
             ],
             [
              0.5555555555555556,
              "#d8576b"
             ],
             [
              0.6666666666666666,
              "#ed7953"
             ],
             [
              0.7777777777777778,
              "#fb9f3a"
             ],
             [
              0.8888888888888888,
              "#fdca26"
             ],
             [
              1,
              "#f0f921"
             ]
            ],
            "type": "histogram2dcontour"
           }
          ],
          "mesh3d": [
           {
            "colorbar": {
             "outlinewidth": 0,
             "ticks": ""
            },
            "type": "mesh3d"
           }
          ],
          "parcoords": [
           {
            "line": {
             "colorbar": {
              "outlinewidth": 0,
              "ticks": ""
             }
            },
            "type": "parcoords"
           }
          ],
          "pie": [
           {
            "automargin": true,
            "type": "pie"
           }
          ],
          "scatter": [
           {
            "marker": {
             "colorbar": {
              "outlinewidth": 0,
              "ticks": ""
             }
            },
            "type": "scatter"
           }
          ],
          "scatter3d": [
           {
            "line": {
             "colorbar": {
              "outlinewidth": 0,
              "ticks": ""
             }
            },
            "marker": {
             "colorbar": {
              "outlinewidth": 0,
              "ticks": ""
             }
            },
            "type": "scatter3d"
           }
          ],
          "scattercarpet": [
           {
            "marker": {
             "colorbar": {
              "outlinewidth": 0,
              "ticks": ""
             }
            },
            "type": "scattercarpet"
           }
          ],
          "scattergeo": [
           {
            "marker": {
             "colorbar": {
              "outlinewidth": 0,
              "ticks": ""
             }
            },
            "type": "scattergeo"
           }
          ],
          "scattergl": [
           {
            "marker": {
             "colorbar": {
              "outlinewidth": 0,
              "ticks": ""
             }
            },
            "type": "scattergl"
           }
          ],
          "scattermapbox": [
           {
            "marker": {
             "colorbar": {
              "outlinewidth": 0,
              "ticks": ""
             }
            },
            "type": "scattermapbox"
           }
          ],
          "scatterpolar": [
           {
            "marker": {
             "colorbar": {
              "outlinewidth": 0,
              "ticks": ""
             }
            },
            "type": "scatterpolar"
           }
          ],
          "scatterpolargl": [
           {
            "marker": {
             "colorbar": {
              "outlinewidth": 0,
              "ticks": ""
             }
            },
            "type": "scatterpolargl"
           }
          ],
          "scatterternary": [
           {
            "marker": {
             "colorbar": {
              "outlinewidth": 0,
              "ticks": ""
             }
            },
            "type": "scatterternary"
           }
          ],
          "surface": [
           {
            "colorbar": {
             "outlinewidth": 0,
             "ticks": ""
            },
            "colorscale": [
             [
              0,
              "#0d0887"
             ],
             [
              0.1111111111111111,
              "#46039f"
             ],
             [
              0.2222222222222222,
              "#7201a8"
             ],
             [
              0.3333333333333333,
              "#9c179e"
             ],
             [
              0.4444444444444444,
              "#bd3786"
             ],
             [
              0.5555555555555556,
              "#d8576b"
             ],
             [
              0.6666666666666666,
              "#ed7953"
             ],
             [
              0.7777777777777778,
              "#fb9f3a"
             ],
             [
              0.8888888888888888,
              "#fdca26"
             ],
             [
              1,
              "#f0f921"
             ]
            ],
            "type": "surface"
           }
          ],
          "table": [
           {
            "cells": {
             "fill": {
              "color": "#EBF0F8"
             },
             "line": {
              "color": "white"
             }
            },
            "header": {
             "fill": {
              "color": "#C8D4E3"
             },
             "line": {
              "color": "white"
             }
            },
            "type": "table"
           }
          ]
         },
         "layout": {
          "annotationdefaults": {
           "arrowcolor": "#2a3f5f",
           "arrowhead": 0,
           "arrowwidth": 1
          },
          "coloraxis": {
           "colorbar": {
            "outlinewidth": 0,
            "ticks": ""
           }
          },
          "colorscale": {
           "diverging": [
            [
             0,
             "#8e0152"
            ],
            [
             0.1,
             "#c51b7d"
            ],
            [
             0.2,
             "#de77ae"
            ],
            [
             0.3,
             "#f1b6da"
            ],
            [
             0.4,
             "#fde0ef"
            ],
            [
             0.5,
             "#f7f7f7"
            ],
            [
             0.6,
             "#e6f5d0"
            ],
            [
             0.7,
             "#b8e186"
            ],
            [
             0.8,
             "#7fbc41"
            ],
            [
             0.9,
             "#4d9221"
            ],
            [
             1,
             "#276419"
            ]
           ],
           "sequential": [
            [
             0,
             "#0d0887"
            ],
            [
             0.1111111111111111,
             "#46039f"
            ],
            [
             0.2222222222222222,
             "#7201a8"
            ],
            [
             0.3333333333333333,
             "#9c179e"
            ],
            [
             0.4444444444444444,
             "#bd3786"
            ],
            [
             0.5555555555555556,
             "#d8576b"
            ],
            [
             0.6666666666666666,
             "#ed7953"
            ],
            [
             0.7777777777777778,
             "#fb9f3a"
            ],
            [
             0.8888888888888888,
             "#fdca26"
            ],
            [
             1,
             "#f0f921"
            ]
           ],
           "sequentialminus": [
            [
             0,
             "#0d0887"
            ],
            [
             0.1111111111111111,
             "#46039f"
            ],
            [
             0.2222222222222222,
             "#7201a8"
            ],
            [
             0.3333333333333333,
             "#9c179e"
            ],
            [
             0.4444444444444444,
             "#bd3786"
            ],
            [
             0.5555555555555556,
             "#d8576b"
            ],
            [
             0.6666666666666666,
             "#ed7953"
            ],
            [
             0.7777777777777778,
             "#fb9f3a"
            ],
            [
             0.8888888888888888,
             "#fdca26"
            ],
            [
             1,
             "#f0f921"
            ]
           ]
          },
          "colorway": [
           "#636efa",
           "#EF553B",
           "#00cc96",
           "#ab63fa",
           "#FFA15A",
           "#19d3f3",
           "#FF6692",
           "#B6E880",
           "#FF97FF",
           "#FECB52"
          ],
          "font": {
           "color": "#2a3f5f"
          },
          "geo": {
           "bgcolor": "white",
           "lakecolor": "white",
           "landcolor": "#E5ECF6",
           "showlakes": true,
           "showland": true,
           "subunitcolor": "white"
          },
          "hoverlabel": {
           "align": "left"
          },
          "hovermode": "closest",
          "mapbox": {
           "style": "light"
          },
          "paper_bgcolor": "white",
          "plot_bgcolor": "#E5ECF6",
          "polar": {
           "angularaxis": {
            "gridcolor": "white",
            "linecolor": "white",
            "ticks": ""
           },
           "bgcolor": "#E5ECF6",
           "radialaxis": {
            "gridcolor": "white",
            "linecolor": "white",
            "ticks": ""
           }
          },
          "scene": {
           "xaxis": {
            "backgroundcolor": "#E5ECF6",
            "gridcolor": "white",
            "gridwidth": 2,
            "linecolor": "white",
            "showbackground": true,
            "ticks": "",
            "zerolinecolor": "white"
           },
           "yaxis": {
            "backgroundcolor": "#E5ECF6",
            "gridcolor": "white",
            "gridwidth": 2,
            "linecolor": "white",
            "showbackground": true,
            "ticks": "",
            "zerolinecolor": "white"
           },
           "zaxis": {
            "backgroundcolor": "#E5ECF6",
            "gridcolor": "white",
            "gridwidth": 2,
            "linecolor": "white",
            "showbackground": true,
            "ticks": "",
            "zerolinecolor": "white"
           }
          },
          "shapedefaults": {
           "line": {
            "color": "#2a3f5f"
           }
          },
          "ternary": {
           "aaxis": {
            "gridcolor": "white",
            "linecolor": "white",
            "ticks": ""
           },
           "baxis": {
            "gridcolor": "white",
            "linecolor": "white",
            "ticks": ""
           },
           "bgcolor": "#E5ECF6",
           "caxis": {
            "gridcolor": "white",
            "linecolor": "white",
            "ticks": ""
           }
          },
          "title": {
           "x": 0.05
          },
          "xaxis": {
           "automargin": true,
           "gridcolor": "white",
           "linecolor": "white",
           "ticks": "",
           "title": {
            "standoff": 15
           },
           "zerolinecolor": "white",
           "zerolinewidth": 2
          },
          "yaxis": {
           "automargin": true,
           "gridcolor": "white",
           "linecolor": "white",
           "ticks": "",
           "title": {
            "standoff": 15
           },
           "zerolinecolor": "white",
           "zerolinewidth": 2
          }
         }
        },
        "title": {
         "text": "Pollutants in - Delhi "
        },
        "xaxis": {
         "anchor": "y",
         "domain": [
          0,
          1
         ],
         "title": {
          "text": "pollutant_avg"
         }
        },
        "yaxis": {
         "anchor": "x",
         "domain": [
          0,
          1
         ],
         "title": {
          "text": "station"
         }
        }
       }
      }
     },
     "metadata": {}
    },
    {
     "output_type": "display_data",
     "data": {
      "application/vnd.plotly.v1+json": {
       "config": {
        "plotlyServerURL": "https://plot.ly"
       },
       "data": [
        {
         "hovertemplate": "pollutant_id=PM2.5<br>pollutant_avg=%{x}<br>station=%{y}<br>pollutant_max=%{marker.size}<extra></extra>",
         "legendgroup": "PM2.5",
         "marker": {
          "color": "#636efa",
          "size": [
           84,
           90,
           0.0001,
           62,
           70,
           0.0001,
           75
          ],
          "sizemode": "area",
          "sizeref": 0.33,
          "symbol": "circle"
         },
         "mode": "markers",
         "name": "PM2.5",
         "orientation": "h",
         "showlegend": true,
         "type": "scatter",
         "x": [
          45,
          53,
          0.0001,
          42,
          50,
          0.0001,
          41
         ],
         "xaxis": "x",
         "y": [
          "Alandur Bus Depot, Chennai - CPCB",
          "Arumbakkam, Chennai - TNPCB",
          "Kodungaiyur, Chennai - TNPCB",
          "Manali Village, Chennai - TNPCB",
          "Manali, Chennai - CPCB",
          "Royapuram, Chennai - TNPCB",
          "Velachery Res. Area, Chennai - CPCB"
         ],
         "yaxis": "y"
        },
        {
         "hovertemplate": "pollutant_id=NO2<br>pollutant_avg=%{x}<br>station=%{y}<br>pollutant_max=%{marker.size}<extra></extra>",
         "legendgroup": "NO2",
         "marker": {
          "color": "#EF553B",
          "size": [
           15,
           31,
           17,
           9,
           0.0001,
           0.0001,
           39
          ],
          "sizemode": "area",
          "sizeref": 0.33,
          "symbol": "circle"
         },
         "mode": "markers",
         "name": "NO2",
         "orientation": "h",
         "showlegend": true,
         "type": "scatter",
         "x": [
          9,
          19,
          11,
          7,
          0.0001,
          0.0001,
          18
         ],
         "xaxis": "x",
         "y": [
          "Alandur Bus Depot, Chennai - CPCB",
          "Arumbakkam, Chennai - TNPCB",
          "Kodungaiyur, Chennai - TNPCB",
          "Manali Village, Chennai - TNPCB",
          "Manali, Chennai - CPCB",
          "Royapuram, Chennai - TNPCB",
          "Velachery Res. Area, Chennai - CPCB"
         ],
         "yaxis": "y"
        },
        {
         "hovertemplate": "pollutant_id=SO2<br>pollutant_avg=%{x}<br>station=%{y}<br>pollutant_max=%{marker.size}<extra></extra>",
         "legendgroup": "SO2",
         "marker": {
          "color": "#00cc96",
          "size": [
           6,
           13,
           10,
           16,
           12,
           25,
           15
          ],
          "sizemode": "area",
          "sizeref": 0.33,
          "symbol": "circle"
         },
         "mode": "markers",
         "name": "SO2",
         "orientation": "h",
         "showlegend": true,
         "type": "scatter",
         "x": [
          5,
          5,
          9,
          15,
          9,
          14,
          9
         ],
         "xaxis": "x",
         "y": [
          "Alandur Bus Depot, Chennai - CPCB",
          "Arumbakkam, Chennai - TNPCB",
          "Kodungaiyur, Chennai - TNPCB",
          "Manali Village, Chennai - TNPCB",
          "Manali, Chennai - CPCB",
          "Royapuram, Chennai - TNPCB",
          "Velachery Res. Area, Chennai - CPCB"
         ],
         "yaxis": "y"
        },
        {
         "hovertemplate": "pollutant_id=CO<br>pollutant_avg=%{x}<br>station=%{y}<br>pollutant_max=%{marker.size}<extra></extra>",
         "legendgroup": "CO",
         "marker": {
          "color": "#ab63fa",
          "size": [
           37,
           34,
           41,
           63,
           66,
           37
          ],
          "sizemode": "area",
          "sizeref": 0.33,
          "symbol": "circle"
         },
         "mode": "markers",
         "name": "CO",
         "orientation": "h",
         "showlegend": true,
         "type": "scatter",
         "x": [
          37,
          20,
          28,
          32,
          18,
          25
         ],
         "xaxis": "x",
         "y": [
          "Alandur Bus Depot, Chennai - CPCB",
          "Kodungaiyur, Chennai - TNPCB",
          "Manali Village, Chennai - TNPCB",
          "Manali, Chennai - CPCB",
          "Royapuram, Chennai - TNPCB",
          "Velachery Res. Area, Chennai - CPCB"
         ],
         "yaxis": "y"
        },
        {
         "hovertemplate": "pollutant_id=OZONE<br>pollutant_avg=%{x}<br>station=%{y}<br>pollutant_max=%{marker.size}<extra></extra>",
         "legendgroup": "OZONE",
         "marker": {
          "color": "#FFA15A",
          "size": [
           19,
           132,
           48,
           116,
           10
          ],
          "sizemode": "area",
          "sizeref": 0.33,
          "symbol": "circle"
         },
         "mode": "markers",
         "name": "OZONE",
         "orientation": "h",
         "showlegend": true,
         "type": "scatter",
         "x": [
          6,
          30,
          26,
          37,
          3
         ],
         "xaxis": "x",
         "y": [
          "Alandur Bus Depot, Chennai - CPCB",
          "Kodungaiyur, Chennai - TNPCB",
          "Manali Village, Chennai - TNPCB",
          "Royapuram, Chennai - TNPCB",
          "Velachery Res. Area, Chennai - CPCB"
         ],
         "yaxis": "y"
        },
        {
         "hovertemplate": "pollutant_id=PM10<br>pollutant_avg=%{x}<br>station=%{y}<br>pollutant_max=%{marker.size}<extra></extra>",
         "legendgroup": "PM10",
         "marker": {
          "color": "#19d3f3",
          "size": [
           94,
           108,
           85,
           109
          ],
          "sizemode": "area",
          "sizeref": 0.33,
          "symbol": "circle"
         },
         "mode": "markers",
         "name": "PM10",
         "orientation": "h",
         "showlegend": true,
         "type": "scatter",
         "x": [
          52,
          57,
          64,
          72
         ],
         "xaxis": "x",
         "y": [
          "Arumbakkam, Chennai - TNPCB",
          "Kodungaiyur, Chennai - TNPCB",
          "Manali Village, Chennai - TNPCB",
          "Royapuram, Chennai - TNPCB"
         ],
         "yaxis": "y"
        },
        {
         "hovertemplate": "pollutant_id=NH3<br>pollutant_avg=%{x}<br>station=%{y}<br>pollutant_max=%{marker.size}<extra></extra>",
         "legendgroup": "NH3",
         "marker": {
          "color": "#FF6692",
          "size": [
           6,
           8,
           21,
           12,
           0.0001
          ],
          "sizemode": "area",
          "sizeref": 0.33,
          "symbol": "circle"
         },
         "mode": "markers",
         "name": "NH3",
         "orientation": "h",
         "showlegend": true,
         "type": "scatter",
         "x": [
          5,
          4,
          16,
          10,
          0.0001
         ],
         "xaxis": "x",
         "y": [
          "Arumbakkam, Chennai - TNPCB",
          "Kodungaiyur, Chennai - TNPCB",
          "Manali Village, Chennai - TNPCB",
          "Manali, Chennai - CPCB",
          "Royapuram, Chennai - TNPCB"
         ],
         "yaxis": "y"
        }
       ],
       "layout": {
        "font": {
         "family": "Courier New, monospace",
         "size": 12
        },
        "legend": {
         "itemsizing": "constant",
         "title": {
          "text": "Pollutants"
         },
         "tracegroupgap": 0
        },
        "margin": {
         "t": 60
        },
        "template": {
         "data": {
          "bar": [
           {
            "error_x": {
             "color": "#2a3f5f"
            },
            "error_y": {
             "color": "#2a3f5f"
            },
            "marker": {
             "line": {
              "color": "#E5ECF6",
              "width": 0.5
             }
            },
            "type": "bar"
           }
          ],
          "barpolar": [
           {
            "marker": {
             "line": {
              "color": "#E5ECF6",
              "width": 0.5
             }
            },
            "type": "barpolar"
           }
          ],
          "carpet": [
           {
            "aaxis": {
             "endlinecolor": "#2a3f5f",
             "gridcolor": "white",
             "linecolor": "white",
             "minorgridcolor": "white",
             "startlinecolor": "#2a3f5f"
            },
            "baxis": {
             "endlinecolor": "#2a3f5f",
             "gridcolor": "white",
             "linecolor": "white",
             "minorgridcolor": "white",
             "startlinecolor": "#2a3f5f"
            },
            "type": "carpet"
           }
          ],
          "choropleth": [
           {
            "colorbar": {
             "outlinewidth": 0,
             "ticks": ""
            },
            "type": "choropleth"
           }
          ],
          "contour": [
           {
            "colorbar": {
             "outlinewidth": 0,
             "ticks": ""
            },
            "colorscale": [
             [
              0,
              "#0d0887"
             ],
             [
              0.1111111111111111,
              "#46039f"
             ],
             [
              0.2222222222222222,
              "#7201a8"
             ],
             [
              0.3333333333333333,
              "#9c179e"
             ],
             [
              0.4444444444444444,
              "#bd3786"
             ],
             [
              0.5555555555555556,
              "#d8576b"
             ],
             [
              0.6666666666666666,
              "#ed7953"
             ],
             [
              0.7777777777777778,
              "#fb9f3a"
             ],
             [
              0.8888888888888888,
              "#fdca26"
             ],
             [
              1,
              "#f0f921"
             ]
            ],
            "type": "contour"
           }
          ],
          "contourcarpet": [
           {
            "colorbar": {
             "outlinewidth": 0,
             "ticks": ""
            },
            "type": "contourcarpet"
           }
          ],
          "heatmap": [
           {
            "colorbar": {
             "outlinewidth": 0,
             "ticks": ""
            },
            "colorscale": [
             [
              0,
              "#0d0887"
             ],
             [
              0.1111111111111111,
              "#46039f"
             ],
             [
              0.2222222222222222,
              "#7201a8"
             ],
             [
              0.3333333333333333,
              "#9c179e"
             ],
             [
              0.4444444444444444,
              "#bd3786"
             ],
             [
              0.5555555555555556,
              "#d8576b"
             ],
             [
              0.6666666666666666,
              "#ed7953"
             ],
             [
              0.7777777777777778,
              "#fb9f3a"
             ],
             [
              0.8888888888888888,
              "#fdca26"
             ],
             [
              1,
              "#f0f921"
             ]
            ],
            "type": "heatmap"
           }
          ],
          "heatmapgl": [
           {
            "colorbar": {
             "outlinewidth": 0,
             "ticks": ""
            },
            "colorscale": [
             [
              0,
              "#0d0887"
             ],
             [
              0.1111111111111111,
              "#46039f"
             ],
             [
              0.2222222222222222,
              "#7201a8"
             ],
             [
              0.3333333333333333,
              "#9c179e"
             ],
             [
              0.4444444444444444,
              "#bd3786"
             ],
             [
              0.5555555555555556,
              "#d8576b"
             ],
             [
              0.6666666666666666,
              "#ed7953"
             ],
             [
              0.7777777777777778,
              "#fb9f3a"
             ],
             [
              0.8888888888888888,
              "#fdca26"
             ],
             [
              1,
              "#f0f921"
             ]
            ],
            "type": "heatmapgl"
           }
          ],
          "histogram": [
           {
            "marker": {
             "colorbar": {
              "outlinewidth": 0,
              "ticks": ""
             }
            },
            "type": "histogram"
           }
          ],
          "histogram2d": [
           {
            "colorbar": {
             "outlinewidth": 0,
             "ticks": ""
            },
            "colorscale": [
             [
              0,
              "#0d0887"
             ],
             [
              0.1111111111111111,
              "#46039f"
             ],
             [
              0.2222222222222222,
              "#7201a8"
             ],
             [
              0.3333333333333333,
              "#9c179e"
             ],
             [
              0.4444444444444444,
              "#bd3786"
             ],
             [
              0.5555555555555556,
              "#d8576b"
             ],
             [
              0.6666666666666666,
              "#ed7953"
             ],
             [
              0.7777777777777778,
              "#fb9f3a"
             ],
             [
              0.8888888888888888,
              "#fdca26"
             ],
             [
              1,
              "#f0f921"
             ]
            ],
            "type": "histogram2d"
           }
          ],
          "histogram2dcontour": [
           {
            "colorbar": {
             "outlinewidth": 0,
             "ticks": ""
            },
            "colorscale": [
             [
              0,
              "#0d0887"
             ],
             [
              0.1111111111111111,
              "#46039f"
             ],
             [
              0.2222222222222222,
              "#7201a8"
             ],
             [
              0.3333333333333333,
              "#9c179e"
             ],
             [
              0.4444444444444444,
              "#bd3786"
             ],
             [
              0.5555555555555556,
              "#d8576b"
             ],
             [
              0.6666666666666666,
              "#ed7953"
             ],
             [
              0.7777777777777778,
              "#fb9f3a"
             ],
             [
              0.8888888888888888,
              "#fdca26"
             ],
             [
              1,
              "#f0f921"
             ]
            ],
            "type": "histogram2dcontour"
           }
          ],
          "mesh3d": [
           {
            "colorbar": {
             "outlinewidth": 0,
             "ticks": ""
            },
            "type": "mesh3d"
           }
          ],
          "parcoords": [
           {
            "line": {
             "colorbar": {
              "outlinewidth": 0,
              "ticks": ""
             }
            },
            "type": "parcoords"
           }
          ],
          "pie": [
           {
            "automargin": true,
            "type": "pie"
           }
          ],
          "scatter": [
           {
            "marker": {
             "colorbar": {
              "outlinewidth": 0,
              "ticks": ""
             }
            },
            "type": "scatter"
           }
          ],
          "scatter3d": [
           {
            "line": {
             "colorbar": {
              "outlinewidth": 0,
              "ticks": ""
             }
            },
            "marker": {
             "colorbar": {
              "outlinewidth": 0,
              "ticks": ""
             }
            },
            "type": "scatter3d"
           }
          ],
          "scattercarpet": [
           {
            "marker": {
             "colorbar": {
              "outlinewidth": 0,
              "ticks": ""
             }
            },
            "type": "scattercarpet"
           }
          ],
          "scattergeo": [
           {
            "marker": {
             "colorbar": {
              "outlinewidth": 0,
              "ticks": ""
             }
            },
            "type": "scattergeo"
           }
          ],
          "scattergl": [
           {
            "marker": {
             "colorbar": {
              "outlinewidth": 0,
              "ticks": ""
             }
            },
            "type": "scattergl"
           }
          ],
          "scattermapbox": [
           {
            "marker": {
             "colorbar": {
              "outlinewidth": 0,
              "ticks": ""
             }
            },
            "type": "scattermapbox"
           }
          ],
          "scatterpolar": [
           {
            "marker": {
             "colorbar": {
              "outlinewidth": 0,
              "ticks": ""
             }
            },
            "type": "scatterpolar"
           }
          ],
          "scatterpolargl": [
           {
            "marker": {
             "colorbar": {
              "outlinewidth": 0,
              "ticks": ""
             }
            },
            "type": "scatterpolargl"
           }
          ],
          "scatterternary": [
           {
            "marker": {
             "colorbar": {
              "outlinewidth": 0,
              "ticks": ""
             }
            },
            "type": "scatterternary"
           }
          ],
          "surface": [
           {
            "colorbar": {
             "outlinewidth": 0,
             "ticks": ""
            },
            "colorscale": [
             [
              0,
              "#0d0887"
             ],
             [
              0.1111111111111111,
              "#46039f"
             ],
             [
              0.2222222222222222,
              "#7201a8"
             ],
             [
              0.3333333333333333,
              "#9c179e"
             ],
             [
              0.4444444444444444,
              "#bd3786"
             ],
             [
              0.5555555555555556,
              "#d8576b"
             ],
             [
              0.6666666666666666,
              "#ed7953"
             ],
             [
              0.7777777777777778,
              "#fb9f3a"
             ],
             [
              0.8888888888888888,
              "#fdca26"
             ],
             [
              1,
              "#f0f921"
             ]
            ],
            "type": "surface"
           }
          ],
          "table": [
           {
            "cells": {
             "fill": {
              "color": "#EBF0F8"
             },
             "line": {
              "color": "white"
             }
            },
            "header": {
             "fill": {
              "color": "#C8D4E3"
             },
             "line": {
              "color": "white"
             }
            },
            "type": "table"
           }
          ]
         },
         "layout": {
          "annotationdefaults": {
           "arrowcolor": "#2a3f5f",
           "arrowhead": 0,
           "arrowwidth": 1
          },
          "coloraxis": {
           "colorbar": {
            "outlinewidth": 0,
            "ticks": ""
           }
          },
          "colorscale": {
           "diverging": [
            [
             0,
             "#8e0152"
            ],
            [
             0.1,
             "#c51b7d"
            ],
            [
             0.2,
             "#de77ae"
            ],
            [
             0.3,
             "#f1b6da"
            ],
            [
             0.4,
             "#fde0ef"
            ],
            [
             0.5,
             "#f7f7f7"
            ],
            [
             0.6,
             "#e6f5d0"
            ],
            [
             0.7,
             "#b8e186"
            ],
            [
             0.8,
             "#7fbc41"
            ],
            [
             0.9,
             "#4d9221"
            ],
            [
             1,
             "#276419"
            ]
           ],
           "sequential": [
            [
             0,
             "#0d0887"
            ],
            [
             0.1111111111111111,
             "#46039f"
            ],
            [
             0.2222222222222222,
             "#7201a8"
            ],
            [
             0.3333333333333333,
             "#9c179e"
            ],
            [
             0.4444444444444444,
             "#bd3786"
            ],
            [
             0.5555555555555556,
             "#d8576b"
            ],
            [
             0.6666666666666666,
             "#ed7953"
            ],
            [
             0.7777777777777778,
             "#fb9f3a"
            ],
            [
             0.8888888888888888,
             "#fdca26"
            ],
            [
             1,
             "#f0f921"
            ]
           ],
           "sequentialminus": [
            [
             0,
             "#0d0887"
            ],
            [
             0.1111111111111111,
             "#46039f"
            ],
            [
             0.2222222222222222,
             "#7201a8"
            ],
            [
             0.3333333333333333,
             "#9c179e"
            ],
            [
             0.4444444444444444,
             "#bd3786"
            ],
            [
             0.5555555555555556,
             "#d8576b"
            ],
            [
             0.6666666666666666,
             "#ed7953"
            ],
            [
             0.7777777777777778,
             "#fb9f3a"
            ],
            [
             0.8888888888888888,
             "#fdca26"
            ],
            [
             1,
             "#f0f921"
            ]
           ]
          },
          "colorway": [
           "#636efa",
           "#EF553B",
           "#00cc96",
           "#ab63fa",
           "#FFA15A",
           "#19d3f3",
           "#FF6692",
           "#B6E880",
           "#FF97FF",
           "#FECB52"
          ],
          "font": {
           "color": "#2a3f5f"
          },
          "geo": {
           "bgcolor": "white",
           "lakecolor": "white",
           "landcolor": "#E5ECF6",
           "showlakes": true,
           "showland": true,
           "subunitcolor": "white"
          },
          "hoverlabel": {
           "align": "left"
          },
          "hovermode": "closest",
          "mapbox": {
           "style": "light"
          },
          "paper_bgcolor": "white",
          "plot_bgcolor": "#E5ECF6",
          "polar": {
           "angularaxis": {
            "gridcolor": "white",
            "linecolor": "white",
            "ticks": ""
           },
           "bgcolor": "#E5ECF6",
           "radialaxis": {
            "gridcolor": "white",
            "linecolor": "white",
            "ticks": ""
           }
          },
          "scene": {
           "xaxis": {
            "backgroundcolor": "#E5ECF6",
            "gridcolor": "white",
            "gridwidth": 2,
            "linecolor": "white",
            "showbackground": true,
            "ticks": "",
            "zerolinecolor": "white"
           },
           "yaxis": {
            "backgroundcolor": "#E5ECF6",
            "gridcolor": "white",
            "gridwidth": 2,
            "linecolor": "white",
            "showbackground": true,
            "ticks": "",
            "zerolinecolor": "white"
           },
           "zaxis": {
            "backgroundcolor": "#E5ECF6",
            "gridcolor": "white",
            "gridwidth": 2,
            "linecolor": "white",
            "showbackground": true,
            "ticks": "",
            "zerolinecolor": "white"
           }
          },
          "shapedefaults": {
           "line": {
            "color": "#2a3f5f"
           }
          },
          "ternary": {
           "aaxis": {
            "gridcolor": "white",
            "linecolor": "white",
            "ticks": ""
           },
           "baxis": {
            "gridcolor": "white",
            "linecolor": "white",
            "ticks": ""
           },
           "bgcolor": "#E5ECF6",
           "caxis": {
            "gridcolor": "white",
            "linecolor": "white",
            "ticks": ""
           }
          },
          "title": {
           "x": 0.05
          },
          "xaxis": {
           "automargin": true,
           "gridcolor": "white",
           "linecolor": "white",
           "ticks": "",
           "title": {
            "standoff": 15
           },
           "zerolinecolor": "white",
           "zerolinewidth": 2
          },
          "yaxis": {
           "automargin": true,
           "gridcolor": "white",
           "linecolor": "white",
           "ticks": "",
           "title": {
            "standoff": 15
           },
           "zerolinecolor": "white",
           "zerolinewidth": 2
          }
         }
        },
        "title": {
         "text": "Pollutants in - Chennai "
        },
        "xaxis": {
         "anchor": "y",
         "domain": [
          0,
          1
         ],
         "title": {
          "text": "pollutant_avg"
         }
        },
        "yaxis": {
         "anchor": "x",
         "domain": [
          0,
          1
         ],
         "title": {
          "text": "station"
         }
        }
       }
      }
     },
     "metadata": {}
    },
    {
     "output_type": "execute_result",
     "data": {
      "text/plain": [
       "(None,)"
      ]
     },
     "metadata": {},
     "execution_count": 132
    }
   ],
   "source": [
    "import plotly.express as px\n",
    "def generateScatter(filterr,choice):\n",
    "    fig = px.scatter(df[df[filterr]==choice], x=\"pollutant_avg\", y=\"station\", color=\"pollutant_id\",size='pollutant_max')\n",
    "    fig.update_layout(\n",
    "        title=\"Pollutants in - {} \".format(choice),\n",
    "        legend_title=\"Pollutants\",\n",
    "        font=dict(\n",
    "            family=\"Courier New, monospace\",\n",
    "            size=12,\n",
    "    )\n",
    "    )\n",
    "    filename=\"outs/(SCATTER)Pollutants in - {} \".format(choice)\n",
    "    fig.write_html(\"{}.html\".format(filename))\n",
    "    fig.show()\n",
    "generateScatter('state','Delhi')\n",
    "generateScatter('city','Chennai'),"
   ]
  },
  {
   "cell_type": "code",
   "execution_count": 133,
   "metadata": {},
   "outputs": [
    {
     "output_type": "display_data",
     "data": {
      "application/vnd.plotly.v1+json": {
       "config": {
        "plotlyServerURL": "https://plot.ly"
       },
       "data": [
        {
         "hole": 0.3,
         "labels": [
          "PM2.5",
          "PM10",
          "NO2",
          "NH3",
          "SO2",
          "CO",
          "OZONE"
         ],
         "type": "pie",
         "values": [
          328.960008,
          297.59091363636367,
          104.54167916666665,
          14.210526315789474,
          17.13637272727273,
          71.36842105263158,
          24.86956956521739
         ]
        }
       ],
       "layout": {
        "font": {
         "family": "Courier New, monospace",
         "size": 12
        },
        "legend": {
         "title": {
          "text": "Pollutants"
         }
        },
        "template": {
         "data": {
          "bar": [
           {
            "error_x": {
             "color": "#2a3f5f"
            },
            "error_y": {
             "color": "#2a3f5f"
            },
            "marker": {
             "line": {
              "color": "#E5ECF6",
              "width": 0.5
             }
            },
            "type": "bar"
           }
          ],
          "barpolar": [
           {
            "marker": {
             "line": {
              "color": "#E5ECF6",
              "width": 0.5
             }
            },
            "type": "barpolar"
           }
          ],
          "carpet": [
           {
            "aaxis": {
             "endlinecolor": "#2a3f5f",
             "gridcolor": "white",
             "linecolor": "white",
             "minorgridcolor": "white",
             "startlinecolor": "#2a3f5f"
            },
            "baxis": {
             "endlinecolor": "#2a3f5f",
             "gridcolor": "white",
             "linecolor": "white",
             "minorgridcolor": "white",
             "startlinecolor": "#2a3f5f"
            },
            "type": "carpet"
           }
          ],
          "choropleth": [
           {
            "colorbar": {
             "outlinewidth": 0,
             "ticks": ""
            },
            "type": "choropleth"
           }
          ],
          "contour": [
           {
            "colorbar": {
             "outlinewidth": 0,
             "ticks": ""
            },
            "colorscale": [
             [
              0,
              "#0d0887"
             ],
             [
              0.1111111111111111,
              "#46039f"
             ],
             [
              0.2222222222222222,
              "#7201a8"
             ],
             [
              0.3333333333333333,
              "#9c179e"
             ],
             [
              0.4444444444444444,
              "#bd3786"
             ],
             [
              0.5555555555555556,
              "#d8576b"
             ],
             [
              0.6666666666666666,
              "#ed7953"
             ],
             [
              0.7777777777777778,
              "#fb9f3a"
             ],
             [
              0.8888888888888888,
              "#fdca26"
             ],
             [
              1,
              "#f0f921"
             ]
            ],
            "type": "contour"
           }
          ],
          "contourcarpet": [
           {
            "colorbar": {
             "outlinewidth": 0,
             "ticks": ""
            },
            "type": "contourcarpet"
           }
          ],
          "heatmap": [
           {
            "colorbar": {
             "outlinewidth": 0,
             "ticks": ""
            },
            "colorscale": [
             [
              0,
              "#0d0887"
             ],
             [
              0.1111111111111111,
              "#46039f"
             ],
             [
              0.2222222222222222,
              "#7201a8"
             ],
             [
              0.3333333333333333,
              "#9c179e"
             ],
             [
              0.4444444444444444,
              "#bd3786"
             ],
             [
              0.5555555555555556,
              "#d8576b"
             ],
             [
              0.6666666666666666,
              "#ed7953"
             ],
             [
              0.7777777777777778,
              "#fb9f3a"
             ],
             [
              0.8888888888888888,
              "#fdca26"
             ],
             [
              1,
              "#f0f921"
             ]
            ],
            "type": "heatmap"
           }
          ],
          "heatmapgl": [
           {
            "colorbar": {
             "outlinewidth": 0,
             "ticks": ""
            },
            "colorscale": [
             [
              0,
              "#0d0887"
             ],
             [
              0.1111111111111111,
              "#46039f"
             ],
             [
              0.2222222222222222,
              "#7201a8"
             ],
             [
              0.3333333333333333,
              "#9c179e"
             ],
             [
              0.4444444444444444,
              "#bd3786"
             ],
             [
              0.5555555555555556,
              "#d8576b"
             ],
             [
              0.6666666666666666,
              "#ed7953"
             ],
             [
              0.7777777777777778,
              "#fb9f3a"
             ],
             [
              0.8888888888888888,
              "#fdca26"
             ],
             [
              1,
              "#f0f921"
             ]
            ],
            "type": "heatmapgl"
           }
          ],
          "histogram": [
           {
            "marker": {
             "colorbar": {
              "outlinewidth": 0,
              "ticks": ""
             }
            },
            "type": "histogram"
           }
          ],
          "histogram2d": [
           {
            "colorbar": {
             "outlinewidth": 0,
             "ticks": ""
            },
            "colorscale": [
             [
              0,
              "#0d0887"
             ],
             [
              0.1111111111111111,
              "#46039f"
             ],
             [
              0.2222222222222222,
              "#7201a8"
             ],
             [
              0.3333333333333333,
              "#9c179e"
             ],
             [
              0.4444444444444444,
              "#bd3786"
             ],
             [
              0.5555555555555556,
              "#d8576b"
             ],
             [
              0.6666666666666666,
              "#ed7953"
             ],
             [
              0.7777777777777778,
              "#fb9f3a"
             ],
             [
              0.8888888888888888,
              "#fdca26"
             ],
             [
              1,
              "#f0f921"
             ]
            ],
            "type": "histogram2d"
           }
          ],
          "histogram2dcontour": [
           {
            "colorbar": {
             "outlinewidth": 0,
             "ticks": ""
            },
            "colorscale": [
             [
              0,
              "#0d0887"
             ],
             [
              0.1111111111111111,
              "#46039f"
             ],
             [
              0.2222222222222222,
              "#7201a8"
             ],
             [
              0.3333333333333333,
              "#9c179e"
             ],
             [
              0.4444444444444444,
              "#bd3786"
             ],
             [
              0.5555555555555556,
              "#d8576b"
             ],
             [
              0.6666666666666666,
              "#ed7953"
             ],
             [
              0.7777777777777778,
              "#fb9f3a"
             ],
             [
              0.8888888888888888,
              "#fdca26"
             ],
             [
              1,
              "#f0f921"
             ]
            ],
            "type": "histogram2dcontour"
           }
          ],
          "mesh3d": [
           {
            "colorbar": {
             "outlinewidth": 0,
             "ticks": ""
            },
            "type": "mesh3d"
           }
          ],
          "parcoords": [
           {
            "line": {
             "colorbar": {
              "outlinewidth": 0,
              "ticks": ""
             }
            },
            "type": "parcoords"
           }
          ],
          "pie": [
           {
            "automargin": true,
            "type": "pie"
           }
          ],
          "scatter": [
           {
            "marker": {
             "colorbar": {
              "outlinewidth": 0,
              "ticks": ""
             }
            },
            "type": "scatter"
           }
          ],
          "scatter3d": [
           {
            "line": {
             "colorbar": {
              "outlinewidth": 0,
              "ticks": ""
             }
            },
            "marker": {
             "colorbar": {
              "outlinewidth": 0,
              "ticks": ""
             }
            },
            "type": "scatter3d"
           }
          ],
          "scattercarpet": [
           {
            "marker": {
             "colorbar": {
              "outlinewidth": 0,
              "ticks": ""
             }
            },
            "type": "scattercarpet"
           }
          ],
          "scattergeo": [
           {
            "marker": {
             "colorbar": {
              "outlinewidth": 0,
              "ticks": ""
             }
            },
            "type": "scattergeo"
           }
          ],
          "scattergl": [
           {
            "marker": {
             "colorbar": {
              "outlinewidth": 0,
              "ticks": ""
             }
            },
            "type": "scattergl"
           }
          ],
          "scattermapbox": [
           {
            "marker": {
             "colorbar": {
              "outlinewidth": 0,
              "ticks": ""
             }
            },
            "type": "scattermapbox"
           }
          ],
          "scatterpolar": [
           {
            "marker": {
             "colorbar": {
              "outlinewidth": 0,
              "ticks": ""
             }
            },
            "type": "scatterpolar"
           }
          ],
          "scatterpolargl": [
           {
            "marker": {
             "colorbar": {
              "outlinewidth": 0,
              "ticks": ""
             }
            },
            "type": "scatterpolargl"
           }
          ],
          "scatterternary": [
           {
            "marker": {
             "colorbar": {
              "outlinewidth": 0,
              "ticks": ""
             }
            },
            "type": "scatterternary"
           }
          ],
          "surface": [
           {
            "colorbar": {
             "outlinewidth": 0,
             "ticks": ""
            },
            "colorscale": [
             [
              0,
              "#0d0887"
             ],
             [
              0.1111111111111111,
              "#46039f"
             ],
             [
              0.2222222222222222,
              "#7201a8"
             ],
             [
              0.3333333333333333,
              "#9c179e"
             ],
             [
              0.4444444444444444,
              "#bd3786"
             ],
             [
              0.5555555555555556,
              "#d8576b"
             ],
             [
              0.6666666666666666,
              "#ed7953"
             ],
             [
              0.7777777777777778,
              "#fb9f3a"
             ],
             [
              0.8888888888888888,
              "#fdca26"
             ],
             [
              1,
              "#f0f921"
             ]
            ],
            "type": "surface"
           }
          ],
          "table": [
           {
            "cells": {
             "fill": {
              "color": "#EBF0F8"
             },
             "line": {
              "color": "white"
             }
            },
            "header": {
             "fill": {
              "color": "#C8D4E3"
             },
             "line": {
              "color": "white"
             }
            },
            "type": "table"
           }
          ]
         },
         "layout": {
          "annotationdefaults": {
           "arrowcolor": "#2a3f5f",
           "arrowhead": 0,
           "arrowwidth": 1
          },
          "coloraxis": {
           "colorbar": {
            "outlinewidth": 0,
            "ticks": ""
           }
          },
          "colorscale": {
           "diverging": [
            [
             0,
             "#8e0152"
            ],
            [
             0.1,
             "#c51b7d"
            ],
            [
             0.2,
             "#de77ae"
            ],
            [
             0.3,
             "#f1b6da"
            ],
            [
             0.4,
             "#fde0ef"
            ],
            [
             0.5,
             "#f7f7f7"
            ],
            [
             0.6,
             "#e6f5d0"
            ],
            [
             0.7,
             "#b8e186"
            ],
            [
             0.8,
             "#7fbc41"
            ],
            [
             0.9,
             "#4d9221"
            ],
            [
             1,
             "#276419"
            ]
           ],
           "sequential": [
            [
             0,
             "#0d0887"
            ],
            [
             0.1111111111111111,
             "#46039f"
            ],
            [
             0.2222222222222222,
             "#7201a8"
            ],
            [
             0.3333333333333333,
             "#9c179e"
            ],
            [
             0.4444444444444444,
             "#bd3786"
            ],
            [
             0.5555555555555556,
             "#d8576b"
            ],
            [
             0.6666666666666666,
             "#ed7953"
            ],
            [
             0.7777777777777778,
             "#fb9f3a"
            ],
            [
             0.8888888888888888,
             "#fdca26"
            ],
            [
             1,
             "#f0f921"
            ]
           ],
           "sequentialminus": [
            [
             0,
             "#0d0887"
            ],
            [
             0.1111111111111111,
             "#46039f"
            ],
            [
             0.2222222222222222,
             "#7201a8"
            ],
            [
             0.3333333333333333,
             "#9c179e"
            ],
            [
             0.4444444444444444,
             "#bd3786"
            ],
            [
             0.5555555555555556,
             "#d8576b"
            ],
            [
             0.6666666666666666,
             "#ed7953"
            ],
            [
             0.7777777777777778,
             "#fb9f3a"
            ],
            [
             0.8888888888888888,
             "#fdca26"
            ],
            [
             1,
             "#f0f921"
            ]
           ]
          },
          "colorway": [
           "#636efa",
           "#EF553B",
           "#00cc96",
           "#ab63fa",
           "#FFA15A",
           "#19d3f3",
           "#FF6692",
           "#B6E880",
           "#FF97FF",
           "#FECB52"
          ],
          "font": {
           "color": "#2a3f5f"
          },
          "geo": {
           "bgcolor": "white",
           "lakecolor": "white",
           "landcolor": "#E5ECF6",
           "showlakes": true,
           "showland": true,
           "subunitcolor": "white"
          },
          "hoverlabel": {
           "align": "left"
          },
          "hovermode": "closest",
          "mapbox": {
           "style": "light"
          },
          "paper_bgcolor": "white",
          "plot_bgcolor": "#E5ECF6",
          "polar": {
           "angularaxis": {
            "gridcolor": "white",
            "linecolor": "white",
            "ticks": ""
           },
           "bgcolor": "#E5ECF6",
           "radialaxis": {
            "gridcolor": "white",
            "linecolor": "white",
            "ticks": ""
           }
          },
          "scene": {
           "xaxis": {
            "backgroundcolor": "#E5ECF6",
            "gridcolor": "white",
            "gridwidth": 2,
            "linecolor": "white",
            "showbackground": true,
            "ticks": "",
            "zerolinecolor": "white"
           },
           "yaxis": {
            "backgroundcolor": "#E5ECF6",
            "gridcolor": "white",
            "gridwidth": 2,
            "linecolor": "white",
            "showbackground": true,
            "ticks": "",
            "zerolinecolor": "white"
           },
           "zaxis": {
            "backgroundcolor": "#E5ECF6",
            "gridcolor": "white",
            "gridwidth": 2,
            "linecolor": "white",
            "showbackground": true,
            "ticks": "",
            "zerolinecolor": "white"
           }
          },
          "shapedefaults": {
           "line": {
            "color": "#2a3f5f"
           }
          },
          "ternary": {
           "aaxis": {
            "gridcolor": "white",
            "linecolor": "white",
            "ticks": ""
           },
           "baxis": {
            "gridcolor": "white",
            "linecolor": "white",
            "ticks": ""
           },
           "bgcolor": "#E5ECF6",
           "caxis": {
            "gridcolor": "white",
            "linecolor": "white",
            "ticks": ""
           }
          },
          "title": {
           "x": 0.05
          },
          "xaxis": {
           "automargin": true,
           "gridcolor": "white",
           "linecolor": "white",
           "ticks": "",
           "title": {
            "standoff": 15
           },
           "zerolinecolor": "white",
           "zerolinewidth": 2
          },
          "yaxis": {
           "automargin": true,
           "gridcolor": "white",
           "linecolor": "white",
           "ticks": "",
           "title": {
            "standoff": 15
           },
           "zerolinecolor": "white",
           "zerolinewidth": 2
          }
         }
        },
        "title": {
         "text": "Pollutants in - Uttar_Pradesh "
        }
       }
      }
     },
     "metadata": {}
    },
    {
     "output_type": "display_data",
     "data": {
      "application/vnd.plotly.v1+json": {
       "config": {
        "plotlyServerURL": "https://plot.ly"
       },
       "data": [
        {
         "hole": 0.3,
         "labels": [
          "PM2.5",
          "PM10",
          "NO2",
          "NH3",
          "SO2",
          "CO",
          "OZONE"
         ],
         "type": "pie",
         "values": [
          301.250025,
          378,
          87.250025,
          18.666666666666668,
          5.000025,
          50.333333333333336,
          11.000025
         ]
        }
       ],
       "layout": {
        "font": {
         "family": "Courier New, monospace",
         "size": 12
        },
        "legend": {
         "title": {
          "text": "Pollutants"
         }
        },
        "template": {
         "data": {
          "bar": [
           {
            "error_x": {
             "color": "#2a3f5f"
            },
            "error_y": {
             "color": "#2a3f5f"
            },
            "marker": {
             "line": {
              "color": "#E5ECF6",
              "width": 0.5
             }
            },
            "type": "bar"
           }
          ],
          "barpolar": [
           {
            "marker": {
             "line": {
              "color": "#E5ECF6",
              "width": 0.5
             }
            },
            "type": "barpolar"
           }
          ],
          "carpet": [
           {
            "aaxis": {
             "endlinecolor": "#2a3f5f",
             "gridcolor": "white",
             "linecolor": "white",
             "minorgridcolor": "white",
             "startlinecolor": "#2a3f5f"
            },
            "baxis": {
             "endlinecolor": "#2a3f5f",
             "gridcolor": "white",
             "linecolor": "white",
             "minorgridcolor": "white",
             "startlinecolor": "#2a3f5f"
            },
            "type": "carpet"
           }
          ],
          "choropleth": [
           {
            "colorbar": {
             "outlinewidth": 0,
             "ticks": ""
            },
            "type": "choropleth"
           }
          ],
          "contour": [
           {
            "colorbar": {
             "outlinewidth": 0,
             "ticks": ""
            },
            "colorscale": [
             [
              0,
              "#0d0887"
             ],
             [
              0.1111111111111111,
              "#46039f"
             ],
             [
              0.2222222222222222,
              "#7201a8"
             ],
             [
              0.3333333333333333,
              "#9c179e"
             ],
             [
              0.4444444444444444,
              "#bd3786"
             ],
             [
              0.5555555555555556,
              "#d8576b"
             ],
             [
              0.6666666666666666,
              "#ed7953"
             ],
             [
              0.7777777777777778,
              "#fb9f3a"
             ],
             [
              0.8888888888888888,
              "#fdca26"
             ],
             [
              1,
              "#f0f921"
             ]
            ],
            "type": "contour"
           }
          ],
          "contourcarpet": [
           {
            "colorbar": {
             "outlinewidth": 0,
             "ticks": ""
            },
            "type": "contourcarpet"
           }
          ],
          "heatmap": [
           {
            "colorbar": {
             "outlinewidth": 0,
             "ticks": ""
            },
            "colorscale": [
             [
              0,
              "#0d0887"
             ],
             [
              0.1111111111111111,
              "#46039f"
             ],
             [
              0.2222222222222222,
              "#7201a8"
             ],
             [
              0.3333333333333333,
              "#9c179e"
             ],
             [
              0.4444444444444444,
              "#bd3786"
             ],
             [
              0.5555555555555556,
              "#d8576b"
             ],
             [
              0.6666666666666666,
              "#ed7953"
             ],
             [
              0.7777777777777778,
              "#fb9f3a"
             ],
             [
              0.8888888888888888,
              "#fdca26"
             ],
             [
              1,
              "#f0f921"
             ]
            ],
            "type": "heatmap"
           }
          ],
          "heatmapgl": [
           {
            "colorbar": {
             "outlinewidth": 0,
             "ticks": ""
            },
            "colorscale": [
             [
              0,
              "#0d0887"
             ],
             [
              0.1111111111111111,
              "#46039f"
             ],
             [
              0.2222222222222222,
              "#7201a8"
             ],
             [
              0.3333333333333333,
              "#9c179e"
             ],
             [
              0.4444444444444444,
              "#bd3786"
             ],
             [
              0.5555555555555556,
              "#d8576b"
             ],
             [
              0.6666666666666666,
              "#ed7953"
             ],
             [
              0.7777777777777778,
              "#fb9f3a"
             ],
             [
              0.8888888888888888,
              "#fdca26"
             ],
             [
              1,
              "#f0f921"
             ]
            ],
            "type": "heatmapgl"
           }
          ],
          "histogram": [
           {
            "marker": {
             "colorbar": {
              "outlinewidth": 0,
              "ticks": ""
             }
            },
            "type": "histogram"
           }
          ],
          "histogram2d": [
           {
            "colorbar": {
             "outlinewidth": 0,
             "ticks": ""
            },
            "colorscale": [
             [
              0,
              "#0d0887"
             ],
             [
              0.1111111111111111,
              "#46039f"
             ],
             [
              0.2222222222222222,
              "#7201a8"
             ],
             [
              0.3333333333333333,
              "#9c179e"
             ],
             [
              0.4444444444444444,
              "#bd3786"
             ],
             [
              0.5555555555555556,
              "#d8576b"
             ],
             [
              0.6666666666666666,
              "#ed7953"
             ],
             [
              0.7777777777777778,
              "#fb9f3a"
             ],
             [
              0.8888888888888888,
              "#fdca26"
             ],
             [
              1,
              "#f0f921"
             ]
            ],
            "type": "histogram2d"
           }
          ],
          "histogram2dcontour": [
           {
            "colorbar": {
             "outlinewidth": 0,
             "ticks": ""
            },
            "colorscale": [
             [
              0,
              "#0d0887"
             ],
             [
              0.1111111111111111,
              "#46039f"
             ],
             [
              0.2222222222222222,
              "#7201a8"
             ],
             [
              0.3333333333333333,
              "#9c179e"
             ],
             [
              0.4444444444444444,
              "#bd3786"
             ],
             [
              0.5555555555555556,
              "#d8576b"
             ],
             [
              0.6666666666666666,
              "#ed7953"
             ],
             [
              0.7777777777777778,
              "#fb9f3a"
             ],
             [
              0.8888888888888888,
              "#fdca26"
             ],
             [
              1,
              "#f0f921"
             ]
            ],
            "type": "histogram2dcontour"
           }
          ],
          "mesh3d": [
           {
            "colorbar": {
             "outlinewidth": 0,
             "ticks": ""
            },
            "type": "mesh3d"
           }
          ],
          "parcoords": [
           {
            "line": {
             "colorbar": {
              "outlinewidth": 0,
              "ticks": ""
             }
            },
            "type": "parcoords"
           }
          ],
          "pie": [
           {
            "automargin": true,
            "type": "pie"
           }
          ],
          "scatter": [
           {
            "marker": {
             "colorbar": {
              "outlinewidth": 0,
              "ticks": ""
             }
            },
            "type": "scatter"
           }
          ],
          "scatter3d": [
           {
            "line": {
             "colorbar": {
              "outlinewidth": 0,
              "ticks": ""
             }
            },
            "marker": {
             "colorbar": {
              "outlinewidth": 0,
              "ticks": ""
             }
            },
            "type": "scatter3d"
           }
          ],
          "scattercarpet": [
           {
            "marker": {
             "colorbar": {
              "outlinewidth": 0,
              "ticks": ""
             }
            },
            "type": "scattercarpet"
           }
          ],
          "scattergeo": [
           {
            "marker": {
             "colorbar": {
              "outlinewidth": 0,
              "ticks": ""
             }
            },
            "type": "scattergeo"
           }
          ],
          "scattergl": [
           {
            "marker": {
             "colorbar": {
              "outlinewidth": 0,
              "ticks": ""
             }
            },
            "type": "scattergl"
           }
          ],
          "scattermapbox": [
           {
            "marker": {
             "colorbar": {
              "outlinewidth": 0,
              "ticks": ""
             }
            },
            "type": "scattermapbox"
           }
          ],
          "scatterpolar": [
           {
            "marker": {
             "colorbar": {
              "outlinewidth": 0,
              "ticks": ""
             }
            },
            "type": "scatterpolar"
           }
          ],
          "scatterpolargl": [
           {
            "marker": {
             "colorbar": {
              "outlinewidth": 0,
              "ticks": ""
             }
            },
            "type": "scatterpolargl"
           }
          ],
          "scatterternary": [
           {
            "marker": {
             "colorbar": {
              "outlinewidth": 0,
              "ticks": ""
             }
            },
            "type": "scatterternary"
           }
          ],
          "surface": [
           {
            "colorbar": {
             "outlinewidth": 0,
             "ticks": ""
            },
            "colorscale": [
             [
              0,
              "#0d0887"
             ],
             [
              0.1111111111111111,
              "#46039f"
             ],
             [
              0.2222222222222222,
              "#7201a8"
             ],
             [
              0.3333333333333333,
              "#9c179e"
             ],
             [
              0.4444444444444444,
              "#bd3786"
             ],
             [
              0.5555555555555556,
              "#d8576b"
             ],
             [
              0.6666666666666666,
              "#ed7953"
             ],
             [
              0.7777777777777778,
              "#fb9f3a"
             ],
             [
              0.8888888888888888,
              "#fdca26"
             ],
             [
              1,
              "#f0f921"
             ]
            ],
            "type": "surface"
           }
          ],
          "table": [
           {
            "cells": {
             "fill": {
              "color": "#EBF0F8"
             },
             "line": {
              "color": "white"
             }
            },
            "header": {
             "fill": {
              "color": "#C8D4E3"
             },
             "line": {
              "color": "white"
             }
            },
            "type": "table"
           }
          ]
         },
         "layout": {
          "annotationdefaults": {
           "arrowcolor": "#2a3f5f",
           "arrowhead": 0,
           "arrowwidth": 1
          },
          "coloraxis": {
           "colorbar": {
            "outlinewidth": 0,
            "ticks": ""
           }
          },
          "colorscale": {
           "diverging": [
            [
             0,
             "#8e0152"
            ],
            [
             0.1,
             "#c51b7d"
            ],
            [
             0.2,
             "#de77ae"
            ],
            [
             0.3,
             "#f1b6da"
            ],
            [
             0.4,
             "#fde0ef"
            ],
            [
             0.5,
             "#f7f7f7"
            ],
            [
             0.6,
             "#e6f5d0"
            ],
            [
             0.7,
             "#b8e186"
            ],
            [
             0.8,
             "#7fbc41"
            ],
            [
             0.9,
             "#4d9221"
            ],
            [
             1,
             "#276419"
            ]
           ],
           "sequential": [
            [
             0,
             "#0d0887"
            ],
            [
             0.1111111111111111,
             "#46039f"
            ],
            [
             0.2222222222222222,
             "#7201a8"
            ],
            [
             0.3333333333333333,
             "#9c179e"
            ],
            [
             0.4444444444444444,
             "#bd3786"
            ],
            [
             0.5555555555555556,
             "#d8576b"
            ],
            [
             0.6666666666666666,
             "#ed7953"
            ],
            [
             0.7777777777777778,
             "#fb9f3a"
            ],
            [
             0.8888888888888888,
             "#fdca26"
            ],
            [
             1,
             "#f0f921"
            ]
           ],
           "sequentialminus": [
            [
             0,
             "#0d0887"
            ],
            [
             0.1111111111111111,
             "#46039f"
            ],
            [
             0.2222222222222222,
             "#7201a8"
            ],
            [
             0.3333333333333333,
             "#9c179e"
            ],
            [
             0.4444444444444444,
             "#bd3786"
            ],
            [
             0.5555555555555556,
             "#d8576b"
            ],
            [
             0.6666666666666666,
             "#ed7953"
            ],
            [
             0.7777777777777778,
             "#fb9f3a"
            ],
            [
             0.8888888888888888,
             "#fdca26"
            ],
            [
             1,
             "#f0f921"
            ]
           ]
          },
          "colorway": [
           "#636efa",
           "#EF553B",
           "#00cc96",
           "#ab63fa",
           "#FFA15A",
           "#19d3f3",
           "#FF6692",
           "#B6E880",
           "#FF97FF",
           "#FECB52"
          ],
          "font": {
           "color": "#2a3f5f"
          },
          "geo": {
           "bgcolor": "white",
           "lakecolor": "white",
           "landcolor": "#E5ECF6",
           "showlakes": true,
           "showland": true,
           "subunitcolor": "white"
          },
          "hoverlabel": {
           "align": "left"
          },
          "hovermode": "closest",
          "mapbox": {
           "style": "light"
          },
          "paper_bgcolor": "white",
          "plot_bgcolor": "#E5ECF6",
          "polar": {
           "angularaxis": {
            "gridcolor": "white",
            "linecolor": "white",
            "ticks": ""
           },
           "bgcolor": "#E5ECF6",
           "radialaxis": {
            "gridcolor": "white",
            "linecolor": "white",
            "ticks": ""
           }
          },
          "scene": {
           "xaxis": {
            "backgroundcolor": "#E5ECF6",
            "gridcolor": "white",
            "gridwidth": 2,
            "linecolor": "white",
            "showbackground": true,
            "ticks": "",
            "zerolinecolor": "white"
           },
           "yaxis": {
            "backgroundcolor": "#E5ECF6",
            "gridcolor": "white",
            "gridwidth": 2,
            "linecolor": "white",
            "showbackground": true,
            "ticks": "",
            "zerolinecolor": "white"
           },
           "zaxis": {
            "backgroundcolor": "#E5ECF6",
            "gridcolor": "white",
            "gridwidth": 2,
            "linecolor": "white",
            "showbackground": true,
            "ticks": "",
            "zerolinecolor": "white"
           }
          },
          "shapedefaults": {
           "line": {
            "color": "#2a3f5f"
           }
          },
          "ternary": {
           "aaxis": {
            "gridcolor": "white",
            "linecolor": "white",
            "ticks": ""
           },
           "baxis": {
            "gridcolor": "white",
            "linecolor": "white",
            "ticks": ""
           },
           "bgcolor": "#E5ECF6",
           "caxis": {
            "gridcolor": "white",
            "linecolor": "white",
            "ticks": ""
           }
          },
          "title": {
           "x": 0.05
          },
          "xaxis": {
           "automargin": true,
           "gridcolor": "white",
           "linecolor": "white",
           "ticks": "",
           "title": {
            "standoff": 15
           },
           "zerolinecolor": "white",
           "zerolinewidth": 2
          },
          "yaxis": {
           "automargin": true,
           "gridcolor": "white",
           "linecolor": "white",
           "ticks": "",
           "title": {
            "standoff": 15
           },
           "zerolinecolor": "white",
           "zerolinewidth": 2
          }
         }
        },
        "title": {
         "text": "Pollutants in - Lucknow "
        }
       }
      }
     },
     "metadata": {}
    },
    {
     "output_type": "execute_result",
     "data": {
      "text/plain": [
       "(None, None)"
      ]
     },
     "metadata": {},
     "execution_count": 133
    }
   ],
   "source": [
    "import plotly.graph_objects as go\n",
    "def generatePiechart(filterr,choice):\n",
    "    labels = df['pollutant_id'].unique()\n",
    "\n",
    "    values = []\n",
    "\n",
    "    datachunk=df[df[filterr]==choice]\n",
    "    for i in labels:\n",
    "        cc=datachunk[datachunk['pollutant_id']==i]\n",
    "        values.append(cc['pollutant_avg'].mean())\n",
    "\n",
    "    # Use `hole` to create a donut-like pie chart\n",
    "    fig = go.Figure(data=[go.Pie(labels=labels, values=values, hole=.3,)])\n",
    "    fig.update_layout(\n",
    "    title=\"Pollutants in - {} \".format(choice),\n",
    "    legend_title=\"Pollutants\",\n",
    "    font=dict(\n",
    "        family=\"Courier New, monospace\",\n",
    "        size=12,\n",
    "        )\n",
    "        )\n",
    "    filename=\"outs/(PIE)Pollutants in - {} \".format(choice)\n",
    "    fig.write_html(\"{}.html\".format(filename))\n",
    "    fig.show()\n",
    "\n",
    "generatePiechart('state','Uttar_Pradesh'),generatePiechart('city','Lucknow')"
   ]
  },
  {
   "cell_type": "code",
   "execution_count": 98,
   "metadata": {},
   "outputs": [
    {
     "output_type": "execute_result",
     "data": {
      "text/plain": [
       "array(['PM2.5', 'PM10', 'NO2', 'NH3', 'SO2', 'CO', 'OZONE'], dtype=object)"
      ]
     },
     "metadata": {},
     "execution_count": 98
    }
   ],
   "source": [
    "labels"
   ]
  },
  {
   "cell_type": "code",
   "execution_count": null,
   "metadata": {},
   "outputs": [],
   "source": []
  }
 ]
}